{
 "cells": [
  {
   "cell_type": "markdown",
   "metadata": {},
   "source": [
    "# <font color='blue'>Coleta de dados no Twitter utilizando pacote Tweepy do Python</font>"
   ]
  },
  {
   "cell_type": "markdown",
   "metadata": {},
   "source": [
    "<b>Professora:</b> <i>Fernanda Farinelli</i>"
   ]
  },
  {
   "cell_type": "markdown",
   "metadata": {},
   "source": [
    "Este notebook demonstra os seguintes exemplos:<br>\n",
    "1. Buscar os tweets de um determinado usuário (timeline)\n",
    "2. Realizar a busca dos trends tweets\n",
    "  * Trends em múltiplas localizações\n",
    "  * Trends no Brasil\n",
    "3. Realizar a busca por palavra chave\n",
    "4. Armazenar o tweets coletados em arquivo JSON\n",
    "  "
   ]
  },
  {
   "cell_type": "markdown",
   "metadata": {},
   "source": [
    "\n",
    "<b>OBSERVAÇÃO: Antes de utilizar qualquer pacote, é <font color='red'>SEMPRE necessário instalar</font> o(s) pacote(s) previamente. A instalação só é necessária uma única vez.</b>\n",
    "\n",
    "* Para instalar pelo Jupyter, utilize o comando abaixo:<br>\n",
    " * <font color='green'>!pip install nome_do_pacote</font>\n",
    "    \n"
   ]
  },
  {
   "cell_type": "code",
   "execution_count": null,
   "metadata": {},
   "outputs": [],
   "source": [
    "#Instalação de pacotes\n",
    "#Deve ser realizado apenas na primeira vez que for utilizar\n",
    "\n",
    "!pip install tweepy\n",
    "\n",
    "!pip install pymongo"
   ]
  },
  {
   "cell_type": "markdown",
   "metadata": {},
   "source": [
    "**OBSERVAÇÃO:**\n",
    "A documentação completa do pacote *tweepy* está disponível no link abaixo:\n",
    "* http://docs.tweepy.org/en/v3.5.0/api.html"
   ]
  },
  {
   "cell_type": "markdown",
   "metadata": {},
   "source": [
    "**<font color='red'>SEMPRE é necessário importar</font>**  o(s) pacote(s) que serão usados no seu script."
   ]
  },
  {
   "cell_type": "code",
   "execution_count": null,
   "metadata": {},
   "outputs": [],
   "source": [
    "#Import package\n",
    "\n",
    "import tweepy\n"
   ]
  },
  {
   "cell_type": "code",
   "execution_count": null,
   "metadata": {},
   "outputs": [],
   "source": []
  },
  {
   "cell_type": "markdown",
   "metadata": {},
   "source": [
    "### <font color='blue'>Credenciais para utilização da API do Twitter</font>"
   ]
  },
  {
   "cell_type": "markdown",
   "metadata": {},
   "source": [
    "Para utilizar a API do twitter, é necessário ter uma conta no twitter, solicitar o acesso de desenvolvedor, criar sua aplicação, gerar suas credenciais."
   ]
  },
  {
   "cell_type": "code",
   "execution_count": null,
   "metadata": {},
   "outputs": [],
   "source": [
    "# Credenciais para utilização da API do Twitter\n",
    "\n",
    "# Observação, as credenciais abaixo são falsas.\n",
    "# Para este notebook funcionar você precisa criar suas próprias credenciais e informá-las nas respectivas variáveis abaixo:\n",
    "\n",
    "API_Key = \"\"\n",
    "API_secret_key = \"\"\n",
    "access_token = \"\"\n",
    "access_token_secret = \"\""
   ]
  },
  {
   "cell_type": "markdown",
   "metadata": {},
   "source": [
    "Fazer a autenticação na API usando suas credenciais"
   ]
  },
  {
   "cell_type": "code",
   "execution_count": null,
   "metadata": {},
   "outputs": [],
   "source": [
    "#Realizar autenticação no Twitter\n",
    "auth = tweepy.OAuthHandler(API_Key, API_secret_key)\n",
    "auth.set_access_token(access_token, access_token_secret)\n",
    "\n",
    "# Construir uma instancia da API\n",
    "api = tweepy.API(auth)"
   ]
  },
  {
   "cell_type": "markdown",
   "metadata": {},
   "source": [
    "No exemplo acima, criamos a variável api que é uma instância/token já autenticado no twitter. Neste caso, o token usará as configurações padrões para busca de tweets."
   ]
  },
  {
   "cell_type": "markdown",
   "metadata": {},
   "source": [
    "### Realizar a busca de tweets de um usuário."
   ]
  },
  {
   "cell_type": "code",
   "execution_count": null,
   "metadata": {},
   "outputs": [],
   "source": [
    "userName = \"ProfessoraIGTI\"\n",
    "userID = \"IgtiProfessora\""
   ]
  },
  {
   "cell_type": "code",
   "execution_count": null,
   "metadata": {},
   "outputs": [],
   "source": [
    "#Buscar tweets de um determinado usuário (timeline do usuário)\n",
    "\n",
    "user_tweets = api.user_timeline(screen_name=userID,                            \n",
    "                           count=200, # Buscar no máximo 200 tweets\n",
    "                           include_rts = False, #Não incluir retweets                           \n",
    "                           tweet_mode = 'extended' # Necessario para buscar o full_text (280 caracteres)\n",
    "                           )"
   ]
  },
  {
   "cell_type": "code",
   "execution_count": null,
   "metadata": {},
   "outputs": [],
   "source": [
    "len(user_tweets)"
   ]
  },
  {
   "cell_type": "code",
   "execution_count": null,
   "metadata": {},
   "outputs": [],
   "source": [
    "#Exibir o 3 tweets mais atuais\n",
    "\n",
    "for user_tweet in user_tweets[:3]:\n",
    "    print(\"ID: {}\".format(user_tweet.id))\n",
    "    print(user_tweet.created_at)\n",
    "    print(user_tweet.full_text + \"\\n\")"
   ]
  },
  {
   "cell_type": "markdown",
   "metadata": {},
   "source": [
    "### Realizar a busca dos trends tweets."
   ]
  },
  {
   "cell_type": "markdown",
   "metadata": {},
   "source": [
    "##### Trends em múltiplas localizações"
   ]
  },
  {
   "cell_type": "code",
   "execution_count": null,
   "metadata": {},
   "outputs": [],
   "source": [
    "# To fetch the Available Locations that Twitter has trending topic information for.\n",
    "\n",
    "available_loc = api.trends_available()"
   ]
  },
  {
   "cell_type": "code",
   "execution_count": null,
   "metadata": {},
   "outputs": [],
   "source": [
    "#Print first vector element\n",
    "available_loc[0]"
   ]
  },
  {
   "cell_type": "code",
   "execution_count": null,
   "metadata": {},
   "outputs": [],
   "source": [
    "print(\"The number of locations available are : \" + str(len(available_loc)))"
   ]
  },
  {
   "cell_type": "code",
   "execution_count": null,
   "metadata": {},
   "outputs": [],
   "source": [
    "print(\"Some of the locations are : \") \n",
    "for i in range(0, 400, 20): \n",
    "    print(\"Place : \" + available_loc[i]['name'] +\n",
    "          \", Country : \" + available_loc[i]['country']) "
   ]
  },
  {
   "cell_type": "markdown",
   "metadata": {},
   "source": [
    "##### Trends no Brasil"
   ]
  },
  {
   "cell_type": "code",
   "execution_count": null,
   "metadata": {},
   "outputs": [],
   "source": [
    "# WOEID (Where On Earth IDentifier) do Brasil: 23424768\n",
    "# Veja: https://en.wikipedia.org/wiki/WOEID\n",
    "\n",
    "BRAZIL_WOEID = 23424768"
   ]
  },
  {
   "cell_type": "code",
   "execution_count": null,
   "metadata": {},
   "outputs": [],
   "source": [
    "brazil_trends = api.trends_place(BRAZIL_WOEID)"
   ]
  },
  {
   "cell_type": "code",
   "execution_count": null,
   "metadata": {},
   "outputs": [],
   "source": [
    "print(\"O nummero de trends para esta localização é: \" + str(len(brazil_trends)))"
   ]
  },
  {
   "cell_type": "code",
   "execution_count": null,
   "metadata": {},
   "outputs": [],
   "source": [
    "#Imprimir primeiro elemento do vetor\n",
    "\n",
    "brazil_trends[0][\"trends\"][0]"
   ]
  },
  {
   "cell_type": "code",
   "execution_count": null,
   "metadata": {},
   "outputs": [],
   "source": [
    "# #Imprimir 5 primeiros elementos do vetor \n",
    "\n",
    "print(\"Os top 5 trends desta localização são:\\n\")\n",
    "for i in range(0, 5): \n",
    "    print(str(i) + ' - ' + brazil_trends[0]['trends'][i]['name']) \n",
    "    #print(brazil_trends[0]['trends'][i]) "
   ]
  },
  {
   "cell_type": "code",
   "execution_count": null,
   "metadata": {},
   "outputs": [],
   "source": [
    "#Imprimir todo o vetor, apenas a coluna 'name'\n",
    "\n",
    "print(\"Os top trends desta localização são: \\n\") \n",
    "  \n",
    "for value in brazil_trends: \n",
    "    for trend in value['trends']: \n",
    "        print(trend['name'])"
   ]
  },
  {
   "cell_type": "markdown",
   "metadata": {},
   "source": [
    "Os métodos <i>trends_available</i> e <i>trends_place</i> retorna um conjunto de objetos com informações dos tópicos no formato JSON."
   ]
  },
  {
   "cell_type": "markdown",
   "metadata": {},
   "source": [
    "### Realizar a busca por palavra chave."
   ]
  },
  {
   "cell_type": "code",
   "execution_count": null,
   "metadata": {},
   "outputs": [],
   "source": [
    "#Define palavra chave da busca\n",
    "\n",
    "keyword = (\"'irpf' OR 'imposto de renda' OR '#IRPF2021' OR '#ImpostoDeRenda'\")\n",
    "\n",
    "#keyword = ('vacina')\n",
    "#keyword = (\"covid-19  OR  covid  OR  coronavirus OR pandemic\")"
   ]
  },
  {
   "cell_type": "code",
   "execution_count": null,
   "metadata": {},
   "outputs": [],
   "source": [
    "# Define listas de armazenamento\n",
    "\n",
    "tweets = []   # apenas tweet text\n",
    "info = []     # todo o resultado da busca (JSON)"
   ]
  },
  {
   "cell_type": "markdown",
   "metadata": {},
   "source": [
    "Nova autenticação para buscar mais tweets que a taxa limite da chamada.\n",
    "\n",
    "<font color=red><b>onde:</b></font>\n",
    "* <b><i>retry_count</i></b> - número padrão de tentativas para tentar quando ocorrer um erro\n",
    "* <b><i>retry_delay</i></b> - número de segundos para aguardar entre tentativas\n",
    "* <b><i>wait_on_rate_limit</i></b> - se deve ou não esperar automaticamente a reposição dos limites de taxa\n",
    "* <b><i>wait_on_rate_limit_notify</i></b> - Imprima ou não uma notificação quando o Tweepy estiver aguardando a reposição dos limites de taxa"
   ]
  },
  {
   "cell_type": "code",
   "execution_count": null,
   "metadata": {},
   "outputs": [],
   "source": [
    "# Construir a instancia da API (Já foi realizado antes)\n",
    "\n",
    "token  = tweepy.API(auth,wait_on_rate_limit=True,wait_on_rate_limit_notify=True)\n"
   ]
  },
  {
   "cell_type": "code",
   "execution_count": null,
   "metadata": {},
   "outputs": [],
   "source": [
    "# Executa a busca por palavra chave\n",
    "\n",
    "for tweet in tweepy.Cursor(token.search,\n",
    "                           q=keyword, tweet_mode='extended',\n",
    "                           rpp=20, #busca até 2000 tweets, no máximo 100 por chamada, limitado a 18000 a cada 15 minutos\n",
    "                           result_type=\"mixed\", # popular, recent ou mixed\n",
    "                           lang='pt', #serão solicitados apenas tweets em português\n",
    "                           include_entities=True).items(20):   \n",
    "        \n",
    "    if 'retweeted_status' in dir(tweet): # Checa se é Retweet\n",
    "        \n",
    "        # Se status é um Retweet, status.full_text (tweet.full_text) pode estar truncado.\n",
    "        # Assim, nó buscamos o campo retweeted_status.full_text\n",
    "        aux=tweet.retweeted_status.full_text       \n",
    "    \n",
    "    else: # Não é um Retweet\n",
    "        aux=tweet.full_text\n",
    "        \n",
    "    newtweet = aux.replace(\"\\n\", \" \")\n",
    "   \n",
    "    tweets.append(newtweet) #anexar o texto do tweet a essa lista\n",
    "    info.append(tweet) #anexar todo o resultado deste tweet a essa lista\n",
    "    \n",
    "    #open arquivo txt no modo anexar (append \"a\") e escrever o resultado no arquivo\n",
    "    \n",
    "    file = open(\"tweets_Keyword_irpf.txt\", \"a\", -1, \"utf-8\")    \n",
    "    file.write(newtweet+'\\n')\n",
    "    file.close()\n"
   ]
  },
  {
   "cell_type": "code",
   "execution_count": null,
   "metadata": {},
   "outputs": [],
   "source": [
    "info"
   ]
  },
  {
   "cell_type": "markdown",
   "metadata": {},
   "source": [
    "Para realizar a busca por palavra chave vamos utilizar a função abaixo:<br>\n",
    "* <font color=green>API.search(q[, lang][, locale][, rpp][, page][, since_id][, geocode][, show_user])</font><br><br>\n",
    "**onde os principais parâmetros que serão usados são:**\n",
    "\n",
    "* <font color=blue>q</font> - a string de consulta de pesquisa\n",
    "* <font color=blue>lang</font> - Restringe os tweets para o idioma especificado, fornecido por um código ISO 639-1.\n",
    "  - lang=pt -> Português\n",
    "  - lang=en -> Inglês\n",
    "* <font color=blue>rpp</font> - O número de tweets a serem retornados por página, até no máximo 100.\n",
    "* <font color=blue>page</font> - O número da página (começando em 1) a ser retornado, até um máximo de aproximadamente 1500 resultados (com base na página rpp).\n",
    "* <font color=blue>since_id</font>  - Retorna apenas status com um ID maior que (ou seja, mais recente que) o ID especificado.\n",
    "* <font color=blue>geocode</font>  - Retorna tweets de usuários localizados em um determinado raio da latitude / longitude especificada.\n",
    "* <font color=blue>show_user</font>  - Quando verdadeiro, precede \"<user>:\" no início do tweet. O padrão é falso.\n",
    "* <font color=blue>include_entities</font> - O nó de entidades não será incluído quando definido como false. O padrão é true. \n",
    "    - Detalhes sobre este nó, acesse https://developer.twitter.com/en/docs/tweets/data-dictionary/overview/entities-object\n",
    "\n",
    "* <font color=blue>tweet_mode</font> - Define qual o campo de texto que será recuperado, texto completo (280 caracteres) ou busca o texto do tweet truncado( 140 caracteres).\n",
    "    - tweets = token.search(q=keyword,lang='pt') --> 140 caracteres \n",
    "    - tweets = token.search(q=keyword,tweet_mode='extended') -->280 caracteres\n",
    "\n",
    "* <font color=blue>result_type</font> - Define o tipo do tweet a ser recuperado, onde pode ser o mais popular (result_type=\"popular\"), mais recente (result_type=\"recent\") ou uma combinação dos dois (result_type=\"mixed\")    \n",
    "    "
   ]
  },
  {
   "cell_type": "code",
   "execution_count": null,
   "metadata": {},
   "outputs": [],
   "source": [
    "# Para verificar a quantidade de tweets coletado use a função \"len()\"\n",
    "\n",
    "print(\"Total de tweets coletados %s.\" % (len(info)))"
   ]
  },
  {
   "cell_type": "code",
   "execution_count": null,
   "metadata": {},
   "outputs": [],
   "source": [
    "tweets"
   ]
  },
  {
   "cell_type": "markdown",
   "metadata": {},
   "source": [
    "### <font color=blue>Armazenar o tweets coletados</font> "
   ]
  },
  {
   "cell_type": "markdown",
   "metadata": {},
   "source": [
    "##### <font color=red>Armazenar em arquivo JSON</font>"
   ]
  },
  {
   "cell_type": "code",
   "execution_count": null,
   "metadata": {},
   "outputs": [],
   "source": [
    "#Install\n",
    "#!pip install json\n",
    "\n",
    "#Import\n",
    "import json"
   ]
  },
  {
   "cell_type": "code",
   "execution_count": null,
   "metadata": {},
   "outputs": [],
   "source": [
    "# writing a JSON file that has the available trends around the world\n",
    "\n",
    "with open(\"tweets_irpf_pt.json\",\"w\") as filename: #open file in write mode\n",
    "\n",
    "\n",
    "    for tweet in info: #para cada tweet no vetor de resultados tweets\n",
    "        \n",
    "        status = tweet\n",
    "        \n",
    "        #converte para string        \n",
    "        json_str = json.dumps(status._json)\n",
    "        \n",
    "        #deserializa a string para um objeto python do tipo dict        \n",
    "        parsed = json.loads(json_str)\n",
    "        \n",
    "        #grava o tweet deserializado no arquivo\n",
    "        filename.write(json.dumps(parsed, indent=4))\n",
    "\n",
    "    "
   ]
  },
  {
   "cell_type": "markdown",
   "metadata": {},
   "source": [
    "##### <font color=red>Armazenar em arquivo CSV</font>"
   ]
  },
  {
   "cell_type": "code",
   "execution_count": null,
   "metadata": {},
   "outputs": [],
   "source": [
    "#Install\n",
    "#!pip install pandas\n",
    "#!pip install numpy\n",
    "\n",
    "#Import\n",
    "import pandas as pd\n",
    "import numpy as np"
   ]
  },
  {
   "cell_type": "markdown",
   "metadata": {},
   "source": [
    "Para mais detalhes sobre o pacote **Pandas** acesse:\n",
    "* https://pandas.pydata.org/\n",
    "* https://medium.com/data-hackers/uma-introdu%C3%A7%C3%A3o-simples-ao-pandas-1e15eea37fa1\n",
    "\n",
    "Para mais detalhes sobre o pacote **Numpy** acesse:\n",
    "* https://numpy.org/\n",
    "* https://medium.com/ensina-ai/entendendo-a-biblioteca-numpy-4858fde63355"
   ]
  },
  {
   "cell_type": "code",
   "execution_count": null,
   "metadata": {},
   "outputs": [],
   "source": [
    "#Define um dataframe para armazenar os dados dos tweets\n",
    "\n",
    "tweets_df = pd.DataFrame(tweets, columns=['Tweets']) #Store tweet text from tweets list\n",
    "\n",
    "tweets_df['len']  = np.array([len(tweet) for tweet in tweets])  #Store tweet text size from tweets list\n",
    "\n",
    "tweets_df['ID']   = np.array([tweet.id for tweet in info])\n",
    "tweets_df['USER']   = np.array([tweet.user.screen_name for tweet in info])\n",
    "tweets_df['userName'] = np.array([tweet.user.name for tweet in info])\n",
    "tweets_df['User Location']    = np.array([tweet.user.location for tweet in info])\n",
    "tweets_df['Language'] = np.array([tweet.user.lang for tweet in info])\n",
    "tweets_df['Date'] = np.array([tweet.created_at for tweet in info])\n",
    "tweets_df['Source'] = np.array([tweet.source for tweet in info])\n",
    "tweets_df['Likes']  = np.array([tweet.favorite_count for tweet in info])\n",
    "tweets_df['Retweets']    = np.array([tweet.retweet_count for tweet in info])\n",
    "\n",
    "\n",
    "# Escrever/gravar arquivo CSV a partir do dataframe\n",
    "tweets_df.to_csv(\"tweets_Keyword_IRPF.csv\")"
   ]
  },
  {
   "cell_type": "code",
   "execution_count": null,
   "metadata": {},
   "outputs": [],
   "source": [
    "#Print first 3 rows of dataframe\n",
    "tweets_df.head(3)"
   ]
  },
  {
   "cell_type": "code",
   "execution_count": null,
   "metadata": {},
   "outputs": [],
   "source": [
    "#Podemos imprimir o nome do usuário (screen_name) e o texto do tweet\n",
    "tweet = info[0]\n",
    "\n",
    "print(\"Usuário: %s \"% {tweet.user.screen_name})\n",
    "print(\"  Tweet: %s\"  % {tweet.full_text}) #No caso da busca em tweet_mode='extended' (até 280 caracteres)\n",
    "\n",
    "#print(\"  Tweet: %s\"  % {tweet.text}) # Se a busca não foi em tweet_mode='extended'  (até 140 caracteres)\n"
   ]
  },
  {
   "cell_type": "markdown",
   "metadata": {},
   "source": [
    "FIM!"
   ]
  }
 ],
 "metadata": {
  "kernelspec": {
   "display_name": "Python 3",
   "language": "python",
   "name": "python3"
  },
  "language_info": {
   "codemirror_mode": {
    "name": "ipython",
    "version": 3
   },
   "file_extension": ".py",
   "mimetype": "text/x-python",
   "name": "python",
   "nbconvert_exporter": "python",
   "pygments_lexer": "ipython3",
   "version": "3.7.1"
  }
 },
 "nbformat": 4,
 "nbformat_minor": 4
}
