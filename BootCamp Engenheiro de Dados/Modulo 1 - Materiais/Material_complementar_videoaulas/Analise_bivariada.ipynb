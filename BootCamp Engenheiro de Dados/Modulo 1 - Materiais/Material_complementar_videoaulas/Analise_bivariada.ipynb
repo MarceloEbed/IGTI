{
 "cells": [
  {
   "cell_type": "markdown",
   "metadata": {},
   "source": [
    "# Análise bivariada"
   ]
  },
  {
   "cell_type": "code",
   "execution_count": 2,
   "metadata": {},
   "outputs": [
    {
     "name": "stderr",
     "output_type": "stream",
     "text": [
      "Warning message:\n",
      "\"package 'readr' was built under R version 3.6.3\""
     ]
    }
   ],
   "source": [
    "#importa pacote\n",
    "library('readr')"
   ]
  },
  {
   "cell_type": "code",
   "execution_count": 3,
   "metadata": {},
   "outputs": [],
   "source": [
    "# Lê/coleta dados no arquivo\n",
    "\n",
    "dados_cliente <- read.csv(\"./clientes.csv\",sep=\";\")"
   ]
  },
  {
   "cell_type": "code",
   "execution_count": 4,
   "metadata": {},
   "outputs": [
    {
     "data": {
      "text/html": [
       "<table>\n",
       "<thead><tr><th scope=col>Id</th><th scope=col>Estado.civil</th><th scope=col>Grau.Instrução</th><th scope=col>Qtde.Filhos</th><th scope=col>Salário</th><th scope=col>Anos</th><th scope=col>anos_trabalho</th><th scope=col>UF</th></tr></thead>\n",
       "<tbody>\n",
       "\t<tr><td>1          </td><td>solteiro   </td><td>Fundamental</td><td>NA         </td><td> 1100      </td><td>26         </td><td> 3         </td><td>MG         </td></tr>\n",
       "\t<tr><td>2          </td><td>casado     </td><td>Doutorado  </td><td> 1         </td><td>13000      </td><td>32         </td><td> 7         </td><td>RJ         </td></tr>\n",
       "\t<tr><td>3          </td><td>casado     </td><td>Fundamental</td><td> 2         </td><td> 1100      </td><td>36         </td><td> 5         </td><td>SP         </td></tr>\n",
       "\t<tr><td>4          </td><td>solteiro   </td><td>Médio      </td><td>NA         </td><td> 2500      </td><td>30         </td><td>10         </td><td>RS         </td></tr>\n",
       "\t<tr><td>5          </td><td>solteiro   </td><td>Fundamental</td><td>NA         </td><td> 2000      </td><td>40         </td><td> 7         </td><td>SC         </td></tr>\n",
       "\t<tr><td>6          </td><td>casado     </td><td>Fundamental</td><td> 1         </td><td> 2600      </td><td>28         </td><td> 0         </td><td>SP         </td></tr>\n",
       "</tbody>\n",
       "</table>\n"
      ],
      "text/latex": [
       "\\begin{tabular}{r|llllllll}\n",
       " Id & Estado.civil & Grau.Instrução & Qtde.Filhos & Salário & Anos & anos\\_trabalho & UF\\\\\n",
       "\\hline\n",
       "\t 1           & solteiro    & Fundamental & NA          &  1100       & 26          &  3          & MG         \\\\\n",
       "\t 2           & casado      & Doutorado   &  1          & 13000       & 32          &  7          & RJ         \\\\\n",
       "\t 3           & casado      & Fundamental &  2          &  1100       & 36          &  5          & SP         \\\\\n",
       "\t 4           & solteiro    & Médio       & NA          &  2500       & 30          & 10          & RS         \\\\\n",
       "\t 5           & solteiro    & Fundamental & NA          &  2000       & 40          &  7          & SC         \\\\\n",
       "\t 6           & casado      & Fundamental &  1          &  2600       & 28          &  0          & SP         \\\\\n",
       "\\end{tabular}\n"
      ],
      "text/markdown": [
       "\n",
       "| Id | Estado.civil | Grau.Instrução | Qtde.Filhos | Salário | Anos | anos_trabalho | UF |\n",
       "|---|---|---|---|---|---|---|---|\n",
       "| 1           | solteiro    | Fundamental | NA          |  1100       | 26          |  3          | MG          |\n",
       "| 2           | casado      | Doutorado   |  1          | 13000       | 32          |  7          | RJ          |\n",
       "| 3           | casado      | Fundamental |  2          |  1100       | 36          |  5          | SP          |\n",
       "| 4           | solteiro    | Médio       | NA          |  2500       | 30          | 10          | RS          |\n",
       "| 5           | solteiro    | Fundamental | NA          |  2000       | 40          |  7          | SC          |\n",
       "| 6           | casado      | Fundamental |  1          |  2600       | 28          |  0          | SP          |\n",
       "\n"
      ],
      "text/plain": [
       "  Id Estado.civil Grau.Instrução Qtde.Filhos Salário Anos anos_trabalho UF\n",
       "1 1  solteiro     Fundamental    NA           1100   26    3            MG\n",
       "2 2  casado       Doutorado       1          13000   32    7            RJ\n",
       "3 3  casado       Fundamental     2           1100   36    5            SP\n",
       "4 4  solteiro     Médio          NA           2500   30   10            RS\n",
       "5 5  solteiro     Fundamental    NA           2000   40    7            SC\n",
       "6 6  casado       Fundamental     1           2600   28    0            SP"
      ]
     },
     "metadata": {},
     "output_type": "display_data"
    }
   ],
   "source": [
    "head(dados_cliente)"
   ]
  },
  {
   "cell_type": "code",
   "execution_count": 6,
   "metadata": {},
   "outputs": [
    {
     "data": {
      "text/html": [
       "<ol class=list-inline>\n",
       "\t<li>'Doutorado'</li>\n",
       "\t<li>'Fundamental'</li>\n",
       "\t<li>'Médio'</li>\n",
       "\t<li>'Mestrado'</li>\n",
       "\t<li>'Superior'</li>\n",
       "</ol>\n"
      ],
      "text/latex": [
       "\\begin{enumerate*}\n",
       "\\item 'Doutorado'\n",
       "\\item 'Fundamental'\n",
       "\\item 'Médio'\n",
       "\\item 'Mestrado'\n",
       "\\item 'Superior'\n",
       "\\end{enumerate*}\n"
      ],
      "text/markdown": [
       "1. 'Doutorado'\n",
       "2. 'Fundamental'\n",
       "3. 'Médio'\n",
       "4. 'Mestrado'\n",
       "5. 'Superior'\n",
       "\n",
       "\n"
      ],
      "text/plain": [
       "[1] \"Doutorado\"   \"Fundamental\" \"Médio\"       \"Mestrado\"    \"Superior\"   "
      ]
     },
     "metadata": {},
     "output_type": "display_data"
    }
   ],
   "source": [
    "# Definimos que a variável Grau.Instrução deve ser tratada como ordinal\n",
    "\n",
    "levels(dados_cliente$Grau.Instrução)"
   ]
  },
  {
   "cell_type": "code",
   "execution_count": 7,
   "metadata": {},
   "outputs": [],
   "source": [
    "dados_cliente$Grau.Instrução <- factor(dados_cliente$Grau.Instrução,\n",
    "                                       levels = c('Fundamental','Médio','Superior','Mestrado','Doutorado'))"
   ]
  },
  {
   "cell_type": "code",
   "execution_count": 41,
   "metadata": {},
   "outputs": [
    {
     "data": {
      "text/html": [
       "<ol class=list-inline>\n",
       "\t<li>'Fundamental'</li>\n",
       "\t<li>'Médio'</li>\n",
       "\t<li>'Superior'</li>\n",
       "\t<li>'Mestrado'</li>\n",
       "\t<li>'Doutorado'</li>\n",
       "</ol>\n"
      ],
      "text/latex": [
       "\\begin{enumerate*}\n",
       "\\item 'Fundamental'\n",
       "\\item 'Médio'\n",
       "\\item 'Superior'\n",
       "\\item 'Mestrado'\n",
       "\\item 'Doutorado'\n",
       "\\end{enumerate*}\n"
      ],
      "text/markdown": [
       "1. 'Fundamental'\n",
       "2. 'Médio'\n",
       "3. 'Superior'\n",
       "4. 'Mestrado'\n",
       "5. 'Doutorado'\n",
       "\n",
       "\n"
      ],
      "text/plain": [
       "[1] \"Fundamental\" \"Médio\"       \"Superior\"    \"Mestrado\"    \"Doutorado\"  "
      ]
     },
     "metadata": {},
     "output_type": "display_data"
    }
   ],
   "source": [
    "levels(dados_cliente$Grau.Instrução)"
   ]
  },
  {
   "cell_type": "markdown",
   "metadata": {},
   "source": [
    "## qualitativas x qualitativas"
   ]
  },
  {
   "cell_type": "code",
   "execution_count": 43,
   "metadata": {},
   "outputs": [
    {
     "data": {
      "text/plain": [
       "            Grau.Instrução\n",
       "Estado.civil Fundamental Médio Superior Mestrado Doutorado\n",
       "    casado             4     8        4        2         2\n",
       "    solteiro           7     5        3        0         1"
      ]
     },
     "metadata": {},
     "output_type": "display_data"
    }
   ],
   "source": [
    "# Frequência absoluta\n",
    "\n",
    "fa <- with(dados_cliente,table(Estado.civil,Grau.Instrução))\n",
    "fa\n"
   ]
  },
  {
   "cell_type": "code",
   "execution_count": 44,
   "metadata": {},
   "outputs": [
    {
     "data": {
      "text/plain": [
       "            Grau.Instrução\n",
       "Estado.civil Fundamental Médio Superior Mestrado Doutorado\n",
       "    casado          0.11  0.22     0.11     0.06      0.06\n",
       "    solteiro        0.19  0.14     0.08     0.00      0.03"
      ]
     },
     "metadata": {},
     "output_type": "display_data"
    },
    {
     "data": {
      "text/plain": [
       "            Grau.Instrução\n",
       "Estado.civil Fundamental Médio Superior Mestrado Doutorado\n",
       "    casado          0.20  0.40     0.20     0.10      0.10\n",
       "    solteiro        0.44  0.31     0.19     0.00      0.06"
      ]
     },
     "metadata": {},
     "output_type": "display_data"
    },
    {
     "data": {
      "text/plain": [
       "            Grau.Instrução\n",
       "Estado.civil Fundamental Médio Superior Mestrado Doutorado\n",
       "    casado          0.36  0.62     0.57     1.00      0.67\n",
       "    solteiro        0.64  0.38     0.43     0.00      0.33"
      ]
     },
     "metadata": {},
     "output_type": "display_data"
    }
   ],
   "source": [
    "# Frequência relativa\n",
    "# Em relação ao total geral\n",
    "# Em relação aos totais por linha (`margin = 1`)\n",
    "# Em relação aos totais por coluna (`margin = 2`)\n",
    "\n",
    "frg <- prop.table(fa)\n",
    "round(frg,digit=2)\n",
    "\n",
    "frl <- prop.table(fa,margin=1)\n",
    "round(frl,digit=2)\n",
    "\n",
    "frc <- prop.table(fa,margin=2)\n",
    "round(frc,digit=2)\n"
   ]
  },
  {
   "cell_type": "code",
   "execution_count": 11,
   "metadata": {},
   "outputs": [
    {
     "data": {
      "image/png": "[encoded data removed]",
      "text/plain": [
       "plot without title"
      ]
     },
     "metadata": {},
     "output_type": "display_data"
    }
   ],
   "source": [
    "barplot(fa, legend = TRUE)"
   ]
  },
  {
   "cell_type": "code",
   "execution_count": 12,
   "metadata": {},
   "outputs": [
    {
     "data": {
      "image/png": "[encoded data removed]",
      "text/plain": [
       "plot without title"
      ]
     },
     "metadata": {},
     "output_type": "display_data"
    }
   ],
   "source": [
    "barplot(t(fa), legend = TRUE)\n"
   ]
  },
  {
   "cell_type": "code",
   "execution_count": 13,
   "metadata": {},
   "outputs": [
    {
     "data": {
      "image/png": "[encoded data removed]",
      "text/plain": [
       "plot without title"
      ]
     },
     "metadata": {},
     "output_type": "display_data"
    }
   ],
   "source": [
    "barplot(fa, beside = TRUE, legend = TRUE)\n"
   ]
  },
  {
   "cell_type": "code",
   "execution_count": 14,
   "metadata": {},
   "outputs": [
    {
     "data": {
      "image/png": "[encoded data removed]",
      "text/plain": [
       "plot without title"
      ]
     },
     "metadata": {},
     "output_type": "display_data"
    }
   ],
   "source": [
    "barplot(t(prop.table(fa)), beside = TRUE, legend = TRUE)"
   ]
  },
  {
   "cell_type": "markdown",
   "metadata": {},
   "source": [
    "## Qualitativa x quantitativa"
   ]
  },
  {
   "cell_type": "code",
   "execution_count": 18,
   "metadata": {},
   "outputs": [
    {
     "data": {
      "text/html": [
       "<dl class=dl-horizontal>\n",
       "\t<dt>0%</dt>\n",
       "\t\t<dd>147</dd>\n",
       "\t<dt>25%</dt>\n",
       "\t\t<dd>1145.75</dd>\n",
       "\t<dt>50%</dt>\n",
       "\t\t<dd>2165</dd>\n",
       "\t<dt>75%</dt>\n",
       "\t\t<dd>4095</dd>\n",
       "\t<dt>100%</dt>\n",
       "\t\t<dd>16000</dd>\n",
       "</dl>\n"
      ],
      "text/latex": [
       "\\begin{description*}\n",
       "\\item[0\\textbackslash{}\\%] 147\n",
       "\\item[25\\textbackslash{}\\%] 1145.75\n",
       "\\item[50\\textbackslash{}\\%] 2165\n",
       "\\item[75\\textbackslash{}\\%] 4095\n",
       "\\item[100\\textbackslash{}\\%] 16000\n",
       "\\end{description*}\n"
      ],
      "text/markdown": [
       "0%\n",
       ":   14725%\n",
       ":   1145.7550%\n",
       ":   216575%\n",
       ":   4095100%\n",
       ":   16000\n",
       "\n"
      ],
      "text/plain": [
       "      0%      25%      50%      75%     100% \n",
       "  147.00  1145.75  2165.00  4095.00 16000.00 "
      ]
     },
     "metadata": {},
     "output_type": "display_data"
    }
   ],
   "source": [
    "## Quartis de salario\n",
    "quantile(dados_cliente$Salário)\n",
    "\n",
    "## Classificação de acordo com os quartis\n",
    "grupo_sal <- cut(dados_cliente$Salário, breaks =  quantile(dados_cliente$Salário),include.lowest = TRUE)\n",
    "\n"
   ]
  },
  {
   "cell_type": "code",
   "execution_count": 19,
   "metadata": {},
   "outputs": [
    {
     "data": {
      "text/plain": [
       "             grupo_sal\n",
       "              [147,1.15e+03] (1.15e+03,2.16e+03] (2.16e+03,4.1e+03]\n",
       "  Fundamental              4                   6                  1\n",
       "  Médio                    2                   3                  7\n",
       "  Superior                 2                   0                  1\n",
       "  Mestrado                 1                   0                  0\n",
       "  Doutorado                0                   0                  0\n",
       "             grupo_sal\n",
       "              (4.1e+03,1.6e+04]\n",
       "  Fundamental                 0\n",
       "  Médio                       1\n",
       "  Superior                    4\n",
       "  Mestrado                    1\n",
       "  Doutorado                   3"
      ]
     },
     "metadata": {},
     "output_type": "display_data"
    }
   ],
   "source": [
    "## Tabela de frequências absolutas\n",
    "fa <- table(dados_cliente$Grau.Instrução, grupo_sal)\n",
    "fa\n"
   ]
  },
  {
   "cell_type": "code",
   "execution_count": 20,
   "metadata": {},
   "outputs": [
    {
     "data": {
      "text/plain": [
       "             grupo_sal\n",
       "              [147,1.15e+03] (1.15e+03,2.16e+03] (2.16e+03,4.1e+03]\n",
       "  Fundamental     0.11111111          0.16666667         0.02777778\n",
       "  Médio           0.05555556          0.08333333         0.19444444\n",
       "  Superior        0.05555556          0.00000000         0.02777778\n",
       "  Mestrado        0.02777778          0.00000000         0.00000000\n",
       "  Doutorado       0.00000000          0.00000000         0.00000000\n",
       "             grupo_sal\n",
       "              (4.1e+03,1.6e+04]\n",
       "  Fundamental        0.00000000\n",
       "  Médio              0.02777778\n",
       "  Superior           0.11111111\n",
       "  Mestrado           0.02777778\n",
       "  Doutorado          0.08333333"
      ]
     },
     "metadata": {},
     "output_type": "display_data"
    },
    {
     "data": {
      "text/plain": [
       "             grupo_sal\n",
       "              [147,1.15e+03] (1.15e+03,2.16e+03] (2.16e+03,4.1e+03]\n",
       "  Fundamental     0.36363636          0.54545455         0.09090909\n",
       "  Médio           0.15384615          0.23076923         0.53846154\n",
       "  Superior        0.28571429          0.00000000         0.14285714\n",
       "  Mestrado        0.50000000          0.00000000         0.00000000\n",
       "  Doutorado       0.00000000          0.00000000         0.00000000\n",
       "             grupo_sal\n",
       "              (4.1e+03,1.6e+04]\n",
       "  Fundamental        0.00000000\n",
       "  Médio              0.07692308\n",
       "  Superior           0.57142857\n",
       "  Mestrado           0.50000000\n",
       "  Doutorado          1.00000000"
      ]
     },
     "metadata": {},
     "output_type": "display_data"
    },
    {
     "data": {
      "text/plain": [
       "             grupo_sal\n",
       "              [147,1.15e+03] (1.15e+03,2.16e+03] (2.16e+03,4.1e+03]\n",
       "  Fundamental      0.4444444           0.6666667          0.1111111\n",
       "  Médio            0.2222222           0.3333333          0.7777778\n",
       "  Superior         0.2222222           0.0000000          0.1111111\n",
       "  Mestrado         0.1111111           0.0000000          0.0000000\n",
       "  Doutorado        0.0000000           0.0000000          0.0000000\n",
       "             grupo_sal\n",
       "              (4.1e+03,1.6e+04]\n",
       "  Fundamental         0.0000000\n",
       "  Médio               0.1111111\n",
       "  Superior            0.4444444\n",
       "  Mestrado            0.1111111\n",
       "  Doutorado           0.3333333"
      ]
     },
     "metadata": {},
     "output_type": "display_data"
    }
   ],
   "source": [
    "frg <- prop.table(fa)\n",
    "frg\n",
    "\n",
    "frl <- prop.table(fa,margin=1)\n",
    "frl\n",
    "\n",
    "frc <- prop.table(fa,margin=2)\n",
    "frc\n"
   ]
  },
  {
   "cell_type": "code",
   "execution_count": 21,
   "metadata": {},
   "outputs": [
    {
     "data": {
      "image/png": "[encoded data removed]",
      "text/plain": [
       "plot without title"
      ]
     },
     "metadata": {},
     "output_type": "display_data"
    }
   ],
   "source": [
    "boxplot(Salário ~ Grau.Instrução, data = dados_cliente)"
   ]
  },
  {
   "cell_type": "code",
   "execution_count": 22,
   "metadata": {},
   "outputs": [
    {
     "name": "stdout",
     "output_type": "stream",
     "text": [
      "[1] \"Media\"\n"
     ]
    },
    {
     "data": {
      "text/html": [
       "<dl class=dl-horizontal>\n",
       "\t<dt>Fundamental</dt>\n",
       "\t\t<dd>1516.81818181818</dd>\n",
       "\t<dt>Médio</dt>\n",
       "\t\t<dd>2410.30769230769</dd>\n",
       "\t<dt>Superior</dt>\n",
       "\t\t<dd>6132.85714285714</dd>\n",
       "\t<dt>Mestrado</dt>\n",
       "\t\t<dd>8552.5</dd>\n",
       "\t<dt>Doutorado</dt>\n",
       "\t\t<dd>14100</dd>\n",
       "</dl>\n"
      ],
      "text/latex": [
       "\\begin{description*}\n",
       "\\item[Fundamental] 1516.81818181818\n",
       "\\item[Médio] 2410.30769230769\n",
       "\\item[Superior] 6132.85714285714\n",
       "\\item[Mestrado] 8552.5\n",
       "\\item[Doutorado] 14100\n",
       "\\end{description*}\n"
      ],
      "text/markdown": [
       "Fundamental\n",
       ":   1516.81818181818Médio\n",
       ":   2410.30769230769Superior\n",
       ":   6132.85714285714Mestrado\n",
       ":   8552.5Doutorado\n",
       ":   14100\n",
       "\n"
      ],
      "text/plain": [
       "Fundamental       Médio    Superior    Mestrado   Doutorado \n",
       "   1516.818    2410.308    6132.857    8552.500   14100.000 "
      ]
     },
     "metadata": {},
     "output_type": "display_data"
    },
    {
     "name": "stdout",
     "output_type": "stream",
     "text": [
      "[1] \"Desvio Padrão\"\n"
     ]
    },
    {
     "data": {
      "text/html": [
       "<dl class=dl-horizontal>\n",
       "\t<dt>Fundamental</dt>\n",
       "\t\t<dd>489.90954638215</dd>\n",
       "\t<dt>Médio</dt>\n",
       "\t\t<dd>1340.66453575676</dd>\n",
       "\t<dt>Superior</dt>\n",
       "\t\t<dd>5604.39947507228</dd>\n",
       "\t<dt>Mestrado</dt>\n",
       "\t\t<dd>10530.9412922113</dd>\n",
       "\t<dt>Doutorado</dt>\n",
       "\t\t<dd>1425.16665692122</dd>\n",
       "</dl>\n"
      ],
      "text/latex": [
       "\\begin{description*}\n",
       "\\item[Fundamental] 489.90954638215\n",
       "\\item[Médio] 1340.66453575676\n",
       "\\item[Superior] 5604.39947507228\n",
       "\\item[Mestrado] 10530.9412922113\n",
       "\\item[Doutorado] 1425.16665692122\n",
       "\\end{description*}\n"
      ],
      "text/markdown": [
       "Fundamental\n",
       ":   489.90954638215Médio\n",
       ":   1340.66453575676Superior\n",
       ":   5604.39947507228Mestrado\n",
       ":   10530.9412922113Doutorado\n",
       ":   1425.16665692122\n",
       "\n"
      ],
      "text/plain": [
       "Fundamental       Médio    Superior    Mestrado   Doutorado \n",
       "   489.9095   1340.6645   5604.3995  10530.9413   1425.1667 "
      ]
     },
     "metadata": {},
     "output_type": "display_data"
    },
    {
     "name": "stdout",
     "output_type": "stream",
     "text": [
      "[1] \"Quartil\"\n"
     ]
    },
    {
     "data": {
      "text/html": [
       "<dl>\n",
       "\t<dt>$Fundamental</dt>\n",
       "\t\t<dd><dl class=dl-horizontal>\n",
       "\t<dt>0%</dt>\n",
       "\t\t<dd>1100</dd>\n",
       "\t<dt>25%</dt>\n",
       "\t\t<dd>1100</dd>\n",
       "\t<dt>50%</dt>\n",
       "\t\t<dd>1385</dd>\n",
       "\t<dt>75%</dt>\n",
       "\t\t<dd>1800</dd>\n",
       "\t<dt>100%</dt>\n",
       "\t\t<dd>2600</dd>\n",
       "</dl>\n",
       "</dd>\n",
       "\t<dt>$Médio</dt>\n",
       "\t\t<dd><dl class=dl-horizontal>\n",
       "\t<dt>0%</dt>\n",
       "\t\t<dd>759</dd>\n",
       "\t<dt>25%</dt>\n",
       "\t\t<dd>1563</dd>\n",
       "\t<dt>50%</dt>\n",
       "\t\t<dd>2445</dd>\n",
       "\t<dt>75%</dt>\n",
       "\t\t<dd>2519</dd>\n",
       "\t<dt>100%</dt>\n",
       "\t\t<dd>6000</dd>\n",
       "</dl>\n",
       "</dd>\n",
       "\t<dt>$Superior</dt>\n",
       "\t\t<dd><dl class=dl-horizontal>\n",
       "\t<dt>0%</dt>\n",
       "\t\t<dd>147</dd>\n",
       "\t<dt>25%</dt>\n",
       "\t\t<dd>1691.5</dd>\n",
       "\t<dt>50%</dt>\n",
       "\t\t<dd>5700</dd>\n",
       "\t<dt>75%</dt>\n",
       "\t\t<dd>8850</dd>\n",
       "\t<dt>100%</dt>\n",
       "\t\t<dd>16000</dd>\n",
       "</dl>\n",
       "</dd>\n",
       "\t<dt>$Mestrado</dt>\n",
       "\t\t<dd><dl class=dl-horizontal>\n",
       "\t<dt>0%</dt>\n",
       "\t\t<dd>1106</dd>\n",
       "\t<dt>25%</dt>\n",
       "\t\t<dd>4829.25</dd>\n",
       "\t<dt>50%</dt>\n",
       "\t\t<dd>8552.5</dd>\n",
       "\t<dt>75%</dt>\n",
       "\t\t<dd>12275.75</dd>\n",
       "\t<dt>100%</dt>\n",
       "\t\t<dd>15999</dd>\n",
       "</dl>\n",
       "</dd>\n",
       "\t<dt>$Doutorado</dt>\n",
       "\t\t<dd><dl class=dl-horizontal>\n",
       "\t<dt>0%</dt>\n",
       "\t\t<dd>13000</dd>\n",
       "\t<dt>25%</dt>\n",
       "\t\t<dd>13295</dd>\n",
       "\t<dt>50%</dt>\n",
       "\t\t<dd>13590</dd>\n",
       "\t<dt>75%</dt>\n",
       "\t\t<dd>14650</dd>\n",
       "\t<dt>100%</dt>\n",
       "\t\t<dd>15710</dd>\n",
       "</dl>\n",
       "</dd>\n",
       "</dl>\n"
      ],
      "text/latex": [
       "\\begin{description}\n",
       "\\item[\\$Fundamental] \\begin{description*}\n",
       "\\item[0\\textbackslash{}\\%] 1100\n",
       "\\item[25\\textbackslash{}\\%] 1100\n",
       "\\item[50\\textbackslash{}\\%] 1385\n",
       "\\item[75\\textbackslash{}\\%] 1800\n",
       "\\item[100\\textbackslash{}\\%] 2600\n",
       "\\end{description*}\n",
       "\n",
       "\\item[\\$Médio] \\begin{description*}\n",
       "\\item[0\\textbackslash{}\\%] 759\n",
       "\\item[25\\textbackslash{}\\%] 1563\n",
       "\\item[50\\textbackslash{}\\%] 2445\n",
       "\\item[75\\textbackslash{}\\%] 2519\n",
       "\\item[100\\textbackslash{}\\%] 6000\n",
       "\\end{description*}\n",
       "\n",
       "\\item[\\$Superior] \\begin{description*}\n",
       "\\item[0\\textbackslash{}\\%] 147\n",
       "\\item[25\\textbackslash{}\\%] 1691.5\n",
       "\\item[50\\textbackslash{}\\%] 5700\n",
       "\\item[75\\textbackslash{}\\%] 8850\n",
       "\\item[100\\textbackslash{}\\%] 16000\n",
       "\\end{description*}\n",
       "\n",
       "\\item[\\$Mestrado] \\begin{description*}\n",
       "\\item[0\\textbackslash{}\\%] 1106\n",
       "\\item[25\\textbackslash{}\\%] 4829.25\n",
       "\\item[50\\textbackslash{}\\%] 8552.5\n",
       "\\item[75\\textbackslash{}\\%] 12275.75\n",
       "\\item[100\\textbackslash{}\\%] 15999\n",
       "\\end{description*}\n",
       "\n",
       "\\item[\\$Doutorado] \\begin{description*}\n",
       "\\item[0\\textbackslash{}\\%] 13000\n",
       "\\item[25\\textbackslash{}\\%] 13295\n",
       "\\item[50\\textbackslash{}\\%] 13590\n",
       "\\item[75\\textbackslash{}\\%] 14650\n",
       "\\item[100\\textbackslash{}\\%] 15710\n",
       "\\end{description*}\n",
       "\n",
       "\\end{description}\n"
      ],
      "text/markdown": [
       "$Fundamental\n",
       ":   0%\n",
       ":   110025%\n",
       ":   110050%\n",
       ":   138575%\n",
       ":   1800100%\n",
       ":   2600\n",
       "\n",
       "\n",
       "$Médio\n",
       ":   0%\n",
       ":   75925%\n",
       ":   156350%\n",
       ":   244575%\n",
       ":   2519100%\n",
       ":   6000\n",
       "\n",
       "\n",
       "$Superior\n",
       ":   0%\n",
       ":   14725%\n",
       ":   1691.550%\n",
       ":   570075%\n",
       ":   8850100%\n",
       ":   16000\n",
       "\n",
       "\n",
       "$Mestrado\n",
       ":   0%\n",
       ":   110625%\n",
       ":   4829.2550%\n",
       ":   8552.575%\n",
       ":   12275.75100%\n",
       ":   15999\n",
       "\n",
       "\n",
       "$Doutorado\n",
       ":   0%\n",
       ":   1300025%\n",
       ":   1329550%\n",
       ":   1359075%\n",
       ":   14650100%\n",
       ":   15710\n",
       "\n",
       "\n",
       "\n",
       "\n"
      ],
      "text/plain": [
       "$Fundamental\n",
       "  0%  25%  50%  75% 100% \n",
       "1100 1100 1385 1800 2600 \n",
       "\n",
       "$Médio\n",
       "  0%  25%  50%  75% 100% \n",
       " 759 1563 2445 2519 6000 \n",
       "\n",
       "$Superior\n",
       "     0%     25%     50%     75%    100% \n",
       "  147.0  1691.5  5700.0  8850.0 16000.0 \n",
       "\n",
       "$Mestrado\n",
       "      0%      25%      50%      75%     100% \n",
       " 1106.00  4829.25  8552.50 12275.75 15999.00 \n",
       "\n",
       "$Doutorado\n",
       "   0%   25%   50%   75%  100% \n",
       "13000 13295 13590 14650 15710 \n"
      ]
     },
     "metadata": {},
     "output_type": "display_data"
    }
   ],
   "source": [
    "print('Media')\n",
    "with(dados_cliente, tapply(Salário, Grau.Instrução, mean))\n",
    "print('Desvio Padrão')\n",
    "with(dados_cliente, tapply(Salário, Grau.Instrução, sd))\n",
    "print('Quartil')\n",
    "with(dados_cliente, tapply(Salário, Grau.Instrução, quantile))"
   ]
  },
  {
   "cell_type": "markdown",
   "metadata": {},
   "source": [
    "## Quantitativa X Quantitativa\n"
   ]
  },
  {
   "cell_type": "code",
   "execution_count": 23,
   "metadata": {},
   "outputs": [
    {
     "data": {
      "text/html": [
       "<table>\n",
       "<thead><tr><th scope=col>Id</th><th scope=col>Estado.civil</th><th scope=col>Grau.Instrução</th><th scope=col>Qtde.Filhos</th><th scope=col>Salário</th><th scope=col>Anos</th><th scope=col>anos_trabalho</th><th scope=col>UF</th></tr></thead>\n",
       "<tbody>\n",
       "\t<tr><td>1          </td><td>solteiro   </td><td>Fundamental</td><td>NA         </td><td> 1100      </td><td>26         </td><td> 3         </td><td>MG         </td></tr>\n",
       "\t<tr><td>2          </td><td>casado     </td><td>Doutorado  </td><td> 1         </td><td>13000      </td><td>32         </td><td> 7         </td><td>RJ         </td></tr>\n",
       "\t<tr><td>3          </td><td>casado     </td><td>Fundamental</td><td> 2         </td><td> 1100      </td><td>36         </td><td> 5         </td><td>SP         </td></tr>\n",
       "\t<tr><td>4          </td><td>solteiro   </td><td>Médio      </td><td>NA         </td><td> 2500      </td><td>30         </td><td>10         </td><td>RS         </td></tr>\n",
       "\t<tr><td>5          </td><td>solteiro   </td><td>Fundamental</td><td>NA         </td><td> 2000      </td><td>40         </td><td> 7         </td><td>SC         </td></tr>\n",
       "\t<tr><td>6          </td><td>casado     </td><td>Fundamental</td><td> 1         </td><td> 2600      </td><td>28         </td><td> 0         </td><td>SP         </td></tr>\n",
       "</tbody>\n",
       "</table>\n"
      ],
      "text/latex": [
       "\\begin{tabular}{r|llllllll}\n",
       " Id & Estado.civil & Grau.Instrução & Qtde.Filhos & Salário & Anos & anos\\_trabalho & UF\\\\\n",
       "\\hline\n",
       "\t 1           & solteiro    & Fundamental & NA          &  1100       & 26          &  3          & MG         \\\\\n",
       "\t 2           & casado      & Doutorado   &  1          & 13000       & 32          &  7          & RJ         \\\\\n",
       "\t 3           & casado      & Fundamental &  2          &  1100       & 36          &  5          & SP         \\\\\n",
       "\t 4           & solteiro    & Médio       & NA          &  2500       & 30          & 10          & RS         \\\\\n",
       "\t 5           & solteiro    & Fundamental & NA          &  2000       & 40          &  7          & SC         \\\\\n",
       "\t 6           & casado      & Fundamental &  1          &  2600       & 28          &  0          & SP         \\\\\n",
       "\\end{tabular}\n"
      ],
      "text/markdown": [
       "\n",
       "| Id | Estado.civil | Grau.Instrução | Qtde.Filhos | Salário | Anos | anos_trabalho | UF |\n",
       "|---|---|---|---|---|---|---|---|\n",
       "| 1           | solteiro    | Fundamental | NA          |  1100       | 26          |  3          | MG          |\n",
       "| 2           | casado      | Doutorado   |  1          | 13000       | 32          |  7          | RJ          |\n",
       "| 3           | casado      | Fundamental |  2          |  1100       | 36          |  5          | SP          |\n",
       "| 4           | solteiro    | Médio       | NA          |  2500       | 30          | 10          | RS          |\n",
       "| 5           | solteiro    | Fundamental | NA          |  2000       | 40          |  7          | SC          |\n",
       "| 6           | casado      | Fundamental |  1          |  2600       | 28          |  0          | SP          |\n",
       "\n"
      ],
      "text/plain": [
       "  Id Estado.civil Grau.Instrução Qtde.Filhos Salário Anos anos_trabalho UF\n",
       "1 1  solteiro     Fundamental    NA           1100   26    3            MG\n",
       "2 2  casado       Doutorado       1          13000   32    7            RJ\n",
       "3 3  casado       Fundamental     2           1100   36    5            SP\n",
       "4 4  solteiro     Médio          NA           2500   30   10            RS\n",
       "5 5  solteiro     Fundamental    NA           2000   40    7            SC\n",
       "6 6  casado       Fundamental     1           2600   28    0            SP"
      ]
     },
     "metadata": {},
     "output_type": "display_data"
    }
   ],
   "source": [
    "head(dados_cliente)"
   ]
  },
  {
   "cell_type": "code",
   "execution_count": 24,
   "metadata": {},
   "outputs": [],
   "source": [
    "## Classes de Idade (Anos)\n",
    "grupo_idade <- with(dados_cliente, cut(Anos, breaks = quantile(Anos),include.lowest = TRUE))\n",
    "\n",
    "fa_idade <- table(grupo_idade)"
   ]
  },
  {
   "cell_type": "code",
   "execution_count": 25,
   "metadata": {},
   "outputs": [
    {
     "data": {
      "text/plain": [
       "grupo_idade\n",
       "  [19,30] (30,34.5] (34.5,40]   (40,48] \n",
       "       11         7        10         8 "
      ]
     },
     "metadata": {},
     "output_type": "display_data"
    }
   ],
   "source": [
    "fa_idade"
   ]
  },
  {
   "cell_type": "code",
   "execution_count": 26,
   "metadata": {},
   "outputs": [
    {
     "data": {
      "text/html": [
       "<dl class=dl-horizontal>\n",
       "\t<dt>0%</dt>\n",
       "\t\t<dd>147</dd>\n",
       "\t<dt>25%</dt>\n",
       "\t\t<dd>1145.75</dd>\n",
       "\t<dt>50%</dt>\n",
       "\t\t<dd>2165</dd>\n",
       "\t<dt>75%</dt>\n",
       "\t\t<dd>4095</dd>\n",
       "\t<dt>100%</dt>\n",
       "\t\t<dd>16000</dd>\n",
       "</dl>\n"
      ],
      "text/latex": [
       "\\begin{description*}\n",
       "\\item[0\\textbackslash{}\\%] 147\n",
       "\\item[25\\textbackslash{}\\%] 1145.75\n",
       "\\item[50\\textbackslash{}\\%] 2165\n",
       "\\item[75\\textbackslash{}\\%] 4095\n",
       "\\item[100\\textbackslash{}\\%] 16000\n",
       "\\end{description*}\n"
      ],
      "text/markdown": [
       "0%\n",
       ":   14725%\n",
       ":   1145.7550%\n",
       ":   216575%\n",
       ":   4095100%\n",
       ":   16000\n",
       "\n"
      ],
      "text/plain": [
       "      0%      25%      50%      75%     100% \n",
       "  147.00  1145.75  2165.00  4095.00 16000.00 "
      ]
     },
     "metadata": {},
     "output_type": "display_data"
    }
   ],
   "source": [
    "## Quartis de salario\n",
    "quantile(dados_cliente$Salário)\n",
    "\n",
    "## Classificação de acordo com os quartis\n",
    "grupo_sal <- cut(dados_cliente$Salário, breaks =  quantile(dados_cliente$Salário),include.lowest = TRUE)\n"
   ]
  },
  {
   "cell_type": "code",
   "execution_count": 27,
   "metadata": {},
   "outputs": [
    {
     "data": {
      "text/plain": [
       "grupo_sal\n",
       "     [147,1.15e+03] (1.15e+03,2.16e+03]  (2.16e+03,4.1e+03]   (4.1e+03,1.6e+04] \n",
       "                  9                   9                   9                   9 "
      ]
     },
     "metadata": {},
     "output_type": "display_data"
    }
   ],
   "source": [
    "fa_sal <- table(grupo_sal)\n",
    "fa_sal"
   ]
  },
  {
   "cell_type": "code",
   "execution_count": 29,
   "metadata": {},
   "outputs": [
    {
     "data": {
      "text/plain": [
       "           grupo_sal\n",
       "grupo_idade [147,1.15e+03] (1.15e+03,2.16e+03] (2.16e+03,4.1e+03]\n",
       "  [19,30]                4                   1                  4\n",
       "  (30,34.5]              0                   1                  3\n",
       "  (34.5,40]              3                   3                  1\n",
       "  (40,48]                2                   4                  1\n",
       "           grupo_sal\n",
       "grupo_idade (4.1e+03,1.6e+04]\n",
       "  [19,30]                   2\n",
       "  (30,34.5]                 3\n",
       "  (34.5,40]                 3\n",
       "  (40,48]                   1"
      ]
     },
     "metadata": {},
     "output_type": "display_data"
    }
   ],
   "source": [
    "## Tabela combinada  cruzada\n",
    "fa <- table(grupo_idade, grupo_sal)\n",
    "fa"
   ]
  },
  {
   "cell_type": "code",
   "execution_count": 30,
   "metadata": {},
   "outputs": [
    {
     "data": {
      "text/plain": [
       "           grupo_sal\n",
       "grupo_idade [147,1.15e+03] (1.15e+03,2.16e+03] (2.16e+03,4.1e+03]\n",
       "  [19,30]       0.11111111          0.02777778         0.11111111\n",
       "  (30,34.5]     0.00000000          0.02777778         0.08333333\n",
       "  (34.5,40]     0.08333333          0.08333333         0.02777778\n",
       "  (40,48]       0.05555556          0.11111111         0.02777778\n",
       "           grupo_sal\n",
       "grupo_idade (4.1e+03,1.6e+04]\n",
       "  [19,30]          0.05555556\n",
       "  (30,34.5]        0.08333333\n",
       "  (34.5,40]        0.08333333\n",
       "  (40,48]          0.02777778"
      ]
     },
     "metadata": {},
     "output_type": "display_data"
    },
    {
     "data": {
      "text/plain": [
       "           grupo_sal\n",
       "grupo_idade [147,1.15e+03] (1.15e+03,2.16e+03] (2.16e+03,4.1e+03]\n",
       "  [19,30]       0.36363636          0.09090909         0.36363636\n",
       "  (30,34.5]     0.00000000          0.14285714         0.42857143\n",
       "  (34.5,40]     0.30000000          0.30000000         0.10000000\n",
       "  (40,48]       0.25000000          0.50000000         0.12500000\n",
       "           grupo_sal\n",
       "grupo_idade (4.1e+03,1.6e+04]\n",
       "  [19,30]          0.18181818\n",
       "  (30,34.5]        0.42857143\n",
       "  (34.5,40]        0.30000000\n",
       "  (40,48]          0.12500000"
      ]
     },
     "metadata": {},
     "output_type": "display_data"
    },
    {
     "data": {
      "text/plain": [
       "           grupo_sal\n",
       "grupo_idade [147,1.15e+03] (1.15e+03,2.16e+03] (2.16e+03,4.1e+03]\n",
       "  [19,30]        0.4444444           0.1111111          0.4444444\n",
       "  (30,34.5]      0.0000000           0.1111111          0.3333333\n",
       "  (34.5,40]      0.3333333           0.3333333          0.1111111\n",
       "  (40,48]        0.2222222           0.4444444          0.1111111\n",
       "           grupo_sal\n",
       "grupo_idade (4.1e+03,1.6e+04]\n",
       "  [19,30]           0.2222222\n",
       "  (30,34.5]         0.3333333\n",
       "  (34.5,40]         0.3333333\n",
       "  (40,48]           0.1111111"
      ]
     },
     "metadata": {},
     "output_type": "display_data"
    }
   ],
   "source": [
    "frg <- prop.table(fa)\n",
    "frg\n",
    "\n",
    "frl <- prop.table(fa,margin=1)\n",
    "frl\n",
    "\n",
    "frc <- prop.table(fa,margin=2)\n",
    "frc"
   ]
  },
  {
   "cell_type": "code",
   "execution_count": 31,
   "metadata": {},
   "outputs": [
    {
     "data": {
      "text/html": [
       "<table>\n",
       "<thead><tr><th scope=col>Id</th><th scope=col>Estado.civil</th><th scope=col>Grau.Instrução</th><th scope=col>Qtde.Filhos</th><th scope=col>Salário</th><th scope=col>Anos</th><th scope=col>anos_trabalho</th><th scope=col>UF</th></tr></thead>\n",
       "<tbody>\n",
       "\t<tr><td>1          </td><td>solteiro   </td><td>Fundamental</td><td>NA         </td><td> 1100      </td><td>26         </td><td> 3         </td><td>MG         </td></tr>\n",
       "\t<tr><td>2          </td><td>casado     </td><td>Doutorado  </td><td> 1         </td><td>13000      </td><td>32         </td><td> 7         </td><td>RJ         </td></tr>\n",
       "\t<tr><td>3          </td><td>casado     </td><td>Fundamental</td><td> 2         </td><td> 1100      </td><td>36         </td><td> 5         </td><td>SP         </td></tr>\n",
       "\t<tr><td>4          </td><td>solteiro   </td><td>Médio      </td><td>NA         </td><td> 2500      </td><td>30         </td><td>10         </td><td>RS         </td></tr>\n",
       "\t<tr><td>5          </td><td>solteiro   </td><td>Fundamental</td><td>NA         </td><td> 2000      </td><td>40         </td><td> 7         </td><td>SC         </td></tr>\n",
       "\t<tr><td>6          </td><td>casado     </td><td>Fundamental</td><td> 1         </td><td> 2600      </td><td>28         </td><td> 0         </td><td>SP         </td></tr>\n",
       "</tbody>\n",
       "</table>\n"
      ],
      "text/latex": [
       "\\begin{tabular}{r|llllllll}\n",
       " Id & Estado.civil & Grau.Instrução & Qtde.Filhos & Salário & Anos & anos\\_trabalho & UF\\\\\n",
       "\\hline\n",
       "\t 1           & solteiro    & Fundamental & NA          &  1100       & 26          &  3          & MG         \\\\\n",
       "\t 2           & casado      & Doutorado   &  1          & 13000       & 32          &  7          & RJ         \\\\\n",
       "\t 3           & casado      & Fundamental &  2          &  1100       & 36          &  5          & SP         \\\\\n",
       "\t 4           & solteiro    & Médio       & NA          &  2500       & 30          & 10          & RS         \\\\\n",
       "\t 5           & solteiro    & Fundamental & NA          &  2000       & 40          &  7          & SC         \\\\\n",
       "\t 6           & casado      & Fundamental &  1          &  2600       & 28          &  0          & SP         \\\\\n",
       "\\end{tabular}\n"
      ],
      "text/markdown": [
       "\n",
       "| Id | Estado.civil | Grau.Instrução | Qtde.Filhos | Salário | Anos | anos_trabalho | UF |\n",
       "|---|---|---|---|---|---|---|---|\n",
       "| 1           | solteiro    | Fundamental | NA          |  1100       | 26          |  3          | MG          |\n",
       "| 2           | casado      | Doutorado   |  1          | 13000       | 32          |  7          | RJ          |\n",
       "| 3           | casado      | Fundamental |  2          |  1100       | 36          |  5          | SP          |\n",
       "| 4           | solteiro    | Médio       | NA          |  2500       | 30          | 10          | RS          |\n",
       "| 5           | solteiro    | Fundamental | NA          |  2000       | 40          |  7          | SC          |\n",
       "| 6           | casado      | Fundamental |  1          |  2600       | 28          |  0          | SP          |\n",
       "\n"
      ],
      "text/plain": [
       "  Id Estado.civil Grau.Instrução Qtde.Filhos Salário Anos anos_trabalho UF\n",
       "1 1  solteiro     Fundamental    NA           1100   26    3            MG\n",
       "2 2  casado       Doutorado       1          13000   32    7            RJ\n",
       "3 3  casado       Fundamental     2           1100   36    5            SP\n",
       "4 4  solteiro     Médio          NA           2500   30   10            RS\n",
       "5 5  solteiro     Fundamental    NA           2000   40    7            SC\n",
       "6 6  casado       Fundamental     1           2600   28    0            SP"
      ]
     },
     "metadata": {},
     "output_type": "display_data"
    }
   ],
   "source": [
    "head(dados_cliente)"
   ]
  },
  {
   "cell_type": "code",
   "execution_count": 37,
   "metadata": {},
   "outputs": [
    {
     "data": {
      "image/png": "[encoded data removed]",
      "text/plain": [
       "plot without title"
      ]
     },
     "metadata": {},
     "output_type": "display_data"
    }
   ],
   "source": [
    "# Plotar gráfico de dispersão entre as variáveis\n",
    "\n",
    "#plot(x = dados_cliente$Anos, y = dados_cliente$Salário)\n",
    "plot(Salário ~ Anos, data = dados_cliente)"
   ]
  },
  {
   "cell_type": "code",
   "execution_count": 40,
   "metadata": {},
   "outputs": [
    {
     "name": "stdout",
     "output_type": "stream",
     "text": [
      "[1] \"Coeficiaente de relação Pearson\"\n"
     ]
    },
    {
     "data": {
      "text/html": [
       "-0.202898607513246"
      ],
      "text/latex": [
       "-0.202898607513246"
      ],
      "text/markdown": [
       "-0.202898607513246"
      ],
      "text/plain": [
       "[1] -0.2028986"
      ]
     },
     "metadata": {},
     "output_type": "display_data"
    },
    {
     "name": "stdout",
     "output_type": "stream",
     "text": [
      "[1] \"Coeficiaente de relação kendall\"\n"
     ]
    },
    {
     "data": {
      "text/html": [
       "-0.159551289209904"
      ],
      "text/latex": [
       "-0.159551289209904"
      ],
      "text/markdown": [
       "-0.159551289209904"
      ],
      "text/plain": [
       "[1] -0.1595513"
      ]
     },
     "metadata": {},
     "output_type": "display_data"
    },
    {
     "name": "stdout",
     "output_type": "stream",
     "text": [
      "[1] \"Coeficiaente de relação spearman\"\n"
     ]
    },
    {
     "data": {
      "text/html": [
       "-0.242266056001006"
      ],
      "text/latex": [
       "-0.242266056001006"
      ],
      "text/markdown": [
       "-0.242266056001006"
      ],
      "text/plain": [
       "[1] -0.2422661"
      ]
     },
     "metadata": {},
     "output_type": "display_data"
    }
   ],
   "source": [
    "#Coeficiaente de relação\n",
    "print('Coeficiaente de relação Pearson')\n",
    "with(dados_cliente, cor(Anos, Salário)) #Pearson\n",
    "\n",
    "print('Coeficiaente de relação kendall')\n",
    "with(dados_cliente, cor(Anos, Salário, method = \"kendall\"))\n",
    "\n",
    "print('Coeficiaente de relação spearman')\n",
    "with(dados_cliente, cor(Anos, Salário, method = \"spearman\"))"
   ]
  },
  {
   "cell_type": "code",
   "execution_count": null,
   "metadata": {},
   "outputs": [],
   "source": []
  }
 ],
 "metadata": {
  "kernelspec": {
   "display_name": "R",
   "language": "R",
   "name": "ir"
  },
  "language_info": {
   "codemirror_mode": "r",
   "file_extension": ".r",
   "mimetype": "text/x-r-source",
   "name": "R",
   "pygments_lexer": "r",
   "version": "3.6.1"
  }
 },
 "nbformat": 4,
 "nbformat_minor": 4
}
