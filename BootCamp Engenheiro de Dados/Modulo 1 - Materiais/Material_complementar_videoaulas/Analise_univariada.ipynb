{
 "cells": [
  {
   "cell_type": "markdown",
   "metadata": {},
   "source": [
    "# Análise univariada"
   ]
  },
  {
   "cell_type": "code",
   "execution_count": 1,
   "metadata": {},
   "outputs": [
    {
     "name": "stderr",
     "output_type": "stream",
     "text": [
      "Warning message:\n",
      "\"package 'readr' was built under R version 3.6.3\""
     ]
    }
   ],
   "source": [
    "#importa pacote\n",
    "library('readr')"
   ]
  },
  {
   "cell_type": "code",
   "execution_count": 34,
   "metadata": {},
   "outputs": [],
   "source": [
    "# Lê/coleta dados no arquivo\n",
    "\n",
    "dados_cliente <- read.csv(\"./clientes.csv\",sep=\";\")"
   ]
  },
  {
   "cell_type": "code",
   "execution_count": 3,
   "metadata": {},
   "outputs": [
    {
     "data": {
      "text/html": [
       "<table>\n",
       "<thead><tr><th scope=col>Id</th><th scope=col>Estado.civil</th><th scope=col>Grau.Instrução</th><th scope=col>Qtde.Filhos</th><th scope=col>Salário</th><th scope=col>Anos</th><th scope=col>anos_trabalho</th><th scope=col>UF</th></tr></thead>\n",
       "<tbody>\n",
       "\t<tr><td>1          </td><td>solteiro   </td><td>Fundamental</td><td>NA         </td><td> 1100      </td><td>26         </td><td> 3         </td><td>MG         </td></tr>\n",
       "\t<tr><td>2          </td><td>casado     </td><td>Doutorado  </td><td> 1         </td><td>13000      </td><td>32         </td><td> 7         </td><td>RJ         </td></tr>\n",
       "\t<tr><td>3          </td><td>casado     </td><td>Fundamental</td><td> 2         </td><td> 1100      </td><td>36         </td><td> 5         </td><td>SP         </td></tr>\n",
       "\t<tr><td>4          </td><td>solteiro   </td><td>Médio      </td><td>NA         </td><td> 2500      </td><td>30         </td><td>10         </td><td>RS         </td></tr>\n",
       "\t<tr><td>5          </td><td>solteiro   </td><td>Fundamental</td><td>NA         </td><td> 2000      </td><td>40         </td><td> 7         </td><td>SC         </td></tr>\n",
       "\t<tr><td>6          </td><td>casado     </td><td>Fundamental</td><td> 1         </td><td> 2600      </td><td>28         </td><td> 0         </td><td>SP         </td></tr>\n",
       "</tbody>\n",
       "</table>\n"
      ],
      "text/latex": [
       "\\begin{tabular}{r|llllllll}\n",
       " Id & Estado.civil & Grau.Instrução & Qtde.Filhos & Salário & Anos & anos\\_trabalho & UF\\\\\n",
       "\\hline\n",
       "\t 1           & solteiro    & Fundamental & NA          &  1100       & 26          &  3          & MG         \\\\\n",
       "\t 2           & casado      & Doutorado   &  1          & 13000       & 32          &  7          & RJ         \\\\\n",
       "\t 3           & casado      & Fundamental &  2          &  1100       & 36          &  5          & SP         \\\\\n",
       "\t 4           & solteiro    & Médio       & NA          &  2500       & 30          & 10          & RS         \\\\\n",
       "\t 5           & solteiro    & Fundamental & NA          &  2000       & 40          &  7          & SC         \\\\\n",
       "\t 6           & casado      & Fundamental &  1          &  2600       & 28          &  0          & SP         \\\\\n",
       "\\end{tabular}\n"
      ],
      "text/markdown": [
       "\n",
       "| Id | Estado.civil | Grau.Instrução | Qtde.Filhos | Salário | Anos | anos_trabalho | UF |\n",
       "|---|---|---|---|---|---|---|---|\n",
       "| 1           | solteiro    | Fundamental | NA          |  1100       | 26          |  3          | MG          |\n",
       "| 2           | casado      | Doutorado   |  1          | 13000       | 32          |  7          | RJ          |\n",
       "| 3           | casado      | Fundamental |  2          |  1100       | 36          |  5          | SP          |\n",
       "| 4           | solteiro    | Médio       | NA          |  2500       | 30          | 10          | RS          |\n",
       "| 5           | solteiro    | Fundamental | NA          |  2000       | 40          |  7          | SC          |\n",
       "| 6           | casado      | Fundamental |  1          |  2600       | 28          |  0          | SP          |\n",
       "\n"
      ],
      "text/plain": [
       "  Id Estado.civil Grau.Instrução Qtde.Filhos Salário Anos anos_trabalho UF\n",
       "1 1  solteiro     Fundamental    NA           1100   26    3            MG\n",
       "2 2  casado       Doutorado       1          13000   32    7            RJ\n",
       "3 3  casado       Fundamental     2           1100   36    5            SP\n",
       "4 4  solteiro     Médio          NA           2500   30   10            RS\n",
       "5 5  solteiro     Fundamental    NA           2000   40    7            SC\n",
       "6 6  casado       Fundamental     1           2600   28    0            SP"
      ]
     },
     "metadata": {},
     "output_type": "display_data"
    }
   ],
   "source": [
    "head(dados_cliente)"
   ]
  },
  {
   "cell_type": "code",
   "execution_count": 4,
   "metadata": {},
   "outputs": [
    {
     "name": "stdout",
     "output_type": "stream",
     "text": [
      "'data.frame':\t36 obs. of  8 variables:\n",
      " $ Id            : int  1 2 3 4 5 6 7 8 9 10 ...\n",
      " $ Estado.civil  : Factor w/ 2 levels \"casado\",\"solteiro\": 2 1 1 2 2 1 2 2 1 2 ...\n",
      " $ Grau.Instrução: Factor w/ 5 levels \"Doutorado\",\"Fundamental\",..: 2 1 2 3 2 2 2 2 3 1 ...\n",
      " $ Qtde.Filhos   : int  NA 1 2 NA NA 1 NA NA 1 NA ...\n",
      " $ Salário       : int  1100 13000 1100 2500 2000 2600 1700 1900 759 15710 ...\n",
      " $ Anos          : int  26 32 36 30 40 28 41 19 44 23 ...\n",
      " $ anos_trabalho : int  3 7 5 10 7 0 0 4 10 6 ...\n",
      " $ UF            : Factor w/ 12 levels \"AM\",\"BA\",\"CE\",..: 4 8 12 10 11 12 4 11 12 8 ...\n"
     ]
    }
   ],
   "source": [
    "# Descrever a estrutura dos dados\n",
    "\n",
    "str(dados_cliente)"
   ]
  },
  {
   "cell_type": "code",
   "execution_count": 5,
   "metadata": {},
   "outputs": [
    {
     "data": {
      "text/html": [
       "<table>\n",
       "<thead><tr><th></th><th scope=col>Id</th><th scope=col>Estado.civil</th><th scope=col>Grau.Instrução</th><th scope=col>Qtde.Filhos</th><th scope=col>Salário</th><th scope=col>Anos</th><th scope=col>anos_trabalho</th><th scope=col>UF</th></tr></thead>\n",
       "<tbody>\n",
       "\t<tr><th scope=row>31</th><td>31      </td><td>solteiro</td><td>Superior</td><td>NA      </td><td>16000   </td><td>31      </td><td> 5      </td><td>PA      </td></tr>\n",
       "\t<tr><th scope=row>32</th><td>32      </td><td>casado  </td><td>Médio   </td><td> 1      </td><td> 6000   </td><td>36      </td><td> 4      </td><td>MG      </td></tr>\n",
       "\t<tr><th scope=row>33</th><td>33      </td><td>casado  </td><td>Superior</td><td> 3      </td><td> 9000   </td><td>43      </td><td> 7      </td><td>SP      </td></tr>\n",
       "\t<tr><th scope=row>34</th><td>34      </td><td>solteiro</td><td>Superior</td><td>NA      </td><td> 8700   </td><td>33      </td><td> 7      </td><td>SP      </td></tr>\n",
       "\t<tr><th scope=row>35</th><td>35      </td><td>casado  </td><td>Médio   </td><td> 2      </td><td> 1940   </td><td>48      </td><td>11      </td><td>MG      </td></tr>\n",
       "\t<tr><th scope=row>36</th><td>36      </td><td>casado  </td><td>Superior</td><td> 3      </td><td> 2330   </td><td>42      </td><td> 2      </td><td>SP      </td></tr>\n",
       "</tbody>\n",
       "</table>\n"
      ],
      "text/latex": [
       "\\begin{tabular}{r|llllllll}\n",
       "  & Id & Estado.civil & Grau.Instrução & Qtde.Filhos & Salário & Anos & anos\\_trabalho & UF\\\\\n",
       "\\hline\n",
       "\t31 & 31       & solteiro & Superior & NA       & 16000    & 31       &  5       & PA      \\\\\n",
       "\t32 & 32       & casado   & Médio    &  1       &  6000    & 36       &  4       & MG      \\\\\n",
       "\t33 & 33       & casado   & Superior &  3       &  9000    & 43       &  7       & SP      \\\\\n",
       "\t34 & 34       & solteiro & Superior & NA       &  8700    & 33       &  7       & SP      \\\\\n",
       "\t35 & 35       & casado   & Médio    &  2       &  1940    & 48       & 11       & MG      \\\\\n",
       "\t36 & 36       & casado   & Superior &  3       &  2330    & 42       &  2       & SP      \\\\\n",
       "\\end{tabular}\n"
      ],
      "text/markdown": [
       "\n",
       "| <!--/--> | Id | Estado.civil | Grau.Instrução | Qtde.Filhos | Salário | Anos | anos_trabalho | UF |\n",
       "|---|---|---|---|---|---|---|---|---|\n",
       "| 31 | 31       | solteiro | Superior | NA       | 16000    | 31       |  5       | PA       |\n",
       "| 32 | 32       | casado   | Médio    |  1       |  6000    | 36       |  4       | MG       |\n",
       "| 33 | 33       | casado   | Superior |  3       |  9000    | 43       |  7       | SP       |\n",
       "| 34 | 34       | solteiro | Superior | NA       |  8700    | 33       |  7       | SP       |\n",
       "| 35 | 35       | casado   | Médio    |  2       |  1940    | 48       | 11       | MG       |\n",
       "| 36 | 36       | casado   | Superior |  3       |  2330    | 42       |  2       | SP       |\n",
       "\n"
      ],
      "text/plain": [
       "   Id Estado.civil Grau.Instrução Qtde.Filhos Salário Anos anos_trabalho UF\n",
       "31 31 solteiro     Superior       NA          16000   31    5            PA\n",
       "32 32 casado       Médio           1           6000   36    4            MG\n",
       "33 33 casado       Superior        3           9000   43    7            SP\n",
       "34 34 solteiro     Superior       NA           8700   33    7            SP\n",
       "35 35 casado       Médio           2           1940   48   11            MG\n",
       "36 36 casado       Superior        3           2330   42    2            SP"
      ]
     },
     "metadata": {},
     "output_type": "display_data"
    }
   ],
   "source": [
    "tail(dados_cliente)"
   ]
  },
  {
   "cell_type": "code",
   "execution_count": 6,
   "metadata": {},
   "outputs": [
    {
     "data": {
      "text/html": [
       "<ol class=list-inline>\n",
       "\t<li>'Doutorado'</li>\n",
       "\t<li>'Fundamental'</li>\n",
       "\t<li>'Médio'</li>\n",
       "\t<li>'Mestrado'</li>\n",
       "\t<li>'Superior'</li>\n",
       "</ol>\n"
      ],
      "text/latex": [
       "\\begin{enumerate*}\n",
       "\\item 'Doutorado'\n",
       "\\item 'Fundamental'\n",
       "\\item 'Médio'\n",
       "\\item 'Mestrado'\n",
       "\\item 'Superior'\n",
       "\\end{enumerate*}\n"
      ],
      "text/markdown": [
       "1. 'Doutorado'\n",
       "2. 'Fundamental'\n",
       "3. 'Médio'\n",
       "4. 'Mestrado'\n",
       "5. 'Superior'\n",
       "\n",
       "\n"
      ],
      "text/plain": [
       "[1] \"Doutorado\"   \"Fundamental\" \"Médio\"       \"Mestrado\"    \"Superior\"   "
      ]
     },
     "metadata": {},
     "output_type": "display_data"
    }
   ],
   "source": [
    "# Definimos que a variável Grau.Instrução deve ser tratada como ordinal\n",
    "\n",
    "levels(dados_cliente$Grau.Instrução)"
   ]
  },
  {
   "cell_type": "markdown",
   "metadata": {},
   "source": [
    "## Análise univariada de variáveis qualitativas nominais"
   ]
  },
  {
   "cell_type": "markdown",
   "metadata": {},
   "source": [
    "Exemplo: Estado.civil, UF"
   ]
  },
  {
   "cell_type": "markdown",
   "metadata": {},
   "source": [
    "### Tabela de frequências: Estado Civil"
   ]
  },
  {
   "cell_type": "code",
   "execution_count": 7,
   "metadata": {},
   "outputs": [
    {
     "data": {
      "text/plain": [
       "\n",
       "  casado solteiro \n",
       "      20       16 "
      ]
     },
     "metadata": {},
     "output_type": "display_data"
    }
   ],
   "source": [
    "# Frequência absoluta\n",
    "\n",
    "fa <- table(dados_cliente$Estado.civil)\n",
    "fa"
   ]
  },
  {
   "cell_type": "code",
   "execution_count": 8,
   "metadata": {},
   "outputs": [
    {
     "data": {
      "text/plain": [
       "\n",
       "   casado  solteiro \n",
       "0.5555556 0.4444444 "
      ]
     },
     "metadata": {},
     "output_type": "display_data"
    }
   ],
   "source": [
    "# Frequência relativa\n",
    "\n",
    "fr1 <- fa/length(dados_cliente$Estado.civil)\n",
    "fr1"
   ]
  },
  {
   "cell_type": "code",
   "execution_count": 9,
   "metadata": {},
   "outputs": [
    {
     "data": {
      "text/plain": [
       "\n",
       "   casado  solteiro \n",
       "0.5555556 0.4444444 "
      ]
     },
     "metadata": {},
     "output_type": "display_data"
    }
   ],
   "source": [
    "# Frequência relativa\n",
    "\n",
    "fr2 <- prop.table(fa)\n",
    "fr2"
   ]
  },
  {
   "cell_type": "code",
   "execution_count": 10,
   "metadata": {},
   "outputs": [
    {
     "data": {
      "text/plain": [
       "\n",
       "  casado solteiro \n",
       "55.55556 44.44444 "
      ]
     },
     "metadata": {},
     "output_type": "display_data"
    }
   ],
   "source": [
    "# Frequência percentual\n",
    "\n",
    "fpct <- prop.table(fa)*100\n",
    "fpct\n"
   ]
  },
  {
   "cell_type": "code",
   "execution_count": 11,
   "metadata": {},
   "outputs": [
    {
     "data": {
      "text/plain": [
       "\n",
       "  casado solteiro \n",
       "   55.56    44.44 "
      ]
     },
     "metadata": {},
     "output_type": "display_data"
    }
   ],
   "source": [
    "round(fpct,digit=2)"
   ]
  },
  {
   "cell_type": "code",
   "execution_count": 12,
   "metadata": {},
   "outputs": [
    {
     "data": {
      "text/html": [
       "'casado'"
      ],
      "text/latex": [
       "'casado'"
      ],
      "text/markdown": [
       "'casado'"
      ],
      "text/plain": [
       "[1] \"casado\""
      ]
     },
     "metadata": {},
     "output_type": "display_data"
    }
   ],
   "source": [
    "# Moda\n",
    "names(fa)[which.max(fa)]"
   ]
  },
  {
   "cell_type": "markdown",
   "metadata": {},
   "source": [
    "### Visualização de dados: Estado civil"
   ]
  },
  {
   "cell_type": "code",
   "execution_count": 13,
   "metadata": {},
   "outputs": [
    {
     "data": {
      "image/png": "[encoded data removed]",
      "text/plain": [
       "Plot with title \"Frequência absoluta\""
      ]
     },
     "metadata": {},
     "output_type": "display_data"
    }
   ],
   "source": [
    "barplot(fa,main = \"Frequência absoluta\",xlab = \"Estado Civil\",ylab = \"Quantidade\")"
   ]
  },
  {
   "cell_type": "code",
   "execution_count": 14,
   "metadata": {},
   "outputs": [
    {
     "data": {
      "image/png": "[encoded data removed]",
      "text/plain": [
       "Plot with title \"Frequência relativa percentual\""
      ]
     },
     "metadata": {},
     "output_type": "display_data"
    }
   ],
   "source": [
    "pie(main = \"Frequência relativa percentual\",fpct,labels=as.character(round(fpct,digits = 2)))"
   ]
  },
  {
   "cell_type": "markdown",
   "metadata": {},
   "source": [
    "## Análise univariada de variáveis qualitativas ordinal"
   ]
  },
  {
   "cell_type": "code",
   "execution_count": 35,
   "metadata": {},
   "outputs": [
    {
     "data": {
      "text/plain": [
       "\n",
       "  Doutorado Fundamental       Médio    Mestrado    Superior \n",
       "          3          11          13           2           7 "
      ]
     },
     "metadata": {},
     "output_type": "display_data"
    },
    {
     "data": {
      "text/plain": [
       "\n",
       "  Doutorado Fundamental       Médio    Mestrado    Superior \n",
       " 0.08333333  0.30555556  0.36111111  0.05555556  0.19444444 "
      ]
     },
     "metadata": {},
     "output_type": "display_data"
    },
    {
     "data": {
      "text/plain": [
       "\n",
       "  Doutorado Fundamental       Médio    Mestrado    Superior \n",
       "   8.333333   30.555556   36.111111    5.555556   19.444444 "
      ]
     },
     "metadata": {},
     "output_type": "display_data"
    }
   ],
   "source": [
    "# Frequência absoluta\n",
    "\n",
    "fa <- table(dados_cliente$Grau.Instrução)\n",
    "fa\n",
    "# Frequência relativa\n",
    "\n",
    "fr <- prop.table(fa)\n",
    "fr\n",
    "\n",
    "# Frequência percentual\n",
    "\n",
    "fpct <- prop.table(fa)*100\n",
    "fpct"
   ]
  },
  {
   "cell_type": "code",
   "execution_count": 36,
   "metadata": {},
   "outputs": [
    {
     "data": {
      "text/html": [
       "'Médio'"
      ],
      "text/latex": [
       "'Médio'"
      ],
      "text/markdown": [
       "'Médio'"
      ],
      "text/plain": [
       "[1] \"Médio\""
      ]
     },
     "metadata": {},
     "output_type": "display_data"
    }
   ],
   "source": [
    "# Moda\n",
    "names(fa)[which.max(fa)]"
   ]
  },
  {
   "cell_type": "code",
   "execution_count": 37,
   "metadata": {
    "scrolled": true
   },
   "outputs": [
    {
     "data": {
      "image/png": "[encoded data removed]",
      "text/plain": [
       "Plot with title \"Frequência relativa\""
      ]
     },
     "metadata": {},
     "output_type": "display_data"
    }
   ],
   "source": [
    "barplot(sort(fr),main = \"Frequência relativa\",xlab = \"Valor\",ylab = \"Grau de Instrução\",col = \"darkred\",horiz = TRUE)"
   ]
  },
  {
   "cell_type": "code",
   "execution_count": 38,
   "metadata": {
    "scrolled": true
   },
   "outputs": [
    {
     "data": {
      "image/png": "[encoded data removed]",
      "text/plain": [
       "Plot with title \"Frequência absoluta\""
      ]
     },
     "metadata": {},
     "output_type": "display_data"
    }
   ],
   "source": [
    "barplot(sort(fa),main = \"Frequência absoluta\",ylab = \"Qtde\",xlab = \"Grau de Instrução\")"
   ]
  },
  {
   "cell_type": "code",
   "execution_count": 40,
   "metadata": {
    "scrolled": true
   },
   "outputs": [
    {
     "data": {
      "image/png": "[encoded data removed]",
      "text/plain": [
       "Plot with title \"Frequência absoluta\""
      ]
     },
     "metadata": {},
     "output_type": "display_data"
    }
   ],
   "source": [
    "barplot(fa,main = \"Frequência absoluta\",ylab = \"Qtde\",xlab = \"Grau de Instrução\")"
   ]
  },
  {
   "cell_type": "code",
   "execution_count": 41,
   "metadata": {},
   "outputs": [
    {
     "data": {
      "text/html": [
       "<ol class=list-inline>\n",
       "\t<li>'Doutorado'</li>\n",
       "\t<li>'Fundamental'</li>\n",
       "\t<li>'Médio'</li>\n",
       "\t<li>'Mestrado'</li>\n",
       "\t<li>'Superior'</li>\n",
       "</ol>\n"
      ],
      "text/latex": [
       "\\begin{enumerate*}\n",
       "\\item 'Doutorado'\n",
       "\\item 'Fundamental'\n",
       "\\item 'Médio'\n",
       "\\item 'Mestrado'\n",
       "\\item 'Superior'\n",
       "\\end{enumerate*}\n"
      ],
      "text/markdown": [
       "1. 'Doutorado'\n",
       "2. 'Fundamental'\n",
       "3. 'Médio'\n",
       "4. 'Mestrado'\n",
       "5. 'Superior'\n",
       "\n",
       "\n"
      ],
      "text/plain": [
       "[1] \"Doutorado\"   \"Fundamental\" \"Médio\"       \"Mestrado\"    \"Superior\"   "
      ]
     },
     "metadata": {},
     "output_type": "display_data"
    }
   ],
   "source": [
    "levels(dados_cliente$Grau.Instrução)"
   ]
  },
  {
   "cell_type": "code",
   "execution_count": 42,
   "metadata": {},
   "outputs": [],
   "source": [
    "dados_cliente$Grau.Instrução <- factor(dados_cliente$Grau.Instrução,levels = c('Fundamental','Médio','Superior','Mestrado','Doutorado'))"
   ]
  },
  {
   "cell_type": "code",
   "execution_count": 43,
   "metadata": {},
   "outputs": [],
   "source": [
    "fa <- table(dados_cliente$Grau.Instrução)"
   ]
  },
  {
   "cell_type": "code",
   "execution_count": 44,
   "metadata": {},
   "outputs": [
    {
     "data": {
      "image/png": "[encoded data removed]",
      "text/plain": [
       "Plot with title \"Frequência absoluta\""
      ]
     },
     "metadata": {},
     "output_type": "display_data"
    }
   ],
   "source": [
    "barplot(fa,main = \"Frequência absoluta\",ylab = \"Qtde\",xlab = \"Grau de Instrução\")"
   ]
  },
  {
   "cell_type": "code",
   "execution_count": null,
   "metadata": {},
   "outputs": [],
   "source": []
  },
  {
   "cell_type": "markdown",
   "metadata": {},
   "source": [
    "## Análise univariada de variáveis quantitativas discreta"
   ]
  },
  {
   "cell_type": "code",
   "execution_count": 45,
   "metadata": {},
   "outputs": [
    {
     "data": {
      "text/html": [
       "<table>\n",
       "<thead><tr><th scope=col>Id</th><th scope=col>Estado.civil</th><th scope=col>Grau.Instrução</th><th scope=col>Qtde.Filhos</th><th scope=col>Salário</th><th scope=col>Anos</th><th scope=col>anos_trabalho</th><th scope=col>UF</th></tr></thead>\n",
       "<tbody>\n",
       "\t<tr><td>1          </td><td>solteiro   </td><td>Fundamental</td><td>NA         </td><td> 1100      </td><td>26         </td><td>3          </td><td>MG         </td></tr>\n",
       "\t<tr><td>2          </td><td>casado     </td><td>Doutorado  </td><td> 1         </td><td>13000      </td><td>32         </td><td>7          </td><td>RJ         </td></tr>\n",
       "</tbody>\n",
       "</table>\n"
      ],
      "text/latex": [
       "\\begin{tabular}{r|llllllll}\n",
       " Id & Estado.civil & Grau.Instrução & Qtde.Filhos & Salário & Anos & anos\\_trabalho & UF\\\\\n",
       "\\hline\n",
       "\t 1           & solteiro    & Fundamental & NA          &  1100       & 26          & 3           & MG         \\\\\n",
       "\t 2           & casado      & Doutorado   &  1          & 13000       & 32          & 7           & RJ         \\\\\n",
       "\\end{tabular}\n"
      ],
      "text/markdown": [
       "\n",
       "| Id | Estado.civil | Grau.Instrução | Qtde.Filhos | Salário | Anos | anos_trabalho | UF |\n",
       "|---|---|---|---|---|---|---|---|\n",
       "| 1           | solteiro    | Fundamental | NA          |  1100       | 26          | 3           | MG          |\n",
       "| 2           | casado      | Doutorado   |  1          | 13000       | 32          | 7           | RJ          |\n",
       "\n"
      ],
      "text/plain": [
       "  Id Estado.civil Grau.Instrução Qtde.Filhos Salário Anos anos_trabalho UF\n",
       "1 1  solteiro     Fundamental    NA           1100   26   3             MG\n",
       "2 2  casado       Doutorado       1          13000   32   7             RJ"
      ]
     },
     "metadata": {},
     "output_type": "display_data"
    }
   ],
   "source": [
    "head(dados_cliente,2)"
   ]
  },
  {
   "cell_type": "code",
   "execution_count": 46,
   "metadata": {},
   "outputs": [
    {
     "name": "stdout",
     "output_type": "stream",
     "text": [
      "[1] \"Frequência absoluta:\"\n"
     ]
    },
    {
     "data": {
      "text/plain": [
       "\n",
       "0 1 2 3 5 \n",
       "3 6 7 3 1 "
      ]
     },
     "metadata": {},
     "output_type": "display_data"
    },
    {
     "name": "stdout",
     "output_type": "stream",
     "text": [
      "[1] \"Frequência relativa:\"\n"
     ]
    },
    {
     "data": {
      "text/plain": [
       "\n",
       "0 1 2 3 5 \n",
       "0 0 0 0 0 "
      ]
     },
     "metadata": {},
     "output_type": "display_data"
    },
    {
     "name": "stdout",
     "output_type": "stream",
     "text": [
      "[1] \"Frequência relativa percentual:\"\n"
     ]
    },
    {
     "data": {
      "text/plain": [
       "\n",
       " 0  1  2  3  5 \n",
       "15 30 35 15  5 "
      ]
     },
     "metadata": {},
     "output_type": "display_data"
    }
   ],
   "source": [
    "# Frequência absoluta\n",
    "\n",
    "fa <- table(dados_cliente$Qtde.Filhos)\n",
    "print('Frequência absoluta:')\n",
    "fa\n",
    "\n",
    "# Frequência relativa\n",
    "\n",
    "fr <- prop.table(fa)\n",
    "print('Frequência relativa:')\n",
    "round(fr,digit=0)\n",
    "\n",
    "# Frequência percentual\n",
    "\n",
    "fpct <- prop.table(fa)*100\n",
    "print('Frequência relativa percentual:')\n",
    "round(fpct,digit=0)"
   ]
  },
  {
   "cell_type": "markdown",
   "metadata": {},
   "source": [
    "#### Medidas de resumo"
   ]
  },
  {
   "cell_type": "code",
   "execution_count": 47,
   "metadata": {},
   "outputs": [
    {
     "name": "stdout",
     "output_type": "stream",
     "text": [
      "[1] \"Moda\"\n"
     ]
    },
    {
     "data": {
      "text/html": [
       "'2'"
      ],
      "text/latex": [
       "'2'"
      ],
      "text/markdown": [
       "'2'"
      ],
      "text/plain": [
       "[1] \"2\""
      ]
     },
     "metadata": {},
     "output_type": "display_data"
    },
    {
     "name": "stdout",
     "output_type": "stream",
     "text": [
      "[1] \"Mediana\"\n"
     ]
    },
    {
     "data": {
      "text/html": [
       "2"
      ],
      "text/latex": [
       "2"
      ],
      "text/markdown": [
       "2"
      ],
      "text/plain": [
       "[1] 2"
      ]
     },
     "metadata": {},
     "output_type": "display_data"
    },
    {
     "name": "stdout",
     "output_type": "stream",
     "text": [
      "[1] \"Media\"\n"
     ]
    },
    {
     "data": {
      "text/html": [
       "1.7"
      ],
      "text/latex": [
       "1.7"
      ],
      "text/markdown": [
       "1.7"
      ],
      "text/plain": [
       "[1] 1.7"
      ]
     },
     "metadata": {},
     "output_type": "display_data"
    }
   ],
   "source": [
    "# na.rm=TRUE --> Pq alguns valores são NA\n",
    "# Moda\n",
    "print(\"Moda\")\n",
    "names(fa)[which.max(fa)]\n",
    "\n",
    "# Mediana\n",
    "print(\"Mediana\")\n",
    "median(dados_cliente$Qtde.Filhos,na.rm=TRUE)\n",
    "\n",
    "#Média\n",
    "print(\"Media\")\n",
    "mean(dados_cliente$Qtde.Filhos,na.rm=TRUE)"
   ]
  },
  {
   "cell_type": "code",
   "execution_count": 48,
   "metadata": {},
   "outputs": [
    {
     "name": "stdout",
     "output_type": "stream",
     "text": [
      "[1] \"quartis\"\n"
     ]
    },
    {
     "data": {
      "text/html": [
       "<dl class=dl-horizontal>\n",
       "\t<dt>0%</dt>\n",
       "\t\t<dd>0</dd>\n",
       "\t<dt>25%</dt>\n",
       "\t\t<dd>1</dd>\n",
       "\t<dt>50%</dt>\n",
       "\t\t<dd>2</dd>\n",
       "\t<dt>75%</dt>\n",
       "\t\t<dd>2</dd>\n",
       "\t<dt>100%</dt>\n",
       "\t\t<dd>5</dd>\n",
       "</dl>\n"
      ],
      "text/latex": [
       "\\begin{description*}\n",
       "\\item[0\\textbackslash{}\\%] 0\n",
       "\\item[25\\textbackslash{}\\%] 1\n",
       "\\item[50\\textbackslash{}\\%] 2\n",
       "\\item[75\\textbackslash{}\\%] 2\n",
       "\\item[100\\textbackslash{}\\%] 5\n",
       "\\end{description*}\n"
      ],
      "text/markdown": [
       "0%\n",
       ":   025%\n",
       ":   150%\n",
       ":   275%\n",
       ":   2100%\n",
       ":   5\n",
       "\n"
      ],
      "text/plain": [
       "  0%  25%  50%  75% 100% \n",
       "   0    1    2    2    5 "
      ]
     },
     "metadata": {},
     "output_type": "display_data"
    },
    {
     "name": "stdout",
     "output_type": "stream",
     "text": [
      "[1] \"min\"\n"
     ]
    },
    {
     "data": {
      "text/html": [
       "0"
      ],
      "text/latex": [
       "0"
      ],
      "text/markdown": [
       "0"
      ],
      "text/plain": [
       "[1] 0"
      ]
     },
     "metadata": {},
     "output_type": "display_data"
    },
    {
     "name": "stdout",
     "output_type": "stream",
     "text": [
      "[1] \"max\"\n"
     ]
    },
    {
     "data": {
      "text/html": [
       "5"
      ],
      "text/latex": [
       "5"
      ],
      "text/markdown": [
       "5"
      ],
      "text/plain": [
       "[1] 5"
      ]
     },
     "metadata": {},
     "output_type": "display_data"
    }
   ],
   "source": [
    "#Quartis\n",
    "print(\"quartis\")\n",
    "quantile(dados_cliente$Qtde.Filhos,na.rm=TRUE)\n",
    "#min\n",
    "print(\"min\")\n",
    "min(dados_cliente$Qtde.Filhos,na.rm=TRUE)\n",
    "#max\n",
    "print(\"max\")\n",
    "max(dados_cliente$Qtde.Filhos,na.rm=TRUE)"
   ]
  },
  {
   "cell_type": "code",
   "execution_count": 49,
   "metadata": {},
   "outputs": [
    {
     "name": "stdout",
     "output_type": "stream",
     "text": [
      "[1] \"Amplitude\"\n"
     ]
    },
    {
     "data": {
      "text/html": [
       "5"
      ],
      "text/latex": [
       "5"
      ],
      "text/markdown": [
       "5"
      ],
      "text/plain": [
       "[1] 5"
      ]
     },
     "metadata": {},
     "output_type": "display_data"
    },
    {
     "name": "stdout",
     "output_type": "stream",
     "text": [
      "[1] \"Variancia\"\n"
     ]
    },
    {
     "data": {
      "text/html": [
       "1.48421052631579"
      ],
      "text/latex": [
       "1.48421052631579"
      ],
      "text/markdown": [
       "1.48421052631579"
      ],
      "text/plain": [
       "[1] 1.484211"
      ]
     },
     "metadata": {},
     "output_type": "display_data"
    },
    {
     "name": "stdout",
     "output_type": "stream",
     "text": [
      "[1] \"Desvio-padrão\"\n"
     ]
    },
    {
     "data": {
      "text/html": [
       "1.21828179265546"
      ],
      "text/latex": [
       "1.21828179265546"
      ],
      "text/markdown": [
       "1.21828179265546"
      ],
      "text/plain": [
       "[1] 1.218282"
      ]
     },
     "metadata": {},
     "output_type": "display_data"
    },
    {
     "name": "stdout",
     "output_type": "stream",
     "text": [
      "[1] \"Coeficiênte de variação\"\n"
     ]
    },
    {
     "data": {
      "text/html": [
       "0.716636348620856"
      ],
      "text/latex": [
       "0.716636348620856"
      ],
      "text/markdown": [
       "0.716636348620856"
      ],
      "text/plain": [
       "[1] 0.7166363"
      ]
     },
     "metadata": {},
     "output_type": "display_data"
    }
   ],
   "source": [
    "# Amplitude (max-min)\n",
    "print(\"Amplitude\")\n",
    "diff(range(dados_cliente$Qtde.Filhos,na.rm=TRUE))\n",
    "\n",
    "# Variancia\n",
    "print(\"Variancia\")\n",
    "var(dados_cliente$Qtde.Filhos,na.rm=TRUE)\n",
    "\n",
    "# Desvio-padrão\n",
    "print(\"Desvio-padrão\")\n",
    "sd(dados_cliente$Qtde.Filhos,na.rm=TRUE)\n",
    "\n",
    "# Coeficiênte de variação\n",
    "print(\"Coeficiênte de variação\")\n",
    "sd(dados_cliente$Qtde.Filhos,na.rm=TRUE)/mean(dados_cliente$Qtde.Filhos,na.rm=TRUE)"
   ]
  },
  {
   "cell_type": "code",
   "execution_count": 50,
   "metadata": {},
   "outputs": [
    {
     "name": "stdout",
     "output_type": "stream",
     "text": [
      "[1] \"Amplitude interquartilica\"\n"
     ]
    },
    {
     "data": {
      "text/html": [
       "<strong>75%:</strong> 1"
      ],
      "text/latex": [
       "\\textbf{75\\textbackslash{}\\%:} 1"
      ],
      "text/markdown": [
       "**75%:** 1"
      ],
      "text/plain": [
       "75% \n",
       "  1 "
      ]
     },
     "metadata": {},
     "output_type": "display_data"
    }
   ],
   "source": [
    "quartis <- quantile(dados_cliente$Qtde.Filhos,na.rm=TRUE)\n",
    "# Amplitude interquartilica\n",
    "print(\"Amplitude interquartilica\")\n",
    "quartis[4]-quartis[2]"
   ]
  },
  {
   "cell_type": "code",
   "execution_count": 51,
   "metadata": {},
   "outputs": [
    {
     "data": {
      "text/plain": [
       "   Min. 1st Qu.  Median    Mean 3rd Qu.    Max.    NA's \n",
       "    0.0     1.0     2.0     1.7     2.0     5.0      16 "
      ]
     },
     "metadata": {},
     "output_type": "display_data"
    }
   ],
   "source": [
    "#Resumo\n",
    "summary(dados_cliente$Qtde.Filhos)"
   ]
  },
  {
   "cell_type": "code",
   "execution_count": 52,
   "metadata": {},
   "outputs": [
    {
     "data": {
      "text/html": [
       "<dl class=dl-horizontal>\n",
       "\t<dt>0</dt>\n",
       "\t\t<dd>3</dd>\n",
       "\t<dt>1</dt>\n",
       "\t\t<dd>9</dd>\n",
       "\t<dt>2</dt>\n",
       "\t\t<dd>16</dd>\n",
       "\t<dt>3</dt>\n",
       "\t\t<dd>19</dd>\n",
       "\t<dt>5</dt>\n",
       "\t\t<dd>20</dd>\n",
       "</dl>\n"
      ],
      "text/latex": [
       "\\begin{description*}\n",
       "\\item[0] 3\n",
       "\\item[1] 9\n",
       "\\item[2] 16\n",
       "\\item[3] 19\n",
       "\\item[5] 20\n",
       "\\end{description*}\n"
      ],
      "text/markdown": [
       "0\n",
       ":   31\n",
       ":   92\n",
       ":   163\n",
       ":   195\n",
       ":   20\n",
       "\n"
      ],
      "text/plain": [
       " 0  1  2  3  5 \n",
       " 3  9 16 19 20 "
      ]
     },
     "metadata": {},
     "output_type": "display_data"
    }
   ],
   "source": [
    "# Frequência absoluta acumulada\n",
    "\n",
    "faa <- cumsum(fa)\n",
    "faa"
   ]
  },
  {
   "cell_type": "code",
   "execution_count": 53,
   "metadata": {},
   "outputs": [
    {
     "data": {
      "text/plain": [
       "\n",
       "0 1 2 3 5 \n",
       "3 6 7 3 1 "
      ]
     },
     "metadata": {},
     "output_type": "display_data"
    }
   ],
   "source": [
    "fa"
   ]
  },
  {
   "cell_type": "code",
   "execution_count": 54,
   "metadata": {},
   "outputs": [
    {
     "data": {
      "image/png": "[encoded data removed]",
      "text/plain": [
       "Plot with title \"Frequência absoluta\""
      ]
     },
     "metadata": {},
     "output_type": "display_data"
    }
   ],
   "source": [
    "plot(fa,main = \"Frequência absoluta\",ylab = \"Frequência\",xlab = \"Qtde. de Filhos\")"
   ]
  },
  {
   "cell_type": "code",
   "execution_count": 55,
   "metadata": {},
   "outputs": [
    {
     "data": {
      "image/png": "[encoded data removed]",
      "text/plain": [
       "Plot with title \"Frequência absoluta acumulada\""
      ]
     },
     "metadata": {},
     "output_type": "display_data"
    }
   ],
   "source": [
    "plot(faa,main = \"Frequência absoluta acumulada\",ylab = \"Frequência\",xlab = \"Qtde. de Filhos\",type=\"S\")"
   ]
  },
  {
   "cell_type": "markdown",
   "metadata": {},
   "source": [
    "## Análise univariada de variáveis quantitativas contínua"
   ]
  },
  {
   "cell_type": "code",
   "execution_count": 56,
   "metadata": {},
   "outputs": [
    {
     "data": {
      "text/html": [
       "<table>\n",
       "<thead><tr><th scope=col>Id</th><th scope=col>Estado.civil</th><th scope=col>Grau.Instrução</th><th scope=col>Qtde.Filhos</th><th scope=col>Salário</th><th scope=col>Anos</th><th scope=col>anos_trabalho</th><th scope=col>UF</th></tr></thead>\n",
       "<tbody>\n",
       "\t<tr><td>1          </td><td>solteiro   </td><td>Fundamental</td><td>NA         </td><td> 1100      </td><td>26         </td><td>3          </td><td>MG         </td></tr>\n",
       "\t<tr><td>2          </td><td>casado     </td><td>Doutorado  </td><td> 1         </td><td>13000      </td><td>32         </td><td>7          </td><td>RJ         </td></tr>\n",
       "</tbody>\n",
       "</table>\n"
      ],
      "text/latex": [
       "\\begin{tabular}{r|llllllll}\n",
       " Id & Estado.civil & Grau.Instrução & Qtde.Filhos & Salário & Anos & anos\\_trabalho & UF\\\\\n",
       "\\hline\n",
       "\t 1           & solteiro    & Fundamental & NA          &  1100       & 26          & 3           & MG         \\\\\n",
       "\t 2           & casado      & Doutorado   &  1          & 13000       & 32          & 7           & RJ         \\\\\n",
       "\\end{tabular}\n"
      ],
      "text/markdown": [
       "\n",
       "| Id | Estado.civil | Grau.Instrução | Qtde.Filhos | Salário | Anos | anos_trabalho | UF |\n",
       "|---|---|---|---|---|---|---|---|\n",
       "| 1           | solteiro    | Fundamental | NA          |  1100       | 26          | 3           | MG          |\n",
       "| 2           | casado      | Doutorado   |  1          | 13000       | 32          | 7           | RJ          |\n",
       "\n"
      ],
      "text/plain": [
       "  Id Estado.civil Grau.Instrução Qtde.Filhos Salário Anos anos_trabalho UF\n",
       "1 1  solteiro     Fundamental    NA           1100   26   3             MG\n",
       "2 2  casado       Doutorado       1          13000   32   7             RJ"
      ]
     },
     "metadata": {},
     "output_type": "display_data"
    }
   ],
   "source": [
    "head(dados_cliente,2)"
   ]
  },
  {
   "cell_type": "markdown",
   "metadata": {},
   "source": [
    "#### Medidas de resumo"
   ]
  },
  {
   "cell_type": "code",
   "execution_count": 57,
   "metadata": {},
   "outputs": [
    {
     "data": {
      "text/plain": [
       "   Min. 1st Qu.  Median    Mean 3rd Qu.    Max. \n",
       "    147    1146    2165    4176    4095   16000 "
      ]
     },
     "metadata": {},
     "output_type": "display_data"
    }
   ],
   "source": [
    "summary(dados_cliente$Salário)"
   ]
  },
  {
   "cell_type": "code",
   "execution_count": 58,
   "metadata": {},
   "outputs": [
    {
     "data": {
      "text/html": [
       "<ol class=list-inline>\n",
       "\t<li>147</li>\n",
       "\t<li>16000</li>\n",
       "</ol>\n"
      ],
      "text/latex": [
       "\\begin{enumerate*}\n",
       "\\item 147\n",
       "\\item 16000\n",
       "\\end{enumerate*}\n"
      ],
      "text/markdown": [
       "1. 147\n",
       "2. 16000\n",
       "\n",
       "\n"
      ],
      "text/plain": [
       "[1]   147 16000"
      ]
     },
     "metadata": {},
     "output_type": "display_data"
    }
   ],
   "source": [
    "# Min e Max\n",
    "range(dados_cliente$Salário)"
   ]
  },
  {
   "cell_type": "code",
   "execution_count": 59,
   "metadata": {},
   "outputs": [],
   "source": [
    "#min\n",
    "min <- min(dados_cliente$Salário,na.rm=TRUE)\n",
    "#max\n",
    "max <- max(dados_cliente$Salário,na.rm=TRUE)"
   ]
  },
  {
   "cell_type": "code",
   "execution_count": 60,
   "metadata": {},
   "outputs": [
    {
     "data": {
      "text/html": [
       "7"
      ],
      "text/latex": [
       "7"
      ],
      "text/markdown": [
       "7"
      ],
      "text/plain": [
       "[1] 7"
      ]
     },
     "metadata": {},
     "output_type": "display_data"
    }
   ],
   "source": [
    "#Qtde de classes\n",
    "nclass.Sturges(dados_cliente$Salário)\n"
   ]
  },
  {
   "cell_type": "code",
   "execution_count": 66,
   "metadata": {},
   "outputs": [
    {
     "name": "stdout",
     "output_type": "stream",
     "text": [
      " [1] (147,2.41e+03]      (1.15e+04,1.37e+04] (147,2.41e+03]     \n",
      " [4] (2.41e+03,4.68e+03] (147,2.41e+03]      (2.41e+03,4.68e+03]\n",
      " [7] (147,2.41e+03]      (147,2.41e+03]      (147,2.41e+03]     \n",
      "[10] (1.37e+04,1.6e+04]  (2.41e+03,4.68e+03] (147,2.41e+03]     \n",
      "[13] (147,2.41e+03]      (147,2.41e+03]      (2.41e+03,4.68e+03]\n",
      "[16] (147,2.41e+03]      (2.41e+03,4.68e+03] (147,2.41e+03]     \n",
      "[19] (147,2.41e+03]      (147,2.41e+03]      (147,2.41e+03]     \n",
      "[22] (147,2.41e+03]      (147,2.41e+03]      (4.68e+03,6.94e+03]\n",
      "[25] (2.41e+03,4.68e+03] (1.15e+04,1.37e+04] (147,2.41e+03]     \n",
      "[28] (2.41e+03,4.68e+03] <NA>                (1.37e+04,1.6e+04] \n",
      "[31] (1.37e+04,1.6e+04]  (4.68e+03,6.94e+03] (6.94e+03,9.21e+03]\n",
      "[34] (6.94e+03,9.21e+03] (147,2.41e+03]      (147,2.41e+03]     \n",
      "7 Levels: (147,2.41e+03] (2.41e+03,4.68e+03] ... (1.37e+04,1.6e+04]\n"
     ]
    }
   ],
   "source": [
    "# Agrupar\n",
    "print(cut(dados_cliente$Salário,breaks=seq(min,max,length.out=8)))"
   ]
  },
  {
   "cell_type": "code",
   "execution_count": 64,
   "metadata": {},
   "outputs": [],
   "source": [
    "# Agrupar\n",
    "grupos <- cut(dados_cliente$Salário,breaks=seq(min,max,length.out=8))"
   ]
  },
  {
   "cell_type": "code",
   "execution_count": 65,
   "metadata": {},
   "outputs": [
    {
     "name": "stdout",
     "output_type": "stream",
     "text": [
      " [1] (147,2.41e+03]      (1.15e+04,1.37e+04] (147,2.41e+03]     \n",
      " [4] (2.41e+03,4.68e+03] (147,2.41e+03]      (2.41e+03,4.68e+03]\n",
      " [7] (147,2.41e+03]      (147,2.41e+03]      (147,2.41e+03]     \n",
      "[10] (1.37e+04,1.6e+04]  (2.41e+03,4.68e+03] (147,2.41e+03]     \n",
      "[13] (147,2.41e+03]      (147,2.41e+03]      (2.41e+03,4.68e+03]\n",
      "[16] (147,2.41e+03]      (2.41e+03,4.68e+03] (147,2.41e+03]     \n",
      "[19] (147,2.41e+03]      (147,2.41e+03]      (147,2.41e+03]     \n",
      "[22] (147,2.41e+03]      (147,2.41e+03]      (4.68e+03,6.94e+03]\n",
      "[25] (2.41e+03,4.68e+03] (1.15e+04,1.37e+04] (147,2.41e+03]     \n",
      "[28] (2.41e+03,4.68e+03] <NA>                (1.37e+04,1.6e+04] \n",
      "[31] (1.37e+04,1.6e+04]  (4.68e+03,6.94e+03] (6.94e+03,9.21e+03]\n",
      "[34] (6.94e+03,9.21e+03] (147,2.41e+03]      (147,2.41e+03]     \n",
      "7 Levels: (147,2.41e+03] (2.41e+03,4.68e+03] ... (1.37e+04,1.6e+04]\n"
     ]
    }
   ],
   "source": [
    "print(grupos)"
   ]
  },
  {
   "cell_type": "code",
   "execution_count": 67,
   "metadata": {},
   "outputs": [
    {
     "name": "stdout",
     "output_type": "stream",
     "text": [
      "[1] \"Frequência absoluta:\"\n"
     ]
    },
    {
     "data": {
      "text/plain": [
       "grupos\n",
       "     (147,2.41e+03] (2.41e+03,4.68e+03] (4.68e+03,6.94e+03] (6.94e+03,9.21e+03] \n",
       "                 19                   7                   2                   2 \n",
       "(9.21e+03,1.15e+04] (1.15e+04,1.37e+04]  (1.37e+04,1.6e+04] \n",
       "                  0                   2                   3 "
      ]
     },
     "metadata": {},
     "output_type": "display_data"
    },
    {
     "name": "stdout",
     "output_type": "stream",
     "text": [
      "[1] \"Frequência relativa:\"\n"
     ]
    },
    {
     "data": {
      "text/plain": [
       "grupos\n",
       "     (147,2.41e+03] (2.41e+03,4.68e+03] (4.68e+03,6.94e+03] (6.94e+03,9.21e+03] \n",
       "                  1                   0                   0                   0 \n",
       "(9.21e+03,1.15e+04] (1.15e+04,1.37e+04]  (1.37e+04,1.6e+04] \n",
       "                  0                   0                   0 "
      ]
     },
     "metadata": {},
     "output_type": "display_data"
    }
   ],
   "source": [
    "# Frequência absoluta\n",
    "\n",
    "fa <- table(grupos)\n",
    "print('Frequência absoluta:')\n",
    "fa\n",
    "\n",
    "# Frequência relativa\n",
    "\n",
    "fr <- prop.table(fa)\n",
    "print('Frequência relativa:')\n",
    "round(fr,digit=0)"
   ]
  },
  {
   "cell_type": "code",
   "execution_count": 68,
   "metadata": {},
   "outputs": [
    {
     "data": {
      "image/png": "[encoded data removed]",
      "text/plain": [
       "Plot with title \" Histograma - Salário\""
      ]
     },
     "metadata": {},
     "output_type": "display_data"
    }
   ],
   "source": [
    "hist(dados_cliente$Salário,main=\" Histograma - Salário\",ylab = \"Frequência\",xlab = \"Valor salário\")"
   ]
  },
  {
   "cell_type": "code",
   "execution_count": 69,
   "metadata": {},
   "outputs": [
    {
     "data": {
      "image/png": "[encoded data removed]",
      "text/plain": [
       "Plot with title \" Histograma - Salário\""
      ]
     },
     "metadata": {},
     "output_type": "display_data"
    }
   ],
   "source": [
    "hist(dados_cliente$Salário,main=\" Histograma - Salário\",ylab = \"Densidade\",xlab = \"Valor salário\",freq=FALSE,labels=TRUE)"
   ]
  },
  {
   "cell_type": "code",
   "execution_count": 70,
   "metadata": {},
   "outputs": [
    {
     "data": {
      "image/png": "[encoded data removed]",
      "text/plain": [
       "Plot with title \" Boxplot - Salário\""
      ]
     },
     "metadata": {},
     "output_type": "display_data"
    }
   ],
   "source": [
    "boxplot(dados_cliente$Salário,main=\" Boxplot - Salário\",ylab = \"Valor salário\")"
   ]
  },
  {
   "cell_type": "code",
   "execution_count": null,
   "metadata": {},
   "outputs": [],
   "source": []
  }
 ],
 "metadata": {
  "kernelspec": {
   "display_name": "R",
   "language": "R",
   "name": "ir"
  },
  "language_info": {
   "codemirror_mode": "r",
   "file_extension": ".r",
   "mimetype": "text/x-r-source",
   "name": "R",
   "pygments_lexer": "r",
   "version": "3.6.1"
  }
 },
 "nbformat": 4,
 "nbformat_minor": 4
}
