{
 "cells": [
  {
   "cell_type": "markdown",
   "metadata": {},
   "source": [
    "# <font color=red>Coleta de Dados utilizando R e SQLite</font>"
   ]
  },
  {
   "cell_type": "markdown",
   "metadata": {},
   "source": [
    "### <font color=blue>Instalar o pacote RSQLite</font>"
   ]
  },
  {
   "cell_type": "code",
   "execution_count": null,
   "metadata": {},
   "outputs": [],
   "source": [
    "# Instalar o pacote RMariaD se for a primeira vez que for utlizar.\n",
    "\n",
    "install.packages(\"RSQLite\")"
   ]
  },
  {
   "cell_type": "markdown",
   "metadata": {},
   "source": [
    "### <font color=blue>Importar o pacote RSQLiteB</fonte>"
   ]
  },
  {
   "cell_type": "code",
   "execution_count": 1,
   "metadata": {},
   "outputs": [
    {
     "name": "stderr",
     "output_type": "stream",
     "text": [
      "Warning message:\n",
      "\"package 'RSQLite' was built under R version 3.6.3\"Warning message:\n",
      "\"package 'readr' was built under R version 3.6.3\""
     ]
    }
   ],
   "source": [
    "#importação do pacote deve ser SEMPRE realizada\n",
    "library(RSQLite)\n",
    "\n",
    "library(readr)\n"
   ]
  },
  {
   "cell_type": "code",
   "execution_count": 2,
   "metadata": {},
   "outputs": [
    {
     "data": {
      "text/html": [
       "'C:/Users/FERNANDA/Dropbox/00-Workspaces/JupyterNotebooks/IGTI/Bootcamp/Capitulo5'"
      ],
      "text/latex": [
       "'C:/Users/FERNANDA/Dropbox/00-Workspaces/JupyterNotebooks/IGTI/Bootcamp/Capitulo5'"
      ],
      "text/markdown": [
       "'C:/Users/FERNANDA/Dropbox/00-Workspaces/JupyterNotebooks/IGTI/Bootcamp/Capitulo5'"
      ],
      "text/plain": [
       "[1] \"C:/Users/FERNANDA/Dropbox/00-Workspaces/JupyterNotebooks/IGTI/Bootcamp/Capitulo5\""
      ]
     },
     "metadata": {},
     "output_type": "display_data"
    }
   ],
   "source": [
    "getwd()"
   ]
  },
  {
   "cell_type": "code",
   "execution_count": 3,
   "metadata": {},
   "outputs": [],
   "source": [
    "# Create an ephemeral in-memory RSQLite database\n",
    "con <- dbConnect(RSQLite::SQLite(), \":memory:\")\n"
   ]
  },
  {
   "cell_type": "code",
   "execution_count": 4,
   "metadata": {},
   "outputs": [
    {
     "data": {
      "text/html": [],
      "text/latex": [],
      "text/markdown": [],
      "text/plain": [
       "character(0)"
      ]
     },
     "metadata": {},
     "output_type": "display_data"
    }
   ],
   "source": [
    "#Para listar quais tabela existem no BD execute:\n",
    "\n",
    "dbListTables(con)"
   ]
  },
  {
   "cell_type": "code",
   "execution_count": 5,
   "metadata": {},
   "outputs": [
    {
     "data": {
      "text/html": [
       "'contabilidade'"
      ],
      "text/latex": [
       "'contabilidade'"
      ],
      "text/markdown": [
       "'contabilidade'"
      ],
      "text/plain": [
       "[1] \"contabilidade\""
      ]
     },
     "metadata": {},
     "output_type": "display_data"
    }
   ],
   "source": [
    "dbWriteTable(con, \"contabilidade\",\"./Datasets/contabilidade.csv\")\n",
    "dbListTables(con)"
   ]
  },
  {
   "cell_type": "code",
   "execution_count": null,
   "metadata": {},
   "outputs": [],
   "source": [
    " dbRemoveTable(con,\"./Datasets/contabilidade.csv\")"
   ]
  },
  {
   "cell_type": "code",
   "execution_count": 6,
   "metadata": {},
   "outputs": [
    {
     "data": {
      "text/html": [
       "<ol class=list-inline>\n",
       "\t<li>'ID'</li>\n",
       "\t<li>'CAP'</li>\n",
       "\t<li>'TAM'</li>\n",
       "\t<li>'PL'</li>\n",
       "\t<li>'AC'</li>\n",
       "\t<li>'PC'</li>\n",
       "\t<li>'AP'</li>\n",
       "\t<li>'ARLP'</li>\n",
       "\t<li>'PELP'</li>\n",
       "\t<li>'VLL'</li>\n",
       "</ol>\n"
      ],
      "text/latex": [
       "\\begin{enumerate*}\n",
       "\\item 'ID'\n",
       "\\item 'CAP'\n",
       "\\item 'TAM'\n",
       "\\item 'PL'\n",
       "\\item 'AC'\n",
       "\\item 'PC'\n",
       "\\item 'AP'\n",
       "\\item 'ARLP'\n",
       "\\item 'PELP'\n",
       "\\item 'VLL'\n",
       "\\end{enumerate*}\n"
      ],
      "text/markdown": [
       "1. 'ID'\n",
       "2. 'CAP'\n",
       "3. 'TAM'\n",
       "4. 'PL'\n",
       "5. 'AC'\n",
       "6. 'PC'\n",
       "7. 'AP'\n",
       "8. 'ARLP'\n",
       "9. 'PELP'\n",
       "10. 'VLL'\n",
       "\n",
       "\n"
      ],
      "text/plain": [
       " [1] \"ID\"   \"CAP\"  \"TAM\"  \"PL\"   \"AC\"   \"PC\"   \"AP\"   \"ARLP\" \"PELP\" \"VLL\" "
      ]
     },
     "metadata": {},
     "output_type": "display_data"
    }
   ],
   "source": [
    "dbListFields(con, \"contabilidade\")"
   ]
  },
  {
   "cell_type": "code",
   "execution_count": 7,
   "metadata": {},
   "outputs": [
    {
     "name": "stderr",
     "output_type": "stream",
     "text": [
      "Warning message in result_fetch(res@ptr, n = n):\n",
      "\"Column `VLL`: mixed type, first seen values of type real, coercing other values of type string\""
     ]
    },
    {
     "data": {
      "text/html": [
       "<table>\n",
       "<thead><tr><th scope=col>ID</th><th scope=col>CAP</th><th scope=col>TAM</th><th scope=col>PL</th><th scope=col>AC</th><th scope=col>PC</th><th scope=col>AP</th><th scope=col>ARLP</th><th scope=col>PELP</th><th scope=col>VLL</th></tr></thead>\n",
       "<tbody>\n",
       "\t<tr><td>1     </td><td>0     </td><td>1     </td><td> 63685</td><td>30475 </td><td>41400 </td><td> 79300</td><td> 5004 </td><td>40098 </td><td>0.0461</td></tr>\n",
       "\t<tr><td>2     </td><td>1     </td><td>1     </td><td> 89430</td><td>53000 </td><td>43125 </td><td>128100</td><td>25020 </td><td>17604 </td><td>0.0758</td></tr>\n",
       "\t<tr><td>3     </td><td>1     </td><td>2     </td><td> 81300</td><td>35775 </td><td>74175 </td><td>125050</td><td>43368 </td><td>33252 </td><td>0.0950</td></tr>\n",
       "\t<tr><td>4     </td><td>1     </td><td>1     </td><td> 79945</td><td>30475 </td><td>31050 </td><td>118950</td><td> 8340 </td><td>26406 </td><td>0.0189</td></tr>\n",
       "\t<tr><td>5     </td><td>0     </td><td>3     </td><td>105690</td><td>60950 </td><td>58650 </td><td> 68625</td><td> 7506 </td><td>58680 </td><td>0.0245</td></tr>\n",
       "</tbody>\n",
       "</table>\n"
      ],
      "text/latex": [
       "\\begin{tabular}{r|llllllllll}\n",
       " ID & CAP & TAM & PL & AC & PC & AP & ARLP & PELP & VLL\\\\\n",
       "\\hline\n",
       "\t 1      & 0      & 1      &  63685 & 30475  & 41400  &  79300 &  5004  & 40098  & 0.0461\\\\\n",
       "\t 2      & 1      & 1      &  89430 & 53000  & 43125  & 128100 & 25020  & 17604  & 0.0758\\\\\n",
       "\t 3      & 1      & 2      &  81300 & 35775  & 74175  & 125050 & 43368  & 33252  & 0.0950\\\\\n",
       "\t 4      & 1      & 1      &  79945 & 30475  & 31050  & 118950 &  8340  & 26406  & 0.0189\\\\\n",
       "\t 5      & 0      & 3      & 105690 & 60950  & 58650  &  68625 &  7506  & 58680  & 0.0245\\\\\n",
       "\\end{tabular}\n"
      ],
      "text/markdown": [
       "\n",
       "| ID | CAP | TAM | PL | AC | PC | AP | ARLP | PELP | VLL |\n",
       "|---|---|---|---|---|---|---|---|---|---|\n",
       "| 1      | 0      | 1      |  63685 | 30475  | 41400  |  79300 |  5004  | 40098  | 0.0461 |\n",
       "| 2      | 1      | 1      |  89430 | 53000  | 43125  | 128100 | 25020  | 17604  | 0.0758 |\n",
       "| 3      | 1      | 2      |  81300 | 35775  | 74175  | 125050 | 43368  | 33252  | 0.0950 |\n",
       "| 4      | 1      | 1      |  79945 | 30475  | 31050  | 118950 |  8340  | 26406  | 0.0189 |\n",
       "| 5      | 0      | 3      | 105690 | 60950  | 58650  |  68625 |  7506  | 58680  | 0.0245 |\n",
       "\n"
      ],
      "text/plain": [
       "  ID CAP TAM PL     AC    PC    AP     ARLP  PELP  VLL   \n",
       "1 1  0   1    63685 30475 41400  79300  5004 40098 0.0461\n",
       "2 2  1   1    89430 53000 43125 128100 25020 17604 0.0758\n",
       "3 3  1   2    81300 35775 74175 125050 43368 33252 0.0950\n",
       "4 4  1   1    79945 30475 31050 118950  8340 26406 0.0189\n",
       "5 5  0   3   105690 60950 58650  68625  7506 58680 0.0245"
      ]
     },
     "metadata": {},
     "output_type": "display_data"
    }
   ],
   "source": [
    "dbReadTable(con, \"contabilidade\")"
   ]
  },
  {
   "cell_type": "code",
   "execution_count": 8,
   "metadata": {},
   "outputs": [
    {
     "data": {
      "text/html": [
       "<table>\n",
       "<thead><tr><th scope=col>ID</th><th scope=col>CAP</th><th scope=col>TAM</th><th scope=col>PL</th><th scope=col>AC</th><th scope=col>PC</th><th scope=col>AP</th><th scope=col>ARLP</th><th scope=col>PELP</th><th scope=col>VLL</th></tr></thead>\n",
       "<tbody>\n",
       "\t<tr><td>2     </td><td>1     </td><td>1     </td><td>89430 </td><td>53000 </td><td>43125 </td><td>128100</td><td>25020 </td><td>17604 </td><td>0.0758</td></tr>\n",
       "\t<tr><td>3     </td><td>1     </td><td>2     </td><td>81300 </td><td>35775 </td><td>74175 </td><td>125050</td><td>43368 </td><td>33252 </td><td>0.0950</td></tr>\n",
       "\t<tr><td>4     </td><td>1     </td><td>1     </td><td>79945 </td><td>30475 </td><td>31050 </td><td>118950</td><td> 8340 </td><td>26406 </td><td>0.0189</td></tr>\n",
       "</tbody>\n",
       "</table>\n"
      ],
      "text/latex": [
       "\\begin{tabular}{r|llllllllll}\n",
       " ID & CAP & TAM & PL & AC & PC & AP & ARLP & PELP & VLL\\\\\n",
       "\\hline\n",
       "\t 2      & 1      & 1      & 89430  & 53000  & 43125  & 128100 & 25020  & 17604  & 0.0758\\\\\n",
       "\t 3      & 1      & 2      & 81300  & 35775  & 74175  & 125050 & 43368  & 33252  & 0.0950\\\\\n",
       "\t 4      & 1      & 1      & 79945  & 30475  & 31050  & 118950 &  8340  & 26406  & 0.0189\\\\\n",
       "\\end{tabular}\n"
      ],
      "text/markdown": [
       "\n",
       "| ID | CAP | TAM | PL | AC | PC | AP | ARLP | PELP | VLL |\n",
       "|---|---|---|---|---|---|---|---|---|---|\n",
       "| 2      | 1      | 1      | 89430  | 53000  | 43125  | 128100 | 25020  | 17604  | 0.0758 |\n",
       "| 3      | 1      | 2      | 81300  | 35775  | 74175  | 125050 | 43368  | 33252  | 0.0950 |\n",
       "| 4      | 1      | 1      | 79945  | 30475  | 31050  | 118950 |  8340  | 26406  | 0.0189 |\n",
       "\n"
      ],
      "text/plain": [
       "  ID CAP TAM PL    AC    PC    AP     ARLP  PELP  VLL   \n",
       "1 2  1   1   89430 53000 43125 128100 25020 17604 0.0758\n",
       "2 3  1   2   81300 35775 74175 125050 43368 33252 0.0950\n",
       "3 4  1   1   79945 30475 31050 118950  8340 26406 0.0189"
      ]
     },
     "metadata": {},
     "output_type": "display_data"
    }
   ],
   "source": [
    "dados <- dbSendQuery(con, \"SELECT * FROM contabilidade WHERE CAP = 1\")\n",
    "dbFetch(dados)"
   ]
  },
  {
   "cell_type": "code",
   "execution_count": 9,
   "metadata": {},
   "outputs": [
    {
     "name": "stderr",
     "output_type": "stream",
     "text": [
      "Warning message:\n",
      "\"Closing open result set, pending rows\"Warning message in result_fetch(res@ptr, n = n):\n",
      "\"Column `VLL`: mixed type, first seen values of type real, coercing other values of type string\""
     ]
    },
    {
     "data": {
      "text/html": [
       "<table>\n",
       "<thead><tr><th scope=col>ID</th><th scope=col>CAP</th><th scope=col>TAM</th><th scope=col>PL</th><th scope=col>AC</th><th scope=col>PC</th><th scope=col>AP</th><th scope=col>ARLP</th><th scope=col>PELP</th><th scope=col>VLL</th></tr></thead>\n",
       "<tbody>\n",
       "\t<tr><td>1     </td><td>0     </td><td>1     </td><td> 63685</td><td>30475 </td><td>41400 </td><td> 79300</td><td> 5004 </td><td>40098 </td><td>0.0461</td></tr>\n",
       "\t<tr><td>2     </td><td>1     </td><td>1     </td><td> 89430</td><td>53000 </td><td>43125 </td><td>128100</td><td>25020 </td><td>17604 </td><td>0.0758</td></tr>\n",
       "\t<tr><td>3     </td><td>1     </td><td>2     </td><td> 81300</td><td>35775 </td><td>74175 </td><td>125050</td><td>43368 </td><td>33252 </td><td>0.0950</td></tr>\n",
       "\t<tr><td>4     </td><td>1     </td><td>1     </td><td> 79945</td><td>30475 </td><td>31050 </td><td>118950</td><td> 8340 </td><td>26406 </td><td>0.0189</td></tr>\n",
       "\t<tr><td>5     </td><td>0     </td><td>3     </td><td>105690</td><td>60950 </td><td>58650 </td><td> 68625</td><td> 7506 </td><td>58680 </td><td>0.0245</td></tr>\n",
       "</tbody>\n",
       "</table>\n"
      ],
      "text/latex": [
       "\\begin{tabular}{r|llllllllll}\n",
       " ID & CAP & TAM & PL & AC & PC & AP & ARLP & PELP & VLL\\\\\n",
       "\\hline\n",
       "\t 1      & 0      & 1      &  63685 & 30475  & 41400  &  79300 &  5004  & 40098  & 0.0461\\\\\n",
       "\t 2      & 1      & 1      &  89430 & 53000  & 43125  & 128100 & 25020  & 17604  & 0.0758\\\\\n",
       "\t 3      & 1      & 2      &  81300 & 35775  & 74175  & 125050 & 43368  & 33252  & 0.0950\\\\\n",
       "\t 4      & 1      & 1      &  79945 & 30475  & 31050  & 118950 &  8340  & 26406  & 0.0189\\\\\n",
       "\t 5      & 0      & 3      & 105690 & 60950  & 58650  &  68625 &  7506  & 58680  & 0.0245\\\\\n",
       "\\end{tabular}\n"
      ],
      "text/markdown": [
       "\n",
       "| ID | CAP | TAM | PL | AC | PC | AP | ARLP | PELP | VLL |\n",
       "|---|---|---|---|---|---|---|---|---|---|\n",
       "| 1      | 0      | 1      |  63685 | 30475  | 41400  |  79300 |  5004  | 40098  | 0.0461 |\n",
       "| 2      | 1      | 1      |  89430 | 53000  | 43125  | 128100 | 25020  | 17604  | 0.0758 |\n",
       "| 3      | 1      | 2      |  81300 | 35775  | 74175  | 125050 | 43368  | 33252  | 0.0950 |\n",
       "| 4      | 1      | 1      |  79945 | 30475  | 31050  | 118950 |  8340  | 26406  | 0.0189 |\n",
       "| 5      | 0      | 3      | 105690 | 60950  | 58650  |  68625 |  7506  | 58680  | 0.0245 |\n",
       "\n"
      ],
      "text/plain": [
       "  ID CAP TAM PL     AC    PC    AP     ARLP  PELP  VLL   \n",
       "1 1  0   1    63685 30475 41400  79300  5004 40098 0.0461\n",
       "2 2  1   1    89430 53000 43125 128100 25020 17604 0.0758\n",
       "3 3  1   2    81300 35775 74175 125050 43368 33252 0.0950\n",
       "4 4  1   1    79945 30475 31050 118950  8340 26406 0.0189\n",
       "5 5  0   3   105690 60950 58650  68625  7506 58680 0.0245"
      ]
     },
     "metadata": {},
     "output_type": "display_data"
    }
   ],
   "source": [
    "dados <- dbSendQuery(con, \"SELECT * FROM contabilidade\")\n",
    "dbFetch(dados)"
   ]
  },
  {
   "cell_type": "code",
   "execution_count": 10,
   "metadata": {},
   "outputs": [],
   "source": [
    "# Limpar o cursor de resultados\n",
    "dbClearResult(dados)\n"
   ]
  },
  {
   "cell_type": "code",
   "execution_count": 11,
   "metadata": {},
   "outputs": [
    {
     "ename": "ERROR",
     "evalue": "Error: Invalid result set\n",
     "output_type": "error",
     "traceback": [
      "Error: Invalid result set\nTraceback:\n",
      "1. dbFetch(dados)",
      "2. dbFetch(dados)",
      "3. .local(res, n, ...)",
      "4. result_fetch(res@ptr, n = n)"
     ]
    }
   ],
   "source": [
    "dbFetch(dados)"
   ]
  },
  {
   "cell_type": "code",
   "execution_count": 12,
   "metadata": {},
   "outputs": [
    {
     "data": {
      "text/html": [
       "<table>\n",
       "<thead><tr><th scope=col>ID</th><th scope=col>CAP</th><th scope=col>TAM</th><th scope=col>PL</th><th scope=col>AC</th><th scope=col>PC</th><th scope=col>AP</th><th scope=col>ARLP</th><th scope=col>PELP</th><th scope=col>VLL</th></tr></thead>\n",
       "<tbody>\n",
       "\t<tr><td>1     </td><td>0     </td><td>1     </td><td>63685 </td><td>30475 </td><td>41400 </td><td> 79300</td><td> 5004 </td><td>40098 </td><td>0.0461</td></tr>\n",
       "\t<tr><td>2     </td><td>1     </td><td>1     </td><td>89430 </td><td>53000 </td><td>43125 </td><td>128100</td><td>25020 </td><td>17604 </td><td>0.0758</td></tr>\n",
       "</tbody>\n",
       "</table>\n"
      ],
      "text/latex": [
       "\\begin{tabular}{r|llllllllll}\n",
       " ID & CAP & TAM & PL & AC & PC & AP & ARLP & PELP & VLL\\\\\n",
       "\\hline\n",
       "\t 1      & 0      & 1      & 63685  & 30475  & 41400  &  79300 &  5004  & 40098  & 0.0461\\\\\n",
       "\t 2      & 1      & 1      & 89430  & 53000  & 43125  & 128100 & 25020  & 17604  & 0.0758\\\\\n",
       "\\end{tabular}\n"
      ],
      "text/markdown": [
       "\n",
       "| ID | CAP | TAM | PL | AC | PC | AP | ARLP | PELP | VLL |\n",
       "|---|---|---|---|---|---|---|---|---|---|\n",
       "| 1      | 0      | 1      | 63685  | 30475  | 41400  |  79300 |  5004  | 40098  | 0.0461 |\n",
       "| 2      | 1      | 1      | 89430  | 53000  | 43125  | 128100 | 25020  | 17604  | 0.0758 |\n",
       "\n"
      ],
      "text/plain": [
       "  ID CAP TAM PL    AC    PC    AP     ARLP  PELP  VLL   \n",
       "1 1  0   1   63685 30475 41400  79300  5004 40098 0.0461\n",
       "2 2  1   1   89430 53000 43125 128100 25020 17604 0.0758"
      ]
     },
     "metadata": {},
     "output_type": "display_data"
    }
   ],
   "source": [
    "dados <- dbSendQuery(con, \"SELECT * FROM contabilidade WHERE PC BETWEEN 40000 AND 50000\")\n",
    "dbFetch(dados)"
   ]
  },
  {
   "cell_type": "code",
   "execution_count": 13,
   "metadata": {},
   "outputs": [
    {
     "name": "stderr",
     "output_type": "stream",
     "text": [
      "Warning message in connection_release(conn@ptr):\n",
      "\"There are 1 result in use. The connection will be released when they are closed\""
     ]
    }
   ],
   "source": [
    "# Desconectar do banco de dados\n",
    "dbDisconnect(con)"
   ]
  },
  {
   "cell_type": "code",
   "execution_count": 14,
   "metadata": {},
   "outputs": [
    {
     "name": "stderr",
     "output_type": "stream",
     "text": [
      "Warning message:\n",
      "\"namespace 'fastmap' is not available and has been replaced\n",
      "by .GlobalEnv when processing object ''\"Warning message:\n",
      "\"namespace 'cachem' is not available and has been replaced\n",
      "by .GlobalEnv when processing object ''\"Warning message:\n",
      "\"Closing open result set, pending rows\""
     ]
    },
    {
     "ename": "ERROR",
     "evalue": "Error: Invalid or closed connection\n",
     "output_type": "error",
     "traceback": [
      "Error: Invalid or closed connection\nTraceback:\n",
      "1. dbReadTable(con, \"contabilidade\")",
      "2. dbReadTable(con, \"contabilidade\")",
      "3. .local(conn, name, ...)",
      "4. dbGetQuery(conn, paste(\"SELECT\", select.cols, \"FROM\", name), \n .     row.names = row.names)",
      "5. dbGetQuery(conn, paste(\"SELECT\", select.cols, \"FROM\", name), \n .     row.names = row.names)",
      "6. .local(conn, statement, ...)",
      "7. dbSendQuery(conn, statement, ...)",
      "8. dbSendQuery(conn, statement, ...)",
      "9. .local(conn, statement, ...)",
      "10. new(\"SQLiteResult\", sql = statement, ptr = result_create(conn@ptr, \n  .     statement), conn = conn, bigint = conn@bigint)",
      "11. initialize(value, ...)",
      "12. initialize(value, ...)",
      "13. result_create(conn@ptr, statement)"
     ]
    }
   ],
   "source": [
    "dbReadTable(con, \"contabilidade\")"
   ]
  },
  {
   "cell_type": "code",
   "execution_count": 15,
   "metadata": {},
   "outputs": [],
   "source": [
    "# create a connection to the SQLite database\n",
    "dbfile <- \"./Datasets/bootcamp.sqlite\""
   ]
  },
  {
   "cell_type": "code",
   "execution_count": 16,
   "metadata": {},
   "outputs": [],
   "source": [
    "con <- dbConnect(RSQLite::SQLite(), dbfile)"
   ]
  },
  {
   "cell_type": "code",
   "execution_count": null,
   "metadata": {},
   "outputs": [],
   "source": [
    "con <- dbConnect(RSQLite::SQLite(), \"\")"
   ]
  },
  {
   "cell_type": "code",
   "execution_count": 17,
   "metadata": {},
   "outputs": [],
   "source": [
    "cliente <- read.csv(\"./Datasets/clientes_8000.csv\",sep=\";\",encoding=\"UTF-8\")"
   ]
  },
  {
   "cell_type": "code",
   "execution_count": 18,
   "metadata": {},
   "outputs": [
    {
     "data": {
      "text/html": [
       "<table>\n",
       "<thead><tr><th scope=col>X.U.FEFF.idade</th><th scope=col>classe_trabalho</th><th scope=col>escolaridade</th><th scope=col>anos_estudo</th><th scope=col>estado_civil</th><th scope=col>raca</th><th scope=col>sexo</th><th scope=col>UF</th><th scope=col>região</th><th scope=col>qtde_filhos</th><th scope=col>salario</th></tr></thead>\n",
       "<tbody>\n",
       "\t<tr><td>39                       </td><td>Servidor Público         </td><td>Ensino Médio Completo    </td><td>13                       </td><td>Solteiro                 </td><td>Branco                   </td><td>Masculino                </td><td>RO                       </td><td>Norte                    </td><td>2                        </td><td> 4754                    </td></tr>\n",
       "\t<tr><td>50                       </td><td>Autônomo                 </td><td>Superior Incompleto      </td><td>13                       </td><td>Casado                   </td><td>Branco                   </td><td>Masculino                </td><td>AC                       </td><td>Norte                    </td><td>1                        </td><td> 3923                    </td></tr>\n",
       "\t<tr><td>38                       </td><td>Funcionário Setor Privado</td><td>Ensino Médio Incompleto  </td><td> 9                       </td><td>Divorciado               </td><td>Branco                   </td><td>Masculino                </td><td>AM                       </td><td>Norte                    </td><td>0                        </td><td> 1100                    </td></tr>\n",
       "\t<tr><td>53                       </td><td>Funcionário Setor Privado</td><td>Ensino Médio Incompleto  </td><td> 7                       </td><td>Casado                   </td><td>Negro                    </td><td>Masculino                </td><td>RR                       </td><td>Norte                    </td><td>1                        </td><td> 1100                    </td></tr>\n",
       "\t<tr><td>28                       </td><td>Funcionário Setor Privado</td><td>Ensino Médio Completo    </td><td>13                       </td><td>Casado                   </td><td>Negro                    </td><td>Feminino                 </td><td>PA                       </td><td>Norte                    </td><td>0                        </td><td> 3430                    </td></tr>\n",
       "\t<tr><td>37                       </td><td>Funcionário Setor Privado</td><td>Mestrado                 </td><td>14                       </td><td>Casado                   </td><td>Branco                   </td><td>Feminino                 </td><td>AP                       </td><td>Norte                    </td><td>1                        </td><td>10787                    </td></tr>\n",
       "</tbody>\n",
       "</table>\n"
      ],
      "text/latex": [
       "\\begin{tabular}{r|lllllllllll}\n",
       " X.U.FEFF.idade & classe\\_trabalho & escolaridade & anos\\_estudo & estado\\_civil & raca & sexo & UF & região & qtde\\_filhos & salario\\\\\n",
       "\\hline\n",
       "\t 39                        & Servidor Público          & Ensino Médio Completo     & 13                        & Solteiro                  & Branco                    & Masculino                 & RO                        & Norte                     & 2                         &  4754                    \\\\\n",
       "\t 50                        & Autônomo                  & Superior Incompleto       & 13                        & Casado                    & Branco                    & Masculino                 & AC                        & Norte                     & 1                         &  3923                    \\\\\n",
       "\t 38                        & Funcionário Setor Privado & Ensino Médio Incompleto   &  9                        & Divorciado                & Branco                    & Masculino                 & AM                        & Norte                     & 0                         &  1100                    \\\\\n",
       "\t 53                        & Funcionário Setor Privado & Ensino Médio Incompleto   &  7                        & Casado                    & Negro                     & Masculino                 & RR                        & Norte                     & 1                         &  1100                    \\\\\n",
       "\t 28                        & Funcionário Setor Privado & Ensino Médio Completo     & 13                        & Casado                    & Negro                     & Feminino                  & PA                        & Norte                     & 0                         &  3430                    \\\\\n",
       "\t 37                        & Funcionário Setor Privado & Mestrado                  & 14                        & Casado                    & Branco                    & Feminino                  & AP                        & Norte                     & 1                         & 10787                    \\\\\n",
       "\\end{tabular}\n"
      ],
      "text/markdown": [
       "\n",
       "| X.U.FEFF.idade | classe_trabalho | escolaridade | anos_estudo | estado_civil | raca | sexo | UF | região | qtde_filhos | salario |\n",
       "|---|---|---|---|---|---|---|---|---|---|---|\n",
       "| 39                        | Servidor Público          | Ensino Médio Completo     | 13                        | Solteiro                  | Branco                    | Masculino                 | RO                        | Norte                     | 2                         |  4754                     |\n",
       "| 50                        | Autônomo                  | Superior Incompleto       | 13                        | Casado                    | Branco                    | Masculino                 | AC                        | Norte                     | 1                         |  3923                     |\n",
       "| 38                        | Funcionário Setor Privado | Ensino Médio Incompleto   |  9                        | Divorciado                | Branco                    | Masculino                 | AM                        | Norte                     | 0                         |  1100                     |\n",
       "| 53                        | Funcionário Setor Privado | Ensino Médio Incompleto   |  7                        | Casado                    | Negro                     | Masculino                 | RR                        | Norte                     | 1                         |  1100                     |\n",
       "| 28                        | Funcionário Setor Privado | Ensino Médio Completo     | 13                        | Casado                    | Negro                     | Feminino                  | PA                        | Norte                     | 0                         |  3430                     |\n",
       "| 37                        | Funcionário Setor Privado | Mestrado                  | 14                        | Casado                    | Branco                    | Feminino                  | AP                        | Norte                     | 1                         | 10787                     |\n",
       "\n"
      ],
      "text/plain": [
       "  X.U.FEFF.idade classe_trabalho           escolaridade            anos_estudo\n",
       "1 39             Servidor Público          Ensino Médio Completo   13         \n",
       "2 50             Autônomo                  Superior Incompleto     13         \n",
       "3 38             Funcionário Setor Privado Ensino Médio Incompleto  9         \n",
       "4 53             Funcionário Setor Privado Ensino Médio Incompleto  7         \n",
       "5 28             Funcionário Setor Privado Ensino Médio Completo   13         \n",
       "6 37             Funcionário Setor Privado Mestrado                14         \n",
       "  estado_civil raca   sexo      UF região qtde_filhos salario\n",
       "1 Solteiro     Branco Masculino RO Norte  2            4754  \n",
       "2 Casado       Branco Masculino AC Norte  1            3923  \n",
       "3 Divorciado   Branco Masculino AM Norte  0            1100  \n",
       "4 Casado       Negro  Masculino RR Norte  1            1100  \n",
       "5 Casado       Negro  Feminino  PA Norte  0            3430  \n",
       "6 Casado       Branco Feminino  AP Norte  1           10787  "
      ]
     },
     "metadata": {},
     "output_type": "display_data"
    }
   ],
   "source": [
    "head(cliente)"
   ]
  },
  {
   "cell_type": "code",
   "execution_count": 19,
   "metadata": {},
   "outputs": [],
   "source": [
    "names(cliente)[1] <- 'idade'\n",
    "names(cliente)[6] <- 'raca'\n",
    "names(cliente)[9] <- 'regiao'"
   ]
  },
  {
   "cell_type": "code",
   "execution_count": 20,
   "metadata": {},
   "outputs": [
    {
     "data": {
      "text/html": [
       "<table>\n",
       "<thead><tr><th scope=col>idade</th><th scope=col>classe_trabalho</th><th scope=col>escolaridade</th><th scope=col>anos_estudo</th><th scope=col>estado_civil</th><th scope=col>raca</th><th scope=col>sexo</th><th scope=col>UF</th><th scope=col>regiao</th><th scope=col>qtde_filhos</th><th scope=col>salario</th></tr></thead>\n",
       "<tbody>\n",
       "\t<tr><td>39                       </td><td>Servidor Público         </td><td>Ensino Médio Completo    </td><td>13                       </td><td>Solteiro                 </td><td>Branco                   </td><td>Masculino                </td><td>RO                       </td><td>Norte                    </td><td>2                        </td><td> 4754                    </td></tr>\n",
       "\t<tr><td>50                       </td><td>Autônomo                 </td><td>Superior Incompleto      </td><td>13                       </td><td>Casado                   </td><td>Branco                   </td><td>Masculino                </td><td>AC                       </td><td>Norte                    </td><td>1                        </td><td> 3923                    </td></tr>\n",
       "\t<tr><td>38                       </td><td>Funcionário Setor Privado</td><td>Ensino Médio Incompleto  </td><td> 9                       </td><td>Divorciado               </td><td>Branco                   </td><td>Masculino                </td><td>AM                       </td><td>Norte                    </td><td>0                        </td><td> 1100                    </td></tr>\n",
       "\t<tr><td>53                       </td><td>Funcionário Setor Privado</td><td>Ensino Médio Incompleto  </td><td> 7                       </td><td>Casado                   </td><td>Negro                    </td><td>Masculino                </td><td>RR                       </td><td>Norte                    </td><td>1                        </td><td> 1100                    </td></tr>\n",
       "\t<tr><td>28                       </td><td>Funcionário Setor Privado</td><td>Ensino Médio Completo    </td><td>13                       </td><td>Casado                   </td><td>Negro                    </td><td>Feminino                 </td><td>PA                       </td><td>Norte                    </td><td>0                        </td><td> 3430                    </td></tr>\n",
       "\t<tr><td>37                       </td><td>Funcionário Setor Privado</td><td>Mestrado                 </td><td>14                       </td><td>Casado                   </td><td>Branco                   </td><td>Feminino                 </td><td>AP                       </td><td>Norte                    </td><td>1                        </td><td>10787                    </td></tr>\n",
       "</tbody>\n",
       "</table>\n"
      ],
      "text/latex": [
       "\\begin{tabular}{r|lllllllllll}\n",
       " idade & classe\\_trabalho & escolaridade & anos\\_estudo & estado\\_civil & raca & sexo & UF & regiao & qtde\\_filhos & salario\\\\\n",
       "\\hline\n",
       "\t 39                        & Servidor Público          & Ensino Médio Completo     & 13                        & Solteiro                  & Branco                    & Masculino                 & RO                        & Norte                     & 2                         &  4754                    \\\\\n",
       "\t 50                        & Autônomo                  & Superior Incompleto       & 13                        & Casado                    & Branco                    & Masculino                 & AC                        & Norte                     & 1                         &  3923                    \\\\\n",
       "\t 38                        & Funcionário Setor Privado & Ensino Médio Incompleto   &  9                        & Divorciado                & Branco                    & Masculino                 & AM                        & Norte                     & 0                         &  1100                    \\\\\n",
       "\t 53                        & Funcionário Setor Privado & Ensino Médio Incompleto   &  7                        & Casado                    & Negro                     & Masculino                 & RR                        & Norte                     & 1                         &  1100                    \\\\\n",
       "\t 28                        & Funcionário Setor Privado & Ensino Médio Completo     & 13                        & Casado                    & Negro                     & Feminino                  & PA                        & Norte                     & 0                         &  3430                    \\\\\n",
       "\t 37                        & Funcionário Setor Privado & Mestrado                  & 14                        & Casado                    & Branco                    & Feminino                  & AP                        & Norte                     & 1                         & 10787                    \\\\\n",
       "\\end{tabular}\n"
      ],
      "text/markdown": [
       "\n",
       "| idade | classe_trabalho | escolaridade | anos_estudo | estado_civil | raca | sexo | UF | regiao | qtde_filhos | salario |\n",
       "|---|---|---|---|---|---|---|---|---|---|---|\n",
       "| 39                        | Servidor Público          | Ensino Médio Completo     | 13                        | Solteiro                  | Branco                    | Masculino                 | RO                        | Norte                     | 2                         |  4754                     |\n",
       "| 50                        | Autônomo                  | Superior Incompleto       | 13                        | Casado                    | Branco                    | Masculino                 | AC                        | Norte                     | 1                         |  3923                     |\n",
       "| 38                        | Funcionário Setor Privado | Ensino Médio Incompleto   |  9                        | Divorciado                | Branco                    | Masculino                 | AM                        | Norte                     | 0                         |  1100                     |\n",
       "| 53                        | Funcionário Setor Privado | Ensino Médio Incompleto   |  7                        | Casado                    | Negro                     | Masculino                 | RR                        | Norte                     | 1                         |  1100                     |\n",
       "| 28                        | Funcionário Setor Privado | Ensino Médio Completo     | 13                        | Casado                    | Negro                     | Feminino                  | PA                        | Norte                     | 0                         |  3430                     |\n",
       "| 37                        | Funcionário Setor Privado | Mestrado                  | 14                        | Casado                    | Branco                    | Feminino                  | AP                        | Norte                     | 1                         | 10787                     |\n",
       "\n"
      ],
      "text/plain": [
       "  idade classe_trabalho           escolaridade            anos_estudo\n",
       "1 39    Servidor Público          Ensino Médio Completo   13         \n",
       "2 50    Autônomo                  Superior Incompleto     13         \n",
       "3 38    Funcionário Setor Privado Ensino Médio Incompleto  9         \n",
       "4 53    Funcionário Setor Privado Ensino Médio Incompleto  7         \n",
       "5 28    Funcionário Setor Privado Ensino Médio Completo   13         \n",
       "6 37    Funcionário Setor Privado Mestrado                14         \n",
       "  estado_civil raca   sexo      UF regiao qtde_filhos salario\n",
       "1 Solteiro     Branco Masculino RO Norte  2            4754  \n",
       "2 Casado       Branco Masculino AC Norte  1            3923  \n",
       "3 Divorciado   Branco Masculino AM Norte  0            1100  \n",
       "4 Casado       Negro  Masculino RR Norte  1            1100  \n",
       "5 Casado       Negro  Feminino  PA Norte  0            3430  \n",
       "6 Casado       Branco Feminino  AP Norte  1           10787  "
      ]
     },
     "metadata": {},
     "output_type": "display_data"
    }
   ],
   "source": [
    "head(cliente)"
   ]
  },
  {
   "cell_type": "code",
   "execution_count": 21,
   "metadata": {},
   "outputs": [
    {
     "data": {
      "text/html": [],
      "text/latex": [],
      "text/markdown": [],
      "text/plain": [
       "character(0)"
      ]
     },
     "metadata": {},
     "output_type": "display_data"
    }
   ],
   "source": [
    "dbListTables(con)"
   ]
  },
  {
   "cell_type": "code",
   "execution_count": 22,
   "metadata": {},
   "outputs": [
    {
     "data": {
      "text/html": [
       "'cliente'"
      ],
      "text/latex": [
       "'cliente'"
      ],
      "text/markdown": [
       "'cliente'"
      ],
      "text/plain": [
       "[1] \"cliente\""
      ]
     },
     "metadata": {},
     "output_type": "display_data"
    }
   ],
   "source": [
    "dbWriteTable(con,\"cliente\",cliente)\n",
    "dbListTables(con)"
   ]
  },
  {
   "cell_type": "code",
   "execution_count": 23,
   "metadata": {},
   "outputs": [
    {
     "data": {
      "text/html": [
       "<ol class=list-inline>\n",
       "\t<li>'idade'</li>\n",
       "\t<li>'classe_trabalho'</li>\n",
       "\t<li>'escolaridade'</li>\n",
       "\t<li>'anos_estudo'</li>\n",
       "\t<li>'estado_civil'</li>\n",
       "\t<li>'raca'</li>\n",
       "\t<li>'sexo'</li>\n",
       "\t<li>'UF'</li>\n",
       "\t<li>'regiao'</li>\n",
       "\t<li>'qtde_filhos'</li>\n",
       "\t<li>'salario'</li>\n",
       "</ol>\n"
      ],
      "text/latex": [
       "\\begin{enumerate*}\n",
       "\\item 'idade'\n",
       "\\item 'classe\\_trabalho'\n",
       "\\item 'escolaridade'\n",
       "\\item 'anos\\_estudo'\n",
       "\\item 'estado\\_civil'\n",
       "\\item 'raca'\n",
       "\\item 'sexo'\n",
       "\\item 'UF'\n",
       "\\item 'regiao'\n",
       "\\item 'qtde\\_filhos'\n",
       "\\item 'salario'\n",
       "\\end{enumerate*}\n"
      ],
      "text/markdown": [
       "1. 'idade'\n",
       "2. 'classe_trabalho'\n",
       "3. 'escolaridade'\n",
       "4. 'anos_estudo'\n",
       "5. 'estado_civil'\n",
       "6. 'raca'\n",
       "7. 'sexo'\n",
       "8. 'UF'\n",
       "9. 'regiao'\n",
       "10. 'qtde_filhos'\n",
       "11. 'salario'\n",
       "\n",
       "\n"
      ],
      "text/plain": [
       " [1] \"idade\"           \"classe_trabalho\" \"escolaridade\"    \"anos_estudo\"    \n",
       " [5] \"estado_civil\"    \"raca\"            \"sexo\"            \"UF\"             \n",
       " [9] \"regiao\"          \"qtde_filhos\"     \"salario\"        "
      ]
     },
     "metadata": {},
     "output_type": "display_data"
    }
   ],
   "source": [
    "dbListFields(con, \"cliente\")"
   ]
  },
  {
   "cell_type": "code",
   "execution_count": 24,
   "metadata": {},
   "outputs": [
    {
     "data": {
      "text/html": [
       "<table>\n",
       "<thead><tr><th scope=col>idade</th><th scope=col>classe_trabalho</th><th scope=col>escolaridade</th><th scope=col>anos_estudo</th><th scope=col>estado_civil</th><th scope=col>raca</th><th scope=col>sexo</th><th scope=col>UF</th><th scope=col>regiao</th><th scope=col>qtde_filhos</th><th scope=col>salario</th></tr></thead>\n",
       "<tbody>\n",
       "\t<tr><td>39                           </td><td>Servidor Público             </td><td>Ensino Médio Completo        </td><td>13                           </td><td>Solteiro                     </td><td>Branco                       </td><td>Masculino                    </td><td>RO                           </td><td>Norte                        </td><td> 2                           </td><td> 4754                        </td></tr>\n",
       "\t<tr><td>50                           </td><td>Autônomo                     </td><td>Superior Incompleto          </td><td>13                           </td><td>Casado                       </td><td>Branco                       </td><td>Masculino                    </td><td>AC                           </td><td>Norte                        </td><td> 1                           </td><td> 3923                        </td></tr>\n",
       "\t<tr><td>38                           </td><td>Funcionário Setor Privado    </td><td>Ensino Médio Incompleto      </td><td> 9                           </td><td>Divorciado                   </td><td>Branco                       </td><td>Masculino                    </td><td>AM                           </td><td>Norte                        </td><td> 0                           </td><td> 1100                        </td></tr>\n",
       "\t<tr><td>53                           </td><td>Funcionário Setor Privado    </td><td>Ensino Médio Incompleto      </td><td> 7                           </td><td>Casado                       </td><td>Negro                        </td><td>Masculino                    </td><td>RR                           </td><td>Norte                        </td><td> 1                           </td><td> 1100                        </td></tr>\n",
       "\t<tr><td>28                           </td><td>Funcionário Setor Privado    </td><td>Ensino Médio Completo        </td><td>13                           </td><td>Casado                       </td><td>Negro                        </td><td>Feminino                     </td><td>PA                           </td><td>Norte                        </td><td> 0                           </td><td> 3430                        </td></tr>\n",
       "\t<tr><td>37                           </td><td>Funcionário Setor Privado    </td><td>Mestrado                     </td><td>14                           </td><td>Casado                       </td><td>Branco                       </td><td>Feminino                     </td><td>AP                           </td><td>Norte                        </td><td> 1                           </td><td>10787                        </td></tr>\n",
       "\t<tr><td>49                           </td><td>Funcionário Setor Privado    </td><td>Ensino Fundamental Completo  </td><td> 5                           </td><td>União Estável                </td><td>Negro                        </td><td>Feminino                     </td><td>TO                           </td><td>Norte                        </td><td> 1                           </td><td> 1100                        </td></tr>\n",
       "\t<tr><td>52                           </td><td>Autônomo                     </td><td>Ensino Médio Incompleto      </td><td> 9                           </td><td>Casado                       </td><td>Branco                       </td><td>Masculino                    </td><td>MA                           </td><td>Nordeste                     </td><td> 4                           </td><td> 1100                        </td></tr>\n",
       "\t<tr><td>31                           </td><td>Funcionário Setor Privado    </td><td>Mestrado                     </td><td>14                           </td><td>Solteiro                     </td><td>Branco                       </td><td>Feminino                     </td><td>PI                           </td><td>Nordeste                     </td><td> 4                           </td><td> 6031                        </td></tr>\n",
       "\t<tr><td>42                           </td><td>Funcionário Setor Privado    </td><td>Ensino Médio Completo        </td><td>13                           </td><td>Casado                       </td><td>Branco                       </td><td>Masculino                    </td><td>CE                           </td><td>Nordeste                     </td><td> 5                           </td><td> 3798                        </td></tr>\n",
       "\t<tr><td>37                           </td><td>Funcionário Setor Privado    </td><td>Superior Completo            </td><td>10                           </td><td>Casado                       </td><td>Negro                        </td><td>Masculino                    </td><td>RN                           </td><td>Nordeste                     </td><td> 4                           </td><td>10316                        </td></tr>\n",
       "\t<tr><td>30                           </td><td>Servidor Público             </td><td>Superior Incompleto          </td><td>13                           </td><td>Casado                       </td><td>Pardo                        </td><td>Masculino                    </td><td>PB                           </td><td>Nordeste                     </td><td> 5                           </td><td> 3369                        </td></tr>\n",
       "\t<tr><td>23                           </td><td>Funcionário Setor Privado    </td><td>Pós-Graduado                 </td><td>13                           </td><td>Solteiro                     </td><td>Branco                       </td><td>Feminino                     </td><td>PE                           </td><td>Nordeste                     </td><td>NA                           </td><td> 5316                        </td></tr>\n",
       "\t<tr><td>32                           </td><td>Funcionário Setor Privado    </td><td>Ensino Médio Completo        </td><td>12                           </td><td>Solteiro                     </td><td>Negro                        </td><td>Masculino                    </td><td>AL                           </td><td>Nordeste                     </td><td> 1                           </td><td> 2897                        </td></tr>\n",
       "\t<tr><td>40                           </td><td>Funcionário Setor Privado    </td><td>Ensino Médio Completo        </td><td>11                           </td><td>Casado                       </td><td>Pardo                        </td><td>Masculino                    </td><td>SE                           </td><td>Nordeste                     </td><td> 5                           </td><td> 3269                        </td></tr>\n",
       "\t<tr><td>34                           </td><td>Funcionário Setor Privado    </td><td>Ensino Fundamental Incompleto</td><td> 4                           </td><td>Casado                       </td><td>Indígena                     </td><td>Masculino                    </td><td>BA                           </td><td>Nordeste                     </td><td> 5                           </td><td> 1100                        </td></tr>\n",
       "\t<tr><td>25                           </td><td>Autônomo                     </td><td>Ensino Médio Incompleto      </td><td> 9                           </td><td>Solteiro                     </td><td>Branco                       </td><td>Masculino                    </td><td>MG                           </td><td>Sudeste                      </td><td> 3                           </td><td> 1100                        </td></tr>\n",
       "\t<tr><td>32                           </td><td>Funcionário Setor Privado    </td><td>Ensino Médio Incompleto      </td><td> 9                           </td><td>Solteiro                     </td><td>Branco                       </td><td>Masculino                    </td><td>ES                           </td><td>Sudeste                      </td><td> 5                           </td><td> 1100                        </td></tr>\n",
       "\t<tr><td>38                           </td><td>Funcionário Setor Privado    </td><td>Ensino Médio Incompleto      </td><td> 7                           </td><td>Casado                       </td><td>Branco                       </td><td>Masculino                    </td><td>RJ                           </td><td>Sudeste                      </td><td> 1                           </td><td> 1100                        </td></tr>\n",
       "\t<tr><td>43                           </td><td>Autônomo                     </td><td>Mestrado                     </td><td>14                           </td><td>Divorciado                   </td><td>Branco                       </td><td>Feminino                     </td><td>SP                           </td><td>Sudeste                      </td><td> 1                           </td><td> 6120                        </td></tr>\n",
       "\t<tr><td>40                           </td><td>Funcionário Setor Privado    </td><td>Doutorado                    </td><td>16                           </td><td>Casado                       </td><td>Branco                       </td><td>Masculino                    </td><td>PR                           </td><td>Sul                          </td><td>NA                           </td><td>12535                        </td></tr>\n",
       "\t<tr><td>54                           </td><td>Funcionário Setor Privado    </td><td>Ensino Médio Incompleto      </td><td> 9                           </td><td>Separado                     </td><td>Negro                        </td><td>Feminino                     </td><td>SC                           </td><td>Sul                          </td><td> 2                           </td><td> 1100                        </td></tr>\n",
       "\t<tr><td>35                           </td><td>Funcionário Público          </td><td>Ensino Fundamental Completo  </td><td> 5                           </td><td>Casado                       </td><td>Negro                        </td><td>Masculino                    </td><td>RS                           </td><td>Sul                          </td><td> 4                           </td><td> 1511                        </td></tr>\n",
       "\t<tr><td>43                           </td><td>Funcionário Setor Privado    </td><td>Ensino Médio Incompleto      </td><td> 7                           </td><td>Casado                       </td><td>Branco                       </td><td>Masculino                    </td><td>MS                           </td><td>Centro-Oeste                 </td><td> 3                           </td><td> 1100                        </td></tr>\n",
       "\t<tr><td>59                           </td><td>Funcionário Setor Privado    </td><td>Ensino Médio Incompleto      </td><td> 9                           </td><td>Divorciado                   </td><td>Branco                       </td><td>Feminino                     </td><td>MT                           </td><td>Centro-Oeste                 </td><td> 2                           </td><td> 1100                        </td></tr>\n",
       "\t<tr><td>56                           </td><td>Empresário                   </td><td>Ensino Médio Completo        </td><td>13                           </td><td>Casado                       </td><td>Branco                       </td><td>Masculino                    </td><td>GO                           </td><td>Centro-Oeste                 </td><td> 0                           </td><td>10671                        </td></tr>\n",
       "\t<tr><td>19                           </td><td>Estagiário                   </td><td>Ensino Médio Incompleto      </td><td> 9                           </td><td>Solteiro                     </td><td>Branco                       </td><td>Masculino                    </td><td>DF                           </td><td>Centro-Oeste                 </td><td> 2                           </td><td> 1100                        </td></tr>\n",
       "\t<tr><td>54                           </td><td>Desempregado                 </td><td>Ensino Médio Completo        </td><td>10                           </td><td>Casado                       </td><td>Pardo                        </td><td>Masculino                    </td><td>RO                           </td><td>Norte                        </td><td> 4                           </td><td>    0                        </td></tr>\n",
       "\t<tr><td>39                           </td><td>Funcionário Setor Privado    </td><td>Ensino Médio Incompleto      </td><td> 9                           </td><td>Divorciado                   </td><td>Branco                       </td><td>Masculino                    </td><td>AC                           </td><td>Norte                        </td><td> 0                           </td><td> 1100                        </td></tr>\n",
       "\t<tr><td>49                           </td><td>Funcionário Setor Privado    </td><td>Ensino Médio Incompleto      </td><td> 9                           </td><td>Casado                       </td><td>Branco                       </td><td>Masculino                    </td><td>AM                           </td><td>Norte                        </td><td> 5                           </td><td> 1100                        </td></tr>\n",
       "\t<tr><td>...</td><td>...</td><td>...</td><td>...</td><td>...</td><td>...</td><td>...</td><td>...</td><td>...</td><td>...</td><td>...</td></tr>\n",
       "\t<tr><td>34                           </td><td>Funcionário Público          </td><td>Ensino Médio Completo        </td><td>13                           </td><td>Solteiro                     </td><td>Pardo                        </td><td>Masculino                    </td><td>BA                           </td><td>Nordeste                     </td><td>4                            </td><td> 4176                        </td></tr>\n",
       "\t<tr><td>24                           </td><td>Funcionário Setor Privado    </td><td>Ensino Médio Completo        </td><td>10                           </td><td>Solteiro                     </td><td>Branco                       </td><td>Masculino                    </td><td>MG                           </td><td>Sudeste                      </td><td>3                            </td><td> 3375                        </td></tr>\n",
       "\t<tr><td>55                           </td><td>Funcionário Setor Privado    </td><td>Ensino Médio Incompleto      </td><td> 9                           </td><td>Divorciado                   </td><td>Branco                       </td><td>Feminino                     </td><td>ES                           </td><td>Sudeste                      </td><td>4                            </td><td> 1100                        </td></tr>\n",
       "\t<tr><td>50                           </td><td>Funcionário Setor Privado    </td><td>Ensino Médio Incompleto      </td><td> 9                           </td><td>Casado                       </td><td>Branco                       </td><td>Masculino                    </td><td>RJ                           </td><td>Sudeste                      </td><td>3                            </td><td> 1100                        </td></tr>\n",
       "\t<tr><td>40                           </td><td>Funcionário Setor Privado    </td><td>Ensino Médio Completo        </td><td>13                           </td><td>Casado                       </td><td>Branco                       </td><td>Masculino                    </td><td>SP                           </td><td>Sudeste                      </td><td>4                            </td><td> 2190                        </td></tr>\n",
       "\t<tr><td>33                           </td><td>Funcionário Setor Privado    </td><td>Ensino Médio Completo        </td><td>13                           </td><td>Solteiro                     </td><td>Branco                       </td><td>Masculino                    </td><td>PR                           </td><td>Sul                          </td><td>1                            </td><td> 3232                        </td></tr>\n",
       "\t<tr><td>51                           </td><td>Funcionário Público          </td><td>Ensino Médio Completo        </td><td>10                           </td><td>Casado                       </td><td>Branco                       </td><td>Masculino                    </td><td>SC                           </td><td>Sul                          </td><td>0                            </td><td> 3843                        </td></tr>\n",
       "\t<tr><td>30                           </td><td>Funcionário Setor Privado    </td><td>Ensino Médio Completo        </td><td>10                           </td><td>Solteiro                     </td><td>Branco                       </td><td>Masculino                    </td><td>RS                           </td><td>Sul                          </td><td>5                            </td><td> 2290                        </td></tr>\n",
       "\t<tr><td>41                           </td><td>Funcionário Setor Privado    </td><td>Ensino Médio Incompleto      </td><td> 9                           </td><td>Casado                       </td><td>Branco                       </td><td>Masculino                    </td><td>MS                           </td><td>Centro-Oeste                 </td><td>0                            </td><td> 1100                        </td></tr>\n",
       "\t<tr><td>47                           </td><td>Empresário                   </td><td>Ensino Médio Completo        </td><td>11                           </td><td>Casado                       </td><td>Branco                       </td><td>Masculino                    </td><td>MT                           </td><td>Centro-Oeste                 </td><td>0                            </td><td>10825                        </td></tr>\n",
       "\t<tr><td>27                           </td><td>Funcionário Setor Privado    </td><td>Ensino Fundamental Incompleto</td><td> 4                           </td><td>Solteiro                     </td><td>Branco                       </td><td>Masculino                    </td><td>GO                           </td><td>Centro-Oeste                 </td><td>3                            </td><td> 1100                        </td></tr>\n",
       "\t<tr><td>37                           </td><td>Funcionário Setor Privado    </td><td>Ensino Médio Completo        </td><td>13                           </td><td>Separado                     </td><td>Branco                       </td><td>Feminino                     </td><td>DF                           </td><td>Centro-Oeste                 </td><td>3                            </td><td> 2659                        </td></tr>\n",
       "\t<tr><td>40                           </td><td>Funcionário Setor Privado    </td><td>Ensino Médio Completo        </td><td>11                           </td><td>Casado                       </td><td>Branco                       </td><td>Masculino                    </td><td>RO                           </td><td>Norte                        </td><td>3                            </td><td> 2430                        </td></tr>\n",
       "\t<tr><td>36                           </td><td>Funcionário Setor Privado    </td><td>Ensino Médio Incompleto      </td><td> 9                           </td><td>Casado                       </td><td>Branco                       </td><td>Masculino                    </td><td>AC                           </td><td>Norte                        </td><td>3                            </td><td> 1100                        </td></tr>\n",
       "\t<tr><td>37                           </td><td>Funcionário Setor Privado    </td><td>Ensino Médio Incompleto      </td><td> 9                           </td><td>Casado                       </td><td>Negro                        </td><td>Masculino                    </td><td>AM                           </td><td>Norte                        </td><td>3                            </td><td> 1100                        </td></tr>\n",
       "\t<tr><td>38                           </td><td>Funcionário Setor Privado    </td><td>Mestrado                     </td><td>15                           </td><td>Separado                     </td><td>Branco                       </td><td>Masculino                    </td><td>RR                           </td><td>Norte                        </td><td>1                            </td><td> 8380                        </td></tr>\n",
       "\t<tr><td>40                           </td><td>Autônomo                     </td><td>Ensino Médio Completo        </td><td>10                           </td><td>Casado                       </td><td>Branco                       </td><td>Masculino                    </td><td>PA                           </td><td>Norte                        </td><td>1                            </td><td> 3541                        </td></tr>\n",
       "\t<tr><td>35                           </td><td>Funcionário Setor Privado    </td><td>Ensino Médio Completo        </td><td>13                           </td><td>Divorciado                   </td><td>Branco                       </td><td>Feminino                     </td><td>AP                           </td><td>Norte                        </td><td>1                            </td><td> 2579                        </td></tr>\n",
       "\t<tr><td>47                           </td><td>Autônomo                     </td><td>Ensino Médio Incompleto      </td><td> 9                           </td><td>Casado                       </td><td>Branco                       </td><td>Feminino                     </td><td>TO                           </td><td>Norte                        </td><td>0                            </td><td> 1100                        </td></tr>\n",
       "\t<tr><td>20                           </td><td>                             </td><td>Ensino Médio Completo        </td><td>10                           </td><td>Solteiro                     </td><td>Branco                       </td><td>Masculino                    </td><td>MA                           </td><td>Nordeste                     </td><td>2                            </td><td> 3610                        </td></tr>\n",
       "\t<tr><td>33                           </td><td>Funcionário Setor Privado    </td><td>Mestrado                     </td><td>14                           </td><td>Casado                       </td><td>Branco                       </td><td>Masculino                    </td><td>PI                           </td><td>Nordeste                     </td><td>5                            </td><td> 6063                        </td></tr>\n",
       "\t<tr><td>45                           </td><td>Funcionário Setor Privado    </td><td>Ensino Médio Completo        </td><td>10                           </td><td>Divorciado                   </td><td>Branco                       </td><td>Feminino                     </td><td>CE                           </td><td>Nordeste                     </td><td>2                            </td><td> 3208                        </td></tr>\n",
       "\t<tr><td>66                           </td><td>Aposentado                   </td><td>Ensino Médio Completo        </td><td>10                           </td><td>Casado                       </td><td>Branco                       </td><td>Masculino                    </td><td>RN                           </td><td>Nordeste                     </td><td>0                            </td><td> 4178                        </td></tr>\n",
       "\t<tr><td>35                           </td><td>Autônomo                     </td><td>Ensino Médio Incompleto      </td><td> 9                           </td><td>Solteiro                     </td><td>Negro                        </td><td>Feminino                     </td><td>PB                           </td><td>Nordeste                     </td><td>5                            </td><td> 1100                        </td></tr>\n",
       "\t<tr><td>32                           </td><td>Funcionário Setor Privado    </td><td>Ensino Médio Incompleto      </td><td> 7                           </td><td>Casado                       </td><td>Branco                       </td><td>Masculino                    </td><td>PE                           </td><td>Nordeste                     </td><td>4                            </td><td> 1100                        </td></tr>\n",
       "\t<tr><td>23                           </td><td>Funcionário Setor Privado    </td><td>Ensino Médio Completo        </td><td>10                           </td><td>Casado                       </td><td>Negro                        </td><td>Masculino                    </td><td>AL                           </td><td>Nordeste                     </td><td>3                            </td><td> 2856                        </td></tr>\n",
       "\t<tr><td>19                           </td><td>Funcionário Setor Privado    </td><td>Ensino Médio Incompleto      </td><td> 9                           </td><td>Solteiro                     </td><td>Branco                       </td><td>Feminino                     </td><td>SE                           </td><td>Nordeste                     </td><td>1                            </td><td> 1100                        </td></tr>\n",
       "\t<tr><td>44                           </td><td>                             </td><td>Ensino Médio Completo        </td><td>10                           </td><td>Casado                       </td><td>Branco                       </td><td>Masculino                    </td><td>BA                           </td><td>Nordeste                     </td><td>0                            </td><td> 3729                        </td></tr>\n",
       "\t<tr><td>20                           </td><td>Funcionário Setor Privado    </td><td>Ensino Médio Incompleto      </td><td> 9                           </td><td>Solteiro                     </td><td>Negro                        </td><td>Masculino                    </td><td>MG                           </td><td>Sudeste                      </td><td>0                            </td><td> 1100                        </td></tr>\n",
       "\t<tr><td>41                           </td><td>Funcionário Setor Privado    </td><td>Ensino Médio Completo        </td><td>13                           </td><td>Casado                       </td><td>Branco                       </td><td>Masculino                    </td><td>AP                           </td><td>Norte                        </td><td>1                            </td><td> 2579                        </td></tr>\n",
       "</tbody>\n",
       "</table>\n"
      ],
      "text/latex": [
       "\\begin{tabular}{r|lllllllllll}\n",
       " idade & classe\\_trabalho & escolaridade & anos\\_estudo & estado\\_civil & raca & sexo & UF & regiao & qtde\\_filhos & salario\\\\\n",
       "\\hline\n",
       "\t 39                            & Servidor Público              & Ensino Médio Completo         & 13                            & Solteiro                      & Branco                        & Masculino                     & RO                            & Norte                         &  2                            &  4754                        \\\\\n",
       "\t 50                            & Autônomo                      & Superior Incompleto           & 13                            & Casado                        & Branco                        & Masculino                     & AC                            & Norte                         &  1                            &  3923                        \\\\\n",
       "\t 38                            & Funcionário Setor Privado     & Ensino Médio Incompleto       &  9                            & Divorciado                    & Branco                        & Masculino                     & AM                            & Norte                         &  0                            &  1100                        \\\\\n",
       "\t 53                            & Funcionário Setor Privado     & Ensino Médio Incompleto       &  7                            & Casado                        & Negro                         & Masculino                     & RR                            & Norte                         &  1                            &  1100                        \\\\\n",
       "\t 28                            & Funcionário Setor Privado     & Ensino Médio Completo         & 13                            & Casado                        & Negro                         & Feminino                      & PA                            & Norte                         &  0                            &  3430                        \\\\\n",
       "\t 37                            & Funcionário Setor Privado     & Mestrado                      & 14                            & Casado                        & Branco                        & Feminino                      & AP                            & Norte                         &  1                            & 10787                        \\\\\n",
       "\t 49                            & Funcionário Setor Privado     & Ensino Fundamental Completo   &  5                            & União Estável                 & Negro                         & Feminino                      & TO                            & Norte                         &  1                            &  1100                        \\\\\n",
       "\t 52                            & Autônomo                      & Ensino Médio Incompleto       &  9                            & Casado                        & Branco                        & Masculino                     & MA                            & Nordeste                      &  4                            &  1100                        \\\\\n",
       "\t 31                            & Funcionário Setor Privado     & Mestrado                      & 14                            & Solteiro                      & Branco                        & Feminino                      & PI                            & Nordeste                      &  4                            &  6031                        \\\\\n",
       "\t 42                            & Funcionário Setor Privado     & Ensino Médio Completo         & 13                            & Casado                        & Branco                        & Masculino                     & CE                            & Nordeste                      &  5                            &  3798                        \\\\\n",
       "\t 37                            & Funcionário Setor Privado     & Superior Completo             & 10                            & Casado                        & Negro                         & Masculino                     & RN                            & Nordeste                      &  4                            & 10316                        \\\\\n",
       "\t 30                            & Servidor Público              & Superior Incompleto           & 13                            & Casado                        & Pardo                         & Masculino                     & PB                            & Nordeste                      &  5                            &  3369                        \\\\\n",
       "\t 23                            & Funcionário Setor Privado     & Pós-Graduado                  & 13                            & Solteiro                      & Branco                        & Feminino                      & PE                            & Nordeste                      & NA                            &  5316                        \\\\\n",
       "\t 32                            & Funcionário Setor Privado     & Ensino Médio Completo         & 12                            & Solteiro                      & Negro                         & Masculino                     & AL                            & Nordeste                      &  1                            &  2897                        \\\\\n",
       "\t 40                            & Funcionário Setor Privado     & Ensino Médio Completo         & 11                            & Casado                        & Pardo                         & Masculino                     & SE                            & Nordeste                      &  5                            &  3269                        \\\\\n",
       "\t 34                            & Funcionário Setor Privado     & Ensino Fundamental Incompleto &  4                            & Casado                        & Indígena                      & Masculino                     & BA                            & Nordeste                      &  5                            &  1100                        \\\\\n",
       "\t 25                            & Autônomo                      & Ensino Médio Incompleto       &  9                            & Solteiro                      & Branco                        & Masculino                     & MG                            & Sudeste                       &  3                            &  1100                        \\\\\n",
       "\t 32                            & Funcionário Setor Privado     & Ensino Médio Incompleto       &  9                            & Solteiro                      & Branco                        & Masculino                     & ES                            & Sudeste                       &  5                            &  1100                        \\\\\n",
       "\t 38                            & Funcionário Setor Privado     & Ensino Médio Incompleto       &  7                            & Casado                        & Branco                        & Masculino                     & RJ                            & Sudeste                       &  1                            &  1100                        \\\\\n",
       "\t 43                            & Autônomo                      & Mestrado                      & 14                            & Divorciado                    & Branco                        & Feminino                      & SP                            & Sudeste                       &  1                            &  6120                        \\\\\n",
       "\t 40                            & Funcionário Setor Privado     & Doutorado                     & 16                            & Casado                        & Branco                        & Masculino                     & PR                            & Sul                           & NA                            & 12535                        \\\\\n",
       "\t 54                            & Funcionário Setor Privado     & Ensino Médio Incompleto       &  9                            & Separado                      & Negro                         & Feminino                      & SC                            & Sul                           &  2                            &  1100                        \\\\\n",
       "\t 35                            & Funcionário Público           & Ensino Fundamental Completo   &  5                            & Casado                        & Negro                         & Masculino                     & RS                            & Sul                           &  4                            &  1511                        \\\\\n",
       "\t 43                            & Funcionário Setor Privado     & Ensino Médio Incompleto       &  7                            & Casado                        & Branco                        & Masculino                     & MS                            & Centro-Oeste                  &  3                            &  1100                        \\\\\n",
       "\t 59                            & Funcionário Setor Privado     & Ensino Médio Incompleto       &  9                            & Divorciado                    & Branco                        & Feminino                      & MT                            & Centro-Oeste                  &  2                            &  1100                        \\\\\n",
       "\t 56                            & Empresário                    & Ensino Médio Completo         & 13                            & Casado                        & Branco                        & Masculino                     & GO                            & Centro-Oeste                  &  0                            & 10671                        \\\\\n",
       "\t 19                            & Estagiário                    & Ensino Médio Incompleto       &  9                            & Solteiro                      & Branco                        & Masculino                     & DF                            & Centro-Oeste                  &  2                            &  1100                        \\\\\n",
       "\t 54                            & Desempregado                  & Ensino Médio Completo         & 10                            & Casado                        & Pardo                         & Masculino                     & RO                            & Norte                         &  4                            &     0                        \\\\\n",
       "\t 39                            & Funcionário Setor Privado     & Ensino Médio Incompleto       &  9                            & Divorciado                    & Branco                        & Masculino                     & AC                            & Norte                         &  0                            &  1100                        \\\\\n",
       "\t 49                            & Funcionário Setor Privado     & Ensino Médio Incompleto       &  9                            & Casado                        & Branco                        & Masculino                     & AM                            & Norte                         &  5                            &  1100                        \\\\\n",
       "\t ... & ... & ... & ... & ... & ... & ... & ... & ... & ... & ...\\\\\n",
       "\t 34                            & Funcionário Público           & Ensino Médio Completo         & 13                            & Solteiro                      & Pardo                         & Masculino                     & BA                            & Nordeste                      & 4                             &  4176                        \\\\\n",
       "\t 24                            & Funcionário Setor Privado     & Ensino Médio Completo         & 10                            & Solteiro                      & Branco                        & Masculino                     & MG                            & Sudeste                       & 3                             &  3375                        \\\\\n",
       "\t 55                            & Funcionário Setor Privado     & Ensino Médio Incompleto       &  9                            & Divorciado                    & Branco                        & Feminino                      & ES                            & Sudeste                       & 4                             &  1100                        \\\\\n",
       "\t 50                            & Funcionário Setor Privado     & Ensino Médio Incompleto       &  9                            & Casado                        & Branco                        & Masculino                     & RJ                            & Sudeste                       & 3                             &  1100                        \\\\\n",
       "\t 40                            & Funcionário Setor Privado     & Ensino Médio Completo         & 13                            & Casado                        & Branco                        & Masculino                     & SP                            & Sudeste                       & 4                             &  2190                        \\\\\n",
       "\t 33                            & Funcionário Setor Privado     & Ensino Médio Completo         & 13                            & Solteiro                      & Branco                        & Masculino                     & PR                            & Sul                           & 1                             &  3232                        \\\\\n",
       "\t 51                            & Funcionário Público           & Ensino Médio Completo         & 10                            & Casado                        & Branco                        & Masculino                     & SC                            & Sul                           & 0                             &  3843                        \\\\\n",
       "\t 30                            & Funcionário Setor Privado     & Ensino Médio Completo         & 10                            & Solteiro                      & Branco                        & Masculino                     & RS                            & Sul                           & 5                             &  2290                        \\\\\n",
       "\t 41                            & Funcionário Setor Privado     & Ensino Médio Incompleto       &  9                            & Casado                        & Branco                        & Masculino                     & MS                            & Centro-Oeste                  & 0                             &  1100                        \\\\\n",
       "\t 47                            & Empresário                    & Ensino Médio Completo         & 11                            & Casado                        & Branco                        & Masculino                     & MT                            & Centro-Oeste                  & 0                             & 10825                        \\\\\n",
       "\t 27                            & Funcionário Setor Privado     & Ensino Fundamental Incompleto &  4                            & Solteiro                      & Branco                        & Masculino                     & GO                            & Centro-Oeste                  & 3                             &  1100                        \\\\\n",
       "\t 37                            & Funcionário Setor Privado     & Ensino Médio Completo         & 13                            & Separado                      & Branco                        & Feminino                      & DF                            & Centro-Oeste                  & 3                             &  2659                        \\\\\n",
       "\t 40                            & Funcionário Setor Privado     & Ensino Médio Completo         & 11                            & Casado                        & Branco                        & Masculino                     & RO                            & Norte                         & 3                             &  2430                        \\\\\n",
       "\t 36                            & Funcionário Setor Privado     & Ensino Médio Incompleto       &  9                            & Casado                        & Branco                        & Masculino                     & AC                            & Norte                         & 3                             &  1100                        \\\\\n",
       "\t 37                            & Funcionário Setor Privado     & Ensino Médio Incompleto       &  9                            & Casado                        & Negro                         & Masculino                     & AM                            & Norte                         & 3                             &  1100                        \\\\\n",
       "\t 38                            & Funcionário Setor Privado     & Mestrado                      & 15                            & Separado                      & Branco                        & Masculino                     & RR                            & Norte                         & 1                             &  8380                        \\\\\n",
       "\t 40                            & Autônomo                      & Ensino Médio Completo         & 10                            & Casado                        & Branco                        & Masculino                     & PA                            & Norte                         & 1                             &  3541                        \\\\\n",
       "\t 35                            & Funcionário Setor Privado     & Ensino Médio Completo         & 13                            & Divorciado                    & Branco                        & Feminino                      & AP                            & Norte                         & 1                             &  2579                        \\\\\n",
       "\t 47                            & Autônomo                      & Ensino Médio Incompleto       &  9                            & Casado                        & Branco                        & Feminino                      & TO                            & Norte                         & 0                             &  1100                        \\\\\n",
       "\t 20                            &                               & Ensino Médio Completo         & 10                            & Solteiro                      & Branco                        & Masculino                     & MA                            & Nordeste                      & 2                             &  3610                        \\\\\n",
       "\t 33                            & Funcionário Setor Privado     & Mestrado                      & 14                            & Casado                        & Branco                        & Masculino                     & PI                            & Nordeste                      & 5                             &  6063                        \\\\\n",
       "\t 45                            & Funcionário Setor Privado     & Ensino Médio Completo         & 10                            & Divorciado                    & Branco                        & Feminino                      & CE                            & Nordeste                      & 2                             &  3208                        \\\\\n",
       "\t 66                            & Aposentado                    & Ensino Médio Completo         & 10                            & Casado                        & Branco                        & Masculino                     & RN                            & Nordeste                      & 0                             &  4178                        \\\\\n",
       "\t 35                            & Autônomo                      & Ensino Médio Incompleto       &  9                            & Solteiro                      & Negro                         & Feminino                      & PB                            & Nordeste                      & 5                             &  1100                        \\\\\n",
       "\t 32                            & Funcionário Setor Privado     & Ensino Médio Incompleto       &  7                            & Casado                        & Branco                        & Masculino                     & PE                            & Nordeste                      & 4                             &  1100                        \\\\\n",
       "\t 23                            & Funcionário Setor Privado     & Ensino Médio Completo         & 10                            & Casado                        & Negro                         & Masculino                     & AL                            & Nordeste                      & 3                             &  2856                        \\\\\n",
       "\t 19                            & Funcionário Setor Privado     & Ensino Médio Incompleto       &  9                            & Solteiro                      & Branco                        & Feminino                      & SE                            & Nordeste                      & 1                             &  1100                        \\\\\n",
       "\t 44                            &                               & Ensino Médio Completo         & 10                            & Casado                        & Branco                        & Masculino                     & BA                            & Nordeste                      & 0                             &  3729                        \\\\\n",
       "\t 20                            & Funcionário Setor Privado     & Ensino Médio Incompleto       &  9                            & Solteiro                      & Negro                         & Masculino                     & MG                            & Sudeste                       & 0                             &  1100                        \\\\\n",
       "\t 41                            & Funcionário Setor Privado     & Ensino Médio Completo         & 13                            & Casado                        & Branco                        & Masculino                     & AP                            & Norte                         & 1                             &  2579                        \\\\\n",
       "\\end{tabular}\n"
      ],
      "text/markdown": [
       "\n",
       "| idade | classe_trabalho | escolaridade | anos_estudo | estado_civil | raca | sexo | UF | regiao | qtde_filhos | salario |\n",
       "|---|---|---|---|---|---|---|---|---|---|---|\n",
       "| 39                            | Servidor Público              | Ensino Médio Completo         | 13                            | Solteiro                      | Branco                        | Masculino                     | RO                            | Norte                         |  2                            |  4754                         |\n",
       "| 50                            | Autônomo                      | Superior Incompleto           | 13                            | Casado                        | Branco                        | Masculino                     | AC                            | Norte                         |  1                            |  3923                         |\n",
       "| 38                            | Funcionário Setor Privado     | Ensino Médio Incompleto       |  9                            | Divorciado                    | Branco                        | Masculino                     | AM                            | Norte                         |  0                            |  1100                         |\n",
       "| 53                            | Funcionário Setor Privado     | Ensino Médio Incompleto       |  7                            | Casado                        | Negro                         | Masculino                     | RR                            | Norte                         |  1                            |  1100                         |\n",
       "| 28                            | Funcionário Setor Privado     | Ensino Médio Completo         | 13                            | Casado                        | Negro                         | Feminino                      | PA                            | Norte                         |  0                            |  3430                         |\n",
       "| 37                            | Funcionário Setor Privado     | Mestrado                      | 14                            | Casado                        | Branco                        | Feminino                      | AP                            | Norte                         |  1                            | 10787                         |\n",
       "| 49                            | Funcionário Setor Privado     | Ensino Fundamental Completo   |  5                            | União Estável                 | Negro                         | Feminino                      | TO                            | Norte                         |  1                            |  1100                         |\n",
       "| 52                            | Autônomo                      | Ensino Médio Incompleto       |  9                            | Casado                        | Branco                        | Masculino                     | MA                            | Nordeste                      |  4                            |  1100                         |\n",
       "| 31                            | Funcionário Setor Privado     | Mestrado                      | 14                            | Solteiro                      | Branco                        | Feminino                      | PI                            | Nordeste                      |  4                            |  6031                         |\n",
       "| 42                            | Funcionário Setor Privado     | Ensino Médio Completo         | 13                            | Casado                        | Branco                        | Masculino                     | CE                            | Nordeste                      |  5                            |  3798                         |\n",
       "| 37                            | Funcionário Setor Privado     | Superior Completo             | 10                            | Casado                        | Negro                         | Masculino                     | RN                            | Nordeste                      |  4                            | 10316                         |\n",
       "| 30                            | Servidor Público              | Superior Incompleto           | 13                            | Casado                        | Pardo                         | Masculino                     | PB                            | Nordeste                      |  5                            |  3369                         |\n",
       "| 23                            | Funcionário Setor Privado     | Pós-Graduado                  | 13                            | Solteiro                      | Branco                        | Feminino                      | PE                            | Nordeste                      | NA                            |  5316                         |\n",
       "| 32                            | Funcionário Setor Privado     | Ensino Médio Completo         | 12                            | Solteiro                      | Negro                         | Masculino                     | AL                            | Nordeste                      |  1                            |  2897                         |\n",
       "| 40                            | Funcionário Setor Privado     | Ensino Médio Completo         | 11                            | Casado                        | Pardo                         | Masculino                     | SE                            | Nordeste                      |  5                            |  3269                         |\n",
       "| 34                            | Funcionário Setor Privado     | Ensino Fundamental Incompleto |  4                            | Casado                        | Indígena                      | Masculino                     | BA                            | Nordeste                      |  5                            |  1100                         |\n",
       "| 25                            | Autônomo                      | Ensino Médio Incompleto       |  9                            | Solteiro                      | Branco                        | Masculino                     | MG                            | Sudeste                       |  3                            |  1100                         |\n",
       "| 32                            | Funcionário Setor Privado     | Ensino Médio Incompleto       |  9                            | Solteiro                      | Branco                        | Masculino                     | ES                            | Sudeste                       |  5                            |  1100                         |\n",
       "| 38                            | Funcionário Setor Privado     | Ensino Médio Incompleto       |  7                            | Casado                        | Branco                        | Masculino                     | RJ                            | Sudeste                       |  1                            |  1100                         |\n",
       "| 43                            | Autônomo                      | Mestrado                      | 14                            | Divorciado                    | Branco                        | Feminino                      | SP                            | Sudeste                       |  1                            |  6120                         |\n",
       "| 40                            | Funcionário Setor Privado     | Doutorado                     | 16                            | Casado                        | Branco                        | Masculino                     | PR                            | Sul                           | NA                            | 12535                         |\n",
       "| 54                            | Funcionário Setor Privado     | Ensino Médio Incompleto       |  9                            | Separado                      | Negro                         | Feminino                      | SC                            | Sul                           |  2                            |  1100                         |\n",
       "| 35                            | Funcionário Público           | Ensino Fundamental Completo   |  5                            | Casado                        | Negro                         | Masculino                     | RS                            | Sul                           |  4                            |  1511                         |\n",
       "| 43                            | Funcionário Setor Privado     | Ensino Médio Incompleto       |  7                            | Casado                        | Branco                        | Masculino                     | MS                            | Centro-Oeste                  |  3                            |  1100                         |\n",
       "| 59                            | Funcionário Setor Privado     | Ensino Médio Incompleto       |  9                            | Divorciado                    | Branco                        | Feminino                      | MT                            | Centro-Oeste                  |  2                            |  1100                         |\n",
       "| 56                            | Empresário                    | Ensino Médio Completo         | 13                            | Casado                        | Branco                        | Masculino                     | GO                            | Centro-Oeste                  |  0                            | 10671                         |\n",
       "| 19                            | Estagiário                    | Ensino Médio Incompleto       |  9                            | Solteiro                      | Branco                        | Masculino                     | DF                            | Centro-Oeste                  |  2                            |  1100                         |\n",
       "| 54                            | Desempregado                  | Ensino Médio Completo         | 10                            | Casado                        | Pardo                         | Masculino                     | RO                            | Norte                         |  4                            |     0                         |\n",
       "| 39                            | Funcionário Setor Privado     | Ensino Médio Incompleto       |  9                            | Divorciado                    | Branco                        | Masculino                     | AC                            | Norte                         |  0                            |  1100                         |\n",
       "| 49                            | Funcionário Setor Privado     | Ensino Médio Incompleto       |  9                            | Casado                        | Branco                        | Masculino                     | AM                            | Norte                         |  5                            |  1100                         |\n",
       "| ... | ... | ... | ... | ... | ... | ... | ... | ... | ... | ... |\n",
       "| 34                            | Funcionário Público           | Ensino Médio Completo         | 13                            | Solteiro                      | Pardo                         | Masculino                     | BA                            | Nordeste                      | 4                             |  4176                         |\n",
       "| 24                            | Funcionário Setor Privado     | Ensino Médio Completo         | 10                            | Solteiro                      | Branco                        | Masculino                     | MG                            | Sudeste                       | 3                             |  3375                         |\n",
       "| 55                            | Funcionário Setor Privado     | Ensino Médio Incompleto       |  9                            | Divorciado                    | Branco                        | Feminino                      | ES                            | Sudeste                       | 4                             |  1100                         |\n",
       "| 50                            | Funcionário Setor Privado     | Ensino Médio Incompleto       |  9                            | Casado                        | Branco                        | Masculino                     | RJ                            | Sudeste                       | 3                             |  1100                         |\n",
       "| 40                            | Funcionário Setor Privado     | Ensino Médio Completo         | 13                            | Casado                        | Branco                        | Masculino                     | SP                            | Sudeste                       | 4                             |  2190                         |\n",
       "| 33                            | Funcionário Setor Privado     | Ensino Médio Completo         | 13                            | Solteiro                      | Branco                        | Masculino                     | PR                            | Sul                           | 1                             |  3232                         |\n",
       "| 51                            | Funcionário Público           | Ensino Médio Completo         | 10                            | Casado                        | Branco                        | Masculino                     | SC                            | Sul                           | 0                             |  3843                         |\n",
       "| 30                            | Funcionário Setor Privado     | Ensino Médio Completo         | 10                            | Solteiro                      | Branco                        | Masculino                     | RS                            | Sul                           | 5                             |  2290                         |\n",
       "| 41                            | Funcionário Setor Privado     | Ensino Médio Incompleto       |  9                            | Casado                        | Branco                        | Masculino                     | MS                            | Centro-Oeste                  | 0                             |  1100                         |\n",
       "| 47                            | Empresário                    | Ensino Médio Completo         | 11                            | Casado                        | Branco                        | Masculino                     | MT                            | Centro-Oeste                  | 0                             | 10825                         |\n",
       "| 27                            | Funcionário Setor Privado     | Ensino Fundamental Incompleto |  4                            | Solteiro                      | Branco                        | Masculino                     | GO                            | Centro-Oeste                  | 3                             |  1100                         |\n",
       "| 37                            | Funcionário Setor Privado     | Ensino Médio Completo         | 13                            | Separado                      | Branco                        | Feminino                      | DF                            | Centro-Oeste                  | 3                             |  2659                         |\n",
       "| 40                            | Funcionário Setor Privado     | Ensino Médio Completo         | 11                            | Casado                        | Branco                        | Masculino                     | RO                            | Norte                         | 3                             |  2430                         |\n",
       "| 36                            | Funcionário Setor Privado     | Ensino Médio Incompleto       |  9                            | Casado                        | Branco                        | Masculino                     | AC                            | Norte                         | 3                             |  1100                         |\n",
       "| 37                            | Funcionário Setor Privado     | Ensino Médio Incompleto       |  9                            | Casado                        | Negro                         | Masculino                     | AM                            | Norte                         | 3                             |  1100                         |\n",
       "| 38                            | Funcionário Setor Privado     | Mestrado                      | 15                            | Separado                      | Branco                        | Masculino                     | RR                            | Norte                         | 1                             |  8380                         |\n",
       "| 40                            | Autônomo                      | Ensino Médio Completo         | 10                            | Casado                        | Branco                        | Masculino                     | PA                            | Norte                         | 1                             |  3541                         |\n",
       "| 35                            | Funcionário Setor Privado     | Ensino Médio Completo         | 13                            | Divorciado                    | Branco                        | Feminino                      | AP                            | Norte                         | 1                             |  2579                         |\n",
       "| 47                            | Autônomo                      | Ensino Médio Incompleto       |  9                            | Casado                        | Branco                        | Feminino                      | TO                            | Norte                         | 0                             |  1100                         |\n",
       "| 20                            |                               | Ensino Médio Completo         | 10                            | Solteiro                      | Branco                        | Masculino                     | MA                            | Nordeste                      | 2                             |  3610                         |\n",
       "| 33                            | Funcionário Setor Privado     | Mestrado                      | 14                            | Casado                        | Branco                        | Masculino                     | PI                            | Nordeste                      | 5                             |  6063                         |\n",
       "| 45                            | Funcionário Setor Privado     | Ensino Médio Completo         | 10                            | Divorciado                    | Branco                        | Feminino                      | CE                            | Nordeste                      | 2                             |  3208                         |\n",
       "| 66                            | Aposentado                    | Ensino Médio Completo         | 10                            | Casado                        | Branco                        | Masculino                     | RN                            | Nordeste                      | 0                             |  4178                         |\n",
       "| 35                            | Autônomo                      | Ensino Médio Incompleto       |  9                            | Solteiro                      | Negro                         | Feminino                      | PB                            | Nordeste                      | 5                             |  1100                         |\n",
       "| 32                            | Funcionário Setor Privado     | Ensino Médio Incompleto       |  7                            | Casado                        | Branco                        | Masculino                     | PE                            | Nordeste                      | 4                             |  1100                         |\n",
       "| 23                            | Funcionário Setor Privado     | Ensino Médio Completo         | 10                            | Casado                        | Negro                         | Masculino                     | AL                            | Nordeste                      | 3                             |  2856                         |\n",
       "| 19                            | Funcionário Setor Privado     | Ensino Médio Incompleto       |  9                            | Solteiro                      | Branco                        | Feminino                      | SE                            | Nordeste                      | 1                             |  1100                         |\n",
       "| 44                            |                               | Ensino Médio Completo         | 10                            | Casado                        | Branco                        | Masculino                     | BA                            | Nordeste                      | 0                             |  3729                         |\n",
       "| 20                            | Funcionário Setor Privado     | Ensino Médio Incompleto       |  9                            | Solteiro                      | Negro                         | Masculino                     | MG                            | Sudeste                       | 0                             |  1100                         |\n",
       "| 41                            | Funcionário Setor Privado     | Ensino Médio Completo         | 13                            | Casado                        | Branco                        | Masculino                     | AP                            | Norte                         | 1                             |  2579                         |\n",
       "\n"
      ],
      "text/plain": [
       "     idade classe_trabalho           escolaridade                  anos_estudo\n",
       "1    39    Servidor Público          Ensino Médio Completo         13         \n",
       "2    50    Autônomo                  Superior Incompleto           13         \n",
       "3    38    Funcionário Setor Privado Ensino Médio Incompleto        9         \n",
       "4    53    Funcionário Setor Privado Ensino Médio Incompleto        7         \n",
       "5    28    Funcionário Setor Privado Ensino Médio Completo         13         \n",
       "6    37    Funcionário Setor Privado Mestrado                      14         \n",
       "7    49    Funcionário Setor Privado Ensino Fundamental Completo    5         \n",
       "8    52    Autônomo                  Ensino Médio Incompleto        9         \n",
       "9    31    Funcionário Setor Privado Mestrado                      14         \n",
       "10   42    Funcionário Setor Privado Ensino Médio Completo         13         \n",
       "11   37    Funcionário Setor Privado Superior Completo             10         \n",
       "12   30    Servidor Público          Superior Incompleto           13         \n",
       "13   23    Funcionário Setor Privado Pós-Graduado                  13         \n",
       "14   32    Funcionário Setor Privado Ensino Médio Completo         12         \n",
       "15   40    Funcionário Setor Privado Ensino Médio Completo         11         \n",
       "16   34    Funcionário Setor Privado Ensino Fundamental Incompleto  4         \n",
       "17   25    Autônomo                  Ensino Médio Incompleto        9         \n",
       "18   32    Funcionário Setor Privado Ensino Médio Incompleto        9         \n",
       "19   38    Funcionário Setor Privado Ensino Médio Incompleto        7         \n",
       "20   43    Autônomo                  Mestrado                      14         \n",
       "21   40    Funcionário Setor Privado Doutorado                     16         \n",
       "22   54    Funcionário Setor Privado Ensino Médio Incompleto        9         \n",
       "23   35    Funcionário Público       Ensino Fundamental Completo    5         \n",
       "24   43    Funcionário Setor Privado Ensino Médio Incompleto        7         \n",
       "25   59    Funcionário Setor Privado Ensino Médio Incompleto        9         \n",
       "26   56    Empresário                Ensino Médio Completo         13         \n",
       "27   19    Estagiário                Ensino Médio Incompleto        9         \n",
       "28   54    Desempregado              Ensino Médio Completo         10         \n",
       "29   39    Funcionário Setor Privado Ensino Médio Incompleto        9         \n",
       "30   49    Funcionário Setor Privado Ensino Médio Incompleto        9         \n",
       "...  ...   ...                       ...                           ...        \n",
       "7970 34    Funcionário Público       Ensino Médio Completo         13         \n",
       "7971 24    Funcionário Setor Privado Ensino Médio Completo         10         \n",
       "7972 55    Funcionário Setor Privado Ensino Médio Incompleto        9         \n",
       "7973 50    Funcionário Setor Privado Ensino Médio Incompleto        9         \n",
       "7974 40    Funcionário Setor Privado Ensino Médio Completo         13         \n",
       "7975 33    Funcionário Setor Privado Ensino Médio Completo         13         \n",
       "7976 51    Funcionário Público       Ensino Médio Completo         10         \n",
       "7977 30    Funcionário Setor Privado Ensino Médio Completo         10         \n",
       "7978 41    Funcionário Setor Privado Ensino Médio Incompleto        9         \n",
       "7979 47    Empresário                Ensino Médio Completo         11         \n",
       "7980 27    Funcionário Setor Privado Ensino Fundamental Incompleto  4         \n",
       "7981 37    Funcionário Setor Privado Ensino Médio Completo         13         \n",
       "7982 40    Funcionário Setor Privado Ensino Médio Completo         11         \n",
       "7983 36    Funcionário Setor Privado Ensino Médio Incompleto        9         \n",
       "7984 37    Funcionário Setor Privado Ensino Médio Incompleto        9         \n",
       "7985 38    Funcionário Setor Privado Mestrado                      15         \n",
       "7986 40    Autônomo                  Ensino Médio Completo         10         \n",
       "7987 35    Funcionário Setor Privado Ensino Médio Completo         13         \n",
       "7988 47    Autônomo                  Ensino Médio Incompleto        9         \n",
       "7989 20                              Ensino Médio Completo         10         \n",
       "7990 33    Funcionário Setor Privado Mestrado                      14         \n",
       "7991 45    Funcionário Setor Privado Ensino Médio Completo         10         \n",
       "7992 66    Aposentado                Ensino Médio Completo         10         \n",
       "7993 35    Autônomo                  Ensino Médio Incompleto        9         \n",
       "7994 32    Funcionário Setor Privado Ensino Médio Incompleto        7         \n",
       "7995 23    Funcionário Setor Privado Ensino Médio Completo         10         \n",
       "7996 19    Funcionário Setor Privado Ensino Médio Incompleto        9         \n",
       "7997 44                              Ensino Médio Completo         10         \n",
       "7998 20    Funcionário Setor Privado Ensino Médio Incompleto        9         \n",
       "7999 41    Funcionário Setor Privado Ensino Médio Completo         13         \n",
       "     estado_civil  raca     sexo      UF  regiao       qtde_filhos salario\n",
       "1    Solteiro      Branco   Masculino RO  Norte         2           4754  \n",
       "2    Casado        Branco   Masculino AC  Norte         1           3923  \n",
       "3    Divorciado    Branco   Masculino AM  Norte         0           1100  \n",
       "4    Casado        Negro    Masculino RR  Norte         1           1100  \n",
       "5    Casado        Negro    Feminino  PA  Norte         0           3430  \n",
       "6    Casado        Branco   Feminino  AP  Norte         1          10787  \n",
       "7    União Estável Negro    Feminino  TO  Norte         1           1100  \n",
       "8    Casado        Branco   Masculino MA  Nordeste      4           1100  \n",
       "9    Solteiro      Branco   Feminino  PI  Nordeste      4           6031  \n",
       "10   Casado        Branco   Masculino CE  Nordeste      5           3798  \n",
       "11   Casado        Negro    Masculino RN  Nordeste      4          10316  \n",
       "12   Casado        Pardo    Masculino PB  Nordeste      5           3369  \n",
       "13   Solteiro      Branco   Feminino  PE  Nordeste     NA           5316  \n",
       "14   Solteiro      Negro    Masculino AL  Nordeste      1           2897  \n",
       "15   Casado        Pardo    Masculino SE  Nordeste      5           3269  \n",
       "16   Casado        Indígena Masculino BA  Nordeste      5           1100  \n",
       "17   Solteiro      Branco   Masculino MG  Sudeste       3           1100  \n",
       "18   Solteiro      Branco   Masculino ES  Sudeste       5           1100  \n",
       "19   Casado        Branco   Masculino RJ  Sudeste       1           1100  \n",
       "20   Divorciado    Branco   Feminino  SP  Sudeste       1           6120  \n",
       "21   Casado        Branco   Masculino PR  Sul          NA          12535  \n",
       "22   Separado      Negro    Feminino  SC  Sul           2           1100  \n",
       "23   Casado        Negro    Masculino RS  Sul           4           1511  \n",
       "24   Casado        Branco   Masculino MS  Centro-Oeste  3           1100  \n",
       "25   Divorciado    Branco   Feminino  MT  Centro-Oeste  2           1100  \n",
       "26   Casado        Branco   Masculino GO  Centro-Oeste  0          10671  \n",
       "27   Solteiro      Branco   Masculino DF  Centro-Oeste  2           1100  \n",
       "28   Casado        Pardo    Masculino RO  Norte         4              0  \n",
       "29   Divorciado    Branco   Masculino AC  Norte         0           1100  \n",
       "30   Casado        Branco   Masculino AM  Norte         5           1100  \n",
       "...  ...           ...      ...       ... ...          ...         ...    \n",
       "7970 Solteiro      Pardo    Masculino BA  Nordeste     4            4176  \n",
       "7971 Solteiro      Branco   Masculino MG  Sudeste      3            3375  \n",
       "7972 Divorciado    Branco   Feminino  ES  Sudeste      4            1100  \n",
       "7973 Casado        Branco   Masculino RJ  Sudeste      3            1100  \n",
       "7974 Casado        Branco   Masculino SP  Sudeste      4            2190  \n",
       "7975 Solteiro      Branco   Masculino PR  Sul          1            3232  \n",
       "7976 Casado        Branco   Masculino SC  Sul          0            3843  \n",
       "7977 Solteiro      Branco   Masculino RS  Sul          5            2290  \n",
       "7978 Casado        Branco   Masculino MS  Centro-Oeste 0            1100  \n",
       "7979 Casado        Branco   Masculino MT  Centro-Oeste 0           10825  \n",
       "7980 Solteiro      Branco   Masculino GO  Centro-Oeste 3            1100  \n",
       "7981 Separado      Branco   Feminino  DF  Centro-Oeste 3            2659  \n",
       "7982 Casado        Branco   Masculino RO  Norte        3            2430  \n",
       "7983 Casado        Branco   Masculino AC  Norte        3            1100  \n",
       "7984 Casado        Negro    Masculino AM  Norte        3            1100  \n",
       "7985 Separado      Branco   Masculino RR  Norte        1            8380  \n",
       "7986 Casado        Branco   Masculino PA  Norte        1            3541  \n",
       "7987 Divorciado    Branco   Feminino  AP  Norte        1            2579  \n",
       "7988 Casado        Branco   Feminino  TO  Norte        0            1100  \n",
       "7989 Solteiro      Branco   Masculino MA  Nordeste     2            3610  \n",
       "7990 Casado        Branco   Masculino PI  Nordeste     5            6063  \n",
       "7991 Divorciado    Branco   Feminino  CE  Nordeste     2            3208  \n",
       "7992 Casado        Branco   Masculino RN  Nordeste     0            4178  \n",
       "7993 Solteiro      Negro    Feminino  PB  Nordeste     5            1100  \n",
       "7994 Casado        Branco   Masculino PE  Nordeste     4            1100  \n",
       "7995 Casado        Negro    Masculino AL  Nordeste     3            2856  \n",
       "7996 Solteiro      Branco   Feminino  SE  Nordeste     1            1100  \n",
       "7997 Casado        Branco   Masculino BA  Nordeste     0            3729  \n",
       "7998 Solteiro      Negro    Masculino MG  Sudeste      0            1100  \n",
       "7999 Casado        Branco   Masculino AP  Norte        1            2579  "
      ]
     },
     "metadata": {},
     "output_type": "display_data"
    }
   ],
   "source": [
    "dbReadTable(con, \"cliente\")"
   ]
  },
  {
   "cell_type": "code",
   "execution_count": 25,
   "metadata": {},
   "outputs": [
    {
     "data": {
      "text/html": [
       "<ol class=list-inline>\n",
       "\t<li>'cliente'</li>\n",
       "\t<li>'cliente1'</li>\n",
       "</ol>\n"
      ],
      "text/latex": [
       "\\begin{enumerate*}\n",
       "\\item 'cliente'\n",
       "\\item 'cliente1'\n",
       "\\end{enumerate*}\n"
      ],
      "text/markdown": [
       "1. 'cliente'\n",
       "2. 'cliente1'\n",
       "\n",
       "\n"
      ],
      "text/plain": [
       "[1] \"cliente\"  \"cliente1\""
      ]
     },
     "metadata": {},
     "output_type": "display_data"
    }
   ],
   "source": [
    "dbWriteTable(con,\"cliente1\",cliente)\n",
    "dbListTables(con)"
   ]
  },
  {
   "cell_type": "code",
   "execution_count": 26,
   "metadata": {},
   "outputs": [
    {
     "data": {
      "text/html": [
       "'cliente'"
      ],
      "text/latex": [
       "'cliente'"
      ],
      "text/markdown": [
       "'cliente'"
      ],
      "text/plain": [
       "[1] \"cliente\""
      ]
     },
     "metadata": {},
     "output_type": "display_data"
    }
   ],
   "source": [
    "dbRemoveTable(con,\"cliente1\")\n",
    "dbListTables(con)"
   ]
  },
  {
   "cell_type": "code",
   "execution_count": 29,
   "metadata": {},
   "outputs": [
    {
     "name": "stderr",
     "output_type": "stream",
     "text": [
      "Warning message:\n",
      "\"Closing open result set, pending rows\""
     ]
    },
    {
     "data": {
      "text/html": [
       "<table>\n",
       "<thead><tr><th scope=col>escolaridade</th></tr></thead>\n",
       "<tbody>\n",
       "\t<tr><td>Doutorado                    </td></tr>\n",
       "\t<tr><td>Ensino Fundamental Completo  </td></tr>\n",
       "\t<tr><td>Ensino Fundamental Incompleto</td></tr>\n",
       "\t<tr><td>Ensino Médio Completo        </td></tr>\n",
       "\t<tr><td>Ensino Médio Incompleto      </td></tr>\n",
       "\t<tr><td>Mestrado                     </td></tr>\n",
       "</tbody>\n",
       "</table>\n"
      ],
      "text/latex": [
       "\\begin{tabular}{r|l}\n",
       " escolaridade\\\\\n",
       "\\hline\n",
       "\t Doutorado                    \\\\\n",
       "\t Ensino Fundamental Completo  \\\\\n",
       "\t Ensino Fundamental Incompleto\\\\\n",
       "\t Ensino Médio Completo        \\\\\n",
       "\t Ensino Médio Incompleto      \\\\\n",
       "\t Mestrado                     \\\\\n",
       "\\end{tabular}\n"
      ],
      "text/markdown": [
       "\n",
       "| escolaridade |\n",
       "|---|\n",
       "| Doutorado                     |\n",
       "| Ensino Fundamental Completo   |\n",
       "| Ensino Fundamental Incompleto |\n",
       "| Ensino Médio Completo         |\n",
       "| Ensino Médio Incompleto       |\n",
       "| Mestrado                      |\n",
       "\n"
      ],
      "text/plain": [
       "  escolaridade                 \n",
       "1 Doutorado                    \n",
       "2 Ensino Fundamental Completo  \n",
       "3 Ensino Fundamental Incompleto\n",
       "4 Ensino Médio Completo        \n",
       "5 Ensino Médio Incompleto      \n",
       "6 Mestrado                     "
      ]
     },
     "metadata": {},
     "output_type": "display_data"
    }
   ],
   "source": [
    "dados <- dbSendQuery(con, \"SELECT DISTINCT(escolaridade) FROM cliente WHERE UF ='MG' ORDER BY 1\")\n",
    "dbFetch(dados)"
   ]
  },
  {
   "cell_type": "code",
   "execution_count": 30,
   "metadata": {},
   "outputs": [
    {
     "name": "stderr",
     "output_type": "stream",
     "text": [
      "Warning message in connection_release(conn@ptr):\n",
      "\"There are 1 result in use. The connection will be released when they are closed\""
     ]
    }
   ],
   "source": [
    "# Desconectar do banco de dados\n",
    "dbDisconnect(con)"
   ]
  },
  {
   "cell_type": "markdown",
   "metadata": {},
   "source": [
    "##### Fim!"
   ]
  }
 ],
 "metadata": {
  "kernelspec": {
   "display_name": "R",
   "language": "R",
   "name": "ir"
  },
  "language_info": {
   "codemirror_mode": "r",
   "file_extension": ".r",
   "mimetype": "text/x-r-source",
   "name": "R",
   "pygments_lexer": "r",
   "version": "3.6.1"
  }
 },
 "nbformat": 4,
 "nbformat_minor": 4
}
