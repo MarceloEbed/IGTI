{
 "cells": [
  {
   "cell_type": "markdown",
   "metadata": {},
   "source": [
    "# <font color='blue'>Coleta de dados no Twitter utilizando pacote RTweet do R</font>"
   ]
  },
  {
   "cell_type": "markdown",
   "metadata": {},
   "source": [
    "<b>Professora:</b> <i>Fernanda Farinelli</i>"
   ]
  },
  {
   "cell_type": "code",
   "execution_count": null,
   "metadata": {},
   "outputs": [],
   "source": [
    "# Você precisar instalar os pacotes a primeira vez que for usar.\n",
    "# Quando usar o Google Colab, vai precisar instalar sempre, antes de continuar.\n",
    "# No caso de optar por usar o R, com Jupyter ou RStudio na sua máquina, só é necessário instalar uma vez.\n",
    "\n",
    "install.packages(\"rtweet\")"
   ]
  },
  {
   "cell_type": "code",
   "execution_count": null,
   "metadata": {},
   "outputs": [],
   "source": [
    "library(tweets)"
   ]
  },
  {
   "cell_type": "code",
   "execution_count": null,
   "metadata": {},
   "outputs": [],
   "source": [
    "# Importar a biblioteca rtweet\n",
    "\n",
    "library(rtweet)"
   ]
  },
  {
   "cell_type": "code",
   "execution_count": null,
   "metadata": {},
   "outputs": [],
   "source": [
    "# Importar biblioteca para visualização\n",
    "library(ggplot2)\n",
    "library(dplyr)\n",
    "library(maps)"
   ]
  },
  {
   "cell_type": "code",
   "execution_count": null,
   "metadata": {},
   "outputs": [],
   "source": [
    "\n",
    "# text mining library\n",
    "library(tidytext)\n",
    "#"
   ]
  },
  {
   "cell_type": "code",
   "execution_count": null,
   "metadata": {},
   "outputs": [],
   "source": [
    "# Credenciais para utilização da API do Twitter\n",
    "# Define as variáveis com os valores de chaves do twitter\n",
    "app = \"\"\n",
    "api_key <- \"\"\n",
    "api_secret_key <- \"\"\n",
    "access_token <- \"\"\n",
    "access_token_secret <- \"\""
   ]
  },
  {
   "cell_type": "code",
   "execution_count": null,
   "metadata": {},
   "outputs": [],
   "source": [
    "# Autenticação via método create_token salvando o token na variável\n",
    "token <- create_token( app = app,\n",
    "  consumer_key = api_key,\n",
    "  consumer_secret = api_secret_key,\n",
    "  access_token = access_token,\n",
    "  access_secret = access_token_secret)"
   ]
  },
  {
   "cell_type": "markdown",
   "metadata": {},
   "source": [
    "## Coleta tweets de um usuário específico"
   ]
  },
  {
   "cell_type": "code",
   "execution_count": null,
   "metadata": {},
   "outputs": [],
   "source": [
    "# Buscar tweets de um determinado usuario\n",
    "# A coleta pode chegar mais ou menos 32000\n",
    "tweets_timeline <- get_timeline(\"@Ricamconsult\", n = 90, include_rts = FALSE)"
   ]
  },
  {
   "cell_type": "code",
   "execution_count": null,
   "metadata": {},
   "outputs": [],
   "source": [
    "length(tweets_timeline)"
   ]
  },
  {
   "cell_type": "code",
   "execution_count": null,
   "metadata": {},
   "outputs": [],
   "source": [
    "# Visualiza os primeiros tweets do vetor\n",
    "\n",
    "head(tweets_timeline,2)"
   ]
  },
  {
   "cell_type": "code",
   "execution_count": null,
   "metadata": {},
   "outputs": [],
   "source": [
    "tweets_timeline$text"
   ]
  },
  {
   "cell_type": "markdown",
   "metadata": {},
   "source": [
    "### Visualização de Dados - timeline"
   ]
  },
  {
   "cell_type": "code",
   "execution_count": null,
   "metadata": {},
   "outputs": [],
   "source": [
    "## plota a serie temporal dos tweets\n",
    "ts_plot(tweets_timeline, \"3 hours\") +\n",
    "   ggplot2::theme_minimal() +\n",
    "   ggplot2::theme(plot.title = ggplot2::element_text (face = \"bold\")) +\n",
    "   ggplot2::labs (\n",
    "      x = \"Hora\", y = \"Quantidade\",\n",
    "      title = \"Frequencia de tweets do usuário @Ricamconsult\",\n",
    "      subtitle = \"Contagem de tweets agregados em intervalos de 3 horas\",\n",
    "      caption = \"\\nFonte: Dados coletados do Twitter por Fernanda Farinelli com o pacote rtweet\"\n",
    ")"
   ]
  },
  {
   "cell_type": "code",
   "execution_count": null,
   "metadata": {},
   "outputs": [],
   "source": [
    "## plota a serie temporal dos tweets\n",
    "ts_plot(tweets_timeline, \"1 day\") +\n",
    "   ggplot2::theme_minimal() +\n",
    "   ggplot2::theme(plot.title = ggplot2::element_text (face = \"bold\")) +\n",
    "   ggplot2::labs (\n",
    "      x = \"Dia\", y = \"Quantidade\",\n",
    "      title = \"Frequencia de tweets do usuário @Ricamconsult\",\n",
    "      subtitle = \"Contagem de tweets agregados em intervalos de 1 dia\",\n",
    "      caption = \"\\nFonte: Dados coletados do Twitter por Fernanda Farinelli com o pacote rtweet\"\n",
    ")\n"
   ]
  },
  {
   "cell_type": "code",
   "execution_count": null,
   "metadata": {},
   "outputs": [],
   "source": [
    "# Salva o vetor de tweets em um arquivo csv\n",
    "\n",
    "write_as_csv(tweets_timeline,\"tweets_timeline.csv\",fileEncoding = \"UTF-8\")"
   ]
  },
  {
   "cell_type": "code",
   "execution_count": null,
   "metadata": {},
   "outputs": [],
   "source": [
    "getwd()"
   ]
  },
  {
   "cell_type": "markdown",
   "metadata": {},
   "source": [
    "## Coleta trend tweets "
   ]
  },
  {
   "cell_type": "code",
   "execution_count": null,
   "metadata": {},
   "outputs": [],
   "source": [
    "## Quais são os trends disponíveis\n",
    "trends <- trends_available()\n",
    "trends"
   ]
  },
  {
   "cell_type": "code",
   "execution_count": null,
   "metadata": {},
   "outputs": [],
   "source": [
    "# Quais são os trend topics no Brasil disponíveis nesse momemto.\n",
    "# A localiazção do Brasil é woeid = 23424768 (Where On Earth ID)\n",
    "\n",
    "trends_brasil <- get_trends(woeid = 23424768)\n",
    "#ww_trends <- get_trends(worldwide)"
   ]
  },
  {
   "cell_type": "code",
   "execution_count": null,
   "metadata": {},
   "outputs": [],
   "source": [
    "##cria variaveis lat/lgn (latitude e longitude) para os tweets dosponiveis\n",
    "trends_brasil <- lat_lng(trends_brasil)"
   ]
  },
  {
   "cell_type": "code",
   "execution_count": null,
   "metadata": {},
   "outputs": [],
   "source": [
    "trends_brasil$trend[1:10]"
   ]
  },
  {
   "cell_type": "code",
   "execution_count": null,
   "metadata": {},
   "outputs": [],
   "source": [
    "head(trends_brasil,1)"
   ]
  },
  {
   "cell_type": "code",
   "execution_count": null,
   "metadata": {},
   "outputs": [],
   "source": [
    "## busca por 10000 tweets enviados dos EUA\n",
    "\n",
    "tweets_geocode <- search_tweets(\"lang:en\", geocode = lookup_coords(\"usa\"), n = 10000)\n",
    "length(tweets_geocode)"
   ]
  },
  {
   "cell_type": "code",
   "execution_count": null,
   "metadata": {},
   "outputs": [],
   "source": [
    "##cria variaveis lat/lgn (latitude e longitude) para os tweets dosponiveis\n",
    "tweets_geocode <- lat_lng(tweets_geocode)"
   ]
  },
  {
   "cell_type": "markdown",
   "metadata": {},
   "source": [
    "Para conhecer mais sobre mapas consulte: https://geocompr.robinlovelace.net/adv-map.html"
   ]
  },
  {
   "cell_type": "code",
   "execution_count": null,
   "metadata": {},
   "outputs": [],
   "source": [
    "## plota o mapa dos EUA\n",
    "par(mar=c(0,0,0,0))\n",
    "maps::map(\"world\", \"usa\",  lwd = 0.5,fill=T,col=\"grey95\")\n",
    "maps::map(,,add=T)\n",
    "maps::map.axes()\n",
    "maps::map.scale(ratio=T,cex=0.5)\n",
    "#abline(h=0,lty=2)\n",
    "#Adiciona os tweets no mapa\n",
    "with(tweets_geocode, points(lng, lat, pch = 20, cex = .75, col = rgb(0, .3, .7, .75)))"
   ]
  },
  {
   "cell_type": "markdown",
   "metadata": {},
   "source": [
    "## Coleta tweets por palavra chave"
   ]
  },
  {
   "cell_type": "markdown",
   "metadata": {},
   "source": [
    "#### Definição dos parâmetros de busca"
   ]
  },
  {
   "cell_type": "code",
   "execution_count": null,
   "metadata": {},
   "outputs": [],
   "source": [
    "keyword <- c(\"covid OR covid-19\")\n",
    "\n",
    "count  <-   100              #número de tweets solicitados por palavra 27000+ funciona bem\n",
    "#since  <-  c(\"2020-01-01\") #data limite inferior no formato AAAA-MM-DD\n",
    "#until  <-  c(\"2020-07-31\") #data limite superior\n",
    "type   <-  \"mixed\"        #\"recent\", \"mixed\" ou \"popular\"\n",
    "lang <- \"pt\"\n",
    "#include_rts <- TRUE|FALSE      #Incluir retweets ou não na pesquisa\n",
    "#retryonratelimit <- TRUE|FALSE #Continuar ou não depois do limite de 18000 tweets por 15 minutos\n"
   ]
  },
  {
   "cell_type": "code",
   "execution_count": null,
   "metadata": {},
   "outputs": [],
   "source": [
    "## search for 100 tweets using the string key words\n",
    "tweets_keyword <- search_tweets(q = keyword,n = count,lang=lang, type = type,include_rts = FALSE)"
   ]
  },
  {
   "cell_type": "code",
   "execution_count": null,
   "metadata": {},
   "outputs": [],
   "source": [
    "length(tweets_keyword)"
   ]
  },
  {
   "cell_type": "code",
   "execution_count": null,
   "metadata": {},
   "outputs": [],
   "source": [
    "table(tweets_keyword$source)"
   ]
  },
  {
   "cell_type": "code",
   "execution_count": null,
   "metadata": {},
   "outputs": [],
   "source": [
    "# view the first 3 rows of the dataframe\n",
    "head(tweets_keyword, n = 3)"
   ]
  },
  {
   "cell_type": "code",
   "execution_count": null,
   "metadata": {},
   "outputs": [],
   "source": [
    "#Salvando o data frame como CSV na codificação do portugues\n",
    "write_as_csv(tweets_keyword, \"tweets_keywords.csv\", fileEncoding = \"UTF-8\")"
   ]
  },
  {
   "cell_type": "markdown",
   "metadata": {},
   "source": [
    "### Visualização de dados"
   ]
  },
  {
   "cell_type": "code",
   "execution_count": null,
   "metadata": {},
   "outputs": [],
   "source": [
    "## preview users data\n",
    "users_data(tweets_keyword)\n",
    "\n"
   ]
  },
  {
   "cell_type": "code",
   "execution_count": null,
   "metadata": {},
   "outputs": [],
   "source": [
    "## plot time series (if ggplot2 is installed)\n",
    "ts_plot(tweets_keyword)"
   ]
  },
  {
   "cell_type": "code",
   "execution_count": null,
   "metadata": {},
   "outputs": [],
   "source": [
    "##cria variaveis lat/lgn (latitude e longitude) para os tweets dosponiveis\n",
    "tweets_keyword <- lat_lng(tweets_keyword)"
   ]
  },
  {
   "cell_type": "code",
   "execution_count": null,
   "metadata": {},
   "outputs": [],
   "source": [
    "## plota o mapa dos EUA\n",
    "par(mar=c(0,0,0,0))\n",
    "#maps::map(\"world\", \"usa\",  lwd = 0.5,fill=T,col=\"grey95\")\n",
    "maps::map(\"world\", \"Brazil\",  lwd = 0.5,fill=T,col=\"grey95\")\n",
    "maps::map(,,add=T)\n",
    "maps::map.axes()\n",
    "maps::map.scale(ratio=T,cex=0.5)\n",
    "abline(h=0,lty=2)\n",
    "maps::map.cities(country=\"Brazil\",minpop=1000000,pch=15,cex=0.9)\n",
    "\n",
    "#Adiciona os tweets no mapa\n",
    "with(tweets_keyword, points(lng, lat, pch = 20, cex = .75, col = rgb(0, .3, .7, .75)))"
   ]
  },
  {
   "cell_type": "code",
   "execution_count": null,
   "metadata": {},
   "outputs": [],
   "source": [
    "library(dplyr)"
   ]
  },
  {
   "cell_type": "code",
   "execution_count": null,
   "metadata": {},
   "outputs": [],
   "source": [
    "length(tweets_keyword$location)"
   ]
  },
  {
   "cell_type": "code",
   "execution_count": null,
   "metadata": {},
   "outputs": [],
   "source": [
    "length(unique(tweets_keyword$location))"
   ]
  },
  {
   "cell_type": "code",
   "execution_count": null,
   "metadata": {},
   "outputs": [],
   "source": [
    "# Localizações por tweets\n",
    "length(unique(tweets_keyword$location))\n",
    "\n",
    "#Plot graph\n",
    "tweets_keyword %>%\n",
    "  count(location, sort = TRUE) %>%\n",
    "  mutate(location = reorder(location, n)) %>%\n",
    "  top_n(20) %>%\n",
    "  ggplot(aes(x = location, y = n)) +\n",
    "  geom_col() +\n",
    "  coord_flip() +\n",
    "      labs(x = \"Total\",\n",
    "      y = \"Localização\",\n",
    "      title = \"Local de origem dos tweets\")"
   ]
  },
  {
   "cell_type": "markdown",
   "metadata": {},
   "source": [
    "Fim"
   ]
  }
 ],
 "metadata": {
  "kernelspec": {
   "display_name": "R",
   "language": "R",
   "name": "ir"
  },
  "language_info": {
   "codemirror_mode": "r",
   "file_extension": ".r",
   "mimetype": "text/x-r-source",
   "name": "R",
   "pygments_lexer": "r",
   "version": "3.6.1"
  }
 },
 "nbformat": 4,
 "nbformat_minor": 4
}
