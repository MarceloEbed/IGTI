{
 "cells": [
  {
   "cell_type": "markdown",
   "metadata": {},
   "source": [
    "# Mineração de texto\n",
    "\n",
    "## Exemplo limpeza e tratamento de texto\n",
    "\n",
    "Professor: Fernanda Farinelli"
   ]
  },
  {
   "cell_type": "code",
   "execution_count": null,
   "metadata": {},
   "outputs": [],
   "source": [
    "#Instalar a biblioteca\n",
    "install.packages(\"tm\")\n"
   ]
  },
  {
   "cell_type": "code",
   "execution_count": 1,
   "metadata": {},
   "outputs": [
    {
     "name": "stderr",
     "output_type": "stream",
     "text": [
      "Warning message:\n",
      "\"package 'tm' was built under R version 3.6.3\"Loading required package: NLP\n",
      "Warning message:\n",
      "\"package 'NLP' was built under R version 3.6.3\""
     ]
    }
   ],
   "source": [
    "# importa biblioteca\n",
    "\n",
    "library(\"tm\")"
   ]
  },
  {
   "cell_type": "code",
   "execution_count": 2,
   "metadata": {},
   "outputs": [
    {
     "data": {
      "text/html": [
       "'C:/Users/FERNANDA/Dropbox/00-Workspaces/JupyterNotebooks/IGTI/Bootcamp/Capitulo4'"
      ],
      "text/latex": [
       "'C:/Users/FERNANDA/Dropbox/00-Workspaces/JupyterNotebooks/IGTI/Bootcamp/Capitulo4'"
      ],
      "text/markdown": [
       "'C:/Users/FERNANDA/Dropbox/00-Workspaces/JupyterNotebooks/IGTI/Bootcamp/Capitulo4'"
      ],
      "text/plain": [
       "[1] \"C:/Users/FERNANDA/Dropbox/00-Workspaces/JupyterNotebooks/IGTI/Bootcamp/Capitulo4\""
      ]
     },
     "metadata": {},
     "output_type": "display_data"
    }
   ],
   "source": [
    "getwd()"
   ]
  },
  {
   "cell_type": "code",
   "execution_count": 3,
   "metadata": {},
   "outputs": [
    {
     "name": "stderr",
     "output_type": "stream",
     "text": [
      "Warning message in readLines(\"./textoemexmplo.txt\", encoding = \"UTF-8\"):\n",
      "\"incomplete final line found on './textoemexmplo.txt'\""
     ]
    },
    {
     "data": {
      "text/html": [
       "<ol class=list-inline>\n",
       "\t<li>'@professoraigti Dizem por aí, mas não tenho certeza, que meu sorriso fica mais feliz quando te vejo, dizem também que meus olhos brilham, dizem também que é amor, mas isso sim é certeza. Dom Casmurro. @machadodeassis #domcasmurro #machadodeassis https://www.igti.com.br/'</li>\n",
       "\t<li>'Mas a saudade é isto mesmo; é o passar e repassar das memórias antigas. Dom Casmurro. (05/05/2021).'</li>\n",
       "\t<li>'E com uma letra bem pequena, lá estava escrito no seu epitáfio: Tentou ser, não conseguiu; tentou ter, não possuiu; tentou continuar, não prosseguiu; e nessa vida de expectativas frustradas tentou até amar… Pois bem, não conseguiu, e aqui está. Dom Casmurro.'</li>\n",
       "\t<li>'O que é o Stemming? #Stemming'</li>\n",
       "\t<li><span style=white-space:pre-wrap>'A linguagem natural possui diversas formas para flexionar uma palavra para que ela caiba em uma frase. É claro que essas características são determinadas de acordo com a língua que você estará utilizando. Pense por exemplo no verbo andar:   Andei – Ande – Andarei – Andando.'</span></li>\n",
       "\t<li>'Exemplo: Fonte: https://www.computersciencemaster.com.br/como-reduzir-uma-palavra-ao-seu-radical-em-python-stemming/ #stemming'</li>\n",
       "\t<li>'O processo de stemização (do inglês, stemming) consiste em reduzir uma palavra ao seu radical. A palavra “meninas” se reduziria a “menin”, assim como “meninos” e “menininhos”. As palavras “gato”, “gata”, “gatos” e “gatas” reduziriam-se para “gat”. A lematização reduz a palavra ao seu lema, que é a forma no masculino e singular.'</li>\n",
       "\t<li><span style=white-space:pre-wrap>'No caso de verbos, o lema é o infinitivo. Por exemplo, as palavras “gato”, “gata”, “gatos” e “gatas” são todas formas do mesmo lema: “gato”. Igualmente, as palavras “tiver”, “tenho”, “tinha”, “tem” são formas do mesmo lema “ter”. A vantagem de aplicar a stemização ou lematização é clara: redução de vocabulário e abstração de significado.   Esses pré-processamentos são de cunho morfossintático, que atuam em cima de itens lexicais, ou seja, palavras.'</span></li>\n",
       "\t<li>'O que é lematização?'</li>\n",
       "\t<li>'A lematização é o processo, efetivamente, de deflexionar uma palavra para determinar o seu lema (as flexões chamam-se lexemas). Por exemplo, as palavras gato, gata, gatos, gatas são todas formas do mesmo lema: gato. Igualmente, as palavras tiver, tenho, tinha, tem são do mesmo lema ter. E bom, melhor e ótimo são lexemas do lema bom. '</li>\n",
       "\t<li>'Exemplo: #exemplolematização Fonte: https://www.computersciencemaster.com.br/como-reduzir-uma-palavra-para-sua-forma-basica-em-python-lemmatizacao/ #lemma'</li>\n",
       "\t<li>'Lematização versus Stemming (Linha 12)'</li>\n",
       "\t<li>'As duas técnicas possuem o mesmo objetivo de inflexionar uma palavra, no entanto, os outputs de uma mesma palavra são diferentes. O stemming não se importa com a legibilidade da palavra gerada como output. Já a lematização resulta em uma palavra no infinitivo (geralmente – não obrigatóriamente).'</li>\n",
       "</ol>\n"
      ],
      "text/latex": [
       "\\begin{enumerate*}\n",
       "\\item '@professoraigti Dizem por aí, mas não tenho certeza, que meu sorriso fica mais feliz quando te vejo, dizem também que meus olhos brilham, dizem também que é amor, mas isso sim é certeza. Dom Casmurro. @machadodeassis \\#domcasmurro \\#machadodeassis https://www.igti.com.br/'\n",
       "\\item 'Mas a saudade é isto mesmo; é o passar e repassar das memórias antigas. Dom Casmurro. (05/05/2021).'\n",
       "\\item 'E com uma letra bem pequena, lá estava escrito no seu epitáfio: Tentou ser, não conseguiu; tentou ter, não possuiu; tentou continuar, não prosseguiu; e nessa vida de expectativas frustradas tentou até amar… Pois bem, não conseguiu, e aqui está. Dom Casmurro.'\n",
       "\\item 'O que é o Stemming? \\#Stemming'\n",
       "\\item 'A linguagem natural possui diversas formas para flexionar uma palavra para que ela caiba em uma frase. É claro que essas características são determinadas de acordo com a língua que você estará utilizando. Pense por exemplo no verbo andar:   Andei – Ande – Andarei – Andando.'\n",
       "\\item 'Exemplo: Fonte: https://www.computersciencemaster.com.br/como-reduzir-uma-palavra-ao-seu-radical-em-python-stemming/ \\#stemming'\n",
       "\\item 'O processo de stemização (do inglês, stemming) consiste em reduzir uma palavra ao seu radical. A palavra “meninas” se reduziria a “menin”, assim como “meninos” e “menininhos”. As palavras “gato”, “gata”, “gatos” e “gatas” reduziriam-se para “gat”. A lematização reduz a palavra ao seu lema, que é a forma no masculino e singular.'\n",
       "\\item 'No caso de verbos, o lema é o infinitivo. Por exemplo, as palavras “gato”, “gata”, “gatos” e “gatas” são todas formas do mesmo lema: “gato”. Igualmente, as palavras “tiver”, “tenho”, “tinha”, “tem” são formas do mesmo lema “ter”. A vantagem de aplicar a stemização ou lematização é clara: redução de vocabulário e abstração de significado.   Esses pré-processamentos são de cunho morfossintático, que atuam em cima de itens lexicais, ou seja, palavras.'\n",
       "\\item 'O que é lematização?'\n",
       "\\item 'A lematização é o processo, efetivamente, de deflexionar uma palavra para determinar o seu lema (as flexões chamam-se lexemas). Por exemplo, as palavras gato, gata, gatos, gatas são todas formas do mesmo lema: gato. Igualmente, as palavras tiver, tenho, tinha, tem são do mesmo lema ter. E bom, melhor e ótimo são lexemas do lema bom. '\n",
       "\\item 'Exemplo: \\#exemplolematização Fonte: https://www.computersciencemaster.com.br/como-reduzir-uma-palavra-para-sua-forma-basica-em-python-lemmatizacao/ \\#lemma'\n",
       "\\item 'Lematização versus Stemming (Linha 12)'\n",
       "\\item 'As duas técnicas possuem o mesmo objetivo de inflexionar uma palavra, no entanto, os outputs de uma mesma palavra são diferentes. O stemming não se importa com a legibilidade da palavra gerada como output. Já a lematização resulta em uma palavra no infinitivo (geralmente – não obrigatóriamente).'\n",
       "\\end{enumerate*}\n"
      ],
      "text/markdown": [
       "1. '@professoraigti Dizem por aí, mas não tenho certeza, que meu sorriso fica mais feliz quando te vejo, dizem também que meus olhos brilham, dizem também que é amor, mas isso sim é certeza. Dom Casmurro. @machadodeassis #domcasmurro #machadodeassis https://www.igti.com.br/'\n",
       "2. 'Mas a saudade é isto mesmo; é o passar e repassar das memórias antigas. Dom Casmurro. (05/05/2021).'\n",
       "3. 'E com uma letra bem pequena, lá estava escrito no seu epitáfio: Tentou ser, não conseguiu; tentou ter, não possuiu; tentou continuar, não prosseguiu; e nessa vida de expectativas frustradas tentou até amar… Pois bem, não conseguiu, e aqui está. Dom Casmurro.'\n",
       "4. 'O que é o Stemming? #Stemming'\n",
       "5. <span style=white-space:pre-wrap>'A linguagem natural possui diversas formas para flexionar uma palavra para que ela caiba em uma frase. É claro que essas características são determinadas de acordo com a língua que você estará utilizando. Pense por exemplo no verbo andar:   Andei – Ande – Andarei – Andando.'</span>\n",
       "6. 'Exemplo: Fonte: https://www.computersciencemaster.com.br/como-reduzir-uma-palavra-ao-seu-radical-em-python-stemming/ #stemming'\n",
       "7. 'O processo de stemização (do inglês, stemming) consiste em reduzir uma palavra ao seu radical. A palavra “meninas” se reduziria a “menin”, assim como “meninos” e “menininhos”. As palavras “gato”, “gata”, “gatos” e “gatas” reduziriam-se para “gat”. A lematização reduz a palavra ao seu lema, que é a forma no masculino e singular.'\n",
       "8. <span style=white-space:pre-wrap>'No caso de verbos, o lema é o infinitivo. Por exemplo, as palavras “gato”, “gata”, “gatos” e “gatas” são todas formas do mesmo lema: “gato”. Igualmente, as palavras “tiver”, “tenho”, “tinha”, “tem” são formas do mesmo lema “ter”. A vantagem de aplicar a stemização ou lematização é clara: redução de vocabulário e abstração de significado.   Esses pré-processamentos são de cunho morfossintático, que atuam em cima de itens lexicais, ou seja, palavras.'</span>\n",
       "9. 'O que é lematização?'\n",
       "10. 'A lematização é o processo, efetivamente, de deflexionar uma palavra para determinar o seu lema (as flexões chamam-se lexemas). Por exemplo, as palavras gato, gata, gatos, gatas são todas formas do mesmo lema: gato. Igualmente, as palavras tiver, tenho, tinha, tem são do mesmo lema ter. E bom, melhor e ótimo são lexemas do lema bom. '\n",
       "11. 'Exemplo: #exemplolematização Fonte: https://www.computersciencemaster.com.br/como-reduzir-uma-palavra-para-sua-forma-basica-em-python-lemmatizacao/ #lemma'\n",
       "12. 'Lematização versus Stemming (Linha 12)'\n",
       "13. 'As duas técnicas possuem o mesmo objetivo de inflexionar uma palavra, no entanto, os outputs de uma mesma palavra são diferentes. O stemming não se importa com a legibilidade da palavra gerada como output. Já a lematização resulta em uma palavra no infinitivo (geralmente – não obrigatóriamente).'\n",
       "\n",
       "\n"
      ],
      "text/plain": [
       " [1] \"@professoraigti Dizem por aí, mas não tenho certeza, que meu sorriso fica mais feliz quando te vejo, dizem também que meus olhos brilham, dizem também que é amor, mas isso sim é certeza. Dom Casmurro. @machadodeassis #domcasmurro #machadodeassis https://www.igti.com.br/\"                                                                                                                                                                                      \n",
       " [2] \"Mas a saudade é isto mesmo; é o passar e repassar das memórias antigas. Dom Casmurro. (05/05/2021).\"                                                                                                                                                                                                                                                                                                                                                                 \n",
       " [3] \"E com uma letra bem pequena, lá estava escrito no seu epitáfio: Tentou ser, não conseguiu; tentou ter, não possuiu; tentou continuar, não prosseguiu; e nessa vida de expectativas frustradas tentou até amar… Pois bem, não conseguiu, e aqui está. Dom Casmurro.\"                                                                                                                                                                                                  \n",
       " [4] \"O que é o Stemming? #Stemming\"                                                                                                                                                                                                                                                                                                                                                                                                                                       \n",
       " [5] \"A linguagem natural possui diversas formas para flexionar uma palavra para que ela caiba em uma frase. É claro que essas características são determinadas de acordo com a língua que você estará utilizando. Pense por exemplo no verbo andar:   Andei – Ande – Andarei – Andando.\"                                                                                                                                                                                  \n",
       " [6] \"Exemplo: Fonte: https://www.computersciencemaster.com.br/como-reduzir-uma-palavra-ao-seu-radical-em-python-stemming/ #stemming\"                                                                                                                                                                                                                                                                                                                                      \n",
       " [7] \"O processo de stemização (do inglês, stemming) consiste em reduzir uma palavra ao seu radical. A palavra “meninas” se reduziria a “menin”, assim como “meninos” e “menininhos”. As palavras “gato”, “gata”, “gatos” e “gatas” reduziriam-se para “gat”. A lematização reduz a palavra ao seu lema, que é a forma no masculino e singular.\"                                                                                                                           \n",
       " [8] \"No caso de verbos, o lema é o infinitivo. Por exemplo, as palavras “gato”, “gata”, “gatos” e “gatas” são todas formas do mesmo lema: “gato”. Igualmente, as palavras “tiver”, “tenho”, “tinha”, “tem” são formas do mesmo lema “ter”. A vantagem de aplicar a stemização ou lematização é clara: redução de vocabulário e abstração de significado.   Esses pré-processamentos são de cunho morfossintático, que atuam em cima de itens lexicais, ou seja, palavras.\"\n",
       " [9] \"O que é lematização?\"                                                                                                                                                                                                                                                                                                                                                                                                                                                \n",
       "[10] \"A lematização é o processo, efetivamente, de deflexionar uma palavra para determinar o seu lema (as flexões chamam-se lexemas). Por exemplo, as palavras gato, gata, gatos, gatas são todas formas do mesmo lema: gato. Igualmente, as palavras tiver, tenho, tinha, tem são do mesmo lema ter. E bom, melhor e ótimo são lexemas do lema bom. \"                                                                                                                     \n",
       "[11] \"Exemplo: #exemplolematização Fonte: https://www.computersciencemaster.com.br/como-reduzir-uma-palavra-para-sua-forma-basica-em-python-lemmatizacao/ #lemma\"                                                                                                                                                                                                                                                                                                          \n",
       "[12] \"Lematização versus Stemming (Linha 12)\"                                                                                                                                                                                                                                                                                                                                                                                                                              \n",
       "[13] \"As duas técnicas possuem o mesmo objetivo de inflexionar uma palavra, no entanto, os outputs de uma mesma palavra são diferentes. O stemming não se importa com a legibilidade da palavra gerada como output. Já a lematização resulta em uma palavra no infinitivo (geralmente – não obrigatóriamente).\"                                                                                                                                                            "
      ]
     },
     "metadata": {},
     "output_type": "display_data"
    }
   ],
   "source": [
    "# Lê arquivo\n",
    "texto <- unclean_text <- readLines(\"./textoemexmplo.txt\",encoding='UTF-8')\n",
    "unclean_text"
   ]
  },
  {
   "cell_type": "code",
   "execution_count": 4,
   "metadata": {},
   "outputs": [
    {
     "data": {
      "text/html": [
       "<ol class=list-inline>\n",
       "\t<li><span style=white-space:pre-wrap>'  Dizem por aí, mas não tenho certeza, que meu sorriso fica mais feliz quando te vejo, dizem também que meus olhos brilham, dizem também que é amor, mas isso sim é certeza. Dom Casmurro.   #domcasmurro #machadodeassis https://www.igti.com.br/'</span></li>\n",
       "\t<li>'Mas a saudade é isto mesmo; é o passar e repassar das memórias antigas. Dom Casmurro. (05/05/2021).'</li>\n",
       "\t<li>'E com uma letra bem pequena, lá estava escrito no seu epitáfio: Tentou ser, não conseguiu; tentou ter, não possuiu; tentou continuar, não prosseguiu; e nessa vida de expectativas frustradas tentou até amar… Pois bem, não conseguiu, e aqui está. Dom Casmurro.'</li>\n",
       "\t<li>'O que é o Stemming? #Stemming'</li>\n",
       "\t<li><span style=white-space:pre-wrap>'A linguagem natural possui diversas formas para flexionar uma palavra para que ela caiba em uma frase. É claro que essas características são determinadas de acordo com a língua que você estará utilizando. Pense por exemplo no verbo andar:   Andei – Ande – Andarei – Andando.'</span></li>\n",
       "\t<li>'Exemplo: Fonte: https://www.computersciencemaster.com.br/como-reduzir-uma-palavra-ao-seu-radical-em-python-stemming/ #stemming'</li>\n",
       "\t<li>'O processo de stemização (do inglês, stemming) consiste em reduzir uma palavra ao seu radical. A palavra “meninas” se reduziria a “menin”, assim como “meninos” e “menininhos”. As palavras “gato”, “gata”, “gatos” e “gatas” reduziriam-se para “gat”. A lematização reduz a palavra ao seu lema, que é a forma no masculino e singular.'</li>\n",
       "\t<li><span style=white-space:pre-wrap>'No caso de verbos, o lema é o infinitivo. Por exemplo, as palavras “gato”, “gata”, “gatos” e “gatas” são todas formas do mesmo lema: “gato”. Igualmente, as palavras “tiver”, “tenho”, “tinha”, “tem” são formas do mesmo lema “ter”. A vantagem de aplicar a stemização ou lematização é clara: redução de vocabulário e abstração de significado.   Esses pré-processamentos são de cunho morfossintático, que atuam em cima de itens lexicais, ou seja, palavras.'</span></li>\n",
       "\t<li>'O que é lematização?'</li>\n",
       "\t<li>'A lematização é o processo, efetivamente, de deflexionar uma palavra para determinar o seu lema (as flexões chamam-se lexemas). Por exemplo, as palavras gato, gata, gatos, gatas são todas formas do mesmo lema: gato. Igualmente, as palavras tiver, tenho, tinha, tem são do mesmo lema ter. E bom, melhor e ótimo são lexemas do lema bom. '</li>\n",
       "\t<li>'Exemplo: #exemplolematização Fonte: https://www.computersciencemaster.com.br/como-reduzir-uma-palavra-para-sua-forma-basica-em-python-lemmatizacao/ #lemma'</li>\n",
       "\t<li>'Lematização versus Stemming (Linha 12)'</li>\n",
       "\t<li>'As duas técnicas possuem o mesmo objetivo de inflexionar uma palavra, no entanto, os outputs de uma mesma palavra são diferentes. O stemming não se importa com a legibilidade da palavra gerada como output. Já a lematização resulta em uma palavra no infinitivo (geralmente – não obrigatóriamente).'</li>\n",
       "</ol>\n"
      ],
      "text/latex": [
       "\\begin{enumerate*}\n",
       "\\item '  Dizem por aí, mas não tenho certeza, que meu sorriso fica mais feliz quando te vejo, dizem também que meus olhos brilham, dizem também que é amor, mas isso sim é certeza. Dom Casmurro.   \\#domcasmurro \\#machadodeassis https://www.igti.com.br/'\n",
       "\\item 'Mas a saudade é isto mesmo; é o passar e repassar das memórias antigas. Dom Casmurro. (05/05/2021).'\n",
       "\\item 'E com uma letra bem pequena, lá estava escrito no seu epitáfio: Tentou ser, não conseguiu; tentou ter, não possuiu; tentou continuar, não prosseguiu; e nessa vida de expectativas frustradas tentou até amar… Pois bem, não conseguiu, e aqui está. Dom Casmurro.'\n",
       "\\item 'O que é o Stemming? \\#Stemming'\n",
       "\\item 'A linguagem natural possui diversas formas para flexionar uma palavra para que ela caiba em uma frase. É claro que essas características são determinadas de acordo com a língua que você estará utilizando. Pense por exemplo no verbo andar:   Andei – Ande – Andarei – Andando.'\n",
       "\\item 'Exemplo: Fonte: https://www.computersciencemaster.com.br/como-reduzir-uma-palavra-ao-seu-radical-em-python-stemming/ \\#stemming'\n",
       "\\item 'O processo de stemização (do inglês, stemming) consiste em reduzir uma palavra ao seu radical. A palavra “meninas” se reduziria a “menin”, assim como “meninos” e “menininhos”. As palavras “gato”, “gata”, “gatos” e “gatas” reduziriam-se para “gat”. A lematização reduz a palavra ao seu lema, que é a forma no masculino e singular.'\n",
       "\\item 'No caso de verbos, o lema é o infinitivo. Por exemplo, as palavras “gato”, “gata”, “gatos” e “gatas” são todas formas do mesmo lema: “gato”. Igualmente, as palavras “tiver”, “tenho”, “tinha”, “tem” são formas do mesmo lema “ter”. A vantagem de aplicar a stemização ou lematização é clara: redução de vocabulário e abstração de significado.   Esses pré-processamentos são de cunho morfossintático, que atuam em cima de itens lexicais, ou seja, palavras.'\n",
       "\\item 'O que é lematização?'\n",
       "\\item 'A lematização é o processo, efetivamente, de deflexionar uma palavra para determinar o seu lema (as flexões chamam-se lexemas). Por exemplo, as palavras gato, gata, gatos, gatas são todas formas do mesmo lema: gato. Igualmente, as palavras tiver, tenho, tinha, tem são do mesmo lema ter. E bom, melhor e ótimo são lexemas do lema bom. '\n",
       "\\item 'Exemplo: \\#exemplolematização Fonte: https://www.computersciencemaster.com.br/como-reduzir-uma-palavra-para-sua-forma-basica-em-python-lemmatizacao/ \\#lemma'\n",
       "\\item 'Lematização versus Stemming (Linha 12)'\n",
       "\\item 'As duas técnicas possuem o mesmo objetivo de inflexionar uma palavra, no entanto, os outputs de uma mesma palavra são diferentes. O stemming não se importa com a legibilidade da palavra gerada como output. Já a lematização resulta em uma palavra no infinitivo (geralmente – não obrigatóriamente).'\n",
       "\\end{enumerate*}\n"
      ],
      "text/markdown": [
       "1. <span style=white-space:pre-wrap>'  Dizem por aí, mas não tenho certeza, que meu sorriso fica mais feliz quando te vejo, dizem também que meus olhos brilham, dizem também que é amor, mas isso sim é certeza. Dom Casmurro.   #domcasmurro #machadodeassis https://www.igti.com.br/'</span>\n",
       "2. 'Mas a saudade é isto mesmo; é o passar e repassar das memórias antigas. Dom Casmurro. (05/05/2021).'\n",
       "3. 'E com uma letra bem pequena, lá estava escrito no seu epitáfio: Tentou ser, não conseguiu; tentou ter, não possuiu; tentou continuar, não prosseguiu; e nessa vida de expectativas frustradas tentou até amar… Pois bem, não conseguiu, e aqui está. Dom Casmurro.'\n",
       "4. 'O que é o Stemming? #Stemming'\n",
       "5. <span style=white-space:pre-wrap>'A linguagem natural possui diversas formas para flexionar uma palavra para que ela caiba em uma frase. É claro que essas características são determinadas de acordo com a língua que você estará utilizando. Pense por exemplo no verbo andar:   Andei – Ande – Andarei – Andando.'</span>\n",
       "6. 'Exemplo: Fonte: https://www.computersciencemaster.com.br/como-reduzir-uma-palavra-ao-seu-radical-em-python-stemming/ #stemming'\n",
       "7. 'O processo de stemização (do inglês, stemming) consiste em reduzir uma palavra ao seu radical. A palavra “meninas” se reduziria a “menin”, assim como “meninos” e “menininhos”. As palavras “gato”, “gata”, “gatos” e “gatas” reduziriam-se para “gat”. A lematização reduz a palavra ao seu lema, que é a forma no masculino e singular.'\n",
       "8. <span style=white-space:pre-wrap>'No caso de verbos, o lema é o infinitivo. Por exemplo, as palavras “gato”, “gata”, “gatos” e “gatas” são todas formas do mesmo lema: “gato”. Igualmente, as palavras “tiver”, “tenho”, “tinha”, “tem” são formas do mesmo lema “ter”. A vantagem de aplicar a stemização ou lematização é clara: redução de vocabulário e abstração de significado.   Esses pré-processamentos são de cunho morfossintático, que atuam em cima de itens lexicais, ou seja, palavras.'</span>\n",
       "9. 'O que é lematização?'\n",
       "10. 'A lematização é o processo, efetivamente, de deflexionar uma palavra para determinar o seu lema (as flexões chamam-se lexemas). Por exemplo, as palavras gato, gata, gatos, gatas são todas formas do mesmo lema: gato. Igualmente, as palavras tiver, tenho, tinha, tem são do mesmo lema ter. E bom, melhor e ótimo são lexemas do lema bom. '\n",
       "11. 'Exemplo: #exemplolematização Fonte: https://www.computersciencemaster.com.br/como-reduzir-uma-palavra-para-sua-forma-basica-em-python-lemmatizacao/ #lemma'\n",
       "12. 'Lematização versus Stemming (Linha 12)'\n",
       "13. 'As duas técnicas possuem o mesmo objetivo de inflexionar uma palavra, no entanto, os outputs de uma mesma palavra são diferentes. O stemming não se importa com a legibilidade da palavra gerada como output. Já a lematização resulta em uma palavra no infinitivo (geralmente – não obrigatóriamente).'\n",
       "\n",
       "\n"
      ],
      "text/plain": [
       " [1] \"  Dizem por aí, mas não tenho certeza, que meu sorriso fica mais feliz quando te vejo, dizem também que meus olhos brilham, dizem também que é amor, mas isso sim é certeza. Dom Casmurro.   #domcasmurro #machadodeassis https://www.igti.com.br/\"                                                                                                                                                                                                                  \n",
       " [2] \"Mas a saudade é isto mesmo; é o passar e repassar das memórias antigas. Dom Casmurro. (05/05/2021).\"                                                                                                                                                                                                                                                                                                                                                                 \n",
       " [3] \"E com uma letra bem pequena, lá estava escrito no seu epitáfio: Tentou ser, não conseguiu; tentou ter, não possuiu; tentou continuar, não prosseguiu; e nessa vida de expectativas frustradas tentou até amar… Pois bem, não conseguiu, e aqui está. Dom Casmurro.\"                                                                                                                                                                                                  \n",
       " [4] \"O que é o Stemming? #Stemming\"                                                                                                                                                                                                                                                                                                                                                                                                                                       \n",
       " [5] \"A linguagem natural possui diversas formas para flexionar uma palavra para que ela caiba em uma frase. É claro que essas características são determinadas de acordo com a língua que você estará utilizando. Pense por exemplo no verbo andar:   Andei – Ande – Andarei – Andando.\"                                                                                                                                                                                  \n",
       " [6] \"Exemplo: Fonte: https://www.computersciencemaster.com.br/como-reduzir-uma-palavra-ao-seu-radical-em-python-stemming/ #stemming\"                                                                                                                                                                                                                                                                                                                                      \n",
       " [7] \"O processo de stemização (do inglês, stemming) consiste em reduzir uma palavra ao seu radical. A palavra “meninas” se reduziria a “menin”, assim como “meninos” e “menininhos”. As palavras “gato”, “gata”, “gatos” e “gatas” reduziriam-se para “gat”. A lematização reduz a palavra ao seu lema, que é a forma no masculino e singular.\"                                                                                                                           \n",
       " [8] \"No caso de verbos, o lema é o infinitivo. Por exemplo, as palavras “gato”, “gata”, “gatos” e “gatas” são todas formas do mesmo lema: “gato”. Igualmente, as palavras “tiver”, “tenho”, “tinha”, “tem” são formas do mesmo lema “ter”. A vantagem de aplicar a stemização ou lematização é clara: redução de vocabulário e abstração de significado.   Esses pré-processamentos são de cunho morfossintático, que atuam em cima de itens lexicais, ou seja, palavras.\"\n",
       " [9] \"O que é lematização?\"                                                                                                                                                                                                                                                                                                                                                                                                                                                \n",
       "[10] \"A lematização é o processo, efetivamente, de deflexionar uma palavra para determinar o seu lema (as flexões chamam-se lexemas). Por exemplo, as palavras gato, gata, gatos, gatas são todas formas do mesmo lema: gato. Igualmente, as palavras tiver, tenho, tinha, tem são do mesmo lema ter. E bom, melhor e ótimo são lexemas do lema bom. \"                                                                                                                     \n",
       "[11] \"Exemplo: #exemplolematização Fonte: https://www.computersciencemaster.com.br/como-reduzir-uma-palavra-para-sua-forma-basica-em-python-lemmatizacao/ #lemma\"                                                                                                                                                                                                                                                                                                          \n",
       "[12] \"Lematização versus Stemming (Linha 12)\"                                                                                                                                                                                                                                                                                                                                                                                                                              \n",
       "[13] \"As duas técnicas possuem o mesmo objetivo de inflexionar uma palavra, no entanto, os outputs de uma mesma palavra são diferentes. O stemming não se importa com a legibilidade da palavra gerada como output. Já a lematização resulta em uma palavra no infinitivo (geralmente – não obrigatóriamente).\"                                                                                                                                                            "
      ]
     },
     "metadata": {},
     "output_type": "display_data"
    }
   ],
   "source": [
    "# Remove menções\n",
    "clean_tweet = gsub(\"@\\\\w+\", \" \", unclean_text)\n",
    "clean_tweet"
   ]
  },
  {
   "cell_type": "code",
   "execution_count": 5,
   "metadata": {},
   "outputs": [
    {
     "data": {
      "text/html": [
       "<ol class=list-inline>\n",
       "\t<li><span style=white-space:pre-wrap>'  Dizem por aí, mas não tenho certeza, que meu sorriso fica mais feliz quando te vejo, dizem também que meus olhos brilham, dizem também que é amor, mas isso sim é certeza. Dom Casmurro.       https://www.igti.com.br/'</span></li>\n",
       "\t<li>'Mas a saudade é isto mesmo; é o passar e repassar das memórias antigas. Dom Casmurro. (05/05/2021).'</li>\n",
       "\t<li>'E com uma letra bem pequena, lá estava escrito no seu epitáfio: Tentou ser, não conseguiu; tentou ter, não possuiu; tentou continuar, não prosseguiu; e nessa vida de expectativas frustradas tentou até amar… Pois bem, não conseguiu, e aqui está. Dom Casmurro.'</li>\n",
       "\t<li><span style=white-space:pre-wrap>'O que é o Stemming?  '</span></li>\n",
       "\t<li><span style=white-space:pre-wrap>'A linguagem natural possui diversas formas para flexionar uma palavra para que ela caiba em uma frase. É claro que essas características são determinadas de acordo com a língua que você estará utilizando. Pense por exemplo no verbo andar:   Andei – Ande – Andarei – Andando.'</span></li>\n",
       "\t<li><span style=white-space:pre-wrap>'Exemplo: Fonte: https://www.computersciencemaster.com.br/como-reduzir-uma-palavra-ao-seu-radical-em-python-stemming/  '</span></li>\n",
       "\t<li>'O processo de stemização (do inglês, stemming) consiste em reduzir uma palavra ao seu radical. A palavra “meninas” se reduziria a “menin”, assim como “meninos” e “menininhos”. As palavras “gato”, “gata”, “gatos” e “gatas” reduziriam-se para “gat”. A lematização reduz a palavra ao seu lema, que é a forma no masculino e singular.'</li>\n",
       "\t<li><span style=white-space:pre-wrap>'No caso de verbos, o lema é o infinitivo. Por exemplo, as palavras “gato”, “gata”, “gatos” e “gatas” são todas formas do mesmo lema: “gato”. Igualmente, as palavras “tiver”, “tenho”, “tinha”, “tem” são formas do mesmo lema “ter”. A vantagem de aplicar a stemização ou lematização é clara: redução de vocabulário e abstração de significado.   Esses pré-processamentos são de cunho morfossintático, que atuam em cima de itens lexicais, ou seja, palavras.'</span></li>\n",
       "\t<li>'O que é lematização?'</li>\n",
       "\t<li>'A lematização é o processo, efetivamente, de deflexionar uma palavra para determinar o seu lema (as flexões chamam-se lexemas). Por exemplo, as palavras gato, gata, gatos, gatas são todas formas do mesmo lema: gato. Igualmente, as palavras tiver, tenho, tinha, tem são do mesmo lema ter. E bom, melhor e ótimo são lexemas do lema bom. '</li>\n",
       "\t<li><span style=white-space:pre-wrap>'Exemplo:   Fonte: https://www.computersciencemaster.com.br/como-reduzir-uma-palavra-para-sua-forma-basica-em-python-lemmatizacao/  '</span></li>\n",
       "\t<li>'Lematização versus Stemming (Linha 12)'</li>\n",
       "\t<li>'As duas técnicas possuem o mesmo objetivo de inflexionar uma palavra, no entanto, os outputs de uma mesma palavra são diferentes. O stemming não se importa com a legibilidade da palavra gerada como output. Já a lematização resulta em uma palavra no infinitivo (geralmente – não obrigatóriamente).'</li>\n",
       "</ol>\n"
      ],
      "text/latex": [
       "\\begin{enumerate*}\n",
       "\\item '  Dizem por aí, mas não tenho certeza, que meu sorriso fica mais feliz quando te vejo, dizem também que meus olhos brilham, dizem também que é amor, mas isso sim é certeza. Dom Casmurro.       https://www.igti.com.br/'\n",
       "\\item 'Mas a saudade é isto mesmo; é o passar e repassar das memórias antigas. Dom Casmurro. (05/05/2021).'\n",
       "\\item 'E com uma letra bem pequena, lá estava escrito no seu epitáfio: Tentou ser, não conseguiu; tentou ter, não possuiu; tentou continuar, não prosseguiu; e nessa vida de expectativas frustradas tentou até amar… Pois bem, não conseguiu, e aqui está. Dom Casmurro.'\n",
       "\\item 'O que é o Stemming?  '\n",
       "\\item 'A linguagem natural possui diversas formas para flexionar uma palavra para que ela caiba em uma frase. É claro que essas características são determinadas de acordo com a língua que você estará utilizando. Pense por exemplo no verbo andar:   Andei – Ande – Andarei – Andando.'\n",
       "\\item 'Exemplo: Fonte: https://www.computersciencemaster.com.br/como-reduzir-uma-palavra-ao-seu-radical-em-python-stemming/  '\n",
       "\\item 'O processo de stemização (do inglês, stemming) consiste em reduzir uma palavra ao seu radical. A palavra “meninas” se reduziria a “menin”, assim como “meninos” e “menininhos”. As palavras “gato”, “gata”, “gatos” e “gatas” reduziriam-se para “gat”. A lematização reduz a palavra ao seu lema, que é a forma no masculino e singular.'\n",
       "\\item 'No caso de verbos, o lema é o infinitivo. Por exemplo, as palavras “gato”, “gata”, “gatos” e “gatas” são todas formas do mesmo lema: “gato”. Igualmente, as palavras “tiver”, “tenho”, “tinha”, “tem” são formas do mesmo lema “ter”. A vantagem de aplicar a stemização ou lematização é clara: redução de vocabulário e abstração de significado.   Esses pré-processamentos são de cunho morfossintático, que atuam em cima de itens lexicais, ou seja, palavras.'\n",
       "\\item 'O que é lematização?'\n",
       "\\item 'A lematização é o processo, efetivamente, de deflexionar uma palavra para determinar o seu lema (as flexões chamam-se lexemas). Por exemplo, as palavras gato, gata, gatos, gatas são todas formas do mesmo lema: gato. Igualmente, as palavras tiver, tenho, tinha, tem são do mesmo lema ter. E bom, melhor e ótimo são lexemas do lema bom. '\n",
       "\\item 'Exemplo:   Fonte: https://www.computersciencemaster.com.br/como-reduzir-uma-palavra-para-sua-forma-basica-em-python-lemmatizacao/  '\n",
       "\\item 'Lematização versus Stemming (Linha 12)'\n",
       "\\item 'As duas técnicas possuem o mesmo objetivo de inflexionar uma palavra, no entanto, os outputs de uma mesma palavra são diferentes. O stemming não se importa com a legibilidade da palavra gerada como output. Já a lematização resulta em uma palavra no infinitivo (geralmente – não obrigatóriamente).'\n",
       "\\end{enumerate*}\n"
      ],
      "text/markdown": [
       "1. <span style=white-space:pre-wrap>'  Dizem por aí, mas não tenho certeza, que meu sorriso fica mais feliz quando te vejo, dizem também que meus olhos brilham, dizem também que é amor, mas isso sim é certeza. Dom Casmurro.       https://www.igti.com.br/'</span>\n",
       "2. 'Mas a saudade é isto mesmo; é o passar e repassar das memórias antigas. Dom Casmurro. (05/05/2021).'\n",
       "3. 'E com uma letra bem pequena, lá estava escrito no seu epitáfio: Tentou ser, não conseguiu; tentou ter, não possuiu; tentou continuar, não prosseguiu; e nessa vida de expectativas frustradas tentou até amar… Pois bem, não conseguiu, e aqui está. Dom Casmurro.'\n",
       "4. <span style=white-space:pre-wrap>'O que é o Stemming?  '</span>\n",
       "5. <span style=white-space:pre-wrap>'A linguagem natural possui diversas formas para flexionar uma palavra para que ela caiba em uma frase. É claro que essas características são determinadas de acordo com a língua que você estará utilizando. Pense por exemplo no verbo andar:   Andei – Ande – Andarei – Andando.'</span>\n",
       "6. <span style=white-space:pre-wrap>'Exemplo: Fonte: https://www.computersciencemaster.com.br/como-reduzir-uma-palavra-ao-seu-radical-em-python-stemming/  '</span>\n",
       "7. 'O processo de stemização (do inglês, stemming) consiste em reduzir uma palavra ao seu radical. A palavra “meninas” se reduziria a “menin”, assim como “meninos” e “menininhos”. As palavras “gato”, “gata”, “gatos” e “gatas” reduziriam-se para “gat”. A lematização reduz a palavra ao seu lema, que é a forma no masculino e singular.'\n",
       "8. <span style=white-space:pre-wrap>'No caso de verbos, o lema é o infinitivo. Por exemplo, as palavras “gato”, “gata”, “gatos” e “gatas” são todas formas do mesmo lema: “gato”. Igualmente, as palavras “tiver”, “tenho”, “tinha”, “tem” são formas do mesmo lema “ter”. A vantagem de aplicar a stemização ou lematização é clara: redução de vocabulário e abstração de significado.   Esses pré-processamentos são de cunho morfossintático, que atuam em cima de itens lexicais, ou seja, palavras.'</span>\n",
       "9. 'O que é lematização?'\n",
       "10. 'A lematização é o processo, efetivamente, de deflexionar uma palavra para determinar o seu lema (as flexões chamam-se lexemas). Por exemplo, as palavras gato, gata, gatos, gatas são todas formas do mesmo lema: gato. Igualmente, as palavras tiver, tenho, tinha, tem são do mesmo lema ter. E bom, melhor e ótimo são lexemas do lema bom. '\n",
       "11. <span style=white-space:pre-wrap>'Exemplo:   Fonte: https://www.computersciencemaster.com.br/como-reduzir-uma-palavra-para-sua-forma-basica-em-python-lemmatizacao/  '</span>\n",
       "12. 'Lematização versus Stemming (Linha 12)'\n",
       "13. 'As duas técnicas possuem o mesmo objetivo de inflexionar uma palavra, no entanto, os outputs de uma mesma palavra são diferentes. O stemming não se importa com a legibilidade da palavra gerada como output. Já a lematização resulta em uma palavra no infinitivo (geralmente – não obrigatóriamente).'\n",
       "\n",
       "\n"
      ],
      "text/plain": [
       " [1] \"  Dizem por aí, mas não tenho certeza, que meu sorriso fica mais feliz quando te vejo, dizem também que meus olhos brilham, dizem também que é amor, mas isso sim é certeza. Dom Casmurro.       https://www.igti.com.br/\"                                                                                                                                                                                                                                           \n",
       " [2] \"Mas a saudade é isto mesmo; é o passar e repassar das memórias antigas. Dom Casmurro. (05/05/2021).\"                                                                                                                                                                                                                                                                                                                                                                 \n",
       " [3] \"E com uma letra bem pequena, lá estava escrito no seu epitáfio: Tentou ser, não conseguiu; tentou ter, não possuiu; tentou continuar, não prosseguiu; e nessa vida de expectativas frustradas tentou até amar… Pois bem, não conseguiu, e aqui está. Dom Casmurro.\"                                                                                                                                                                                                  \n",
       " [4] \"O que é o Stemming?  \"                                                                                                                                                                                                                                                                                                                                                                                                                                               \n",
       " [5] \"A linguagem natural possui diversas formas para flexionar uma palavra para que ela caiba em uma frase. É claro que essas características são determinadas de acordo com a língua que você estará utilizando. Pense por exemplo no verbo andar:   Andei – Ande – Andarei – Andando.\"                                                                                                                                                                                  \n",
       " [6] \"Exemplo: Fonte: https://www.computersciencemaster.com.br/como-reduzir-uma-palavra-ao-seu-radical-em-python-stemming/  \"                                                                                                                                                                                                                                                                                                                                              \n",
       " [7] \"O processo de stemização (do inglês, stemming) consiste em reduzir uma palavra ao seu radical. A palavra “meninas” se reduziria a “menin”, assim como “meninos” e “menininhos”. As palavras “gato”, “gata”, “gatos” e “gatas” reduziriam-se para “gat”. A lematização reduz a palavra ao seu lema, que é a forma no masculino e singular.\"                                                                                                                           \n",
       " [8] \"No caso de verbos, o lema é o infinitivo. Por exemplo, as palavras “gato”, “gata”, “gatos” e “gatas” são todas formas do mesmo lema: “gato”. Igualmente, as palavras “tiver”, “tenho”, “tinha”, “tem” são formas do mesmo lema “ter”. A vantagem de aplicar a stemização ou lematização é clara: redução de vocabulário e abstração de significado.   Esses pré-processamentos são de cunho morfossintático, que atuam em cima de itens lexicais, ou seja, palavras.\"\n",
       " [9] \"O que é lematização?\"                                                                                                                                                                                                                                                                                                                                                                                                                                                \n",
       "[10] \"A lematização é o processo, efetivamente, de deflexionar uma palavra para determinar o seu lema (as flexões chamam-se lexemas). Por exemplo, as palavras gato, gata, gatos, gatas são todas formas do mesmo lema: gato. Igualmente, as palavras tiver, tenho, tinha, tem são do mesmo lema ter. E bom, melhor e ótimo são lexemas do lema bom. \"                                                                                                                     \n",
       "[11] \"Exemplo:   Fonte: https://www.computersciencemaster.com.br/como-reduzir-uma-palavra-para-sua-forma-basica-em-python-lemmatizacao/  \"                                                                                                                                                                                                                                                                                                                                 \n",
       "[12] \"Lematização versus Stemming (Linha 12)\"                                                                                                                                                                                                                                                                                                                                                                                                                              \n",
       "[13] \"As duas técnicas possuem o mesmo objetivo de inflexionar uma palavra, no entanto, os outputs de uma mesma palavra são diferentes. O stemming não se importa com a legibilidade da palavra gerada como output. Já a lematização resulta em uma palavra no infinitivo (geralmente – não obrigatóriamente).\"                                                                                                                                                            "
      ]
     },
     "metadata": {},
     "output_type": "display_data"
    }
   ],
   "source": [
    "# Remove hashtags\n",
    "\n",
    "clean_tweet <- gsub(\"#\\\\w+\", \" \", clean_tweet)\n",
    "clean_tweet"
   ]
  },
  {
   "cell_type": "code",
   "execution_count": 6,
   "metadata": {},
   "outputs": [
    {
     "data": {
      "text/html": [
       "<ol class=list-inline>\n",
       "\t<li><span style=white-space:pre-wrap>'  Dizem por aí, mas não tenho certeza, que meu sorriso fica mais feliz quando te vejo, dizem também que meus olhos brilham, dizem também que é amor, mas isso sim é certeza. Dom Casmurro.       '</span></li>\n",
       "\t<li>'Mas a saudade é isto mesmo; é o passar e repassar das memórias antigas. Dom Casmurro. (05/05/2021).'</li>\n",
       "\t<li>'E com uma letra bem pequena, lá estava escrito no seu epitáfio: Tentou ser, não conseguiu; tentou ter, não possuiu; tentou continuar, não prosseguiu; e nessa vida de expectativas frustradas tentou até amar… Pois bem, não conseguiu, e aqui está. Dom Casmurro.'</li>\n",
       "\t<li><span style=white-space:pre-wrap>'O que é o Stemming?  '</span></li>\n",
       "\t<li><span style=white-space:pre-wrap>'A linguagem natural possui diversas formas para flexionar uma palavra para que ela caiba em uma frase. É claro que essas características são determinadas de acordo com a língua que você estará utilizando. Pense por exemplo no verbo andar:   Andei – Ande – Andarei – Andando.'</span></li>\n",
       "\t<li>'Exemplo: Fonte: '</li>\n",
       "\t<li>'O processo de stemização (do inglês, stemming) consiste em reduzir uma palavra ao seu radical. A palavra “meninas” se reduziria a “menin”, assim como “meninos” e “menininhos”. As palavras “gato”, “gata”, “gatos” e “gatas” reduziriam-se para “gat”. A lematização reduz a palavra ao seu lema, que é a forma no masculino e singular.'</li>\n",
       "\t<li><span style=white-space:pre-wrap>'No caso de verbos, o lema é o infinitivo. Por exemplo, as palavras “gato”, “gata”, “gatos” e “gatas” são todas formas do mesmo lema: “gato”. Igualmente, as palavras “tiver”, “tenho”, “tinha”, “tem” são formas do mesmo lema “ter”. A vantagem de aplicar a stemização ou lematização é clara: redução de vocabulário e abstração de significado.   Esses pré-processamentos são de cunho morfossintático, que atuam em cima de itens lexicais, ou seja, palavras.'</span></li>\n",
       "\t<li>'O que é lematização?'</li>\n",
       "\t<li>'A lematização é o processo, efetivamente, de deflexionar uma palavra para determinar o seu lema (as flexões chamam-se lexemas). Por exemplo, as palavras gato, gata, gatos, gatas são todas formas do mesmo lema: gato. Igualmente, as palavras tiver, tenho, tinha, tem são do mesmo lema ter. E bom, melhor e ótimo são lexemas do lema bom. '</li>\n",
       "\t<li><span style=white-space:pre-wrap>'Exemplo:   Fonte: '</span></li>\n",
       "\t<li>'Lematização versus Stemming (Linha 12)'</li>\n",
       "\t<li>'As duas técnicas possuem o mesmo objetivo de inflexionar uma palavra, no entanto, os outputs de uma mesma palavra são diferentes. O stemming não se importa com a legibilidade da palavra gerada como output. Já a lematização resulta em uma palavra no infinitivo (geralmente – não obrigatóriamente).'</li>\n",
       "</ol>\n"
      ],
      "text/latex": [
       "\\begin{enumerate*}\n",
       "\\item '  Dizem por aí, mas não tenho certeza, que meu sorriso fica mais feliz quando te vejo, dizem também que meus olhos brilham, dizem também que é amor, mas isso sim é certeza. Dom Casmurro.       '\n",
       "\\item 'Mas a saudade é isto mesmo; é o passar e repassar das memórias antigas. Dom Casmurro. (05/05/2021).'\n",
       "\\item 'E com uma letra bem pequena, lá estava escrito no seu epitáfio: Tentou ser, não conseguiu; tentou ter, não possuiu; tentou continuar, não prosseguiu; e nessa vida de expectativas frustradas tentou até amar… Pois bem, não conseguiu, e aqui está. Dom Casmurro.'\n",
       "\\item 'O que é o Stemming?  '\n",
       "\\item 'A linguagem natural possui diversas formas para flexionar uma palavra para que ela caiba em uma frase. É claro que essas características são determinadas de acordo com a língua que você estará utilizando. Pense por exemplo no verbo andar:   Andei – Ande – Andarei – Andando.'\n",
       "\\item 'Exemplo: Fonte: '\n",
       "\\item 'O processo de stemização (do inglês, stemming) consiste em reduzir uma palavra ao seu radical. A palavra “meninas” se reduziria a “menin”, assim como “meninos” e “menininhos”. As palavras “gato”, “gata”, “gatos” e “gatas” reduziriam-se para “gat”. A lematização reduz a palavra ao seu lema, que é a forma no masculino e singular.'\n",
       "\\item 'No caso de verbos, o lema é o infinitivo. Por exemplo, as palavras “gato”, “gata”, “gatos” e “gatas” são todas formas do mesmo lema: “gato”. Igualmente, as palavras “tiver”, “tenho”, “tinha”, “tem” são formas do mesmo lema “ter”. A vantagem de aplicar a stemização ou lematização é clara: redução de vocabulário e abstração de significado.   Esses pré-processamentos são de cunho morfossintático, que atuam em cima de itens lexicais, ou seja, palavras.'\n",
       "\\item 'O que é lematização?'\n",
       "\\item 'A lematização é o processo, efetivamente, de deflexionar uma palavra para determinar o seu lema (as flexões chamam-se lexemas). Por exemplo, as palavras gato, gata, gatos, gatas são todas formas do mesmo lema: gato. Igualmente, as palavras tiver, tenho, tinha, tem são do mesmo lema ter. E bom, melhor e ótimo são lexemas do lema bom. '\n",
       "\\item 'Exemplo:   Fonte: '\n",
       "\\item 'Lematização versus Stemming (Linha 12)'\n",
       "\\item 'As duas técnicas possuem o mesmo objetivo de inflexionar uma palavra, no entanto, os outputs de uma mesma palavra são diferentes. O stemming não se importa com a legibilidade da palavra gerada como output. Já a lematização resulta em uma palavra no infinitivo (geralmente – não obrigatóriamente).'\n",
       "\\end{enumerate*}\n"
      ],
      "text/markdown": [
       "1. <span style=white-space:pre-wrap>'  Dizem por aí, mas não tenho certeza, que meu sorriso fica mais feliz quando te vejo, dizem também que meus olhos brilham, dizem também que é amor, mas isso sim é certeza. Dom Casmurro.       '</span>\n",
       "2. 'Mas a saudade é isto mesmo; é o passar e repassar das memórias antigas. Dom Casmurro. (05/05/2021).'\n",
       "3. 'E com uma letra bem pequena, lá estava escrito no seu epitáfio: Tentou ser, não conseguiu; tentou ter, não possuiu; tentou continuar, não prosseguiu; e nessa vida de expectativas frustradas tentou até amar… Pois bem, não conseguiu, e aqui está. Dom Casmurro.'\n",
       "4. <span style=white-space:pre-wrap>'O que é o Stemming?  '</span>\n",
       "5. <span style=white-space:pre-wrap>'A linguagem natural possui diversas formas para flexionar uma palavra para que ela caiba em uma frase. É claro que essas características são determinadas de acordo com a língua que você estará utilizando. Pense por exemplo no verbo andar:   Andei – Ande – Andarei – Andando.'</span>\n",
       "6. 'Exemplo: Fonte: '\n",
       "7. 'O processo de stemização (do inglês, stemming) consiste em reduzir uma palavra ao seu radical. A palavra “meninas” se reduziria a “menin”, assim como “meninos” e “menininhos”. As palavras “gato”, “gata”, “gatos” e “gatas” reduziriam-se para “gat”. A lematização reduz a palavra ao seu lema, que é a forma no masculino e singular.'\n",
       "8. <span style=white-space:pre-wrap>'No caso de verbos, o lema é o infinitivo. Por exemplo, as palavras “gato”, “gata”, “gatos” e “gatas” são todas formas do mesmo lema: “gato”. Igualmente, as palavras “tiver”, “tenho”, “tinha”, “tem” são formas do mesmo lema “ter”. A vantagem de aplicar a stemização ou lematização é clara: redução de vocabulário e abstração de significado.   Esses pré-processamentos são de cunho morfossintático, que atuam em cima de itens lexicais, ou seja, palavras.'</span>\n",
       "9. 'O que é lematização?'\n",
       "10. 'A lematização é o processo, efetivamente, de deflexionar uma palavra para determinar o seu lema (as flexões chamam-se lexemas). Por exemplo, as palavras gato, gata, gatos, gatas são todas formas do mesmo lema: gato. Igualmente, as palavras tiver, tenho, tinha, tem são do mesmo lema ter. E bom, melhor e ótimo são lexemas do lema bom. '\n",
       "11. <span style=white-space:pre-wrap>'Exemplo:   Fonte: '</span>\n",
       "12. 'Lematização versus Stemming (Linha 12)'\n",
       "13. 'As duas técnicas possuem o mesmo objetivo de inflexionar uma palavra, no entanto, os outputs de uma mesma palavra são diferentes. O stemming não se importa com a legibilidade da palavra gerada como output. Já a lematização resulta em uma palavra no infinitivo (geralmente – não obrigatóriamente).'\n",
       "\n",
       "\n"
      ],
      "text/plain": [
       " [1] \"  Dizem por aí, mas não tenho certeza, que meu sorriso fica mais feliz quando te vejo, dizem também que meus olhos brilham, dizem também que é amor, mas isso sim é certeza. Dom Casmurro.       \"                                                                                                                                                                                                                                                                   \n",
       " [2] \"Mas a saudade é isto mesmo; é o passar e repassar das memórias antigas. Dom Casmurro. (05/05/2021).\"                                                                                                                                                                                                                                                                                                                                                                 \n",
       " [3] \"E com uma letra bem pequena, lá estava escrito no seu epitáfio: Tentou ser, não conseguiu; tentou ter, não possuiu; tentou continuar, não prosseguiu; e nessa vida de expectativas frustradas tentou até amar… Pois bem, não conseguiu, e aqui está. Dom Casmurro.\"                                                                                                                                                                                                  \n",
       " [4] \"O que é o Stemming?  \"                                                                                                                                                                                                                                                                                                                                                                                                                                               \n",
       " [5] \"A linguagem natural possui diversas formas para flexionar uma palavra para que ela caiba em uma frase. É claro que essas características são determinadas de acordo com a língua que você estará utilizando. Pense por exemplo no verbo andar:   Andei – Ande – Andarei – Andando.\"                                                                                                                                                                                  \n",
       " [6] \"Exemplo: Fonte: \"                                                                                                                                                                                                                                                                                                                                                                                                                                                    \n",
       " [7] \"O processo de stemização (do inglês, stemming) consiste em reduzir uma palavra ao seu radical. A palavra “meninas” se reduziria a “menin”, assim como “meninos” e “menininhos”. As palavras “gato”, “gata”, “gatos” e “gatas” reduziriam-se para “gat”. A lematização reduz a palavra ao seu lema, que é a forma no masculino e singular.\"                                                                                                                           \n",
       " [8] \"No caso de verbos, o lema é o infinitivo. Por exemplo, as palavras “gato”, “gata”, “gatos” e “gatas” são todas formas do mesmo lema: “gato”. Igualmente, as palavras “tiver”, “tenho”, “tinha”, “tem” são formas do mesmo lema “ter”. A vantagem de aplicar a stemização ou lematização é clara: redução de vocabulário e abstração de significado.   Esses pré-processamentos são de cunho morfossintático, que atuam em cima de itens lexicais, ou seja, palavras.\"\n",
       " [9] \"O que é lematização?\"                                                                                                                                                                                                                                                                                                                                                                                                                                                \n",
       "[10] \"A lematização é o processo, efetivamente, de deflexionar uma palavra para determinar o seu lema (as flexões chamam-se lexemas). Por exemplo, as palavras gato, gata, gatos, gatas são todas formas do mesmo lema: gato. Igualmente, as palavras tiver, tenho, tinha, tem são do mesmo lema ter. E bom, melhor e ótimo são lexemas do lema bom. \"                                                                                                                     \n",
       "[11] \"Exemplo:   Fonte: \"                                                                                                                                                                                                                                                                                                                                                                                                                                                  \n",
       "[12] \"Lematização versus Stemming (Linha 12)\"                                                                                                                                                                                                                                                                                                                                                                                                                              \n",
       "[13] \"As duas técnicas possuem o mesmo objetivo de inflexionar uma palavra, no entanto, os outputs de uma mesma palavra são diferentes. O stemming não se importa com a legibilidade da palavra gerada como output. Já a lematização resulta em uma palavra no infinitivo (geralmente – não obrigatóriamente).\"                                                                                                                                                            "
      ]
     },
     "metadata": {},
     "output_type": "display_data"
    }
   ],
   "source": [
    "# Remove links\n",
    "\n",
    "clean_tweet = gsub(\" ?(f|ht)(tp)(s?)(://)(.*)[.|/](.*)\", \" \", clean_tweet)\n",
    "clean_tweet"
   ]
  },
  {
   "cell_type": "code",
   "execution_count": null,
   "metadata": {},
   "outputs": [],
   "source": [
    "#Remove retweets\n",
    "\n",
    "#clean_tweet = gsub(\"(RT|via)((?:\\\\b\\\\W*@\\\\w+)+)\", \"\", clean_tweet)\n",
    "#clean_tweet"
   ]
  },
  {
   "cell_type": "code",
   "execution_count": 7,
   "metadata": {},
   "outputs": [
    {
     "data": {
      "text/html": [
       "<ol class=list-inline>\n",
       "\t<li><span style=white-space:pre-wrap>'  Dizem por aí  mas não tenho certeza  que meu sorriso fica mais feliz quando te vejo  dizem também que meus olhos brilham  dizem também que é amor  mas isso sim é certeza  Dom Casmurro        '</span></li>\n",
       "\t<li><span style=white-space:pre-wrap>'Mas a saudade é isto mesmo  é o passar e repassar das memórias antigas  Dom Casmurro   05 05 2021  '</span></li>\n",
       "\t<li><span style=white-space:pre-wrap>'E com uma letra bem pequena  lá estava escrito no seu epitáfio  Tentou ser  não conseguiu  tentou ter  não possuiu  tentou continuar  não prosseguiu  e nessa vida de expectativas frustradas tentou até amar… Pois bem  não conseguiu  e aqui está  Dom Casmurro '</span></li>\n",
       "\t<li><span style=white-space:pre-wrap>'O que é o Stemming   '</span></li>\n",
       "\t<li><span style=white-space:pre-wrap>'A linguagem natural possui diversas formas para flexionar uma palavra para que ela caiba em uma frase  É claro que essas características são determinadas de acordo com a língua que você estará utilizando  Pense por exemplo no verbo andar    Andei – Ande – Andarei – Andando '</span></li>\n",
       "\t<li><span style=white-space:pre-wrap>'Exemplo  Fonte  '</span></li>\n",
       "\t<li><span style=white-space:pre-wrap>'O processo de stemização  do inglês  stemming  consiste em reduzir uma palavra ao seu radical  A palavra “meninas” se reduziria a “menin”  assim como “meninos” e “menininhos”  As palavras “gato”  “gata”  “gatos” e “gatas” reduziriam se para “gat”  A lematização reduz a palavra ao seu lema  que é a forma no masculino e singular '</span></li>\n",
       "\t<li><span style=white-space:pre-wrap>'No caso de verbos  o lema é o infinitivo  Por exemplo  as palavras “gato”  “gata”  “gatos” e “gatas” são todas formas do mesmo lema  “gato”  Igualmente  as palavras “tiver”  “tenho”  “tinha”  “tem” são formas do mesmo lema “ter”  A vantagem de aplicar a stemização ou lematização é clara  redução de vocabulário e abstração de significado    Esses pré processamentos são de cunho morfossintático  que atuam em cima de itens lexicais  ou seja  palavras '</span></li>\n",
       "\t<li>'O que é lematização '</li>\n",
       "\t<li><span style=white-space:pre-wrap>'A lematização é o processo  efetivamente  de deflexionar uma palavra para determinar o seu lema  as flexões chamam se lexemas   Por exemplo  as palavras gato  gata  gatos  gatas são todas formas do mesmo lema  gato  Igualmente  as palavras tiver  tenho  tinha  tem são do mesmo lema ter  E bom  melhor e ótimo são lexemas do lema bom  '</span></li>\n",
       "\t<li><span style=white-space:pre-wrap>'Exemplo    Fonte  '</span></li>\n",
       "\t<li><span style=white-space:pre-wrap>'Lematização versus Stemming  Linha 12 '</span></li>\n",
       "\t<li><span style=white-space:pre-wrap>'As duas técnicas possuem o mesmo objetivo de inflexionar uma palavra  no entanto  os outputs de uma mesma palavra são diferentes  O stemming não se importa com a legibilidade da palavra gerada como output  Já a lematização resulta em uma palavra no infinitivo  geralmente – não obrigatóriamente  '</span></li>\n",
       "</ol>\n"
      ],
      "text/latex": [
       "\\begin{enumerate*}\n",
       "\\item '  Dizem por aí  mas não tenho certeza  que meu sorriso fica mais feliz quando te vejo  dizem também que meus olhos brilham  dizem também que é amor  mas isso sim é certeza  Dom Casmurro        '\n",
       "\\item 'Mas a saudade é isto mesmo  é o passar e repassar das memórias antigas  Dom Casmurro   05 05 2021  '\n",
       "\\item 'E com uma letra bem pequena  lá estava escrito no seu epitáfio  Tentou ser  não conseguiu  tentou ter  não possuiu  tentou continuar  não prosseguiu  e nessa vida de expectativas frustradas tentou até amar… Pois bem  não conseguiu  e aqui está  Dom Casmurro '\n",
       "\\item 'O que é o Stemming   '\n",
       "\\item 'A linguagem natural possui diversas formas para flexionar uma palavra para que ela caiba em uma frase  É claro que essas características são determinadas de acordo com a língua que você estará utilizando  Pense por exemplo no verbo andar    Andei – Ande – Andarei – Andando '\n",
       "\\item 'Exemplo  Fonte  '\n",
       "\\item 'O processo de stemização  do inglês  stemming  consiste em reduzir uma palavra ao seu radical  A palavra “meninas” se reduziria a “menin”  assim como “meninos” e “menininhos”  As palavras “gato”  “gata”  “gatos” e “gatas” reduziriam se para “gat”  A lematização reduz a palavra ao seu lema  que é a forma no masculino e singular '\n",
       "\\item 'No caso de verbos  o lema é o infinitivo  Por exemplo  as palavras “gato”  “gata”  “gatos” e “gatas” são todas formas do mesmo lema  “gato”  Igualmente  as palavras “tiver”  “tenho”  “tinha”  “tem” são formas do mesmo lema “ter”  A vantagem de aplicar a stemização ou lematização é clara  redução de vocabulário e abstração de significado    Esses pré processamentos são de cunho morfossintático  que atuam em cima de itens lexicais  ou seja  palavras '\n",
       "\\item 'O que é lematização '\n",
       "\\item 'A lematização é o processo  efetivamente  de deflexionar uma palavra para determinar o seu lema  as flexões chamam se lexemas   Por exemplo  as palavras gato  gata  gatos  gatas são todas formas do mesmo lema  gato  Igualmente  as palavras tiver  tenho  tinha  tem são do mesmo lema ter  E bom  melhor e ótimo são lexemas do lema bom  '\n",
       "\\item 'Exemplo    Fonte  '\n",
       "\\item 'Lematização versus Stemming  Linha 12 '\n",
       "\\item 'As duas técnicas possuem o mesmo objetivo de inflexionar uma palavra  no entanto  os outputs de uma mesma palavra são diferentes  O stemming não se importa com a legibilidade da palavra gerada como output  Já a lematização resulta em uma palavra no infinitivo  geralmente – não obrigatóriamente  '\n",
       "\\end{enumerate*}\n"
      ],
      "text/markdown": [
       "1. <span style=white-space:pre-wrap>'  Dizem por aí  mas não tenho certeza  que meu sorriso fica mais feliz quando te vejo  dizem também que meus olhos brilham  dizem também que é amor  mas isso sim é certeza  Dom Casmurro        '</span>\n",
       "2. <span style=white-space:pre-wrap>'Mas a saudade é isto mesmo  é o passar e repassar das memórias antigas  Dom Casmurro   05 05 2021  '</span>\n",
       "3. <span style=white-space:pre-wrap>'E com uma letra bem pequena  lá estava escrito no seu epitáfio  Tentou ser  não conseguiu  tentou ter  não possuiu  tentou continuar  não prosseguiu  e nessa vida de expectativas frustradas tentou até amar… Pois bem  não conseguiu  e aqui está  Dom Casmurro '</span>\n",
       "4. <span style=white-space:pre-wrap>'O que é o Stemming   '</span>\n",
       "5. <span style=white-space:pre-wrap>'A linguagem natural possui diversas formas para flexionar uma palavra para que ela caiba em uma frase  É claro que essas características são determinadas de acordo com a língua que você estará utilizando  Pense por exemplo no verbo andar    Andei – Ande – Andarei – Andando '</span>\n",
       "6. <span style=white-space:pre-wrap>'Exemplo  Fonte  '</span>\n",
       "7. <span style=white-space:pre-wrap>'O processo de stemização  do inglês  stemming  consiste em reduzir uma palavra ao seu radical  A palavra “meninas” se reduziria a “menin”  assim como “meninos” e “menininhos”  As palavras “gato”  “gata”  “gatos” e “gatas” reduziriam se para “gat”  A lematização reduz a palavra ao seu lema  que é a forma no masculino e singular '</span>\n",
       "8. <span style=white-space:pre-wrap>'No caso de verbos  o lema é o infinitivo  Por exemplo  as palavras “gato”  “gata”  “gatos” e “gatas” são todas formas do mesmo lema  “gato”  Igualmente  as palavras “tiver”  “tenho”  “tinha”  “tem” são formas do mesmo lema “ter”  A vantagem de aplicar a stemização ou lematização é clara  redução de vocabulário e abstração de significado    Esses pré processamentos são de cunho morfossintático  que atuam em cima de itens lexicais  ou seja  palavras '</span>\n",
       "9. 'O que é lematização '\n",
       "10. <span style=white-space:pre-wrap>'A lematização é o processo  efetivamente  de deflexionar uma palavra para determinar o seu lema  as flexões chamam se lexemas   Por exemplo  as palavras gato  gata  gatos  gatas são todas formas do mesmo lema  gato  Igualmente  as palavras tiver  tenho  tinha  tem são do mesmo lema ter  E bom  melhor e ótimo são lexemas do lema bom  '</span>\n",
       "11. <span style=white-space:pre-wrap>'Exemplo    Fonte  '</span>\n",
       "12. <span style=white-space:pre-wrap>'Lematização versus Stemming  Linha 12 '</span>\n",
       "13. <span style=white-space:pre-wrap>'As duas técnicas possuem o mesmo objetivo de inflexionar uma palavra  no entanto  os outputs de uma mesma palavra são diferentes  O stemming não se importa com a legibilidade da palavra gerada como output  Já a lematização resulta em uma palavra no infinitivo  geralmente – não obrigatóriamente  '</span>\n",
       "\n",
       "\n"
      ],
      "text/plain": [
       " [1] \"  Dizem por aí  mas não tenho certeza  que meu sorriso fica mais feliz quando te vejo  dizem também que meus olhos brilham  dizem também que é amor  mas isso sim é certeza  Dom Casmurro        \"                                                                                                                                                                                                                                                                   \n",
       " [2] \"Mas a saudade é isto mesmo  é o passar e repassar das memórias antigas  Dom Casmurro   05 05 2021  \"                                                                                                                                                                                                                                                                                                                                                                 \n",
       " [3] \"E com uma letra bem pequena  lá estava escrito no seu epitáfio  Tentou ser  não conseguiu  tentou ter  não possuiu  tentou continuar  não prosseguiu  e nessa vida de expectativas frustradas tentou até amar… Pois bem  não conseguiu  e aqui está  Dom Casmurro \"                                                                                                                                                                                                  \n",
       " [4] \"O que é o Stemming   \"                                                                                                                                                                                                                                                                                                                                                                                                                                               \n",
       " [5] \"A linguagem natural possui diversas formas para flexionar uma palavra para que ela caiba em uma frase  É claro que essas características são determinadas de acordo com a língua que você estará utilizando  Pense por exemplo no verbo andar    Andei – Ande – Andarei – Andando \"                                                                                                                                                                                  \n",
       " [6] \"Exemplo  Fonte  \"                                                                                                                                                                                                                                                                                                                                                                                                                                                    \n",
       " [7] \"O processo de stemização  do inglês  stemming  consiste em reduzir uma palavra ao seu radical  A palavra “meninas” se reduziria a “menin”  assim como “meninos” e “menininhos”  As palavras “gato”  “gata”  “gatos” e “gatas” reduziriam se para “gat”  A lematização reduz a palavra ao seu lema  que é a forma no masculino e singular \"                                                                                                                           \n",
       " [8] \"No caso de verbos  o lema é o infinitivo  Por exemplo  as palavras “gato”  “gata”  “gatos” e “gatas” são todas formas do mesmo lema  “gato”  Igualmente  as palavras “tiver”  “tenho”  “tinha”  “tem” são formas do mesmo lema “ter”  A vantagem de aplicar a stemização ou lematização é clara  redução de vocabulário e abstração de significado    Esses pré processamentos são de cunho morfossintático  que atuam em cima de itens lexicais  ou seja  palavras \"\n",
       " [9] \"O que é lematização \"                                                                                                                                                                                                                                                                                                                                                                                                                                                \n",
       "[10] \"A lematização é o processo  efetivamente  de deflexionar uma palavra para determinar o seu lema  as flexões chamam se lexemas   Por exemplo  as palavras gato  gata  gatos  gatas são todas formas do mesmo lema  gato  Igualmente  as palavras tiver  tenho  tinha  tem são do mesmo lema ter  E bom  melhor e ótimo são lexemas do lema bom  \"                                                                                                                     \n",
       "[11] \"Exemplo    Fonte  \"                                                                                                                                                                                                                                                                                                                                                                                                                                                  \n",
       "[12] \"Lematização versus Stemming  Linha 12 \"                                                                                                                                                                                                                                                                                                                                                                                                                              \n",
       "[13] \"As duas técnicas possuem o mesmo objetivo de inflexionar uma palavra  no entanto  os outputs de uma mesma palavra são diferentes  O stemming não se importa com a legibilidade da palavra gerada como output  Já a lematização resulta em uma palavra no infinitivo  geralmente – não obrigatóriamente  \"                                                                                                                                                            "
      ]
     },
     "metadata": {},
     "output_type": "display_data"
    }
   ],
   "source": [
    "#remove pontuação\n",
    "clean_tweet = gsub(\"[[:punct:]]\", \" \", clean_tweet)\n",
    "clean_tweet"
   ]
  },
  {
   "cell_type": "code",
   "execution_count": 8,
   "metadata": {},
   "outputs": [
    {
     "data": {
      "text/html": [
       "<ol class=list-inline>\n",
       "\t<li><span style=white-space:pre-wrap>'  Dizem por aí  mas não tenho certeza  que meu sorriso fica mais feliz quando te vejo  dizem também que meus olhos brilham  dizem também que é amor  mas isso sim é certeza  Dom Casmurro        '</span></li>\n",
       "\t<li><span style=white-space:pre-wrap>'Mas a saudade é isto mesmo  é o passar e repassar das memórias antigas  Dom Casmurro               '</span></li>\n",
       "\t<li><span style=white-space:pre-wrap>'E com uma letra bem pequena  lá estava escrito no seu epitáfio  Tentou ser  não conseguiu  tentou ter  não possuiu  tentou continuar  não prosseguiu  e nessa vida de expectativas frustradas tentou até amar… Pois bem  não conseguiu  e aqui está  Dom Casmurro '</span></li>\n",
       "\t<li><span style=white-space:pre-wrap>'O que é o Stemming   '</span></li>\n",
       "\t<li><span style=white-space:pre-wrap>'A linguagem natural possui diversas formas para flexionar uma palavra para que ela caiba em uma frase  É claro que essas características são determinadas de acordo com a língua que você estará utilizando  Pense por exemplo no verbo andar    Andei – Ande – Andarei – Andando '</span></li>\n",
       "\t<li><span style=white-space:pre-wrap>'Exemplo  Fonte  '</span></li>\n",
       "\t<li><span style=white-space:pre-wrap>'O processo de stemização  do inglês  stemming  consiste em reduzir uma palavra ao seu radical  A palavra “meninas” se reduziria a “menin”  assim como “meninos” e “menininhos”  As palavras “gato”  “gata”  “gatos” e “gatas” reduziriam se para “gat”  A lematização reduz a palavra ao seu lema  que é a forma no masculino e singular '</span></li>\n",
       "\t<li><span style=white-space:pre-wrap>'No caso de verbos  o lema é o infinitivo  Por exemplo  as palavras “gato”  “gata”  “gatos” e “gatas” são todas formas do mesmo lema  “gato”  Igualmente  as palavras “tiver”  “tenho”  “tinha”  “tem” são formas do mesmo lema “ter”  A vantagem de aplicar a stemização ou lematização é clara  redução de vocabulário e abstração de significado    Esses pré processamentos são de cunho morfossintático  que atuam em cima de itens lexicais  ou seja  palavras '</span></li>\n",
       "\t<li>'O que é lematização '</li>\n",
       "\t<li><span style=white-space:pre-wrap>'A lematização é o processo  efetivamente  de deflexionar uma palavra para determinar o seu lema  as flexões chamam se lexemas   Por exemplo  as palavras gato  gata  gatos  gatas são todas formas do mesmo lema  gato  Igualmente  as palavras tiver  tenho  tinha  tem são do mesmo lema ter  E bom  melhor e ótimo são lexemas do lema bom  '</span></li>\n",
       "\t<li><span style=white-space:pre-wrap>'Exemplo    Fonte  '</span></li>\n",
       "\t<li><span style=white-space:pre-wrap>'Lematização versus Stemming  Linha    '</span></li>\n",
       "\t<li><span style=white-space:pre-wrap>'As duas técnicas possuem o mesmo objetivo de inflexionar uma palavra  no entanto  os outputs de uma mesma palavra são diferentes  O stemming não se importa com a legibilidade da palavra gerada como output  Já a lematização resulta em uma palavra no infinitivo  geralmente – não obrigatóriamente  '</span></li>\n",
       "</ol>\n"
      ],
      "text/latex": [
       "\\begin{enumerate*}\n",
       "\\item '  Dizem por aí  mas não tenho certeza  que meu sorriso fica mais feliz quando te vejo  dizem também que meus olhos brilham  dizem também que é amor  mas isso sim é certeza  Dom Casmurro        '\n",
       "\\item 'Mas a saudade é isto mesmo  é o passar e repassar das memórias antigas  Dom Casmurro               '\n",
       "\\item 'E com uma letra bem pequena  lá estava escrito no seu epitáfio  Tentou ser  não conseguiu  tentou ter  não possuiu  tentou continuar  não prosseguiu  e nessa vida de expectativas frustradas tentou até amar… Pois bem  não conseguiu  e aqui está  Dom Casmurro '\n",
       "\\item 'O que é o Stemming   '\n",
       "\\item 'A linguagem natural possui diversas formas para flexionar uma palavra para que ela caiba em uma frase  É claro que essas características são determinadas de acordo com a língua que você estará utilizando  Pense por exemplo no verbo andar    Andei – Ande – Andarei – Andando '\n",
       "\\item 'Exemplo  Fonte  '\n",
       "\\item 'O processo de stemização  do inglês  stemming  consiste em reduzir uma palavra ao seu radical  A palavra “meninas” se reduziria a “menin”  assim como “meninos” e “menininhos”  As palavras “gato”  “gata”  “gatos” e “gatas” reduziriam se para “gat”  A lematização reduz a palavra ao seu lema  que é a forma no masculino e singular '\n",
       "\\item 'No caso de verbos  o lema é o infinitivo  Por exemplo  as palavras “gato”  “gata”  “gatos” e “gatas” são todas formas do mesmo lema  “gato”  Igualmente  as palavras “tiver”  “tenho”  “tinha”  “tem” são formas do mesmo lema “ter”  A vantagem de aplicar a stemização ou lematização é clara  redução de vocabulário e abstração de significado    Esses pré processamentos são de cunho morfossintático  que atuam em cima de itens lexicais  ou seja  palavras '\n",
       "\\item 'O que é lematização '\n",
       "\\item 'A lematização é o processo  efetivamente  de deflexionar uma palavra para determinar o seu lema  as flexões chamam se lexemas   Por exemplo  as palavras gato  gata  gatos  gatas são todas formas do mesmo lema  gato  Igualmente  as palavras tiver  tenho  tinha  tem são do mesmo lema ter  E bom  melhor e ótimo são lexemas do lema bom  '\n",
       "\\item 'Exemplo    Fonte  '\n",
       "\\item 'Lematização versus Stemming  Linha    '\n",
       "\\item 'As duas técnicas possuem o mesmo objetivo de inflexionar uma palavra  no entanto  os outputs de uma mesma palavra são diferentes  O stemming não se importa com a legibilidade da palavra gerada como output  Já a lematização resulta em uma palavra no infinitivo  geralmente – não obrigatóriamente  '\n",
       "\\end{enumerate*}\n"
      ],
      "text/markdown": [
       "1. <span style=white-space:pre-wrap>'  Dizem por aí  mas não tenho certeza  que meu sorriso fica mais feliz quando te vejo  dizem também que meus olhos brilham  dizem também que é amor  mas isso sim é certeza  Dom Casmurro        '</span>\n",
       "2. <span style=white-space:pre-wrap>'Mas a saudade é isto mesmo  é o passar e repassar das memórias antigas  Dom Casmurro               '</span>\n",
       "3. <span style=white-space:pre-wrap>'E com uma letra bem pequena  lá estava escrito no seu epitáfio  Tentou ser  não conseguiu  tentou ter  não possuiu  tentou continuar  não prosseguiu  e nessa vida de expectativas frustradas tentou até amar… Pois bem  não conseguiu  e aqui está  Dom Casmurro '</span>\n",
       "4. <span style=white-space:pre-wrap>'O que é o Stemming   '</span>\n",
       "5. <span style=white-space:pre-wrap>'A linguagem natural possui diversas formas para flexionar uma palavra para que ela caiba em uma frase  É claro que essas características são determinadas de acordo com a língua que você estará utilizando  Pense por exemplo no verbo andar    Andei – Ande – Andarei – Andando '</span>\n",
       "6. <span style=white-space:pre-wrap>'Exemplo  Fonte  '</span>\n",
       "7. <span style=white-space:pre-wrap>'O processo de stemização  do inglês  stemming  consiste em reduzir uma palavra ao seu radical  A palavra “meninas” se reduziria a “menin”  assim como “meninos” e “menininhos”  As palavras “gato”  “gata”  “gatos” e “gatas” reduziriam se para “gat”  A lematização reduz a palavra ao seu lema  que é a forma no masculino e singular '</span>\n",
       "8. <span style=white-space:pre-wrap>'No caso de verbos  o lema é o infinitivo  Por exemplo  as palavras “gato”  “gata”  “gatos” e “gatas” são todas formas do mesmo lema  “gato”  Igualmente  as palavras “tiver”  “tenho”  “tinha”  “tem” são formas do mesmo lema “ter”  A vantagem de aplicar a stemização ou lematização é clara  redução de vocabulário e abstração de significado    Esses pré processamentos são de cunho morfossintático  que atuam em cima de itens lexicais  ou seja  palavras '</span>\n",
       "9. 'O que é lematização '\n",
       "10. <span style=white-space:pre-wrap>'A lematização é o processo  efetivamente  de deflexionar uma palavra para determinar o seu lema  as flexões chamam se lexemas   Por exemplo  as palavras gato  gata  gatos  gatas são todas formas do mesmo lema  gato  Igualmente  as palavras tiver  tenho  tinha  tem são do mesmo lema ter  E bom  melhor e ótimo são lexemas do lema bom  '</span>\n",
       "11. <span style=white-space:pre-wrap>'Exemplo    Fonte  '</span>\n",
       "12. <span style=white-space:pre-wrap>'Lematização versus Stemming  Linha    '</span>\n",
       "13. <span style=white-space:pre-wrap>'As duas técnicas possuem o mesmo objetivo de inflexionar uma palavra  no entanto  os outputs de uma mesma palavra são diferentes  O stemming não se importa com a legibilidade da palavra gerada como output  Já a lematização resulta em uma palavra no infinitivo  geralmente – não obrigatóriamente  '</span>\n",
       "\n",
       "\n"
      ],
      "text/plain": [
       " [1] \"  Dizem por aí  mas não tenho certeza  que meu sorriso fica mais feliz quando te vejo  dizem também que meus olhos brilham  dizem também que é amor  mas isso sim é certeza  Dom Casmurro        \"                                                                                                                                                                                                                                                                   \n",
       " [2] \"Mas a saudade é isto mesmo  é o passar e repassar das memórias antigas  Dom Casmurro               \"                                                                                                                                                                                                                                                                                                                                                                 \n",
       " [3] \"E com uma letra bem pequena  lá estava escrito no seu epitáfio  Tentou ser  não conseguiu  tentou ter  não possuiu  tentou continuar  não prosseguiu  e nessa vida de expectativas frustradas tentou até amar… Pois bem  não conseguiu  e aqui está  Dom Casmurro \"                                                                                                                                                                                                  \n",
       " [4] \"O que é o Stemming   \"                                                                                                                                                                                                                                                                                                                                                                                                                                               \n",
       " [5] \"A linguagem natural possui diversas formas para flexionar uma palavra para que ela caiba em uma frase  É claro que essas características são determinadas de acordo com a língua que você estará utilizando  Pense por exemplo no verbo andar    Andei – Ande – Andarei – Andando \"                                                                                                                                                                                  \n",
       " [6] \"Exemplo  Fonte  \"                                                                                                                                                                                                                                                                                                                                                                                                                                                    \n",
       " [7] \"O processo de stemização  do inglês  stemming  consiste em reduzir uma palavra ao seu radical  A palavra “meninas” se reduziria a “menin”  assim como “meninos” e “menininhos”  As palavras “gato”  “gata”  “gatos” e “gatas” reduziriam se para “gat”  A lematização reduz a palavra ao seu lema  que é a forma no masculino e singular \"                                                                                                                           \n",
       " [8] \"No caso de verbos  o lema é o infinitivo  Por exemplo  as palavras “gato”  “gata”  “gatos” e “gatas” são todas formas do mesmo lema  “gato”  Igualmente  as palavras “tiver”  “tenho”  “tinha”  “tem” são formas do mesmo lema “ter”  A vantagem de aplicar a stemização ou lematização é clara  redução de vocabulário e abstração de significado    Esses pré processamentos são de cunho morfossintático  que atuam em cima de itens lexicais  ou seja  palavras \"\n",
       " [9] \"O que é lematização \"                                                                                                                                                                                                                                                                                                                                                                                                                                                \n",
       "[10] \"A lematização é o processo  efetivamente  de deflexionar uma palavra para determinar o seu lema  as flexões chamam se lexemas   Por exemplo  as palavras gato  gata  gatos  gatas são todas formas do mesmo lema  gato  Igualmente  as palavras tiver  tenho  tinha  tem são do mesmo lema ter  E bom  melhor e ótimo são lexemas do lema bom  \"                                                                                                                     \n",
       "[11] \"Exemplo    Fonte  \"                                                                                                                                                                                                                                                                                                                                                                                                                                                  \n",
       "[12] \"Lematização versus Stemming  Linha    \"                                                                                                                                                                                                                                                                                                                                                                                                                              \n",
       "[13] \"As duas técnicas possuem o mesmo objetivo de inflexionar uma palavra  no entanto  os outputs de uma mesma palavra são diferentes  O stemming não se importa com a legibilidade da palavra gerada como output  Já a lematização resulta em uma palavra no infinitivo  geralmente – não obrigatóriamente  \"                                                                                                                                                            "
      ]
     },
     "metadata": {},
     "output_type": "display_data"
    }
   ],
   "source": [
    "clean_tweet = gsub(\"[[:digit:]]\", \" \", clean_tweet)\n",
    "clean_tweet"
   ]
  },
  {
   "cell_type": "code",
   "execution_count": 9,
   "metadata": {},
   "outputs": [
    {
     "data": {
      "text/html": [
       "<ol class=list-inline>\n",
       "\t<li><span style=white-space:pre-wrap>'  Dizem por aí  mas não tenho certeza  que meu sorriso fica mais feliz quando te vejo  dizem também que meus olhos brilham  dizem também que é amor  mas isso sim é certeza  Dom Casmurro        '</span></li>\n",
       "\t<li><span style=white-space:pre-wrap>'Mas a saudade é isto mesmo  é o passar e repassar das memórias antigas  Dom Casmurro               '</span></li>\n",
       "\t<li><span style=white-space:pre-wrap>'E com uma letra bem pequena  lá estava escrito no seu epitáfio  Tentou ser  não conseguiu  tentou ter  não possuiu  tentou continuar  não prosseguiu  e nessa vida de expectativas frustradas tentou até amar… Pois bem  não conseguiu  e aqui está  Dom Casmurro '</span></li>\n",
       "\t<li><span style=white-space:pre-wrap>'O que é o Stemming   '</span></li>\n",
       "\t<li><span style=white-space:pre-wrap>'A linguagem natural possui diversas formas para flexionar uma palavra para que ela caiba em uma frase  É claro que essas características são determinadas de acordo com a língua que você estará utilizando  Pense por exemplo no verbo andar    Andei   Ande   Andarei   Andando '</span></li>\n",
       "\t<li><span style=white-space:pre-wrap>'Exemplo  Fonte  '</span></li>\n",
       "\t<li><span style=white-space:pre-wrap>'O processo de stemização  do inglês  stemming  consiste em reduzir uma palavra ao seu radical  A palavra “meninas” se reduziria a “menin”  assim como “meninos” e “menininhos”  As palavras “gato”  “gata”  “gatos” e “gatas” reduziriam se para “gat”  A lematização reduz a palavra ao seu lema  que é a forma no masculino e singular '</span></li>\n",
       "\t<li><span style=white-space:pre-wrap>'No caso de verbos  o lema é o infinitivo  Por exemplo  as palavras “gato”  “gata”  “gatos” e “gatas” são todas formas do mesmo lema  “gato”  Igualmente  as palavras “tiver”  “tenho”  “tinha”  “tem” são formas do mesmo lema “ter”  A vantagem de aplicar a stemização ou lematização é clara  redução de vocabulário e abstração de significado    Esses pré processamentos são de cunho morfossintático  que atuam em cima de itens lexicais  ou seja  palavras '</span></li>\n",
       "\t<li>'O que é lematização '</li>\n",
       "\t<li><span style=white-space:pre-wrap>'A lematização é o processo  efetivamente  de deflexionar uma palavra para determinar o seu lema  as flexões chamam se lexemas   Por exemplo  as palavras gato  gata  gatos  gatas são todas formas do mesmo lema  gato  Igualmente  as palavras tiver  tenho  tinha  tem são do mesmo lema ter  E bom  melhor e ótimo são lexemas do lema bom  '</span></li>\n",
       "\t<li><span style=white-space:pre-wrap>'Exemplo    Fonte  '</span></li>\n",
       "\t<li><span style=white-space:pre-wrap>'Lematização versus Stemming  Linha    '</span></li>\n",
       "\t<li><span style=white-space:pre-wrap>'As duas técnicas possuem o mesmo objetivo de inflexionar uma palavra  no entanto  os outputs de uma mesma palavra são diferentes  O stemming não se importa com a legibilidade da palavra gerada como output  Já a lematização resulta em uma palavra no infinitivo  geralmente   não obrigatóriamente  '</span></li>\n",
       "</ol>\n"
      ],
      "text/latex": [
       "\\begin{enumerate*}\n",
       "\\item '  Dizem por aí  mas não tenho certeza  que meu sorriso fica mais feliz quando te vejo  dizem também que meus olhos brilham  dizem também que é amor  mas isso sim é certeza  Dom Casmurro        '\n",
       "\\item 'Mas a saudade é isto mesmo  é o passar e repassar das memórias antigas  Dom Casmurro               '\n",
       "\\item 'E com uma letra bem pequena  lá estava escrito no seu epitáfio  Tentou ser  não conseguiu  tentou ter  não possuiu  tentou continuar  não prosseguiu  e nessa vida de expectativas frustradas tentou até amar… Pois bem  não conseguiu  e aqui está  Dom Casmurro '\n",
       "\\item 'O que é o Stemming   '\n",
       "\\item 'A linguagem natural possui diversas formas para flexionar uma palavra para que ela caiba em uma frase  É claro que essas características são determinadas de acordo com a língua que você estará utilizando  Pense por exemplo no verbo andar    Andei   Ande   Andarei   Andando '\n",
       "\\item 'Exemplo  Fonte  '\n",
       "\\item 'O processo de stemização  do inglês  stemming  consiste em reduzir uma palavra ao seu radical  A palavra “meninas” se reduziria a “menin”  assim como “meninos” e “menininhos”  As palavras “gato”  “gata”  “gatos” e “gatas” reduziriam se para “gat”  A lematização reduz a palavra ao seu lema  que é a forma no masculino e singular '\n",
       "\\item 'No caso de verbos  o lema é o infinitivo  Por exemplo  as palavras “gato”  “gata”  “gatos” e “gatas” são todas formas do mesmo lema  “gato”  Igualmente  as palavras “tiver”  “tenho”  “tinha”  “tem” são formas do mesmo lema “ter”  A vantagem de aplicar a stemização ou lematização é clara  redução de vocabulário e abstração de significado    Esses pré processamentos são de cunho morfossintático  que atuam em cima de itens lexicais  ou seja  palavras '\n",
       "\\item 'O que é lematização '\n",
       "\\item 'A lematização é o processo  efetivamente  de deflexionar uma palavra para determinar o seu lema  as flexões chamam se lexemas   Por exemplo  as palavras gato  gata  gatos  gatas são todas formas do mesmo lema  gato  Igualmente  as palavras tiver  tenho  tinha  tem são do mesmo lema ter  E bom  melhor e ótimo são lexemas do lema bom  '\n",
       "\\item 'Exemplo    Fonte  '\n",
       "\\item 'Lematização versus Stemming  Linha    '\n",
       "\\item 'As duas técnicas possuem o mesmo objetivo de inflexionar uma palavra  no entanto  os outputs de uma mesma palavra são diferentes  O stemming não se importa com a legibilidade da palavra gerada como output  Já a lematização resulta em uma palavra no infinitivo  geralmente   não obrigatóriamente  '\n",
       "\\end{enumerate*}\n"
      ],
      "text/markdown": [
       "1. <span style=white-space:pre-wrap>'  Dizem por aí  mas não tenho certeza  que meu sorriso fica mais feliz quando te vejo  dizem também que meus olhos brilham  dizem também que é amor  mas isso sim é certeza  Dom Casmurro        '</span>\n",
       "2. <span style=white-space:pre-wrap>'Mas a saudade é isto mesmo  é o passar e repassar das memórias antigas  Dom Casmurro               '</span>\n",
       "3. <span style=white-space:pre-wrap>'E com uma letra bem pequena  lá estava escrito no seu epitáfio  Tentou ser  não conseguiu  tentou ter  não possuiu  tentou continuar  não prosseguiu  e nessa vida de expectativas frustradas tentou até amar… Pois bem  não conseguiu  e aqui está  Dom Casmurro '</span>\n",
       "4. <span style=white-space:pre-wrap>'O que é o Stemming   '</span>\n",
       "5. <span style=white-space:pre-wrap>'A linguagem natural possui diversas formas para flexionar uma palavra para que ela caiba em uma frase  É claro que essas características são determinadas de acordo com a língua que você estará utilizando  Pense por exemplo no verbo andar    Andei   Ande   Andarei   Andando '</span>\n",
       "6. <span style=white-space:pre-wrap>'Exemplo  Fonte  '</span>\n",
       "7. <span style=white-space:pre-wrap>'O processo de stemização  do inglês  stemming  consiste em reduzir uma palavra ao seu radical  A palavra “meninas” se reduziria a “menin”  assim como “meninos” e “menininhos”  As palavras “gato”  “gata”  “gatos” e “gatas” reduziriam se para “gat”  A lematização reduz a palavra ao seu lema  que é a forma no masculino e singular '</span>\n",
       "8. <span style=white-space:pre-wrap>'No caso de verbos  o lema é o infinitivo  Por exemplo  as palavras “gato”  “gata”  “gatos” e “gatas” são todas formas do mesmo lema  “gato”  Igualmente  as palavras “tiver”  “tenho”  “tinha”  “tem” são formas do mesmo lema “ter”  A vantagem de aplicar a stemização ou lematização é clara  redução de vocabulário e abstração de significado    Esses pré processamentos são de cunho morfossintático  que atuam em cima de itens lexicais  ou seja  palavras '</span>\n",
       "9. 'O que é lematização '\n",
       "10. <span style=white-space:pre-wrap>'A lematização é o processo  efetivamente  de deflexionar uma palavra para determinar o seu lema  as flexões chamam se lexemas   Por exemplo  as palavras gato  gata  gatos  gatas são todas formas do mesmo lema  gato  Igualmente  as palavras tiver  tenho  tinha  tem são do mesmo lema ter  E bom  melhor e ótimo são lexemas do lema bom  '</span>\n",
       "11. <span style=white-space:pre-wrap>'Exemplo    Fonte  '</span>\n",
       "12. <span style=white-space:pre-wrap>'Lematização versus Stemming  Linha    '</span>\n",
       "13. <span style=white-space:pre-wrap>'As duas técnicas possuem o mesmo objetivo de inflexionar uma palavra  no entanto  os outputs de uma mesma palavra são diferentes  O stemming não se importa com a legibilidade da palavra gerada como output  Já a lematização resulta em uma palavra no infinitivo  geralmente   não obrigatóriamente  '</span>\n",
       "\n",
       "\n"
      ],
      "text/plain": [
       " [1] \"  Dizem por aí  mas não tenho certeza  que meu sorriso fica mais feliz quando te vejo  dizem também que meus olhos brilham  dizem também que é amor  mas isso sim é certeza  Dom Casmurro        \"                                                                                                                                                                                                                                                                   \n",
       " [2] \"Mas a saudade é isto mesmo  é o passar e repassar das memórias antigas  Dom Casmurro               \"                                                                                                                                                                                                                                                                                                                                                                 \n",
       " [3] \"E com uma letra bem pequena  lá estava escrito no seu epitáfio  Tentou ser  não conseguiu  tentou ter  não possuiu  tentou continuar  não prosseguiu  e nessa vida de expectativas frustradas tentou até amar… Pois bem  não conseguiu  e aqui está  Dom Casmurro \"                                                                                                                                                                                                  \n",
       " [4] \"O que é o Stemming   \"                                                                                                                                                                                                                                                                                                                                                                                                                                               \n",
       " [5] \"A linguagem natural possui diversas formas para flexionar uma palavra para que ela caiba em uma frase  É claro que essas características são determinadas de acordo com a língua que você estará utilizando  Pense por exemplo no verbo andar    Andei   Ande   Andarei   Andando \"                                                                                                                                                                                  \n",
       " [6] \"Exemplo  Fonte  \"                                                                                                                                                                                                                                                                                                                                                                                                                                                    \n",
       " [7] \"O processo de stemização  do inglês  stemming  consiste em reduzir uma palavra ao seu radical  A palavra “meninas” se reduziria a “menin”  assim como “meninos” e “menininhos”  As palavras “gato”  “gata”  “gatos” e “gatas” reduziriam se para “gat”  A lematização reduz a palavra ao seu lema  que é a forma no masculino e singular \"                                                                                                                           \n",
       " [8] \"No caso de verbos  o lema é o infinitivo  Por exemplo  as palavras “gato”  “gata”  “gatos” e “gatas” são todas formas do mesmo lema  “gato”  Igualmente  as palavras “tiver”  “tenho”  “tinha”  “tem” são formas do mesmo lema “ter”  A vantagem de aplicar a stemização ou lematização é clara  redução de vocabulário e abstração de significado    Esses pré processamentos são de cunho morfossintático  que atuam em cima de itens lexicais  ou seja  palavras \"\n",
       " [9] \"O que é lematização \"                                                                                                                                                                                                                                                                                                                                                                                                                                                \n",
       "[10] \"A lematização é o processo  efetivamente  de deflexionar uma palavra para determinar o seu lema  as flexões chamam se lexemas   Por exemplo  as palavras gato  gata  gatos  gatas são todas formas do mesmo lema  gato  Igualmente  as palavras tiver  tenho  tinha  tem são do mesmo lema ter  E bom  melhor e ótimo são lexemas do lema bom  \"                                                                                                                     \n",
       "[11] \"Exemplo    Fonte  \"                                                                                                                                                                                                                                                                                                                                                                                                                                                  \n",
       "[12] \"Lematização versus Stemming  Linha    \"                                                                                                                                                                                                                                                                                                                                                                                                                              \n",
       "[13] \"As duas técnicas possuem o mesmo objetivo de inflexionar uma palavra  no entanto  os outputs de uma mesma palavra são diferentes  O stemming não se importa com a legibilidade da palavra gerada como output  Já a lematização resulta em uma palavra no infinitivo  geralmente   não obrigatóriamente  \"                                                                                                                                                            "
      ]
     },
     "metadata": {},
     "output_type": "display_data"
    }
   ],
   "source": [
    "#Remove caracteres especiais\n",
    "\n",
    "clean_tweet = gsub(\"–\", \" \", clean_tweet)\n",
    "clean_tweet"
   ]
  },
  {
   "cell_type": "code",
   "execution_count": 10,
   "metadata": {},
   "outputs": [
    {
     "data": {
      "text/html": [
       "<ol class=list-inline>\n",
       "\t<li><span style=white-space:pre-wrap>'  Dizem por aí  mas não tenho certeza  que meu sorriso fica mais feliz quando te vejo  dizem também que meus olhos brilham  dizem também que é amor  mas isso sim é certeza  Dom Casmurro        '</span></li>\n",
       "\t<li><span style=white-space:pre-wrap>'Mas a saudade é isto mesmo  é o passar e repassar das memórias antigas  Dom Casmurro               '</span></li>\n",
       "\t<li><span style=white-space:pre-wrap>'E com uma letra bem pequena  lá estava escrito no seu epitáfio  Tentou ser  não conseguiu  tentou ter  não possuiu  tentou continuar  não prosseguiu  e nessa vida de expectativas frustradas tentou até amar… Pois bem  não conseguiu  e aqui está  Dom Casmurro '</span></li>\n",
       "\t<li><span style=white-space:pre-wrap>'O que é o Stemming   '</span></li>\n",
       "\t<li><span style=white-space:pre-wrap>'A linguagem natural possui diversas formas para flexionar uma palavra para que ela caiba em uma frase  É claro que essas características são determinadas de acordo com a língua que você estará utilizando  Pense por exemplo no verbo andar    Andei   Ande   Andarei   Andando '</span></li>\n",
       "\t<li><span style=white-space:pre-wrap>'Exemplo  Fonte  '</span></li>\n",
       "\t<li><span style=white-space:pre-wrap>'O processo de stemização  do inglês  stemming  consiste em reduzir uma palavra ao seu radical  A palavra  meninas  se reduziria a  menin   assim como  meninos  e  menininhos   As palavras  gato    gata    gatos  e  gatas  reduziriam se para  gat   A lematização reduz a palavra ao seu lema  que é a forma no masculino e singular '</span></li>\n",
       "\t<li><span style=white-space:pre-wrap>'No caso de verbos  o lema é o infinitivo  Por exemplo  as palavras  gato    gata    gatos  e  gatas  são todas formas do mesmo lema   gato   Igualmente  as palavras  tiver    tenho    tinha    tem  são formas do mesmo lema  ter   A vantagem de aplicar a stemização ou lematização é clara  redução de vocabulário e abstração de significado    Esses pré processamentos são de cunho morfossintático  que atuam em cima de itens lexicais  ou seja  palavras '</span></li>\n",
       "\t<li>'O que é lematização '</li>\n",
       "\t<li><span style=white-space:pre-wrap>'A lematização é o processo  efetivamente  de deflexionar uma palavra para determinar o seu lema  as flexões chamam se lexemas   Por exemplo  as palavras gato  gata  gatos  gatas são todas formas do mesmo lema  gato  Igualmente  as palavras tiver  tenho  tinha  tem são do mesmo lema ter  E bom  melhor e ótimo são lexemas do lema bom  '</span></li>\n",
       "\t<li><span style=white-space:pre-wrap>'Exemplo    Fonte  '</span></li>\n",
       "\t<li><span style=white-space:pre-wrap>'Lematização versus Stemming  Linha    '</span></li>\n",
       "\t<li><span style=white-space:pre-wrap>'As duas técnicas possuem o mesmo objetivo de inflexionar uma palavra  no entanto  os outputs de uma mesma palavra são diferentes  O stemming não se importa com a legibilidade da palavra gerada como output  Já a lematização resulta em uma palavra no infinitivo  geralmente   não obrigatóriamente  '</span></li>\n",
       "</ol>\n"
      ],
      "text/latex": [
       "\\begin{enumerate*}\n",
       "\\item '  Dizem por aí  mas não tenho certeza  que meu sorriso fica mais feliz quando te vejo  dizem também que meus olhos brilham  dizem também que é amor  mas isso sim é certeza  Dom Casmurro        '\n",
       "\\item 'Mas a saudade é isto mesmo  é o passar e repassar das memórias antigas  Dom Casmurro               '\n",
       "\\item 'E com uma letra bem pequena  lá estava escrito no seu epitáfio  Tentou ser  não conseguiu  tentou ter  não possuiu  tentou continuar  não prosseguiu  e nessa vida de expectativas frustradas tentou até amar… Pois bem  não conseguiu  e aqui está  Dom Casmurro '\n",
       "\\item 'O que é o Stemming   '\n",
       "\\item 'A linguagem natural possui diversas formas para flexionar uma palavra para que ela caiba em uma frase  É claro que essas características são determinadas de acordo com a língua que você estará utilizando  Pense por exemplo no verbo andar    Andei   Ande   Andarei   Andando '\n",
       "\\item 'Exemplo  Fonte  '\n",
       "\\item 'O processo de stemização  do inglês  stemming  consiste em reduzir uma palavra ao seu radical  A palavra  meninas  se reduziria a  menin   assim como  meninos  e  menininhos   As palavras  gato    gata    gatos  e  gatas  reduziriam se para  gat   A lematização reduz a palavra ao seu lema  que é a forma no masculino e singular '\n",
       "\\item 'No caso de verbos  o lema é o infinitivo  Por exemplo  as palavras  gato    gata    gatos  e  gatas  são todas formas do mesmo lema   gato   Igualmente  as palavras  tiver    tenho    tinha    tem  são formas do mesmo lema  ter   A vantagem de aplicar a stemização ou lematização é clara  redução de vocabulário e abstração de significado    Esses pré processamentos são de cunho morfossintático  que atuam em cima de itens lexicais  ou seja  palavras '\n",
       "\\item 'O que é lematização '\n",
       "\\item 'A lematização é o processo  efetivamente  de deflexionar uma palavra para determinar o seu lema  as flexões chamam se lexemas   Por exemplo  as palavras gato  gata  gatos  gatas são todas formas do mesmo lema  gato  Igualmente  as palavras tiver  tenho  tinha  tem são do mesmo lema ter  E bom  melhor e ótimo são lexemas do lema bom  '\n",
       "\\item 'Exemplo    Fonte  '\n",
       "\\item 'Lematização versus Stemming  Linha    '\n",
       "\\item 'As duas técnicas possuem o mesmo objetivo de inflexionar uma palavra  no entanto  os outputs de uma mesma palavra são diferentes  O stemming não se importa com a legibilidade da palavra gerada como output  Já a lematização resulta em uma palavra no infinitivo  geralmente   não obrigatóriamente  '\n",
       "\\end{enumerate*}\n"
      ],
      "text/markdown": [
       "1. <span style=white-space:pre-wrap>'  Dizem por aí  mas não tenho certeza  que meu sorriso fica mais feliz quando te vejo  dizem também que meus olhos brilham  dizem também que é amor  mas isso sim é certeza  Dom Casmurro        '</span>\n",
       "2. <span style=white-space:pre-wrap>'Mas a saudade é isto mesmo  é o passar e repassar das memórias antigas  Dom Casmurro               '</span>\n",
       "3. <span style=white-space:pre-wrap>'E com uma letra bem pequena  lá estava escrito no seu epitáfio  Tentou ser  não conseguiu  tentou ter  não possuiu  tentou continuar  não prosseguiu  e nessa vida de expectativas frustradas tentou até amar… Pois bem  não conseguiu  e aqui está  Dom Casmurro '</span>\n",
       "4. <span style=white-space:pre-wrap>'O que é o Stemming   '</span>\n",
       "5. <span style=white-space:pre-wrap>'A linguagem natural possui diversas formas para flexionar uma palavra para que ela caiba em uma frase  É claro que essas características são determinadas de acordo com a língua que você estará utilizando  Pense por exemplo no verbo andar    Andei   Ande   Andarei   Andando '</span>\n",
       "6. <span style=white-space:pre-wrap>'Exemplo  Fonte  '</span>\n",
       "7. <span style=white-space:pre-wrap>'O processo de stemização  do inglês  stemming  consiste em reduzir uma palavra ao seu radical  A palavra  meninas  se reduziria a  menin   assim como  meninos  e  menininhos   As palavras  gato    gata    gatos  e  gatas  reduziriam se para  gat   A lematização reduz a palavra ao seu lema  que é a forma no masculino e singular '</span>\n",
       "8. <span style=white-space:pre-wrap>'No caso de verbos  o lema é o infinitivo  Por exemplo  as palavras  gato    gata    gatos  e  gatas  são todas formas do mesmo lema   gato   Igualmente  as palavras  tiver    tenho    tinha    tem  são formas do mesmo lema  ter   A vantagem de aplicar a stemização ou lematização é clara  redução de vocabulário e abstração de significado    Esses pré processamentos são de cunho morfossintático  que atuam em cima de itens lexicais  ou seja  palavras '</span>\n",
       "9. 'O que é lematização '\n",
       "10. <span style=white-space:pre-wrap>'A lematização é o processo  efetivamente  de deflexionar uma palavra para determinar o seu lema  as flexões chamam se lexemas   Por exemplo  as palavras gato  gata  gatos  gatas são todas formas do mesmo lema  gato  Igualmente  as palavras tiver  tenho  tinha  tem são do mesmo lema ter  E bom  melhor e ótimo são lexemas do lema bom  '</span>\n",
       "11. <span style=white-space:pre-wrap>'Exemplo    Fonte  '</span>\n",
       "12. <span style=white-space:pre-wrap>'Lematização versus Stemming  Linha    '</span>\n",
       "13. <span style=white-space:pre-wrap>'As duas técnicas possuem o mesmo objetivo de inflexionar uma palavra  no entanto  os outputs de uma mesma palavra são diferentes  O stemming não se importa com a legibilidade da palavra gerada como output  Já a lematização resulta em uma palavra no infinitivo  geralmente   não obrigatóriamente  '</span>\n",
       "\n",
       "\n"
      ],
      "text/plain": [
       " [1] \"  Dizem por aí  mas não tenho certeza  que meu sorriso fica mais feliz quando te vejo  dizem também que meus olhos brilham  dizem também que é amor  mas isso sim é certeza  Dom Casmurro        \"                                                                                                                                                                                                                                                                   \n",
       " [2] \"Mas a saudade é isto mesmo  é o passar e repassar das memórias antigas  Dom Casmurro               \"                                                                                                                                                                                                                                                                                                                                                                 \n",
       " [3] \"E com uma letra bem pequena  lá estava escrito no seu epitáfio  Tentou ser  não conseguiu  tentou ter  não possuiu  tentou continuar  não prosseguiu  e nessa vida de expectativas frustradas tentou até amar… Pois bem  não conseguiu  e aqui está  Dom Casmurro \"                                                                                                                                                                                                  \n",
       " [4] \"O que é o Stemming   \"                                                                                                                                                                                                                                                                                                                                                                                                                                               \n",
       " [5] \"A linguagem natural possui diversas formas para flexionar uma palavra para que ela caiba em uma frase  É claro que essas características são determinadas de acordo com a língua que você estará utilizando  Pense por exemplo no verbo andar    Andei   Ande   Andarei   Andando \"                                                                                                                                                                                  \n",
       " [6] \"Exemplo  Fonte  \"                                                                                                                                                                                                                                                                                                                                                                                                                                                    \n",
       " [7] \"O processo de stemização  do inglês  stemming  consiste em reduzir uma palavra ao seu radical  A palavra  meninas  se reduziria a  menin   assim como  meninos  e  menininhos   As palavras  gato    gata    gatos  e  gatas  reduziriam se para  gat   A lematização reduz a palavra ao seu lema  que é a forma no masculino e singular \"                                                                                                                           \n",
       " [8] \"No caso de verbos  o lema é o infinitivo  Por exemplo  as palavras  gato    gata    gatos  e  gatas  são todas formas do mesmo lema   gato   Igualmente  as palavras  tiver    tenho    tinha    tem  são formas do mesmo lema  ter   A vantagem de aplicar a stemização ou lematização é clara  redução de vocabulário e abstração de significado    Esses pré processamentos são de cunho morfossintático  que atuam em cima de itens lexicais  ou seja  palavras \"\n",
       " [9] \"O que é lematização \"                                                                                                                                                                                                                                                                                                                                                                                                                                                \n",
       "[10] \"A lematização é o processo  efetivamente  de deflexionar uma palavra para determinar o seu lema  as flexões chamam se lexemas   Por exemplo  as palavras gato  gata  gatos  gatas são todas formas do mesmo lema  gato  Igualmente  as palavras tiver  tenho  tinha  tem são do mesmo lema ter  E bom  melhor e ótimo são lexemas do lema bom  \"                                                                                                                     \n",
       "[11] \"Exemplo    Fonte  \"                                                                                                                                                                                                                                                                                                                                                                                                                                                  \n",
       "[12] \"Lematização versus Stemming  Linha    \"                                                                                                                                                                                                                                                                                                                                                                                                                              \n",
       "[13] \"As duas técnicas possuem o mesmo objetivo de inflexionar uma palavra  no entanto  os outputs de uma mesma palavra são diferentes  O stemming não se importa com a legibilidade da palavra gerada como output  Já a lematização resulta em uma palavra no infinitivo  geralmente   não obrigatóriamente  \"                                                                                                                                                            "
      ]
     },
     "metadata": {},
     "output_type": "display_data"
    }
   ],
   "source": [
    "#Remove caracteres especiais\n",
    "\n",
    "clean_tweet = gsub(\"“\", \" \", clean_tweet)\n",
    "clean_tweet = gsub(\"”\", \" \", clean_tweet)\n",
    "clean_tweet"
   ]
  },
  {
   "cell_type": "code",
   "execution_count": 11,
   "metadata": {},
   "outputs": [
    {
     "data": {
      "text/html": [
       "<ol class=list-inline>\n",
       "\t<li>' Dizem por aí mas não tenho certeza que meu sorriso fica mais feliz quando te vejo dizem também que meus olhos brilham dizem também que é amor mas isso sim é certeza Dom Casmurro '</li>\n",
       "\t<li>'Mas a saudade é isto mesmo é o passar e repassar das memórias antigas Dom Casmurro '</li>\n",
       "\t<li>'E com uma letra bem pequena lá estava escrito no seu epitáfio Tentou ser não conseguiu tentou ter não possuiu tentou continuar não prosseguiu e nessa vida de expectativas frustradas tentou até amar… Pois bem não conseguiu e aqui está Dom Casmurro '</li>\n",
       "\t<li>'O que é o Stemming '</li>\n",
       "\t<li>'A linguagem natural possui diversas formas para flexionar uma palavra para que ela caiba em uma frase É claro que essas características são determinadas de acordo com a língua que você estará utilizando Pense por exemplo no verbo andar Andei Ande Andarei Andando '</li>\n",
       "\t<li>'Exemplo Fonte '</li>\n",
       "\t<li>'O processo de stemização do inglês stemming consiste em reduzir uma palavra ao seu radical A palavra meninas se reduziria a menin assim como meninos e menininhos As palavras gato gata gatos e gatas reduziriam se para gat A lematização reduz a palavra ao seu lema que é a forma no masculino e singular '</li>\n",
       "\t<li>'No caso de verbos o lema é o infinitivo Por exemplo as palavras gato gata gatos e gatas são todas formas do mesmo lema gato Igualmente as palavras tiver tenho tinha tem são formas do mesmo lema ter A vantagem de aplicar a stemização ou lematização é clara redução de vocabulário e abstração de significado Esses pré processamentos são de cunho morfossintático que atuam em cima de itens lexicais ou seja palavras '</li>\n",
       "\t<li>'O que é lematização '</li>\n",
       "\t<li>'A lematização é o processo efetivamente de deflexionar uma palavra para determinar o seu lema as flexões chamam se lexemas Por exemplo as palavras gato gata gatos gatas são todas formas do mesmo lema gato Igualmente as palavras tiver tenho tinha tem são do mesmo lema ter E bom melhor e ótimo são lexemas do lema bom '</li>\n",
       "\t<li>'Exemplo Fonte '</li>\n",
       "\t<li>'Lematização versus Stemming Linha '</li>\n",
       "\t<li>'As duas técnicas possuem o mesmo objetivo de inflexionar uma palavra no entanto os outputs de uma mesma palavra são diferentes O stemming não se importa com a legibilidade da palavra gerada como output Já a lematização resulta em uma palavra no infinitivo geralmente não obrigatóriamente '</li>\n",
       "</ol>\n"
      ],
      "text/latex": [
       "\\begin{enumerate*}\n",
       "\\item ' Dizem por aí mas não tenho certeza que meu sorriso fica mais feliz quando te vejo dizem também que meus olhos brilham dizem também que é amor mas isso sim é certeza Dom Casmurro '\n",
       "\\item 'Mas a saudade é isto mesmo é o passar e repassar das memórias antigas Dom Casmurro '\n",
       "\\item 'E com uma letra bem pequena lá estava escrito no seu epitáfio Tentou ser não conseguiu tentou ter não possuiu tentou continuar não prosseguiu e nessa vida de expectativas frustradas tentou até amar… Pois bem não conseguiu e aqui está Dom Casmurro '\n",
       "\\item 'O que é o Stemming '\n",
       "\\item 'A linguagem natural possui diversas formas para flexionar uma palavra para que ela caiba em uma frase É claro que essas características são determinadas de acordo com a língua que você estará utilizando Pense por exemplo no verbo andar Andei Ande Andarei Andando '\n",
       "\\item 'Exemplo Fonte '\n",
       "\\item 'O processo de stemização do inglês stemming consiste em reduzir uma palavra ao seu radical A palavra meninas se reduziria a menin assim como meninos e menininhos As palavras gato gata gatos e gatas reduziriam se para gat A lematização reduz a palavra ao seu lema que é a forma no masculino e singular '\n",
       "\\item 'No caso de verbos o lema é o infinitivo Por exemplo as palavras gato gata gatos e gatas são todas formas do mesmo lema gato Igualmente as palavras tiver tenho tinha tem são formas do mesmo lema ter A vantagem de aplicar a stemização ou lematização é clara redução de vocabulário e abstração de significado Esses pré processamentos são de cunho morfossintático que atuam em cima de itens lexicais ou seja palavras '\n",
       "\\item 'O que é lematização '\n",
       "\\item 'A lematização é o processo efetivamente de deflexionar uma palavra para determinar o seu lema as flexões chamam se lexemas Por exemplo as palavras gato gata gatos gatas são todas formas do mesmo lema gato Igualmente as palavras tiver tenho tinha tem são do mesmo lema ter E bom melhor e ótimo são lexemas do lema bom '\n",
       "\\item 'Exemplo Fonte '\n",
       "\\item 'Lematização versus Stemming Linha '\n",
       "\\item 'As duas técnicas possuem o mesmo objetivo de inflexionar uma palavra no entanto os outputs de uma mesma palavra são diferentes O stemming não se importa com a legibilidade da palavra gerada como output Já a lematização resulta em uma palavra no infinitivo geralmente não obrigatóriamente '\n",
       "\\end{enumerate*}\n"
      ],
      "text/markdown": [
       "1. ' Dizem por aí mas não tenho certeza que meu sorriso fica mais feliz quando te vejo dizem também que meus olhos brilham dizem também que é amor mas isso sim é certeza Dom Casmurro '\n",
       "2. 'Mas a saudade é isto mesmo é o passar e repassar das memórias antigas Dom Casmurro '\n",
       "3. 'E com uma letra bem pequena lá estava escrito no seu epitáfio Tentou ser não conseguiu tentou ter não possuiu tentou continuar não prosseguiu e nessa vida de expectativas frustradas tentou até amar… Pois bem não conseguiu e aqui está Dom Casmurro '\n",
       "4. 'O que é o Stemming '\n",
       "5. 'A linguagem natural possui diversas formas para flexionar uma palavra para que ela caiba em uma frase É claro que essas características são determinadas de acordo com a língua que você estará utilizando Pense por exemplo no verbo andar Andei Ande Andarei Andando '\n",
       "6. 'Exemplo Fonte '\n",
       "7. 'O processo de stemização do inglês stemming consiste em reduzir uma palavra ao seu radical A palavra meninas se reduziria a menin assim como meninos e menininhos As palavras gato gata gatos e gatas reduziriam se para gat A lematização reduz a palavra ao seu lema que é a forma no masculino e singular '\n",
       "8. 'No caso de verbos o lema é o infinitivo Por exemplo as palavras gato gata gatos e gatas são todas formas do mesmo lema gato Igualmente as palavras tiver tenho tinha tem são formas do mesmo lema ter A vantagem de aplicar a stemização ou lematização é clara redução de vocabulário e abstração de significado Esses pré processamentos são de cunho morfossintático que atuam em cima de itens lexicais ou seja palavras '\n",
       "9. 'O que é lematização '\n",
       "10. 'A lematização é o processo efetivamente de deflexionar uma palavra para determinar o seu lema as flexões chamam se lexemas Por exemplo as palavras gato gata gatos gatas são todas formas do mesmo lema gato Igualmente as palavras tiver tenho tinha tem são do mesmo lema ter E bom melhor e ótimo são lexemas do lema bom '\n",
       "11. 'Exemplo Fonte '\n",
       "12. 'Lematização versus Stemming Linha '\n",
       "13. 'As duas técnicas possuem o mesmo objetivo de inflexionar uma palavra no entanto os outputs de uma mesma palavra são diferentes O stemming não se importa com a legibilidade da palavra gerada como output Já a lematização resulta em uma palavra no infinitivo geralmente não obrigatóriamente '\n",
       "\n",
       "\n"
      ],
      "text/plain": [
       " [1] \" Dizem por aí mas não tenho certeza que meu sorriso fica mais feliz quando te vejo dizem também que meus olhos brilham dizem também que é amor mas isso sim é certeza Dom Casmurro \"                                                                                                                                                                                                                                          \n",
       " [2] \"Mas a saudade é isto mesmo é o passar e repassar das memórias antigas Dom Casmurro \"                                                                                                                                                                                                                                                                                                                                          \n",
       " [3] \"E com uma letra bem pequena lá estava escrito no seu epitáfio Tentou ser não conseguiu tentou ter não possuiu tentou continuar não prosseguiu e nessa vida de expectativas frustradas tentou até amar… Pois bem não conseguiu e aqui está Dom Casmurro \"                                                                                                                                                                      \n",
       " [4] \"O que é o Stemming \"                                                                                                                                                                                                                                                                                                                                                                                                          \n",
       " [5] \"A linguagem natural possui diversas formas para flexionar uma palavra para que ela caiba em uma frase É claro que essas características são determinadas de acordo com a língua que você estará utilizando Pense por exemplo no verbo andar Andei Ande Andarei Andando \"                                                                                                                                                      \n",
       " [6] \"Exemplo Fonte \"                                                                                                                                                                                                                                                                                                                                                                                                               \n",
       " [7] \"O processo de stemização do inglês stemming consiste em reduzir uma palavra ao seu radical A palavra meninas se reduziria a menin assim como meninos e menininhos As palavras gato gata gatos e gatas reduziriam se para gat A lematização reduz a palavra ao seu lema que é a forma no masculino e singular \"                                                                                                                \n",
       " [8] \"No caso de verbos o lema é o infinitivo Por exemplo as palavras gato gata gatos e gatas são todas formas do mesmo lema gato Igualmente as palavras tiver tenho tinha tem são formas do mesmo lema ter A vantagem de aplicar a stemização ou lematização é clara redução de vocabulário e abstração de significado Esses pré processamentos são de cunho morfossintático que atuam em cima de itens lexicais ou seja palavras \"\n",
       " [9] \"O que é lematização \"                                                                                                                                                                                                                                                                                                                                                                                                         \n",
       "[10] \"A lematização é o processo efetivamente de deflexionar uma palavra para determinar o seu lema as flexões chamam se lexemas Por exemplo as palavras gato gata gatos gatas são todas formas do mesmo lema gato Igualmente as palavras tiver tenho tinha tem são do mesmo lema ter E bom melhor e ótimo são lexemas do lema bom \"                                                                                                \n",
       "[11] \"Exemplo Fonte \"                                                                                                                                                                                                                                                                                                                                                                                                               \n",
       "[12] \"Lematização versus Stemming Linha \"                                                                                                                                                                                                                                                                                                                                                                                           \n",
       "[13] \"As duas técnicas possuem o mesmo objetivo de inflexionar uma palavra no entanto os outputs de uma mesma palavra são diferentes O stemming não se importa com a legibilidade da palavra gerada como output Já a lematização resulta em uma palavra no infinitivo geralmente não obrigatóriamente \"                                                                                                                             "
      ]
     },
     "metadata": {},
     "output_type": "display_data"
    }
   ],
   "source": [
    "# Remover mutlplos espaços por apenas 1\n",
    "clean_tweet = gsub(\"[ \\t]{2,}\", \" \", clean_tweet)\n",
    "clean_tweet"
   ]
  },
  {
   "cell_type": "markdown",
   "metadata": {},
   "source": [
    "### Usar pacote  tm"
   ]
  },
  {
   "cell_type": "code",
   "execution_count": 12,
   "metadata": {},
   "outputs": [
    {
     "data": {
      "text/html": [
       "<ol class=list-inline>\n",
       "\t<li>'@professoraigti Dizem por aí, mas não tenho certeza, que meu sorriso fica mais feliz quando te vejo, dizem também que meus olhos brilham, dizem também que é amor, mas isso sim é certeza. Dom Casmurro. @machadodeassis #domcasmurro #machadodeassis https://www.igti.com.br/'</li>\n",
       "\t<li>'Mas a saudade é isto mesmo; é o passar e repassar das memórias antigas. Dom Casmurro. (05/05/2021).'</li>\n",
       "\t<li>'E com uma letra bem pequena, lá estava escrito no seu epitáfio: Tentou ser, não conseguiu; tentou ter, não possuiu; tentou continuar, não prosseguiu; e nessa vida de expectativas frustradas tentou até amar… Pois bem, não conseguiu, e aqui está. Dom Casmurro.'</li>\n",
       "\t<li>'O que é o Stemming? #Stemming'</li>\n",
       "\t<li><span style=white-space:pre-wrap>'A linguagem natural possui diversas formas para flexionar uma palavra para que ela caiba em uma frase. É claro que essas características são determinadas de acordo com a língua que você estará utilizando. Pense por exemplo no verbo andar:   Andei – Ande – Andarei – Andando.'</span></li>\n",
       "\t<li>'Exemplo: Fonte: https://www.computersciencemaster.com.br/como-reduzir-uma-palavra-ao-seu-radical-em-python-stemming/ #stemming'</li>\n",
       "\t<li>'O processo de stemização (do inglês, stemming) consiste em reduzir uma palavra ao seu radical. A palavra “meninas” se reduziria a “menin”, assim como “meninos” e “menininhos”. As palavras “gato”, “gata”, “gatos” e “gatas” reduziriam-se para “gat”. A lematização reduz a palavra ao seu lema, que é a forma no masculino e singular.'</li>\n",
       "\t<li><span style=white-space:pre-wrap>'No caso de verbos, o lema é o infinitivo. Por exemplo, as palavras “gato”, “gata”, “gatos” e “gatas” são todas formas do mesmo lema: “gato”. Igualmente, as palavras “tiver”, “tenho”, “tinha”, “tem” são formas do mesmo lema “ter”. A vantagem de aplicar a stemização ou lematização é clara: redução de vocabulário e abstração de significado.   Esses pré-processamentos são de cunho morfossintático, que atuam em cima de itens lexicais, ou seja, palavras.'</span></li>\n",
       "\t<li>'O que é lematização?'</li>\n",
       "\t<li>'A lematização é o processo, efetivamente, de deflexionar uma palavra para determinar o seu lema (as flexões chamam-se lexemas). Por exemplo, as palavras gato, gata, gatos, gatas são todas formas do mesmo lema: gato. Igualmente, as palavras tiver, tenho, tinha, tem são do mesmo lema ter. E bom, melhor e ótimo são lexemas do lema bom. '</li>\n",
       "\t<li>'Exemplo: #exemplolematização Fonte: https://www.computersciencemaster.com.br/como-reduzir-uma-palavra-para-sua-forma-basica-em-python-lemmatizacao/ #lemma'</li>\n",
       "\t<li>'Lematização versus Stemming (Linha 12)'</li>\n",
       "\t<li>'As duas técnicas possuem o mesmo objetivo de inflexionar uma palavra, no entanto, os outputs de uma mesma palavra são diferentes. O stemming não se importa com a legibilidade da palavra gerada como output. Já a lematização resulta em uma palavra no infinitivo (geralmente – não obrigatóriamente).'</li>\n",
       "</ol>\n"
      ],
      "text/latex": [
       "\\begin{enumerate*}\n",
       "\\item '@professoraigti Dizem por aí, mas não tenho certeza, que meu sorriso fica mais feliz quando te vejo, dizem também que meus olhos brilham, dizem também que é amor, mas isso sim é certeza. Dom Casmurro. @machadodeassis \\#domcasmurro \\#machadodeassis https://www.igti.com.br/'\n",
       "\\item 'Mas a saudade é isto mesmo; é o passar e repassar das memórias antigas. Dom Casmurro. (05/05/2021).'\n",
       "\\item 'E com uma letra bem pequena, lá estava escrito no seu epitáfio: Tentou ser, não conseguiu; tentou ter, não possuiu; tentou continuar, não prosseguiu; e nessa vida de expectativas frustradas tentou até amar… Pois bem, não conseguiu, e aqui está. Dom Casmurro.'\n",
       "\\item 'O que é o Stemming? \\#Stemming'\n",
       "\\item 'A linguagem natural possui diversas formas para flexionar uma palavra para que ela caiba em uma frase. É claro que essas características são determinadas de acordo com a língua que você estará utilizando. Pense por exemplo no verbo andar:   Andei – Ande – Andarei – Andando.'\n",
       "\\item 'Exemplo: Fonte: https://www.computersciencemaster.com.br/como-reduzir-uma-palavra-ao-seu-radical-em-python-stemming/ \\#stemming'\n",
       "\\item 'O processo de stemização (do inglês, stemming) consiste em reduzir uma palavra ao seu radical. A palavra “meninas” se reduziria a “menin”, assim como “meninos” e “menininhos”. As palavras “gato”, “gata”, “gatos” e “gatas” reduziriam-se para “gat”. A lematização reduz a palavra ao seu lema, que é a forma no masculino e singular.'\n",
       "\\item 'No caso de verbos, o lema é o infinitivo. Por exemplo, as palavras “gato”, “gata”, “gatos” e “gatas” são todas formas do mesmo lema: “gato”. Igualmente, as palavras “tiver”, “tenho”, “tinha”, “tem” são formas do mesmo lema “ter”. A vantagem de aplicar a stemização ou lematização é clara: redução de vocabulário e abstração de significado.   Esses pré-processamentos são de cunho morfossintático, que atuam em cima de itens lexicais, ou seja, palavras.'\n",
       "\\item 'O que é lematização?'\n",
       "\\item 'A lematização é o processo, efetivamente, de deflexionar uma palavra para determinar o seu lema (as flexões chamam-se lexemas). Por exemplo, as palavras gato, gata, gatos, gatas são todas formas do mesmo lema: gato. Igualmente, as palavras tiver, tenho, tinha, tem são do mesmo lema ter. E bom, melhor e ótimo são lexemas do lema bom. '\n",
       "\\item 'Exemplo: \\#exemplolematização Fonte: https://www.computersciencemaster.com.br/como-reduzir-uma-palavra-para-sua-forma-basica-em-python-lemmatizacao/ \\#lemma'\n",
       "\\item 'Lematização versus Stemming (Linha 12)'\n",
       "\\item 'As duas técnicas possuem o mesmo objetivo de inflexionar uma palavra, no entanto, os outputs de uma mesma palavra são diferentes. O stemming não se importa com a legibilidade da palavra gerada como output. Já a lematização resulta em uma palavra no infinitivo (geralmente – não obrigatóriamente).'\n",
       "\\end{enumerate*}\n"
      ],
      "text/markdown": [
       "1. '@professoraigti Dizem por aí, mas não tenho certeza, que meu sorriso fica mais feliz quando te vejo, dizem também que meus olhos brilham, dizem também que é amor, mas isso sim é certeza. Dom Casmurro. @machadodeassis #domcasmurro #machadodeassis https://www.igti.com.br/'\n",
       "2. 'Mas a saudade é isto mesmo; é o passar e repassar das memórias antigas. Dom Casmurro. (05/05/2021).'\n",
       "3. 'E com uma letra bem pequena, lá estava escrito no seu epitáfio: Tentou ser, não conseguiu; tentou ter, não possuiu; tentou continuar, não prosseguiu; e nessa vida de expectativas frustradas tentou até amar… Pois bem, não conseguiu, e aqui está. Dom Casmurro.'\n",
       "4. 'O que é o Stemming? #Stemming'\n",
       "5. <span style=white-space:pre-wrap>'A linguagem natural possui diversas formas para flexionar uma palavra para que ela caiba em uma frase. É claro que essas características são determinadas de acordo com a língua que você estará utilizando. Pense por exemplo no verbo andar:   Andei – Ande – Andarei – Andando.'</span>\n",
       "6. 'Exemplo: Fonte: https://www.computersciencemaster.com.br/como-reduzir-uma-palavra-ao-seu-radical-em-python-stemming/ #stemming'\n",
       "7. 'O processo de stemização (do inglês, stemming) consiste em reduzir uma palavra ao seu radical. A palavra “meninas” se reduziria a “menin”, assim como “meninos” e “menininhos”. As palavras “gato”, “gata”, “gatos” e “gatas” reduziriam-se para “gat”. A lematização reduz a palavra ao seu lema, que é a forma no masculino e singular.'\n",
       "8. <span style=white-space:pre-wrap>'No caso de verbos, o lema é o infinitivo. Por exemplo, as palavras “gato”, “gata”, “gatos” e “gatas” são todas formas do mesmo lema: “gato”. Igualmente, as palavras “tiver”, “tenho”, “tinha”, “tem” são formas do mesmo lema “ter”. A vantagem de aplicar a stemização ou lematização é clara: redução de vocabulário e abstração de significado.   Esses pré-processamentos são de cunho morfossintático, que atuam em cima de itens lexicais, ou seja, palavras.'</span>\n",
       "9. 'O que é lematização?'\n",
       "10. 'A lematização é o processo, efetivamente, de deflexionar uma palavra para determinar o seu lema (as flexões chamam-se lexemas). Por exemplo, as palavras gato, gata, gatos, gatas são todas formas do mesmo lema: gato. Igualmente, as palavras tiver, tenho, tinha, tem são do mesmo lema ter. E bom, melhor e ótimo são lexemas do lema bom. '\n",
       "11. 'Exemplo: #exemplolematização Fonte: https://www.computersciencemaster.com.br/como-reduzir-uma-palavra-para-sua-forma-basica-em-python-lemmatizacao/ #lemma'\n",
       "12. 'Lematização versus Stemming (Linha 12)'\n",
       "13. 'As duas técnicas possuem o mesmo objetivo de inflexionar uma palavra, no entanto, os outputs de uma mesma palavra são diferentes. O stemming não se importa com a legibilidade da palavra gerada como output. Já a lematização resulta em uma palavra no infinitivo (geralmente – não obrigatóriamente).'\n",
       "\n",
       "\n"
      ],
      "text/plain": [
       " [1] \"@professoraigti Dizem por aí, mas não tenho certeza, que meu sorriso fica mais feliz quando te vejo, dizem também que meus olhos brilham, dizem também que é amor, mas isso sim é certeza. Dom Casmurro. @machadodeassis #domcasmurro #machadodeassis https://www.igti.com.br/\"                                                                                                                                                                                      \n",
       " [2] \"Mas a saudade é isto mesmo; é o passar e repassar das memórias antigas. Dom Casmurro. (05/05/2021).\"                                                                                                                                                                                                                                                                                                                                                                 \n",
       " [3] \"E com uma letra bem pequena, lá estava escrito no seu epitáfio: Tentou ser, não conseguiu; tentou ter, não possuiu; tentou continuar, não prosseguiu; e nessa vida de expectativas frustradas tentou até amar… Pois bem, não conseguiu, e aqui está. Dom Casmurro.\"                                                                                                                                                                                                  \n",
       " [4] \"O que é o Stemming? #Stemming\"                                                                                                                                                                                                                                                                                                                                                                                                                                       \n",
       " [5] \"A linguagem natural possui diversas formas para flexionar uma palavra para que ela caiba em uma frase. É claro que essas características são determinadas de acordo com a língua que você estará utilizando. Pense por exemplo no verbo andar:   Andei – Ande – Andarei – Andando.\"                                                                                                                                                                                  \n",
       " [6] \"Exemplo: Fonte: https://www.computersciencemaster.com.br/como-reduzir-uma-palavra-ao-seu-radical-em-python-stemming/ #stemming\"                                                                                                                                                                                                                                                                                                                                      \n",
       " [7] \"O processo de stemização (do inglês, stemming) consiste em reduzir uma palavra ao seu radical. A palavra “meninas” se reduziria a “menin”, assim como “meninos” e “menininhos”. As palavras “gato”, “gata”, “gatos” e “gatas” reduziriam-se para “gat”. A lematização reduz a palavra ao seu lema, que é a forma no masculino e singular.\"                                                                                                                           \n",
       " [8] \"No caso de verbos, o lema é o infinitivo. Por exemplo, as palavras “gato”, “gata”, “gatos” e “gatas” são todas formas do mesmo lema: “gato”. Igualmente, as palavras “tiver”, “tenho”, “tinha”, “tem” são formas do mesmo lema “ter”. A vantagem de aplicar a stemização ou lematização é clara: redução de vocabulário e abstração de significado.   Esses pré-processamentos são de cunho morfossintático, que atuam em cima de itens lexicais, ou seja, palavras.\"\n",
       " [9] \"O que é lematização?\"                                                                                                                                                                                                                                                                                                                                                                                                                                                \n",
       "[10] \"A lematização é o processo, efetivamente, de deflexionar uma palavra para determinar o seu lema (as flexões chamam-se lexemas). Por exemplo, as palavras gato, gata, gatos, gatas são todas formas do mesmo lema: gato. Igualmente, as palavras tiver, tenho, tinha, tem são do mesmo lema ter. E bom, melhor e ótimo são lexemas do lema bom. \"                                                                                                                     \n",
       "[11] \"Exemplo: #exemplolematização Fonte: https://www.computersciencemaster.com.br/como-reduzir-uma-palavra-para-sua-forma-basica-em-python-lemmatizacao/ #lemma\"                                                                                                                                                                                                                                                                                                          \n",
       "[12] \"Lematização versus Stemming (Linha 12)\"                                                                                                                                                                                                                                                                                                                                                                                                                              \n",
       "[13] \"As duas técnicas possuem o mesmo objetivo de inflexionar uma palavra, no entanto, os outputs de uma mesma palavra são diferentes. O stemming não se importa com a legibilidade da palavra gerada como output. Já a lematização resulta em uma palavra no infinitivo (geralmente – não obrigatóriamente).\"                                                                                                                                                            "
      ]
     },
     "metadata": {},
     "output_type": "display_data"
    }
   ],
   "source": [
    "texto"
   ]
  },
  {
   "cell_type": "code",
   "execution_count": 13,
   "metadata": {},
   "outputs": [],
   "source": [
    "# Load the data as a corpus\n",
    "TextDoc <- Corpus(VectorSource(texto))"
   ]
  },
  {
   "cell_type": "code",
   "execution_count": 14,
   "metadata": {},
   "outputs": [],
   "source": [
    "#Cria o toSpace \n",
    "toSpace <- content_transformer(function(x, pattern) {return (gsub(pattern, \" \", x))})"
   ]
  },
  {
   "cell_type": "code",
   "execution_count": 15,
   "metadata": {},
   "outputs": [
    {
     "data": {
      "text/html": [
       "'@professoraigti Dizem por aí, mas não tenho certeza, que meu sorriso fica mais feliz quando te vejo, dizem também que meus olhos brilham, dizem também que é amor, mas isso sim é certeza. Dom Casmurro. @machadodeassis #domcasmurro #machadodeassis https://www.igti.com.br/'"
      ],
      "text/latex": [
       "'@professoraigti Dizem por aí, mas não tenho certeza, que meu sorriso fica mais feliz quando te vejo, dizem também que meus olhos brilham, dizem também que é amor, mas isso sim é certeza. Dom Casmurro. @machadodeassis \\#domcasmurro \\#machadodeassis https://www.igti.com.br/'"
      ],
      "text/markdown": [
       "'@professoraigti Dizem por aí, mas não tenho certeza, que meu sorriso fica mais feliz quando te vejo, dizem também que meus olhos brilham, dizem também que é amor, mas isso sim é certeza. Dom Casmurro. @machadodeassis #domcasmurro #machadodeassis https://www.igti.com.br/'"
      ],
      "text/plain": [
       "[1] \"@professoraigti Dizem por aí, mas não tenho certeza, que meu sorriso fica mais feliz quando te vejo, dizem também que meus olhos brilham, dizem também que é amor, mas isso sim é certeza. Dom Casmurro. @machadodeassis #domcasmurro #machadodeassis https://www.igti.com.br/\""
      ]
     },
     "metadata": {},
     "output_type": "display_data"
    }
   ],
   "source": [
    "TextDoc[[1]]$content"
   ]
  },
  {
   "cell_type": "code",
   "execution_count": 16,
   "metadata": {},
   "outputs": [
    {
     "name": "stderr",
     "output_type": "stream",
     "text": [
      "Warning message in tm_map.SimpleCorpus(TextDoc, toSpace, \"@\\\\w+\"):\n",
      "\"transformation drops documents\""
     ]
    },
    {
     "data": {
      "text/html": [
       "<span style=white-space:pre-wrap>'  Dizem por aí, mas não tenho certeza, que meu sorriso fica mais feliz quando te vejo, dizem também que meus olhos brilham, dizem também que é amor, mas isso sim é certeza. Dom Casmurro.   #domcasmurro #machadodeassis https://www.igti.com.br/'</span>"
      ],
      "text/latex": [
       "'  Dizem por aí, mas não tenho certeza, que meu sorriso fica mais feliz quando te vejo, dizem também que meus olhos brilham, dizem também que é amor, mas isso sim é certeza. Dom Casmurro.   \\#domcasmurro \\#machadodeassis https://www.igti.com.br/'"
      ],
      "text/markdown": [
       "<span style=white-space:pre-wrap>'  Dizem por aí, mas não tenho certeza, que meu sorriso fica mais feliz quando te vejo, dizem também que meus olhos brilham, dizem também que é amor, mas isso sim é certeza. Dom Casmurro.   #domcasmurro #machadodeassis https://www.igti.com.br/'</span>"
      ],
      "text/plain": [
       "[1] \"  Dizem por aí, mas não tenho certeza, que meu sorriso fica mais feliz quando te vejo, dizem também que meus olhos brilham, dizem também que é amor, mas isso sim é certeza. Dom Casmurro.   #domcasmurro #machadodeassis https://www.igti.com.br/\""
      ]
     },
     "metadata": {},
     "output_type": "display_data"
    }
   ],
   "source": [
    "TextDoc <- tm_map(TextDoc, toSpace, \"@\\\\w+\")\n",
    "TextDoc[[1]]$content"
   ]
  },
  {
   "cell_type": "code",
   "execution_count": 17,
   "metadata": {},
   "outputs": [
    {
     "name": "stderr",
     "output_type": "stream",
     "text": [
      "Warning message in tm_map.SimpleCorpus(TextDoc, toSpace, \"#\\\\w+\"):\n",
      "\"transformation drops documents\""
     ]
    },
    {
     "data": {
      "text/html": [
       "<span style=white-space:pre-wrap>'  Dizem por aí, mas não tenho certeza, que meu sorriso fica mais feliz quando te vejo, dizem também que meus olhos brilham, dizem também que é amor, mas isso sim é certeza. Dom Casmurro.       https://www.igti.com.br/'</span>"
      ],
      "text/latex": [
       "'  Dizem por aí, mas não tenho certeza, que meu sorriso fica mais feliz quando te vejo, dizem também que meus olhos brilham, dizem também que é amor, mas isso sim é certeza. Dom Casmurro.       https://www.igti.com.br/'"
      ],
      "text/markdown": [
       "<span style=white-space:pre-wrap>'  Dizem por aí, mas não tenho certeza, que meu sorriso fica mais feliz quando te vejo, dizem também que meus olhos brilham, dizem também que é amor, mas isso sim é certeza. Dom Casmurro.       https://www.igti.com.br/'</span>"
      ],
      "text/plain": [
       "[1] \"  Dizem por aí, mas não tenho certeza, que meu sorriso fica mais feliz quando te vejo, dizem também que meus olhos brilham, dizem também que é amor, mas isso sim é certeza. Dom Casmurro.       https://www.igti.com.br/\""
      ]
     },
     "metadata": {},
     "output_type": "display_data"
    }
   ],
   "source": [
    "TextDoc <- tm_map(TextDoc, toSpace, \"#\\\\w+\")\n",
    "TextDoc[[1]]$content\n"
   ]
  },
  {
   "cell_type": "code",
   "execution_count": 18,
   "metadata": {},
   "outputs": [
    {
     "name": "stderr",
     "output_type": "stream",
     "text": [
      "Warning message in tm_map.SimpleCorpus(TextDoc, toSpace, \" ?(f|ht)(tp)(s?)(://)(.*)[.|/](.*)\"):\n",
      "\"transformation drops documents\""
     ]
    },
    {
     "data": {
      "text/html": [
       "<span style=white-space:pre-wrap>'  Dizem por aí, mas não tenho certeza, que meu sorriso fica mais feliz quando te vejo, dizem também que meus olhos brilham, dizem também que é amor, mas isso sim é certeza. Dom Casmurro.       '</span>"
      ],
      "text/latex": [
       "'  Dizem por aí, mas não tenho certeza, que meu sorriso fica mais feliz quando te vejo, dizem também que meus olhos brilham, dizem também que é amor, mas isso sim é certeza. Dom Casmurro.       '"
      ],
      "text/markdown": [
       "<span style=white-space:pre-wrap>'  Dizem por aí, mas não tenho certeza, que meu sorriso fica mais feliz quando te vejo, dizem também que meus olhos brilham, dizem também que é amor, mas isso sim é certeza. Dom Casmurro.       '</span>"
      ],
      "text/plain": [
       "[1] \"  Dizem por aí, mas não tenho certeza, que meu sorriso fica mais feliz quando te vejo, dizem também que meus olhos brilham, dizem também que é amor, mas isso sim é certeza. Dom Casmurro.       \""
      ]
     },
     "metadata": {},
     "output_type": "display_data"
    }
   ],
   "source": [
    "TextDoc <- tm_map(TextDoc, toSpace, \" ?(f|ht)(tp)(s?)(://)(.*)[.|/](.*)\")\n",
    "TextDoc[[1]]$content"
   ]
  },
  {
   "cell_type": "code",
   "execution_count": 19,
   "metadata": {},
   "outputs": [
    {
     "data": {
      "text/html": [
       "<ol class=list-inline>\n",
       "\t<li>'removeNumbers'</li>\n",
       "\t<li>'removePunctuation'</li>\n",
       "\t<li>'removeWords'</li>\n",
       "\t<li>'stemDocument'</li>\n",
       "\t<li>'stripWhitespace'</li>\n",
       "</ol>\n"
      ],
      "text/latex": [
       "\\begin{enumerate*}\n",
       "\\item 'removeNumbers'\n",
       "\\item 'removePunctuation'\n",
       "\\item 'removeWords'\n",
       "\\item 'stemDocument'\n",
       "\\item 'stripWhitespace'\n",
       "\\end{enumerate*}\n"
      ],
      "text/markdown": [
       "1. 'removeNumbers'\n",
       "2. 'removePunctuation'\n",
       "3. 'removeWords'\n",
       "4. 'stemDocument'\n",
       "5. 'stripWhitespace'\n",
       "\n",
       "\n"
      ],
      "text/plain": [
       "[1] \"removeNumbers\"     \"removePunctuation\" \"removeWords\"      \n",
       "[4] \"stemDocument\"      \"stripWhitespace\"  "
      ]
     },
     "metadata": {},
     "output_type": "display_data"
    }
   ],
   "source": [
    "getTransformations()"
   ]
  },
  {
   "cell_type": "code",
   "execution_count": 20,
   "metadata": {},
   "outputs": [
    {
     "data": {
      "text/html": [
       "<span style=white-space:pre-wrap>'A linguagem natural possui diversas formas para flexionar uma palavra para que ela caiba em uma frase. É claro que essas características são determinadas de acordo com a língua que você estará utilizando. Pense por exemplo no verbo andar:   Andei – Ande – Andarei – Andando.'</span>"
      ],
      "text/latex": [
       "'A linguagem natural possui diversas formas para flexionar uma palavra para que ela caiba em uma frase. É claro que essas características são determinadas de acordo com a língua que você estará utilizando. Pense por exemplo no verbo andar:   Andei – Ande – Andarei – Andando.'"
      ],
      "text/markdown": [
       "<span style=white-space:pre-wrap>'A linguagem natural possui diversas formas para flexionar uma palavra para que ela caiba em uma frase. É claro que essas características são determinadas de acordo com a língua que você estará utilizando. Pense por exemplo no verbo andar:   Andei – Ande – Andarei – Andando.'</span>"
      ],
      "text/plain": [
       "[1] \"A linguagem natural possui diversas formas para flexionar uma palavra para que ela caiba em uma frase. É claro que essas características são determinadas de acordo com a língua que você estará utilizando. Pense por exemplo no verbo andar:   Andei – Ande – Andarei – Andando.\""
      ]
     },
     "metadata": {},
     "output_type": "display_data"
    }
   ],
   "source": [
    "TextDoc[[5]]$content"
   ]
  },
  {
   "cell_type": "code",
   "execution_count": 21,
   "metadata": {},
   "outputs": [
    {
     "name": "stderr",
     "output_type": "stream",
     "text": [
      "Warning message in tm_map.SimpleCorpus(TextDoc, removePunctuation):\n",
      "\"transformation drops documents\""
     ]
    },
    {
     "data": {
      "text/html": [
       "<span style=white-space:pre-wrap>'A linguagem natural possui diversas formas para flexionar uma palavra para que ela caiba em uma frase É claro que essas características são determinadas de acordo com a língua que você estará utilizando Pense por exemplo no verbo andar   Andei – Ande – Andarei – Andando'</span>"
      ],
      "text/latex": [
       "'A linguagem natural possui diversas formas para flexionar uma palavra para que ela caiba em uma frase É claro que essas características são determinadas de acordo com a língua que você estará utilizando Pense por exemplo no verbo andar   Andei – Ande – Andarei – Andando'"
      ],
      "text/markdown": [
       "<span style=white-space:pre-wrap>'A linguagem natural possui diversas formas para flexionar uma palavra para que ela caiba em uma frase É claro que essas características são determinadas de acordo com a língua que você estará utilizando Pense por exemplo no verbo andar   Andei – Ande – Andarei – Andando'</span>"
      ],
      "text/plain": [
       "[1] \"A linguagem natural possui diversas formas para flexionar uma palavra para que ela caiba em uma frase É claro que essas características são determinadas de acordo com a língua que você estará utilizando Pense por exemplo no verbo andar   Andei – Ande – Andarei – Andando\""
      ]
     },
     "metadata": {},
     "output_type": "display_data"
    }
   ],
   "source": [
    "#Remove punctuation – replace punctuation marks with ” “\n",
    "TextDoc <- tm_map(TextDoc, removePunctuation)\n",
    "TextDoc[[5]]$content"
   ]
  },
  {
   "cell_type": "code",
   "execution_count": 22,
   "metadata": {},
   "outputs": [
    {
     "data": {
      "text/html": [
       "<span style=white-space:pre-wrap>'No caso de verbos o lema é o infinitivo Por exemplo as palavras “gato” “gata” “gatos” e “gatas” são todas formas do mesmo lema “gato” Igualmente as palavras “tiver” “tenho” “tinha” “tem” são formas do mesmo lema “ter” A vantagem de aplicar a stemização ou lematização é clara redução de vocabulário e abstração de significado   Esses préprocessamentos são de cunho morfossintático que atuam em cima de itens lexicais ou seja palavras'</span>"
      ],
      "text/latex": [
       "'No caso de verbos o lema é o infinitivo Por exemplo as palavras “gato” “gata” “gatos” e “gatas” são todas formas do mesmo lema “gato” Igualmente as palavras “tiver” “tenho” “tinha” “tem” são formas do mesmo lema “ter” A vantagem de aplicar a stemização ou lematização é clara redução de vocabulário e abstração de significado   Esses préprocessamentos são de cunho morfossintático que atuam em cima de itens lexicais ou seja palavras'"
      ],
      "text/markdown": [
       "<span style=white-space:pre-wrap>'No caso de verbos o lema é o infinitivo Por exemplo as palavras “gato” “gata” “gatos” e “gatas” são todas formas do mesmo lema “gato” Igualmente as palavras “tiver” “tenho” “tinha” “tem” são formas do mesmo lema “ter” A vantagem de aplicar a stemização ou lematização é clara redução de vocabulário e abstração de significado   Esses préprocessamentos são de cunho morfossintático que atuam em cima de itens lexicais ou seja palavras'</span>"
      ],
      "text/plain": [
       "[1] \"No caso de verbos o lema é o infinitivo Por exemplo as palavras “gato” “gata” “gatos” e “gatas” são todas formas do mesmo lema “gato” Igualmente as palavras “tiver” “tenho” “tinha” “tem” são formas do mesmo lema “ter” A vantagem de aplicar a stemização ou lematização é clara redução de vocabulário e abstração de significado   Esses préprocessamentos são de cunho morfossintático que atuam em cima de itens lexicais ou seja palavras\""
      ]
     },
     "metadata": {},
     "output_type": "display_data"
    }
   ],
   "source": [
    "TextDoc[[8]]$content"
   ]
  },
  {
   "cell_type": "code",
   "execution_count": 23,
   "metadata": {},
   "outputs": [
    {
     "name": "stderr",
     "output_type": "stream",
     "text": [
      "Warning message in tm_map.SimpleCorpus(TextDoc, toSpace, \"–\"):\n",
      "\"transformation drops documents\"Warning message in tm_map.SimpleCorpus(TextDoc, toSpace, \"“\"):\n",
      "\"transformation drops documents\"Warning message in tm_map.SimpleCorpus(TextDoc, toSpace, \"”\"):\n",
      "\"transformation drops documents\""
     ]
    },
    {
     "data": {
      "text/html": [
       "<span style=white-space:pre-wrap>'A linguagem natural possui diversas formas para flexionar uma palavra para que ela caiba em uma frase É claro que essas características são determinadas de acordo com a língua que você estará utilizando Pense por exemplo no verbo andar   Andei   Ande   Andarei   Andando'</span>"
      ],
      "text/latex": [
       "'A linguagem natural possui diversas formas para flexionar uma palavra para que ela caiba em uma frase É claro que essas características são determinadas de acordo com a língua que você estará utilizando Pense por exemplo no verbo andar   Andei   Ande   Andarei   Andando'"
      ],
      "text/markdown": [
       "<span style=white-space:pre-wrap>'A linguagem natural possui diversas formas para flexionar uma palavra para que ela caiba em uma frase É claro que essas características são determinadas de acordo com a língua que você estará utilizando Pense por exemplo no verbo andar   Andei   Ande   Andarei   Andando'</span>"
      ],
      "text/plain": [
       "[1] \"A linguagem natural possui diversas formas para flexionar uma palavra para que ela caiba em uma frase É claro que essas características são determinadas de acordo com a língua que você estará utilizando Pense por exemplo no verbo andar   Andei   Ande   Andarei   Andando\""
      ]
     },
     "metadata": {},
     "output_type": "display_data"
    },
    {
     "data": {
      "text/html": [
       "<span style=white-space:pre-wrap>'No caso de verbos o lema é o infinitivo Por exemplo as palavras  gato   gata   gatos  e  gatas  são todas formas do mesmo lema  gato  Igualmente as palavras  tiver   tenho   tinha   tem  são formas do mesmo lema  ter  A vantagem de aplicar a stemização ou lematização é clara redução de vocabulário e abstração de significado   Esses préprocessamentos são de cunho morfossintático que atuam em cima de itens lexicais ou seja palavras'</span>"
      ],
      "text/latex": [
       "'No caso de verbos o lema é o infinitivo Por exemplo as palavras  gato   gata   gatos  e  gatas  são todas formas do mesmo lema  gato  Igualmente as palavras  tiver   tenho   tinha   tem  são formas do mesmo lema  ter  A vantagem de aplicar a stemização ou lematização é clara redução de vocabulário e abstração de significado   Esses préprocessamentos são de cunho morfossintático que atuam em cima de itens lexicais ou seja palavras'"
      ],
      "text/markdown": [
       "<span style=white-space:pre-wrap>'No caso de verbos o lema é o infinitivo Por exemplo as palavras  gato   gata   gatos  e  gatas  são todas formas do mesmo lema  gato  Igualmente as palavras  tiver   tenho   tinha   tem  são formas do mesmo lema  ter  A vantagem de aplicar a stemização ou lematização é clara redução de vocabulário e abstração de significado   Esses préprocessamentos são de cunho morfossintático que atuam em cima de itens lexicais ou seja palavras'</span>"
      ],
      "text/plain": [
       "[1] \"No caso de verbos o lema é o infinitivo Por exemplo as palavras  gato   gata   gatos  e  gatas  são todas formas do mesmo lema  gato  Igualmente as palavras  tiver   tenho   tinha   tem  são formas do mesmo lema  ter  A vantagem de aplicar a stemização ou lematização é clara redução de vocabulário e abstração de significado   Esses préprocessamentos são de cunho morfossintático que atuam em cima de itens lexicais ou seja palavras\""
      ]
     },
     "metadata": {},
     "output_type": "display_data"
    }
   ],
   "source": [
    "TextDoc <- tm_map(TextDoc, toSpace, \"–\")\n",
    "TextDoc <- tm_map(TextDoc, toSpace, \"“\")\n",
    "TextDoc <- tm_map(TextDoc, toSpace, \"”\")\n",
    "TextDoc[[5]]$content\n",
    "TextDoc[[8]]$content"
   ]
  },
  {
   "cell_type": "code",
   "execution_count": 24,
   "metadata": {},
   "outputs": [
    {
     "name": "stderr",
     "output_type": "stream",
     "text": [
      "Warning message in tm_map.SimpleCorpus(TextDoc, content_transformer(tolower)):\n",
      "\"transformation drops documents\""
     ]
    },
    {
     "data": {
      "text/html": [
       "<span style=white-space:pre-wrap>'a linguagem natural possui diversas formas para flexionar uma palavra para que ela caiba em uma frase é claro que essas características são determinadas de acordo com a língua que você estará utilizando pense por exemplo no verbo andar   andei   ande   andarei   andando'</span>"
      ],
      "text/latex": [
       "'a linguagem natural possui diversas formas para flexionar uma palavra para que ela caiba em uma frase é claro que essas características são determinadas de acordo com a língua que você estará utilizando pense por exemplo no verbo andar   andei   ande   andarei   andando'"
      ],
      "text/markdown": [
       "<span style=white-space:pre-wrap>'a linguagem natural possui diversas formas para flexionar uma palavra para que ela caiba em uma frase é claro que essas características são determinadas de acordo com a língua que você estará utilizando pense por exemplo no verbo andar   andei   ande   andarei   andando'</span>"
      ],
      "text/plain": [
       "[1] \"a linguagem natural possui diversas formas para flexionar uma palavra para que ela caiba em uma frase é claro que essas características são determinadas de acordo com a língua que você estará utilizando pense por exemplo no verbo andar   andei   ande   andarei   andando\""
      ]
     },
     "metadata": {},
     "output_type": "display_data"
    }
   ],
   "source": [
    "#Transform to lower case (need to wrap in content_transformer)\n",
    "TextDoc <- tm_map(TextDoc,content_transformer(tolower))\n",
    "TextDoc[[5]]$content"
   ]
  },
  {
   "cell_type": "code",
   "execution_count": 25,
   "metadata": {},
   "outputs": [
    {
     "data": {
      "text/html": [
       "'mas a saudade é isto mesmo é o passar e repassar das memórias antigas dom casmurro 05052021'"
      ],
      "text/latex": [
       "'mas a saudade é isto mesmo é o passar e repassar das memórias antigas dom casmurro 05052021'"
      ],
      "text/markdown": [
       "'mas a saudade é isto mesmo é o passar e repassar das memórias antigas dom casmurro 05052021'"
      ],
      "text/plain": [
       "[1] \"mas a saudade é isto mesmo é o passar e repassar das memórias antigas dom casmurro 05052021\""
      ]
     },
     "metadata": {},
     "output_type": "display_data"
    }
   ],
   "source": [
    "TextDoc[[2]]$content"
   ]
  },
  {
   "cell_type": "code",
   "execution_count": 26,
   "metadata": {},
   "outputs": [
    {
     "name": "stderr",
     "output_type": "stream",
     "text": [
      "Warning message in tm_map.SimpleCorpus(TextDoc, removeNumbers):\n",
      "\"transformation drops documents\""
     ]
    },
    {
     "data": {
      "text/html": [
       "'mas a saudade é isto mesmo é o passar e repassar das memórias antigas dom casmurro '"
      ],
      "text/latex": [
       "'mas a saudade é isto mesmo é o passar e repassar das memórias antigas dom casmurro '"
      ],
      "text/markdown": [
       "'mas a saudade é isto mesmo é o passar e repassar das memórias antigas dom casmurro '"
      ],
      "text/plain": [
       "[1] \"mas a saudade é isto mesmo é o passar e repassar das memórias antigas dom casmurro \""
      ]
     },
     "metadata": {},
     "output_type": "display_data"
    }
   ],
   "source": [
    "#Strip digits (std transformation, so no need for content_transformer)\n",
    "TextDoc <- tm_map(TextDoc, removeNumbers)\n",
    "TextDoc[[2]]$content"
   ]
  },
  {
   "cell_type": "code",
   "execution_count": 27,
   "metadata": {},
   "outputs": [
    {
     "name": "stderr",
     "output_type": "stream",
     "text": [
      "Warning message in tm_map.SimpleCorpus(TextDoc, removeWords, stopwords(\"portuguese\")):\n",
      "\"transformation drops documents\""
     ]
    }
   ],
   "source": [
    "#remove stopwords using the standard list in tm\n",
    "TextDoc <- tm_map(TextDoc, removeWords, stopwords(\"portuguese\"))"
   ]
  },
  {
   "cell_type": "code",
   "execution_count": 28,
   "metadata": {},
   "outputs": [
    {
     "data": {
      "text/html": [
       "<span style=white-space:pre-wrap>' linguagem natural possui diversas formas  flexionar  palavra    caiba   frase é claro   características  determinadas  acordo   língua   estará utilizando pense  exemplo  verbo andar   andei   ande   andarei   andando'</span>"
      ],
      "text/latex": [
       "' linguagem natural possui diversas formas  flexionar  palavra    caiba   frase é claro   características  determinadas  acordo   língua   estará utilizando pense  exemplo  verbo andar   andei   ande   andarei   andando'"
      ],
      "text/markdown": [
       "<span style=white-space:pre-wrap>' linguagem natural possui diversas formas  flexionar  palavra    caiba   frase é claro   características  determinadas  acordo   língua   estará utilizando pense  exemplo  verbo andar   andei   ande   andarei   andando'</span>"
      ],
      "text/plain": [
       "[1] \" linguagem natural possui diversas formas  flexionar  palavra    caiba   frase é claro   características  determinadas  acordo   língua   estará utilizando pense  exemplo  verbo andar   andei   ande   andarei   andando\""
      ]
     },
     "metadata": {},
     "output_type": "display_data"
    },
    {
     "data": {
      "text/html": [
       "<span style=white-space:pre-wrap>' caso  verbos  lema é  infinitivo  exemplo  palavras  gato   gata   gatos    gatas   todas formas   lema  gato  igualmente  palavras              formas   lema  ter   vantagem  aplicar  stemização  lematização é clara redução  vocabulário  abstração  significado    préprocessamentos   cunho morfossintático  atuam  cima  itens lexicais   palavras'</span>"
      ],
      "text/latex": [
       "' caso  verbos  lema é  infinitivo  exemplo  palavras  gato   gata   gatos    gatas   todas formas   lema  gato  igualmente  palavras              formas   lema  ter   vantagem  aplicar  stemização  lematização é clara redução  vocabulário  abstração  significado    préprocessamentos   cunho morfossintático  atuam  cima  itens lexicais   palavras'"
      ],
      "text/markdown": [
       "<span style=white-space:pre-wrap>' caso  verbos  lema é  infinitivo  exemplo  palavras  gato   gata   gatos    gatas   todas formas   lema  gato  igualmente  palavras              formas   lema  ter   vantagem  aplicar  stemização  lematização é clara redução  vocabulário  abstração  significado    préprocessamentos   cunho morfossintático  atuam  cima  itens lexicais   palavras'</span>"
      ],
      "text/plain": [
       "[1] \" caso  verbos  lema é  infinitivo  exemplo  palavras  gato   gata   gatos    gatas   todas formas   lema  gato  igualmente  palavras              formas   lema  ter   vantagem  aplicar  stemização  lematização é clara redução  vocabulário  abstração  significado    préprocessamentos   cunho morfossintático  atuam  cima  itens lexicais   palavras\""
      ]
     },
     "metadata": {},
     "output_type": "display_data"
    }
   ],
   "source": [
    "TextDoc[[5]]$content\n",
    "TextDoc[[8]]$content"
   ]
  },
  {
   "cell_type": "code",
   "execution_count": 29,
   "metadata": {},
   "outputs": [
    {
     "name": "stdout",
     "output_type": "stream",
     "text": [
      "  [1] \"de\"           \"a\"            \"o\"            \"que\"          \"e\"           \n",
      "  [6] \"do\"           \"da\"           \"em\"           \"um\"           \"para\"        \n",
      " [11] \"com\"          \"não\"          \"uma\"          \"os\"           \"no\"          \n",
      " [16] \"se\"           \"na\"           \"por\"          \"mais\"         \"as\"          \n",
      " [21] \"dos\"          \"como\"         \"mas\"          \"ao\"           \"ele\"         \n",
      " [26] \"das\"          \"à\"            \"seu\"          \"sua\"          \"ou\"          \n",
      " [31] \"quando\"       \"muito\"        \"nos\"          \"já\"           \"eu\"          \n",
      " [36] \"também\"       \"só\"           \"pelo\"         \"pela\"         \"até\"         \n",
      " [41] \"isso\"         \"ela\"          \"entre\"        \"depois\"       \"sem\"         \n",
      " [46] \"mesmo\"        \"aos\"          \"seus\"         \"quem\"         \"nas\"         \n",
      " [51] \"me\"           \"esse\"         \"eles\"         \"você\"         \"essa\"        \n",
      " [56] \"num\"          \"nem\"          \"suas\"         \"meu\"          \"às\"          \n",
      " [61] \"minha\"        \"numa\"         \"pelos\"        \"elas\"         \"qual\"        \n",
      " [66] \"nós\"          \"lhe\"          \"deles\"        \"essas\"        \"esses\"       \n",
      " [71] \"pelas\"        \"este\"         \"dele\"         \"tu\"           \"te\"          \n",
      " [76] \"vocês\"        \"vos\"          \"lhes\"         \"meus\"         \"minhas\"      \n",
      " [81] \"teu\"          \"tua\"          \"teus\"         \"tuas\"         \"nosso\"       \n",
      " [86] \"nossa\"        \"nossos\"       \"nossas\"       \"dela\"         \"delas\"       \n",
      " [91] \"esta\"         \"estes\"        \"estas\"        \"aquele\"       \"aquela\"      \n",
      " [96] \"aqueles\"      \"aquelas\"      \"isto\"         \"aquilo\"       \"estou\"       \n",
      "[101] \"está\"         \"estamos\"      \"estão\"        \"estive\"       \"esteve\"      \n",
      "[106] \"estivemos\"    \"estiveram\"    \"estava\"       \"estávamos\"    \"estavam\"     \n",
      "[111] \"estivera\"     \"estivéramos\"  \"esteja\"       \"estejamos\"    \"estejam\"     \n",
      "[116] \"estivesse\"    \"estivéssemos\" \"estivessem\"   \"estiver\"      \"estivermos\"  \n",
      "[121] \"estiverem\"    \"hei\"          \"há\"           \"havemos\"      \"hão\"         \n",
      "[126] \"houve\"        \"houvemos\"     \"houveram\"     \"houvera\"      \"houvéramos\"  \n",
      "[131] \"haja\"         \"hajamos\"      \"hajam\"        \"houvesse\"     \"houvéssemos\" \n",
      "[136] \"houvessem\"    \"houver\"       \"houvermos\"    \"houverem\"     \"houverei\"    \n",
      "[141] \"houverá\"      \"houveremos\"   \"houverão\"     \"houveria\"     \"houveríamos\" \n",
      "[146] \"houveriam\"    \"sou\"          \"somos\"        \"são\"          \"era\"         \n",
      "[151] \"éramos\"       \"eram\"         \"fui\"          \"foi\"          \"fomos\"       \n",
      "[156] \"foram\"        \"fora\"         \"fôramos\"      \"seja\"         \"sejamos\"     \n",
      "[161] \"sejam\"        \"fosse\"        \"fôssemos\"     \"fossem\"       \"for\"         \n",
      "[166] \"formos\"       \"forem\"        \"serei\"        \"será\"         \"seremos\"     \n",
      "[171] \"serão\"        \"seria\"        \"seríamos\"     \"seriam\"       \"tenho\"       \n",
      "[176] \"tem\"          \"temos\"        \"tém\"          \"tinha\"        \"tínhamos\"    \n",
      "[181] \"tinham\"       \"tive\"         \"teve\"         \"tivemos\"      \"tiveram\"     \n",
      "[186] \"tivera\"       \"tivéramos\"    \"tenha\"        \"tenhamos\"     \"tenham\"      \n",
      "[191] \"tivesse\"      \"tivéssemos\"   \"tivessem\"     \"tiver\"        \"tivermos\"    \n",
      "[196] \"tiverem\"      \"terei\"        \"terá\"         \"teremos\"      \"terão\"       \n",
      "[201] \"teria\"        \"teríamos\"     \"teriam\"      \n"
     ]
    }
   ],
   "source": [
    "print(stopwords(\"portuguese\"))"
   ]
  },
  {
   "cell_type": "code",
   "execution_count": 30,
   "metadata": {},
   "outputs": [
    {
     "name": "stderr",
     "output_type": "stream",
     "text": [
      "Warning message in tm_map.SimpleCorpus(TextDoc, removeWords, \"é\"):\n",
      "\"transformation drops documents\""
     ]
    },
    {
     "data": {
      "text/html": [
       "<span style=white-space:pre-wrap>' linguagem natural possui diversas formas  flexionar  palavra    caiba   frase  claro   características  determinadas  acordo   língua   estará utilizando pense  exemplo  verbo andar   andei   ande   andarei   andando'</span>"
      ],
      "text/latex": [
       "' linguagem natural possui diversas formas  flexionar  palavra    caiba   frase  claro   características  determinadas  acordo   língua   estará utilizando pense  exemplo  verbo andar   andei   ande   andarei   andando'"
      ],
      "text/markdown": [
       "<span style=white-space:pre-wrap>' linguagem natural possui diversas formas  flexionar  palavra    caiba   frase  claro   características  determinadas  acordo   língua   estará utilizando pense  exemplo  verbo andar   andei   ande   andarei   andando'</span>"
      ],
      "text/plain": [
       "[1] \" linguagem natural possui diversas formas  flexionar  palavra    caiba   frase  claro   características  determinadas  acordo   língua   estará utilizando pense  exemplo  verbo andar   andei   ande   andarei   andando\""
      ]
     },
     "metadata": {},
     "output_type": "display_data"
    },
    {
     "data": {
      "text/html": [
       "<span style=white-space:pre-wrap>' caso  verbos  lema   infinitivo  exemplo  palavras  gato   gata   gatos    gatas   todas formas   lema  gato  igualmente  palavras              formas   lema  ter   vantagem  aplicar  stemização  lematização  clara redução  vocabulário  abstração  significado    préprocessamentos   cunho morfossintático  atuam  cima  itens lexicais   palavras'</span>"
      ],
      "text/latex": [
       "' caso  verbos  lema   infinitivo  exemplo  palavras  gato   gata   gatos    gatas   todas formas   lema  gato  igualmente  palavras              formas   lema  ter   vantagem  aplicar  stemização  lematização  clara redução  vocabulário  abstração  significado    préprocessamentos   cunho morfossintático  atuam  cima  itens lexicais   palavras'"
      ],
      "text/markdown": [
       "<span style=white-space:pre-wrap>' caso  verbos  lema   infinitivo  exemplo  palavras  gato   gata   gatos    gatas   todas formas   lema  gato  igualmente  palavras              formas   lema  ter   vantagem  aplicar  stemização  lematização  clara redução  vocabulário  abstração  significado    préprocessamentos   cunho morfossintático  atuam  cima  itens lexicais   palavras'</span>"
      ],
      "text/plain": [
       "[1] \" caso  verbos  lema   infinitivo  exemplo  palavras  gato   gata   gatos    gatas   todas formas   lema  gato  igualmente  palavras              formas   lema  ter   vantagem  aplicar  stemização  lematização  clara redução  vocabulário  abstração  significado    préprocessamentos   cunho morfossintático  atuam  cima  itens lexicais   palavras\""
      ]
     },
     "metadata": {},
     "output_type": "display_data"
    }
   ],
   "source": [
    "#remove stopwords using the standard list in tm\n",
    "TextDoc <- tm_map(TextDoc, removeWords, \"é\")\n",
    "TextDoc[[5]]$content\n",
    "TextDoc[[8]]$content"
   ]
  },
  {
   "cell_type": "code",
   "execution_count": 31,
   "metadata": {},
   "outputs": [
    {
     "name": "stderr",
     "output_type": "stream",
     "text": [
      "Warning message in tm_map.SimpleCorpus(TextDoc, stripWhitespace):\n",
      "\"transformation drops documents\""
     ]
    },
    {
     "data": {
      "text/html": [
       "' linguagem natural possui diversas formas flexionar palavra caiba frase claro características determinadas acordo língua estará utilizando pense exemplo verbo andar andei ande andarei andando'"
      ],
      "text/latex": [
       "' linguagem natural possui diversas formas flexionar palavra caiba frase claro características determinadas acordo língua estará utilizando pense exemplo verbo andar andei ande andarei andando'"
      ],
      "text/markdown": [
       "' linguagem natural possui diversas formas flexionar palavra caiba frase claro características determinadas acordo língua estará utilizando pense exemplo verbo andar andei ande andarei andando'"
      ],
      "text/plain": [
       "[1] \" linguagem natural possui diversas formas flexionar palavra caiba frase claro características determinadas acordo língua estará utilizando pense exemplo verbo andar andei ande andarei andando\""
      ]
     },
     "metadata": {},
     "output_type": "display_data"
    },
    {
     "data": {
      "text/html": [
       "' caso verbos lema infinitivo exemplo palavras gato gata gatos gatas todas formas lema gato igualmente palavras formas lema ter vantagem aplicar stemização lematização clara redução vocabulário abstração significado préprocessamentos cunho morfossintático atuam cima itens lexicais palavras'"
      ],
      "text/latex": [
       "' caso verbos lema infinitivo exemplo palavras gato gata gatos gatas todas formas lema gato igualmente palavras formas lema ter vantagem aplicar stemização lematização clara redução vocabulário abstração significado préprocessamentos cunho morfossintático atuam cima itens lexicais palavras'"
      ],
      "text/markdown": [
       "' caso verbos lema infinitivo exemplo palavras gato gata gatos gatas todas formas lema gato igualmente palavras formas lema ter vantagem aplicar stemização lematização clara redução vocabulário abstração significado préprocessamentos cunho morfossintático atuam cima itens lexicais palavras'"
      ],
      "text/plain": [
       "[1] \" caso verbos lema infinitivo exemplo palavras gato gata gatos gatas todas formas lema gato igualmente palavras formas lema ter vantagem aplicar stemização lematização clara redução vocabulário abstração significado préprocessamentos cunho morfossintático atuam cima itens lexicais palavras\""
      ]
     },
     "metadata": {},
     "output_type": "display_data"
    }
   ],
   "source": [
    "#Strip whitespace\n",
    "TextDoc <- tm_map(TextDoc, stripWhitespace)\n",
    "TextDoc[[5]]$content\n",
    "TextDoc[[8]]$content"
   ]
  },
  {
   "cell_type": "code",
   "execution_count": 32,
   "metadata": {},
   "outputs": [
    {
     "data": {
      "text/html": [
       "' linguagem natural possui diversas formas flexionar palavra caiba frase claro características determinadas acordo língua estará utilizando pense exemplo verbo andar andei ande andarei andando'"
      ],
      "text/latex": [
       "' linguagem natural possui diversas formas flexionar palavra caiba frase claro características determinadas acordo língua estará utilizando pense exemplo verbo andar andei ande andarei andando'"
      ],
      "text/markdown": [
       "' linguagem natural possui diversas formas flexionar palavra caiba frase claro características determinadas acordo língua estará utilizando pense exemplo verbo andar andei ande andarei andando'"
      ],
      "text/plain": [
       "[1] \" linguagem natural possui diversas formas flexionar palavra caiba frase claro características determinadas acordo língua estará utilizando pense exemplo verbo andar andei ande andarei andando\""
      ]
     },
     "metadata": {},
     "output_type": "display_data"
    },
    {
     "data": {
      "text/html": [
       "' processo stemização inglês stemming consiste reduzir palavra radical palavra meninas reduziria menin assim meninos menininhos palavras gato gata gatos gatas reduziriamse gat lematização reduz palavra lema forma masculino singular'"
      ],
      "text/latex": [
       "' processo stemização inglês stemming consiste reduzir palavra radical palavra meninas reduziria menin assim meninos menininhos palavras gato gata gatos gatas reduziriamse gat lematização reduz palavra lema forma masculino singular'"
      ],
      "text/markdown": [
       "' processo stemização inglês stemming consiste reduzir palavra radical palavra meninas reduziria menin assim meninos menininhos palavras gato gata gatos gatas reduziriamse gat lematização reduz palavra lema forma masculino singular'"
      ],
      "text/plain": [
       "[1] \" processo stemização inglês stemming consiste reduzir palavra radical palavra meninas reduziria menin assim meninos menininhos palavras gato gata gatos gatas reduziriamse gat lematização reduz palavra lema forma masculino singular\""
      ]
     },
     "metadata": {},
     "output_type": "display_data"
    },
    {
     "data": {
      "text/html": [
       "' caso verbos lema infinitivo exemplo palavras gato gata gatos gatas todas formas lema gato igualmente palavras formas lema ter vantagem aplicar stemização lematização clara redução vocabulário abstração significado préprocessamentos cunho morfossintático atuam cima itens lexicais palavras'"
      ],
      "text/latex": [
       "' caso verbos lema infinitivo exemplo palavras gato gata gatos gatas todas formas lema gato igualmente palavras formas lema ter vantagem aplicar stemização lematização clara redução vocabulário abstração significado préprocessamentos cunho morfossintático atuam cima itens lexicais palavras'"
      ],
      "text/markdown": [
       "' caso verbos lema infinitivo exemplo palavras gato gata gatos gatas todas formas lema gato igualmente palavras formas lema ter vantagem aplicar stemização lematização clara redução vocabulário abstração significado préprocessamentos cunho morfossintático atuam cima itens lexicais palavras'"
      ],
      "text/plain": [
       "[1] \" caso verbos lema infinitivo exemplo palavras gato gata gatos gatas todas formas lema gato igualmente palavras formas lema ter vantagem aplicar stemização lematização clara redução vocabulário abstração significado préprocessamentos cunho morfossintático atuam cima itens lexicais palavras\""
      ]
     },
     "metadata": {},
     "output_type": "display_data"
    }
   ],
   "source": [
    "TextDoc[[5]]$content\n",
    "TextDoc[[7]]$content\n",
    "TextDoc[[8]]$content"
   ]
  },
  {
   "cell_type": "code",
   "execution_count": 33,
   "metadata": {},
   "outputs": [
    {
     "name": "stderr",
     "output_type": "stream",
     "text": [
      "Warning message in tm_map.SimpleCorpus(TextDoc, stemDocument):\n",
      "\"transformation drops documents\""
     ]
    }
   ],
   "source": [
    "#stem the corpus\n",
    "TextDoc <- tm_map(TextDoc, stemDocument)\n"
   ]
  },
  {
   "cell_type": "code",
   "execution_count": 34,
   "metadata": {},
   "outputs": [
    {
     "data": {
      "text/html": [
       "'linguagem natur possui diversa forma flexionar palavra caiba frase claro característica determinada acordo língua estará utilizando pens exemplo verbo andar andei and andarei andando'"
      ],
      "text/latex": [
       "'linguagem natur possui diversa forma flexionar palavra caiba frase claro característica determinada acordo língua estará utilizando pens exemplo verbo andar andei and andarei andando'"
      ],
      "text/markdown": [
       "'linguagem natur possui diversa forma flexionar palavra caiba frase claro característica determinada acordo língua estará utilizando pens exemplo verbo andar andei and andarei andando'"
      ],
      "text/plain": [
       "[1] \"linguagem natur possui diversa forma flexionar palavra caiba frase claro característica determinada acordo língua estará utilizando pens exemplo verbo andar andei and andarei andando\""
      ]
     },
     "metadata": {},
     "output_type": "display_data"
    },
    {
     "data": {
      "text/html": [
       "'processo stemização inglê stem consist reduzir palavra radic palavra menina reduziria menin assim menino menininho palavra gato gata gato gata reduziriams gat lematização reduz palavra lema forma masculino singular'"
      ],
      "text/latex": [
       "'processo stemização inglê stem consist reduzir palavra radic palavra menina reduziria menin assim menino menininho palavra gato gata gato gata reduziriams gat lematização reduz palavra lema forma masculino singular'"
      ],
      "text/markdown": [
       "'processo stemização inglê stem consist reduzir palavra radic palavra menina reduziria menin assim menino menininho palavra gato gata gato gata reduziriams gat lematização reduz palavra lema forma masculino singular'"
      ],
      "text/plain": [
       "[1] \"processo stemização inglê stem consist reduzir palavra radic palavra menina reduziria menin assim menino menininho palavra gato gata gato gata reduziriams gat lematização reduz palavra lema forma masculino singular\""
      ]
     },
     "metadata": {},
     "output_type": "display_data"
    },
    {
     "data": {
      "text/html": [
       "'caso verbo lema infinitivo exemplo palavra gato gata gato gata toda forma lema gato igualment palavra forma lema ter vantagem aplicar stemização lematização clara redução vocabulário abstração significado préprocessamento cunho morfossintático atuam cima iten lexicai palavra'"
      ],
      "text/latex": [
       "'caso verbo lema infinitivo exemplo palavra gato gata gato gata toda forma lema gato igualment palavra forma lema ter vantagem aplicar stemização lematização clara redução vocabulário abstração significado préprocessamento cunho morfossintático atuam cima iten lexicai palavra'"
      ],
      "text/markdown": [
       "'caso verbo lema infinitivo exemplo palavra gato gata gato gata toda forma lema gato igualment palavra forma lema ter vantagem aplicar stemização lematização clara redução vocabulário abstração significado préprocessamento cunho morfossintático atuam cima iten lexicai palavra'"
      ],
      "text/plain": [
       "[1] \"caso verbo lema infinitivo exemplo palavra gato gata gato gata toda forma lema gato igualment palavra forma lema ter vantagem aplicar stemização lematização clara redução vocabulário abstração significado préprocessamento cunho morfossintático atuam cima iten lexicai palavra\""
      ]
     },
     "metadata": {},
     "output_type": "display_data"
    }
   ],
   "source": [
    "TextDoc[[5]]$content\n",
    "TextDoc[[7]]$content\n",
    "TextDoc[[8]]$content"
   ]
  },
  {
   "cell_type": "code",
   "execution_count": 35,
   "metadata": {},
   "outputs": [],
   "source": [
    "# Criar matriz term-document\n",
    "TextDoc_matrix <- TermDocumentMatrix(TextDoc)"
   ]
  },
  {
   "cell_type": "code",
   "execution_count": 36,
   "metadata": {},
   "outputs": [
    {
     "data": {
      "text/plain": [
       "<<TermDocumentMatrix (terms: 129, documents: 13)>>\n",
       "Non-/sparse entries: 167/1510\n",
       "Sparsity           : 90%\n",
       "Maximal term length: 16\n",
       "Weighting          : term frequency (tf)"
      ]
     },
     "metadata": {},
     "output_type": "display_data"
    }
   ],
   "source": [
    "TextDoc_matrix"
   ]
  },
  {
   "cell_type": "code",
   "execution_count": 37,
   "metadata": {},
   "outputs": [],
   "source": [
    "#Transformando em matrix para permitir a manipulação\n",
    "matriz <- as.matrix(TextDoc_matrix)"
   ]
  },
  {
   "cell_type": "code",
   "execution_count": 38,
   "metadata": {},
   "outputs": [
    {
     "data": {
      "text/html": [
       "<table>\n",
       "<thead><tr><th></th><th scope=col>1</th><th scope=col>2</th><th scope=col>3</th><th scope=col>4</th><th scope=col>5</th><th scope=col>6</th><th scope=col>7</th><th scope=col>8</th><th scope=col>9</th><th scope=col>10</th><th scope=col>11</th><th scope=col>12</th><th scope=col>13</th></tr></thead>\n",
       "<tbody>\n",
       "\t<tr><th scope=row>amor</th><td>1</td><td>0</td><td>0</td><td>0</td><td>0</td><td>0</td><td>0</td><td>0</td><td>0</td><td>0</td><td>0</td><td>0</td><td>0</td></tr>\n",
       "\t<tr><th scope=row>aí</th><td>1</td><td>0</td><td>0</td><td>0</td><td>0</td><td>0</td><td>0</td><td>0</td><td>0</td><td>0</td><td>0</td><td>0</td><td>0</td></tr>\n",
       "\t<tr><th scope=row>brilham</th><td>1</td><td>0</td><td>0</td><td>0</td><td>0</td><td>0</td><td>0</td><td>0</td><td>0</td><td>0</td><td>0</td><td>0</td><td>0</td></tr>\n",
       "\t<tr><th scope=row>casmurro</th><td>1</td><td>1</td><td>1</td><td>0</td><td>0</td><td>0</td><td>0</td><td>0</td><td>0</td><td>0</td><td>0</td><td>0</td><td>0</td></tr>\n",
       "\t<tr><th scope=row>certeza</th><td>2</td><td>0</td><td>0</td><td>0</td><td>0</td><td>0</td><td>0</td><td>0</td><td>0</td><td>0</td><td>0</td><td>0</td><td>0</td></tr>\n",
       "\t<tr><th scope=row>dizem</th><td>3</td><td>0</td><td>0</td><td>0</td><td>0</td><td>0</td><td>0</td><td>0</td><td>0</td><td>0</td><td>0</td><td>0</td><td>0</td></tr>\n",
       "</tbody>\n",
       "</table>\n"
      ],
      "text/latex": [
       "\\begin{tabular}{r|lllllllllllll}\n",
       "  & 1 & 2 & 3 & 4 & 5 & 6 & 7 & 8 & 9 & 10 & 11 & 12 & 13\\\\\n",
       "\\hline\n",
       "\tamor & 1 & 0 & 0 & 0 & 0 & 0 & 0 & 0 & 0 & 0 & 0 & 0 & 0\\\\\n",
       "\taí & 1 & 0 & 0 & 0 & 0 & 0 & 0 & 0 & 0 & 0 & 0 & 0 & 0\\\\\n",
       "\tbrilham & 1 & 0 & 0 & 0 & 0 & 0 & 0 & 0 & 0 & 0 & 0 & 0 & 0\\\\\n",
       "\tcasmurro & 1 & 1 & 1 & 0 & 0 & 0 & 0 & 0 & 0 & 0 & 0 & 0 & 0\\\\\n",
       "\tcerteza & 2 & 0 & 0 & 0 & 0 & 0 & 0 & 0 & 0 & 0 & 0 & 0 & 0\\\\\n",
       "\tdizem & 3 & 0 & 0 & 0 & 0 & 0 & 0 & 0 & 0 & 0 & 0 & 0 & 0\\\\\n",
       "\\end{tabular}\n"
      ],
      "text/markdown": [
       "\n",
       "| <!--/--> | 1 | 2 | 3 | 4 | 5 | 6 | 7 | 8 | 9 | 10 | 11 | 12 | 13 |\n",
       "|---|---|---|---|---|---|---|---|---|---|---|---|---|---|\n",
       "| amor | 1 | 0 | 0 | 0 | 0 | 0 | 0 | 0 | 0 | 0 | 0 | 0 | 0 |\n",
       "| aí | 1 | 0 | 0 | 0 | 0 | 0 | 0 | 0 | 0 | 0 | 0 | 0 | 0 |\n",
       "| brilham | 1 | 0 | 0 | 0 | 0 | 0 | 0 | 0 | 0 | 0 | 0 | 0 | 0 |\n",
       "| casmurro | 1 | 1 | 1 | 0 | 0 | 0 | 0 | 0 | 0 | 0 | 0 | 0 | 0 |\n",
       "| certeza | 2 | 0 | 0 | 0 | 0 | 0 | 0 | 0 | 0 | 0 | 0 | 0 | 0 |\n",
       "| dizem | 3 | 0 | 0 | 0 | 0 | 0 | 0 | 0 | 0 | 0 | 0 | 0 | 0 |\n",
       "\n"
      ],
      "text/plain": [
       "          Docs\n",
       "Terms      1 2 3 4 5 6 7 8 9 10 11 12 13\n",
       "  amor     1 0 0 0 0 0 0 0 0 0  0  0  0 \n",
       "  aí       1 0 0 0 0 0 0 0 0 0  0  0  0 \n",
       "  brilham  1 0 0 0 0 0 0 0 0 0  0  0  0 \n",
       "  casmurro 1 1 1 0 0 0 0 0 0 0  0  0  0 \n",
       "  certeza  2 0 0 0 0 0 0 0 0 0  0  0  0 \n",
       "  dizem    3 0 0 0 0 0 0 0 0 0  0  0  0 "
      ]
     },
     "metadata": {},
     "output_type": "display_data"
    }
   ],
   "source": [
    "head(matriz)"
   ]
  },
  {
   "cell_type": "code",
   "execution_count": 39,
   "metadata": {},
   "outputs": [],
   "source": [
    "#organizar os dados de forma decrescente\n",
    "matriz <- sort(rowSums(matriz), decreasing=T)"
   ]
  },
  {
   "cell_type": "code",
   "execution_count": 41,
   "metadata": {},
   "outputs": [
    {
     "data": {
      "text/html": [
       "<dl class=dl-horizontal>\n",
       "\t<dt>palavra</dt>\n",
       "\t\t<dd>15</dd>\n",
       "\t<dt>gato</dt>\n",
       "\t\t<dd>8</dd>\n",
       "\t<dt>lema</dt>\n",
       "\t\t<dd>8</dd>\n",
       "\t<dt>gata</dt>\n",
       "\t\t<dd>6</dd>\n",
       "\t<dt>lematização</dt>\n",
       "\t\t<dd>6</dd>\n",
       "\t<dt>exemplo</dt>\n",
       "\t\t<dd>5</dd>\n",
       "\t<dt>forma</dt>\n",
       "\t\t<dd>5</dd>\n",
       "\t<dt>tentou</dt>\n",
       "\t\t<dd>4</dd>\n",
       "\t<dt>stem</dt>\n",
       "\t\t<dd>4</dd>\n",
       "\t<dt>casmurro</dt>\n",
       "\t\t<dd>3</dd>\n",
       "</dl>\n"
      ],
      "text/latex": [
       "\\begin{description*}\n",
       "\\item[palavra] 15\n",
       "\\item[gato] 8\n",
       "\\item[lema] 8\n",
       "\\item[gata] 6\n",
       "\\item[lematização] 6\n",
       "\\item[exemplo] 5\n",
       "\\item[forma] 5\n",
       "\\item[tentou] 4\n",
       "\\item[stem] 4\n",
       "\\item[casmurro] 3\n",
       "\\end{description*}\n"
      ],
      "text/markdown": [
       "palavra\n",
       ":   15gato\n",
       ":   8lema\n",
       ":   8gata\n",
       ":   6lematização\n",
       ":   6exemplo\n",
       ":   5forma\n",
       ":   5tentou\n",
       ":   4stem\n",
       ":   4casmurro\n",
       ":   3\n",
       "\n"
      ],
      "text/plain": [
       "    palavra        gato        lema        gata lematização     exemplo \n",
       "         15           8           8           6           6           5 \n",
       "      forma      tentou        stem    casmurro \n",
       "          5           4           4           3 "
      ]
     },
     "metadata": {},
     "output_type": "display_data"
    }
   ],
   "source": [
    "head(matriz,10)"
   ]
  },
  {
   "cell_type": "code",
   "execution_count": 42,
   "metadata": {},
   "outputs": [
    {
     "data": {
      "text/html": [
       "<table>\n",
       "<thead><tr><th></th><th scope=col>word</th><th scope=col>freq</th></tr></thead>\n",
       "<tbody>\n",
       "\t<tr><th scope=row>palavra</th><td>palavra    </td><td>15         </td></tr>\n",
       "\t<tr><th scope=row>gato</th><td>gato       </td><td> 8         </td></tr>\n",
       "\t<tr><th scope=row>lema</th><td>lema       </td><td> 8         </td></tr>\n",
       "\t<tr><th scope=row>gata</th><td>gata       </td><td> 6         </td></tr>\n",
       "\t<tr><th scope=row>lematização</th><td>lematização</td><td> 6         </td></tr>\n",
       "\t<tr><th scope=row>exemplo</th><td>exemplo    </td><td> 5         </td></tr>\n",
       "\t<tr><th scope=row>forma</th><td>forma      </td><td> 5         </td></tr>\n",
       "\t<tr><th scope=row>tentou</th><td>tentou     </td><td> 4         </td></tr>\n",
       "\t<tr><th scope=row>stem</th><td>stem       </td><td> 4         </td></tr>\n",
       "\t<tr><th scope=row>casmurro</th><td>casmurro   </td><td> 3         </td></tr>\n",
       "\t<tr><th scope=row>dizem</th><td>dizem      </td><td> 3         </td></tr>\n",
       "\t<tr><th scope=row>dom</th><td>dom        </td><td> 3         </td></tr>\n",
       "\t<tr><th scope=row>ter</th><td>ter        </td><td> 3         </td></tr>\n",
       "\t<tr><th scope=row>certeza</th><td>certeza    </td><td> 2         </td></tr>\n",
       "\t<tr><th scope=row>bem</th><td>bem        </td><td> 2         </td></tr>\n",
       "\t<tr><th scope=row>conseguiu</th><td>conseguiu  </td><td> 2         </td></tr>\n",
       "\t<tr><th scope=row>verbo</th><td>verbo      </td><td> 2         </td></tr>\n",
       "\t<tr><th scope=row>font</th><td>font       </td><td> 2         </td></tr>\n",
       "\t<tr><th scope=row>processo</th><td>processo   </td><td> 2         </td></tr>\n",
       "\t<tr><th scope=row>stemização</th><td>stemização </td><td> 2         </td></tr>\n",
       "\t<tr><th scope=row>igualment</th><td>igualment  </td><td> 2         </td></tr>\n",
       "\t<tr><th scope=row>infinitivo</th><td>infinitivo </td><td> 2         </td></tr>\n",
       "\t<tr><th scope=row>toda</th><td>toda       </td><td> 2         </td></tr>\n",
       "\t<tr><th scope=row>bom</th><td>bom        </td><td> 2         </td></tr>\n",
       "\t<tr><th scope=row>lexema</th><td>lexema     </td><td> 2         </td></tr>\n",
       "\t<tr><th scope=row>output</th><td>output     </td><td> 2         </td></tr>\n",
       "\t<tr><th scope=row>amor</th><td>amor       </td><td> 1         </td></tr>\n",
       "\t<tr><th scope=row>aí</th><td>aí         </td><td> 1         </td></tr>\n",
       "\t<tr><th scope=row>brilham</th><td>brilham    </td><td> 1         </td></tr>\n",
       "\t<tr><th scope=row>feliz</th><td>feliz      </td><td> 1         </td></tr>\n",
       "\t<tr><th scope=row>...</th><td>...</td><td>...</td></tr>\n",
       "\t<tr><th scope=row>lexicai</th><td>lexicai         </td><td>1               </td></tr>\n",
       "\t<tr><th scope=row>morfossintático</th><td>morfossintático </td><td>1               </td></tr>\n",
       "\t<tr><th scope=row>préprocessamento</th><td>préprocessamento</td><td>1               </td></tr>\n",
       "\t<tr><th scope=row>redução</th><td>redução         </td><td>1               </td></tr>\n",
       "\t<tr><th scope=row>significado</th><td>significado     </td><td>1               </td></tr>\n",
       "\t<tr><th scope=row>vantagem</th><td>vantagem        </td><td>1               </td></tr>\n",
       "\t<tr><th scope=row>vocabulário</th><td>vocabulário     </td><td>1               </td></tr>\n",
       "\t<tr><th scope=row>chamams</th><td>chamams         </td><td>1               </td></tr>\n",
       "\t<tr><th scope=row>deflexionar</th><td>deflexionar     </td><td>1               </td></tr>\n",
       "\t<tr><th scope=row>determinar</th><td>determinar      </td><td>1               </td></tr>\n",
       "\t<tr><th scope=row>efetivament</th><td>efetivament     </td><td>1               </td></tr>\n",
       "\t<tr><th scope=row>flexõ</th><td>flexõ           </td><td>1               </td></tr>\n",
       "\t<tr><th scope=row>melhor</th><td>melhor          </td><td>1               </td></tr>\n",
       "\t<tr><th scope=row>ótimo</th><td>ótimo           </td><td>1               </td></tr>\n",
       "\t<tr><th scope=row>linha</th><td>linha           </td><td>1               </td></tr>\n",
       "\t<tr><th scope=row>versus</th><td>versus          </td><td>1               </td></tr>\n",
       "\t<tr><th scope=row>diferent</th><td>diferent        </td><td>1               </td></tr>\n",
       "\t<tr><th scope=row>dua</th><td>dua             </td><td>1               </td></tr>\n",
       "\t<tr><th scope=row>entanto</th><td>entanto         </td><td>1               </td></tr>\n",
       "\t<tr><th scope=row>gerada</th><td>gerada          </td><td>1               </td></tr>\n",
       "\t<tr><th scope=row>geralment</th><td>geralment       </td><td>1               </td></tr>\n",
       "\t<tr><th scope=row>importa</th><td>importa         </td><td>1               </td></tr>\n",
       "\t<tr><th scope=row>inflexionar</th><td>inflexionar     </td><td>1               </td></tr>\n",
       "\t<tr><th scope=row>legibilidad</th><td>legibilidad     </td><td>1               </td></tr>\n",
       "\t<tr><th scope=row>mesma</th><td>mesma           </td><td>1               </td></tr>\n",
       "\t<tr><th scope=row>objetivo</th><td>objetivo        </td><td>1               </td></tr>\n",
       "\t<tr><th scope=row>obrigatóriament</th><td>obrigatóriament </td><td>1               </td></tr>\n",
       "\t<tr><th scope=row>possuem</th><td>possuem         </td><td>1               </td></tr>\n",
       "\t<tr><th scope=row>resulta</th><td>resulta         </td><td>1               </td></tr>\n",
       "\t<tr><th scope=row>técnica</th><td>técnica         </td><td>1               </td></tr>\n",
       "</tbody>\n",
       "</table>\n"
      ],
      "text/latex": [
       "\\begin{tabular}{r|ll}\n",
       "  & word & freq\\\\\n",
       "\\hline\n",
       "\tpalavra & palavra     & 15         \\\\\n",
       "\tgato & gato        &  8         \\\\\n",
       "\tlema & lema        &  8         \\\\\n",
       "\tgata & gata        &  6         \\\\\n",
       "\tlematização & lematização &  6         \\\\\n",
       "\texemplo & exemplo     &  5         \\\\\n",
       "\tforma & forma       &  5         \\\\\n",
       "\ttentou & tentou      &  4         \\\\\n",
       "\tstem & stem        &  4         \\\\\n",
       "\tcasmurro & casmurro    &  3         \\\\\n",
       "\tdizem & dizem       &  3         \\\\\n",
       "\tdom & dom         &  3         \\\\\n",
       "\tter & ter         &  3         \\\\\n",
       "\tcerteza & certeza     &  2         \\\\\n",
       "\tbem & bem         &  2         \\\\\n",
       "\tconseguiu & conseguiu   &  2         \\\\\n",
       "\tverbo & verbo       &  2         \\\\\n",
       "\tfont & font        &  2         \\\\\n",
       "\tprocesso & processo    &  2         \\\\\n",
       "\tstemização & stemização  &  2         \\\\\n",
       "\tigualment & igualment   &  2         \\\\\n",
       "\tinfinitivo & infinitivo  &  2         \\\\\n",
       "\ttoda & toda        &  2         \\\\\n",
       "\tbom & bom         &  2         \\\\\n",
       "\tlexema & lexema      &  2         \\\\\n",
       "\toutput & output      &  2         \\\\\n",
       "\tamor & amor        &  1         \\\\\n",
       "\taí & aí          &  1         \\\\\n",
       "\tbrilham & brilham     &  1         \\\\\n",
       "\tfeliz & feliz       &  1         \\\\\n",
       "\t... & ... & ...\\\\\n",
       "\tlexicai & lexicai          & 1               \\\\\n",
       "\tmorfossintático & morfossintático  & 1               \\\\\n",
       "\tpréprocessamento & préprocessamento & 1               \\\\\n",
       "\tredução & redução          & 1               \\\\\n",
       "\tsignificado & significado      & 1               \\\\\n",
       "\tvantagem & vantagem         & 1               \\\\\n",
       "\tvocabulário & vocabulário      & 1               \\\\\n",
       "\tchamams & chamams          & 1               \\\\\n",
       "\tdeflexionar & deflexionar      & 1               \\\\\n",
       "\tdeterminar & determinar       & 1               \\\\\n",
       "\tefetivament & efetivament      & 1               \\\\\n",
       "\tflexõ & flexõ            & 1               \\\\\n",
       "\tmelhor & melhor           & 1               \\\\\n",
       "\tótimo & ótimo            & 1               \\\\\n",
       "\tlinha & linha            & 1               \\\\\n",
       "\tversus & versus           & 1               \\\\\n",
       "\tdiferent & diferent         & 1               \\\\\n",
       "\tdua & dua              & 1               \\\\\n",
       "\tentanto & entanto          & 1               \\\\\n",
       "\tgerada & gerada           & 1               \\\\\n",
       "\tgeralment & geralment        & 1               \\\\\n",
       "\timporta & importa          & 1               \\\\\n",
       "\tinflexionar & inflexionar      & 1               \\\\\n",
       "\tlegibilidad & legibilidad      & 1               \\\\\n",
       "\tmesma & mesma            & 1               \\\\\n",
       "\tobjetivo & objetivo         & 1               \\\\\n",
       "\tobrigatóriament & obrigatóriament  & 1               \\\\\n",
       "\tpossuem & possuem          & 1               \\\\\n",
       "\tresulta & resulta          & 1               \\\\\n",
       "\ttécnica & técnica          & 1               \\\\\n",
       "\\end{tabular}\n"
      ],
      "text/markdown": [
       "\n",
       "| <!--/--> | word | freq |\n",
       "|---|---|---|\n",
       "| palavra | palavra     | 15          |\n",
       "| gato | gato        |  8          |\n",
       "| lema | lema        |  8          |\n",
       "| gata | gata        |  6          |\n",
       "| lematização | lematização |  6          |\n",
       "| exemplo | exemplo     |  5          |\n",
       "| forma | forma       |  5          |\n",
       "| tentou | tentou      |  4          |\n",
       "| stem | stem        |  4          |\n",
       "| casmurro | casmurro    |  3          |\n",
       "| dizem | dizem       |  3          |\n",
       "| dom | dom         |  3          |\n",
       "| ter | ter         |  3          |\n",
       "| certeza | certeza     |  2          |\n",
       "| bem | bem         |  2          |\n",
       "| conseguiu | conseguiu   |  2          |\n",
       "| verbo | verbo       |  2          |\n",
       "| font | font        |  2          |\n",
       "| processo | processo    |  2          |\n",
       "| stemização | stemização  |  2          |\n",
       "| igualment | igualment   |  2          |\n",
       "| infinitivo | infinitivo  |  2          |\n",
       "| toda | toda        |  2          |\n",
       "| bom | bom         |  2          |\n",
       "| lexema | lexema      |  2          |\n",
       "| output | output      |  2          |\n",
       "| amor | amor        |  1          |\n",
       "| aí | aí          |  1          |\n",
       "| brilham | brilham     |  1          |\n",
       "| feliz | feliz       |  1          |\n",
       "| ... | ... | ... |\n",
       "| lexicai | lexicai          | 1                |\n",
       "| morfossintático | morfossintático  | 1                |\n",
       "| préprocessamento | préprocessamento | 1                |\n",
       "| redução | redução          | 1                |\n",
       "| significado | significado      | 1                |\n",
       "| vantagem | vantagem         | 1                |\n",
       "| vocabulário | vocabulário      | 1                |\n",
       "| chamams | chamams          | 1                |\n",
       "| deflexionar | deflexionar      | 1                |\n",
       "| determinar | determinar       | 1                |\n",
       "| efetivament | efetivament      | 1                |\n",
       "| flexõ | flexõ            | 1                |\n",
       "| melhor | melhor           | 1                |\n",
       "| ótimo | ótimo            | 1                |\n",
       "| linha | linha            | 1                |\n",
       "| versus | versus           | 1                |\n",
       "| diferent | diferent         | 1                |\n",
       "| dua | dua              | 1                |\n",
       "| entanto | entanto          | 1                |\n",
       "| gerada | gerada           | 1                |\n",
       "| geralment | geralment        | 1                |\n",
       "| importa | importa          | 1                |\n",
       "| inflexionar | inflexionar      | 1                |\n",
       "| legibilidad | legibilidad      | 1                |\n",
       "| mesma | mesma            | 1                |\n",
       "| objetivo | objetivo         | 1                |\n",
       "| obrigatóriament | obrigatóriament  | 1                |\n",
       "| possuem | possuem          | 1                |\n",
       "| resulta | resulta          | 1                |\n",
       "| técnica | técnica          | 1                |\n",
       "\n"
      ],
      "text/plain": [
       "                 word             freq\n",
       "palavra          palavra          15  \n",
       "gato             gato              8  \n",
       "lema             lema              8  \n",
       "gata             gata              6  \n",
       "lematização      lematização       6  \n",
       "exemplo          exemplo           5  \n",
       "forma            forma             5  \n",
       "tentou           tentou            4  \n",
       "stem             stem              4  \n",
       "casmurro         casmurro          3  \n",
       "dizem            dizem             3  \n",
       "dom              dom               3  \n",
       "ter              ter               3  \n",
       "certeza          certeza           2  \n",
       "bem              bem               2  \n",
       "conseguiu        conseguiu         2  \n",
       "verbo            verbo             2  \n",
       "font             font              2  \n",
       "processo         processo          2  \n",
       "stemização       stemização        2  \n",
       "igualment        igualment         2  \n",
       "infinitivo       infinitivo        2  \n",
       "toda             toda              2  \n",
       "bom              bom               2  \n",
       "lexema           lexema            2  \n",
       "output           output            2  \n",
       "amor             amor              1  \n",
       "aí               aí                1  \n",
       "brilham          brilham           1  \n",
       "feliz            feliz             1  \n",
       "...              ...              ... \n",
       "lexicai          lexicai          1   \n",
       "morfossintático  morfossintático  1   \n",
       "préprocessamento préprocessamento 1   \n",
       "redução          redução          1   \n",
       "significado      significado      1   \n",
       "vantagem         vantagem         1   \n",
       "vocabulário      vocabulário      1   \n",
       "chamams          chamams          1   \n",
       "deflexionar      deflexionar      1   \n",
       "determinar       determinar       1   \n",
       "efetivament      efetivament      1   \n",
       "flexõ            flexõ            1   \n",
       "melhor           melhor           1   \n",
       "ótimo            ótimo            1   \n",
       "linha            linha            1   \n",
       "versus           versus           1   \n",
       "diferent         diferent         1   \n",
       "dua              dua              1   \n",
       "entanto          entanto          1   \n",
       "gerada           gerada           1   \n",
       "geralment        geralment        1   \n",
       "importa          importa          1   \n",
       "inflexionar      inflexionar      1   \n",
       "legibilidad      legibilidad      1   \n",
       "mesma            mesma            1   \n",
       "objetivo         objetivo         1   \n",
       "obrigatóriament  obrigatóriament  1   \n",
       "possuem          possuem          1   \n",
       "resulta          resulta          1   \n",
       "técnica          técnica          1   "
      ]
     },
     "metadata": {},
     "output_type": "display_data"
    }
   ],
   "source": [
    "#criando um data.frame para a matriz\n",
    "matriz <- data.frame(word=names(matriz), freq = matriz)\n",
    "matriz"
   ]
  },
  {
   "cell_type": "code",
   "execution_count": 43,
   "metadata": {},
   "outputs": [
    {
     "data": {
      "text/html": [
       "<table>\n",
       "<thead><tr><th></th><th scope=col>word</th><th scope=col>freq</th></tr></thead>\n",
       "<tbody>\n",
       "\t<tr><th scope=row>palavra</th><td>palavra    </td><td>15         </td></tr>\n",
       "\t<tr><th scope=row>gato</th><td>gato       </td><td> 8         </td></tr>\n",
       "\t<tr><th scope=row>lema</th><td>lema       </td><td> 8         </td></tr>\n",
       "\t<tr><th scope=row>gata</th><td>gata       </td><td> 6         </td></tr>\n",
       "\t<tr><th scope=row>lematização</th><td>lematização</td><td> 6         </td></tr>\n",
       "\t<tr><th scope=row>exemplo</th><td>exemplo    </td><td> 5         </td></tr>\n",
       "\t<tr><th scope=row>forma</th><td>forma      </td><td> 5         </td></tr>\n",
       "\t<tr><th scope=row>tentou</th><td>tentou     </td><td> 4         </td></tr>\n",
       "\t<tr><th scope=row>stem</th><td>stem       </td><td> 4         </td></tr>\n",
       "\t<tr><th scope=row>casmurro</th><td>casmurro   </td><td> 3         </td></tr>\n",
       "</tbody>\n",
       "</table>\n"
      ],
      "text/latex": [
       "\\begin{tabular}{r|ll}\n",
       "  & word & freq\\\\\n",
       "\\hline\n",
       "\tpalavra & palavra     & 15         \\\\\n",
       "\tgato & gato        &  8         \\\\\n",
       "\tlema & lema        &  8         \\\\\n",
       "\tgata & gata        &  6         \\\\\n",
       "\tlematização & lematização &  6         \\\\\n",
       "\texemplo & exemplo     &  5         \\\\\n",
       "\tforma & forma       &  5         \\\\\n",
       "\ttentou & tentou      &  4         \\\\\n",
       "\tstem & stem        &  4         \\\\\n",
       "\tcasmurro & casmurro    &  3         \\\\\n",
       "\\end{tabular}\n"
      ],
      "text/markdown": [
       "\n",
       "| <!--/--> | word | freq |\n",
       "|---|---|---|\n",
       "| palavra | palavra     | 15          |\n",
       "| gato | gato        |  8          |\n",
       "| lema | lema        |  8          |\n",
       "| gata | gata        |  6          |\n",
       "| lematização | lematização |  6          |\n",
       "| exemplo | exemplo     |  5          |\n",
       "| forma | forma       |  5          |\n",
       "| tentou | tentou      |  4          |\n",
       "| stem | stem        |  4          |\n",
       "| casmurro | casmurro    |  3          |\n",
       "\n"
      ],
      "text/plain": [
       "            word        freq\n",
       "palavra     palavra     15  \n",
       "gato        gato         8  \n",
       "lema        lema         8  \n",
       "gata        gata         6  \n",
       "lematização lematização  6  \n",
       "exemplo     exemplo      5  \n",
       "forma       forma        5  \n",
       "tentou      tentou       4  \n",
       "stem        stem         4  \n",
       "casmurro    casmurro     3  "
      ]
     },
     "metadata": {},
     "output_type": "display_data"
    }
   ],
   "source": [
    "head(matriz, n=10)"
   ]
  },
  {
   "cell_type": "code",
   "execution_count": 44,
   "metadata": {},
   "outputs": [
    {
     "data": {
      "text/html": [
       "<ol class=list-inline>\n",
       "\t<li>'casmurro'</li>\n",
       "\t<li>'certeza'</li>\n",
       "\t<li>'dizem'</li>\n",
       "\t<li>'dom'</li>\n",
       "\t<li>'bem'</li>\n",
       "\t<li>'conseguiu'</li>\n",
       "\t<li>'tentou'</li>\n",
       "\t<li>'ter'</li>\n",
       "\t<li>'stem'</li>\n",
       "\t<li>'exemplo'</li>\n",
       "\t<li>'forma'</li>\n",
       "\t<li>'palavra'</li>\n",
       "\t<li>'verbo'</li>\n",
       "\t<li>'font'</li>\n",
       "\t<li>'gata'</li>\n",
       "\t<li>'gato'</li>\n",
       "\t<li>'lema'</li>\n",
       "\t<li>'lematização'</li>\n",
       "\t<li>'processo'</li>\n",
       "\t<li>'stemização'</li>\n",
       "\t<li>'igualment'</li>\n",
       "\t<li>'infinitivo'</li>\n",
       "\t<li>'toda'</li>\n",
       "\t<li>'bom'</li>\n",
       "\t<li>'lexema'</li>\n",
       "\t<li>'output'</li>\n",
       "</ol>\n"
      ],
      "text/latex": [
       "\\begin{enumerate*}\n",
       "\\item 'casmurro'\n",
       "\\item 'certeza'\n",
       "\\item 'dizem'\n",
       "\\item 'dom'\n",
       "\\item 'bem'\n",
       "\\item 'conseguiu'\n",
       "\\item 'tentou'\n",
       "\\item 'ter'\n",
       "\\item 'stem'\n",
       "\\item 'exemplo'\n",
       "\\item 'forma'\n",
       "\\item 'palavra'\n",
       "\\item 'verbo'\n",
       "\\item 'font'\n",
       "\\item 'gata'\n",
       "\\item 'gato'\n",
       "\\item 'lema'\n",
       "\\item 'lematização'\n",
       "\\item 'processo'\n",
       "\\item 'stemização'\n",
       "\\item 'igualment'\n",
       "\\item 'infinitivo'\n",
       "\\item 'toda'\n",
       "\\item 'bom'\n",
       "\\item 'lexema'\n",
       "\\item 'output'\n",
       "\\end{enumerate*}\n"
      ],
      "text/markdown": [
       "1. 'casmurro'\n",
       "2. 'certeza'\n",
       "3. 'dizem'\n",
       "4. 'dom'\n",
       "5. 'bem'\n",
       "6. 'conseguiu'\n",
       "7. 'tentou'\n",
       "8. 'ter'\n",
       "9. 'stem'\n",
       "10. 'exemplo'\n",
       "11. 'forma'\n",
       "12. 'palavra'\n",
       "13. 'verbo'\n",
       "14. 'font'\n",
       "15. 'gata'\n",
       "16. 'gato'\n",
       "17. 'lema'\n",
       "18. 'lematização'\n",
       "19. 'processo'\n",
       "20. 'stemização'\n",
       "21. 'igualment'\n",
       "22. 'infinitivo'\n",
       "23. 'toda'\n",
       "24. 'bom'\n",
       "25. 'lexema'\n",
       "26. 'output'\n",
       "\n",
       "\n"
      ],
      "text/plain": [
       " [1] \"casmurro\"    \"certeza\"     \"dizem\"       \"dom\"         \"bem\"        \n",
       " [6] \"conseguiu\"   \"tentou\"      \"ter\"         \"stem\"        \"exemplo\"    \n",
       "[11] \"forma\"       \"palavra\"     \"verbo\"       \"font\"        \"gata\"       \n",
       "[16] \"gato\"        \"lema\"        \"lematização\" \"processo\"    \"stemização\" \n",
       "[21] \"igualment\"   \"infinitivo\"  \"toda\"        \"bom\"         \"lexema\"     \n",
       "[26] \"output\"     "
      ]
     },
     "metadata": {},
     "output_type": "display_data"
    }
   ],
   "source": [
    "findFreqTerms(TextDoc_matrix, lowfreq = 2, highfreq = Inf)"
   ]
  },
  {
   "cell_type": "code",
   "execution_count": 45,
   "metadata": {},
   "outputs": [
    {
     "data": {
      "text/html": [
       "<strong>$dom</strong> = <strong>casmurro:</strong> 1"
      ],
      "text/latex": [
       "\\textbf{\\$dom} = \\textbf{casmurro:} 1"
      ],
      "text/markdown": [
       "**$dom** = **casmurro:** 1"
      ],
      "text/plain": [
       "$dom\n",
       "casmurro \n",
       "       1 \n"
      ]
     },
     "metadata": {},
     "output_type": "display_data"
    }
   ],
   "source": [
    "# Find words that are correlated with \"dom\" with a coefficient > .70\n",
    "findAssocs(TextDoc_matrix, \"dom\", .70)"
   ]
  },
  {
   "cell_type": "code",
   "execution_count": 46,
   "metadata": {},
   "outputs": [
    {
     "data": {
      "text/html": [
       "<strong>$dom</strong> = <dl class=dl-horizontal>\n",
       "\t<dt>casmurro</dt>\n",
       "\t\t<dd>1</dd>\n",
       "\t<dt>amor</dt>\n",
       "\t\t<dd>0.53</dd>\n",
       "\t<dt>aí</dt>\n",
       "\t\t<dd>0.53</dd>\n",
       "\t<dt>brilham</dt>\n",
       "\t\t<dd>0.53</dd>\n",
       "\t<dt>certeza</dt>\n",
       "\t\t<dd>0.53</dd>\n",
       "\t<dt>dizem</dt>\n",
       "\t\t<dd>0.53</dd>\n",
       "\t<dt>feliz</dt>\n",
       "\t\t<dd>0.53</dd>\n",
       "\t<dt>fica</dt>\n",
       "\t\t<dd>0.53</dd>\n",
       "\t<dt>olho</dt>\n",
       "\t\t<dd>0.53</dd>\n",
       "\t<dt>sim</dt>\n",
       "\t\t<dd>0.53</dd>\n",
       "\t<dt>sorriso</dt>\n",
       "\t\t<dd>0.53</dd>\n",
       "\t<dt>vejo</dt>\n",
       "\t\t<dd>0.53</dd>\n",
       "\t<dt>antiga</dt>\n",
       "\t\t<dd>0.53</dd>\n",
       "\t<dt>memória</dt>\n",
       "\t\t<dd>0.53</dd>\n",
       "\t<dt>passar</dt>\n",
       "\t\t<dd>0.53</dd>\n",
       "\t<dt>repassar</dt>\n",
       "\t\t<dd>0.53</dd>\n",
       "\t<dt>saudad</dt>\n",
       "\t\t<dd>0.53</dd>\n",
       "\t<dt>amar…</dt>\n",
       "\t\t<dd>0.53</dd>\n",
       "\t<dt>aqui</dt>\n",
       "\t\t<dd>0.53</dd>\n",
       "\t<dt>bem</dt>\n",
       "\t\t<dd>0.53</dd>\n",
       "\t<dt>conseguiu</dt>\n",
       "\t\t<dd>0.53</dd>\n",
       "\t<dt>continuar</dt>\n",
       "\t\t<dd>0.53</dd>\n",
       "\t<dt>epitáfio</dt>\n",
       "\t\t<dd>0.53</dd>\n",
       "\t<dt>escrito</dt>\n",
       "\t\t<dd>0.53</dd>\n",
       "\t<dt>expectativa</dt>\n",
       "\t\t<dd>0.53</dd>\n",
       "\t<dt>frustrada</dt>\n",
       "\t\t<dd>0.53</dd>\n",
       "\t<dt>letra</dt>\n",
       "\t\t<dd>0.53</dd>\n",
       "\t<dt>lá</dt>\n",
       "\t\t<dd>0.53</dd>\n",
       "\t<dt>nessa</dt>\n",
       "\t\t<dd>0.53</dd>\n",
       "\t<dt>pequena</dt>\n",
       "\t\t<dd>0.53</dd>\n",
       "\t<dt>poi</dt>\n",
       "\t\t<dd>0.53</dd>\n",
       "\t<dt>possuiu</dt>\n",
       "\t\t<dd>0.53</dd>\n",
       "\t<dt>prosseguiu</dt>\n",
       "\t\t<dd>0.53</dd>\n",
       "\t<dt>ser</dt>\n",
       "\t\t<dd>0.53</dd>\n",
       "\t<dt>tentou</dt>\n",
       "\t\t<dd>0.53</dd>\n",
       "\t<dt>vida</dt>\n",
       "\t\t<dd>0.53</dd>\n",
       "</dl>\n"
      ],
      "text/latex": [
       "\\textbf{\\$dom} = \\begin{description*}\n",
       "\\item[casmurro] 1\n",
       "\\item[amor] 0.53\n",
       "\\item[aí] 0.53\n",
       "\\item[brilham] 0.53\n",
       "\\item[certeza] 0.53\n",
       "\\item[dizem] 0.53\n",
       "\\item[feliz] 0.53\n",
       "\\item[fica] 0.53\n",
       "\\item[olho] 0.53\n",
       "\\item[sim] 0.53\n",
       "\\item[sorriso] 0.53\n",
       "\\item[vejo] 0.53\n",
       "\\item[antiga] 0.53\n",
       "\\item[memória] 0.53\n",
       "\\item[passar] 0.53\n",
       "\\item[repassar] 0.53\n",
       "\\item[saudad] 0.53\n",
       "\\item[amar…] 0.53\n",
       "\\item[aqui] 0.53\n",
       "\\item[bem] 0.53\n",
       "\\item[conseguiu] 0.53\n",
       "\\item[continuar] 0.53\n",
       "\\item[epitáfio] 0.53\n",
       "\\item[escrito] 0.53\n",
       "\\item[expectativa] 0.53\n",
       "\\item[frustrada] 0.53\n",
       "\\item[letra] 0.53\n",
       "\\item[lá] 0.53\n",
       "\\item[nessa] 0.53\n",
       "\\item[pequena] 0.53\n",
       "\\item[poi] 0.53\n",
       "\\item[possuiu] 0.53\n",
       "\\item[prosseguiu] 0.53\n",
       "\\item[ser] 0.53\n",
       "\\item[tentou] 0.53\n",
       "\\item[vida] 0.53\n",
       "\\end{description*}\n"
      ],
      "text/markdown": [
       "**$dom** = casmurro\n",
       ":   1amor\n",
       ":   0.53aí\n",
       ":   0.53brilham\n",
       ":   0.53certeza\n",
       ":   0.53dizem\n",
       ":   0.53feliz\n",
       ":   0.53fica\n",
       ":   0.53olho\n",
       ":   0.53sim\n",
       ":   0.53sorriso\n",
       ":   0.53vejo\n",
       ":   0.53antiga\n",
       ":   0.53memória\n",
       ":   0.53passar\n",
       ":   0.53repassar\n",
       ":   0.53saudad\n",
       ":   0.53amar…\n",
       ":   0.53aqui\n",
       ":   0.53bem\n",
       ":   0.53conseguiu\n",
       ":   0.53continuar\n",
       ":   0.53epitáfio\n",
       ":   0.53escrito\n",
       ":   0.53expectativa\n",
       ":   0.53frustrada\n",
       ":   0.53letra\n",
       ":   0.53lá\n",
       ":   0.53nessa\n",
       ":   0.53pequena\n",
       ":   0.53poi\n",
       ":   0.53possuiu\n",
       ":   0.53prosseguiu\n",
       ":   0.53ser\n",
       ":   0.53tentou\n",
       ":   0.53vida\n",
       ":   0.53\n",
       "\n"
      ],
      "text/plain": [
       "$dom\n",
       "   casmurro        amor          aí     brilham     certeza       dizem \n",
       "       1.00        0.53        0.53        0.53        0.53        0.53 \n",
       "      feliz        fica        olho         sim     sorriso        vejo \n",
       "       0.53        0.53        0.53        0.53        0.53        0.53 \n",
       "     antiga     memória      passar    repassar      saudad       amar… \n",
       "       0.53        0.53        0.53        0.53        0.53        0.53 \n",
       "       aqui         bem   conseguiu   continuar    epitáfio     escrito \n",
       "       0.53        0.53        0.53        0.53        0.53        0.53 \n",
       "expectativa   frustrada       letra          lá       nessa     pequena \n",
       "       0.53        0.53        0.53        0.53        0.53        0.53 \n",
       "        poi     possuiu  prosseguiu         ser      tentou        vida \n",
       "       0.53        0.53        0.53        0.53        0.53        0.53 \n"
      ]
     },
     "metadata": {},
     "output_type": "display_data"
    }
   ],
   "source": [
    "# Find words that are correlated with \"dom\" with a coefficient > .70\n",
    "findAssocs(TextDoc_matrix, \"dom\", .50)"
   ]
  },
  {
   "cell_type": "code",
   "execution_count": 48,
   "metadata": {},
   "outputs": [
    {
     "data": {
      "text/html": [
       "<strong>$palavra</strong> = <strong>gata:</strong> 0.74"
      ],
      "text/latex": [
       "\\textbf{\\$palavra} = \\textbf{gata:} 0.74"
      ],
      "text/markdown": [
       "**$palavra** = **gata:** 0.74"
      ],
      "text/plain": [
       "$palavra\n",
       "gata \n",
       "0.74 \n"
      ]
     },
     "metadata": {},
     "output_type": "display_data"
    }
   ],
   "source": [
    "# Find words that are correlated with \"dom\" with a coefficient > .70\n",
    "findAssocs(TextDoc_matrix, \"palavra\", .70)"
   ]
  },
  {
   "cell_type": "code",
   "execution_count": 49,
   "metadata": {},
   "outputs": [
    {
     "name": "stdout",
     "output_type": "stream",
     "text": [
      "<<DocumentTermMatrix (documents: 13, terms: 129)>>\n",
      "Non-/sparse entries: 167/1510\n",
      "Sparsity           : 90%\n",
      "Maximal term length: 16\n",
      "Weighting          : term frequency (tf)\n",
      "Sample             :\n",
      "    Terms\n",
      "Docs casmurro exemplo forma gata gato lema lematização palavra stem tentou\n",
      "  1         1       0     0    0    0    0           0       0    0      0\n",
      "  10        0       1     1    2    3    4           1       3    0      0\n",
      "  12        0       0     0    0    0    0           1       0    1      0\n",
      "  13        0       0     0    0    0    0           1       4    1      0\n",
      "  2         1       0     0    0    0    0           0       0    0      0\n",
      "  3         1       0     0    0    0    0           0       0    0      4\n",
      "  5         0       1     1    0    0    0           0       1    0      0\n",
      "  6         0       1     0    0    0    0           0       0    0      0\n",
      "  7         0       0     1    2    2    1           1       4    1      0\n",
      "  8         0       1     2    2    3    3           1       3    0      0\n"
     ]
    }
   ],
   "source": [
    "# Criar matriz term-document\n",
    "#TextDoc_matrix <- TermDocumentMatrix(TextDoc)\n",
    "\n",
    "Doc_TermMatriz <- DocumentTermMatrix(TextDoc) \n",
    "inspect(Doc_TermMatriz)"
   ]
  },
  {
   "cell_type": "markdown",
   "metadata": {},
   "source": [
    "**Material complementar**\n",
    "\n",
    "Acesse:\n",
    "\n",
    "* http://www.leg.ufpr.br/~walmes/ensino/mintex/tutorials/03-sentimento.html\n",
    "* https://gomesfellipe.github.io/post/2017-12-17-string/string/\n",
    "* https://cran.r-project.org/web/packages/tm/vignettes/tm.pdf\n",
    "* https://rpubs.com/tsholliger/301914\n",
    "* https://rpubs.com/giuice/analisesentimentos1"
   ]
  }
 ],
 "metadata": {
  "kernelspec": {
   "display_name": "R",
   "language": "R",
   "name": "ir"
  },
  "language_info": {
   "codemirror_mode": "r",
   "file_extension": ".r",
   "mimetype": "text/x-r-source",
   "name": "R",
   "pygments_lexer": "r",
   "version": "3.6.1"
  }
 },
 "nbformat": 4,
 "nbformat_minor": 4
}
